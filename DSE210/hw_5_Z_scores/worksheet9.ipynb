{
 "cells": [
  {
   "cell_type": "markdown",
   "metadata": {},
   "source": [
    "# Worksheet 9 - Sampling"
   ]
  },
  {
   "cell_type": "markdown",
   "metadata": {},
   "source": [
    "# 1)"
   ]
  },
  {
   "cell_type": "code",
   "execution_count": 1,
   "metadata": {
    "collapsed": false
   },
   "outputs": [
    {
     "name": "stdout",
     "output_type": "stream",
     "text": [
      "mean= 810.0\n",
      "standard_dev= 30.0\n"
     ]
    }
   ],
   "source": [
    "import math\n",
    "p=float(9)/float(10)\n",
    "n=900\n",
    "mean=n*p\n",
    "standard_dev=math.sqrt( n )\n",
    "\n",
    "print \"mean=\", mean\n",
    "print \"standard_dev=\", standard_dev "
   ]
  },
  {
   "cell_type": "markdown",
   "metadata": {},
   "source": [
    "# 3a and b)"
   ]
  },
  {
   "cell_type": "code",
   "execution_count": 2,
   "metadata": {
    "collapsed": false
   },
   "outputs": [
    {
     "name": "stdout",
     "output_type": "stream",
     "text": [
      "3A) e_x 5.0\n",
      "3A) variance 4.75\n",
      "std_dev 2.17944947177\n",
      "3B) upper_bound_95 9.35889894354\n"
     ]
    }
   ],
   "source": [
    "n=100.\n",
    "#3a\n",
    "p=1./20.\n",
    "\n",
    "e_x=p*n\n",
    "variance=n*p*(1-p)\n",
    "std_dev=math.sqrt(variance)\n",
    "upper_bound_95=std_dev*2+e_x\n",
    "\n",
    "\n",
    "print \"3A) e_x\", e_x\n",
    "print \"3A) variance\", variance\n",
    "print \"std_dev\", std_dev\n",
    "print \"3B) upper_bound_95\", upper_bound_95\n"
   ]
  },
  {
   "cell_type": "markdown",
   "metadata": {},
   "source": [
    "# 3 c-d)"
   ]
  },
  {
   "cell_type": "code",
   "execution_count": 3,
   "metadata": {
    "collapsed": false
   },
   "outputs": [
    {
     "name": "stdout",
     "output_type": "stream",
     "text": [
      "3C) E_y= 0\n",
      "3C) variance_y= 1\n",
      "3C) variance_z= 100\n",
      "3D) std_dev= 10.0\n",
      "3E) 99_Percent_Confidence= 30.0\n"
     ]
    }
   ],
   "source": [
    "E_y=0\n",
    "n=100\n",
    "p=.5\n",
    "\n",
    "#variance=1^2-0^2\n",
    "variance_y= 1\n",
    "variance_z=1*100\n",
    "\n",
    "std_dev=math.sqrt(variance_z)\n",
    "upper_bound_95=std_dev*3\n",
    "\n",
    "print '3C) E_y=', E_y\n",
    "print \"3C) variance_y=\", variance_y\n",
    "print \"3C) variance_z=\", variance_z\n",
    "print \"3D) std_dev=\", std_dev\n",
    "print \"3E) 99_Percent_Confidence=\", upper_bound_95\n",
    "\n"
   ]
  },
  {
   "cell_type": "code",
   "execution_count": 4,
   "metadata": {
    "collapsed": false
   },
   "outputs": [
    {
     "name": "stdout",
     "output_type": "stream",
     "text": [
      "A) standard_deviation= 0.05\n",
      "B) standard_deviation= 0.01\n"
     ]
    }
   ],
   "source": [
    "# 5 a) \n",
    "standard_deviation1=math.sqrt(0.5*(1.0-0.5)/100)\n",
    "print \"A) standard_deviation=\", standard_deviation1\n",
    "\n",
    "standard_deviation2=math.sqrt(0.5*(1.0-0.5)/2500)\n",
    "print \"B) standard_deviation=\", standard_deviation2\n"
   ]
  },
  {
   "cell_type": "markdown",
   "metadata": {
    "collapsed": true
   },
   "source": [
    "<img src=\"worksheet9.JPG\">"
   ]
  },
  {
   "cell_type": "code",
   "execution_count": null,
   "metadata": {
    "collapsed": true
   },
   "outputs": [],
   "source": []
  }
 ],
 "metadata": {
  "kernelspec": {
   "display_name": "Python 2",
   "language": "python",
   "name": "python2"
  },
  "language_info": {
   "codemirror_mode": {
    "name": "ipython",
    "version": 2
   },
   "file_extension": ".py",
   "mimetype": "text/x-python",
   "name": "python",
   "nbconvert_exporter": "python",
   "pygments_lexer": "ipython2",
   "version": "2.7.11"
  }
 },
 "nbformat": 4,
 "nbformat_minor": 0
}
