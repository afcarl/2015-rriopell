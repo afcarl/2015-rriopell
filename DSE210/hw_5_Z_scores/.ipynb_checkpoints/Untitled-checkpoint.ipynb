{
 "cells": [
  {
   "cell_type": "markdown",
   "metadata": {},
   "source": [
    "# Worksheet 9 - Sampling"
   ]
  },
  {
   "cell_type": "markdown",
   "metadata": {},
   "source": [
    "# 1)"
   ]
  },
  {
   "cell_type": "code",
   "execution_count": 9,
   "metadata": {
    "collapsed": false
   },
   "outputs": [
    {
     "name": "stdout",
     "output_type": "stream",
     "text": [
      "mean= 810.0\n",
      "standard_dev= 30.0\n"
     ]
    }
   ],
   "source": [
    "import math\n",
    "p=float(9)/float(10)\n",
    "n=900\n",
    "mean=n*p\n",
    "standard_dev=math.sqrt( n )\n",
    "\n",
    "print \"mean=\", mean\n",
    "print \"standard_dev=\", standard_dev "
   ]
  },
  {
   "cell_type": "markdown",
   "metadata": {},
   "source": [
    "# 3a and b)"
   ]
  },
  {
   "cell_type": "code",
   "execution_count": 43,
   "metadata": {
    "collapsed": false
   },
   "outputs": [
    {
     "name": "stdout",
     "output_type": "stream",
     "text": [
      "e_x 5.0\n",
      "variance 4.75\n",
      "std_dev 2.17944947177\n",
      "upper_bound_95 4.35889894354\n"
     ]
    }
   ],
   "source": [
    "n=100.\n",
    "#3a\n",
    "p=1./20.\n",
    "\n",
    "e_x=p*n\n",
    "variance=n*p*(1-p)\n",
    "std_dev=math.sqrt(variance)\n",
    "upper_bound_95=std_dev*2\n",
    "\n",
    "\n",
    "print \"e_x\", e_x\n",
    "print \"variance\", variance\n",
    "print \"std_dev\", std_dev\n",
    "print \"upper_bound_95\", upper_bound_95\n"
   ]
  },
  {
   "cell_type": "markdown",
   "metadata": {},
   "source": [
    "# 3 c-d)"
   ]
  },
  {
   "cell_type": "code",
   "execution_count": 65,
   "metadata": {
    "collapsed": false
   },
   "outputs": [
    {
     "name": "stdout",
     "output_type": "stream",
     "text": [
      "E_y= 0\n",
      "variance_y= 1\n",
      "variance_z= 100\n",
      "std_dev= 10.0\n",
      "upper_bound_99= 30.0\n"
     ]
    }
   ],
   "source": [
    "E_y=0\n",
    "n=100\n",
    "p=.5\n",
    "\n",
    "#variance=1^2-0^2\n",
    "variance_y= 1\n",
    "variance_z=1*100\n",
    "\n",
    "std_dev=math.sqrt(variance_z)\n",
    "upper_bound_95=std_dev*3\n",
    "\n",
    "print 'E_y=', E_y\n",
    "print \"variance_y=\", variance_y\n",
    "print \"variance_z=\", variance_z\n",
    "print \"std_dev=\", std_dev\n",
    "print \"upper_bound_99=\", upper_bound_95\n",
    "\n"
   ]
  },
  {
   "cell_type": "code",
   "execution_count": 66,
   "metadata": {
    "collapsed": false
   },
   "outputs": [
    {
     "name": "stdout",
     "output_type": "stream",
     "text": [
      "standard_deviation= 0.05\n"
     ]
    }
   ],
   "source": [
    "# 5 a) \n",
    "standard_deviation=math.sqrt(0.5*(1.0-0.5)/100)\n",
    "print \"standard_deviation=\", standard_deviation\n"
   ]
  },
  {
   "cell_type": "code",
   "execution_count": 67,
   "metadata": {
    "collapsed": false
   },
   "outputs": [
    {
     "name": "stdout",
     "output_type": "stream",
     "text": [
      "120\n"
     ]
    }
   ],
   "source": [
    "x= 5*4*3*2*1\n",
    "print x"
   ]
  },
  {
   "cell_type": "code",
   "execution_count": 68,
   "metadata": {
    "collapsed": false
   },
   "outputs": [
    {
     "data": {
      "text/plain": [
       "0.027777777777777776"
      ]
     },
     "execution_count": 68,
     "metadata": {},
     "output_type": "execute_result"
    }
   ],
   "source": [
    "6.0*(1.0/6.0)*(1.0/6.0)*(1.0/6.0)"
   ]
  },
  {
   "cell_type": "code",
   "execution_count": 69,
   "metadata": {
    "collapsed": false
   },
   "outputs": [
    {
     "data": {
      "text/plain": [
       "0.027777777777777776"
      ]
     },
     "execution_count": 69,
     "metadata": {},
     "output_type": "execute_result"
    }
   ],
   "source": [
    "1/36.0"
   ]
  },
  {
   "cell_type": "code",
   "execution_count": 70,
   "metadata": {
    "collapsed": false
   },
   "outputs": [
    {
     "data": {
      "text/plain": [
       "0.06"
      ]
     },
     "execution_count": 70,
     "metadata": {},
     "output_type": "execute_result"
    }
   ],
   "source": [
    ".1*.6"
   ]
  },
  {
   "cell_type": "code",
   "execution_count": null,
   "metadata": {
    "collapsed": true
   },
   "outputs": [],
   "source": []
  }
 ],
 "metadata": {
  "kernelspec": {
   "display_name": "Python 2",
   "language": "python",
   "name": "python2"
  },
  "language_info": {
   "codemirror_mode": {
    "name": "ipython",
    "version": 2
   },
   "file_extension": ".py",
   "mimetype": "text/x-python",
   "name": "python",
   "nbconvert_exporter": "python",
   "pygments_lexer": "ipython2",
   "version": "2.7.11"
  }
 },
 "nbformat": 4,
 "nbformat_minor": 0
}
