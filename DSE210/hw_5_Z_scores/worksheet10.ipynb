{
 "cells": [
  {
   "cell_type": "markdown",
   "metadata": {},
   "source": [
    "# Worksheet 10 - Hypothesis Testing"
   ]
  },
  {
   "cell_type": "markdown",
   "metadata": {},
   "source": [
    "# 1 & 2"
   ]
  },
  {
   "cell_type": "raw",
   "metadata": {
    "collapsed": true
   },
   "source": [
    "# 1) This depends on sample size, but I would say yes since smaple size is not given\n",
    "# 2a) Observational Study\n",
    "# 2b) Because they most likely wanted to determine if sex plays a role in smoking healthiness\n",
    "# 2c) This could be an outside factor, such as older smokers had stopped smoking becasue they became unhealthy"
   ]
  },
  {
   "cell_type": "markdown",
   "metadata": {
    "collapsed": true
   },
   "source": [
    "# 6"
   ]
  },
  {
   "cell_type": "code",
   "execution_count": 1,
   "metadata": {
    "collapsed": false
   },
   "outputs": [
    {
     "name": "stdout",
     "output_type": "stream",
     "text": [
      "0.54\n",
      "6A) Null hypoythesis is heads 5000 times, and prob of .5, and Variance=248\n",
      "6B) z_stat 2.53795662542 Strong Evidence Against the Null\n",
      "6B) p_value is 0.0124 \n",
      "6C) The coin is bais towards heads\n"
     ]
    }
   ],
   "source": [
    "import math\n",
    "n=10000\n",
    "heads=5400\n",
    "#Null Hypothesis\n",
    "prob=5400./10000.\n",
    "print prob\n",
    "variance=prob*(1-prob)*1000\n",
    "standard_dev=math.sqrt(variance)\n",
    "z_stat=(540-500)/standard_dev\n",
    "\n",
    "print \"6A) Null hypoythesis is heads 5000 times, and prob of .5, and Variance=%i\"%variance\n",
    "print '6B) z_stat', z_stat, \"Strong Evidence Against the Null\"\n",
    "print \"6B) p_value is 0.0124 \"\n",
    "print \"6C) The coin is bais towards heads\""
   ]
  },
  {
   "cell_type": "markdown",
   "metadata": {},
   "source": [
    "# 8) Higher p_value is better because z is closer to 0.  "
   ]
  },
  {
   "cell_type": "markdown",
   "metadata": {},
   "source": [
    "<img src=\"worksheet10-1.JPG\">"
   ]
  },
  {
   "cell_type": "markdown",
   "metadata": {},
   "source": [
    "<img src=\"worksheet10-2.JPG\">"
   ]
  },
  {
   "cell_type": "code",
   "execution_count": null,
   "metadata": {
    "collapsed": true
   },
   "outputs": [],
   "source": []
  }
 ],
 "metadata": {
  "kernelspec": {
   "display_name": "Python 2",
   "language": "python",
   "name": "python2"
  },
  "language_info": {
   "codemirror_mode": {
    "name": "ipython",
    "version": 2
   },
   "file_extension": ".py",
   "mimetype": "text/x-python",
   "name": "python",
   "nbconvert_exporter": "python",
   "pygments_lexer": "ipython2",
   "version": "2.7.11"
  }
 },
 "nbformat": 4,
 "nbformat_minor": 0
}
