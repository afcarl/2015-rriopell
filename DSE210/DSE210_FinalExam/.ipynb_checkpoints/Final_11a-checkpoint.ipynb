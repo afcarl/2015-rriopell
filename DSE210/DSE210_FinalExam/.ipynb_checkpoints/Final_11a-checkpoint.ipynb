{
 "cells": [
  {
   "cell_type": "code",
   "execution_count": 1,
   "metadata": {
    "collapsed": false,
    "scrolled": true
   },
   "outputs": [
    {
     "name": "stdout",
     "output_type": "stream",
     "text": [
      "Automatically created module for IPython interactive environment\n"
     ]
    }
   ],
   "source": [
    "%matplotlib inline  \n",
    "\n",
    "print(__doc__)\n",
    "import numpy as np\n",
    "import matplotlib.pyplot as plt\n",
    "from mpl_toolkits.mplot3d import Axes3D\n",
    "from sklearn import decomposition\n",
    "from sklearn import datasets\n",
    "import pandas"
   ]
  },
  {
   "cell_type": "markdown",
   "metadata": {},
   "source": [
    "# 11A) PCA Projection With Iris Data Set\n",
    "Use PCA projection to do 2-d visualization of the entire data set.  You should plot different classes using different colors/shapes. Do the classes seem well-seperated from each other?"
   ]
  },
  {
   "cell_type": "code",
   "execution_count": 2,
   "metadata": {
    "collapsed": false
   },
   "outputs": [],
   "source": [
    "data= pandas.read_csv('irisdata.data', sep=',', header=None, names=['sepal length','sepal width','petal length','petal width','class'])\n",
    "X= data.ix[:,0:3].values"
   ]
  },
  {
   "cell_type": "code",
   "execution_count": 3,
   "metadata": {
    "collapsed": false
   },
   "outputs": [
    {
     "name": "stdout",
     "output_type": "stream",
     "text": [
      "[[-2.49120628 -0.32842889]\n",
      " [-2.52490896  0.17066072]\n",
      " [-2.71231754  0.1299729 ]\n",
      " [-2.55917263  0.30820093]\n",
      " [-2.53908694 -0.33875833]\n",
      " [-2.13468115 -0.75710223]\n",
      " [-2.67741646  0.06542263]\n",
      " [-2.42970863 -0.17022981]\n",
      " [-2.71111913  0.56451225]\n",
      " [-2.44212721  0.11643989]\n",
      " [-2.30024464 -0.64866055]\n",
      " [-2.41609165 -0.02236017]\n",
      " [-2.5639241   0.23458107]\n",
      " [-3.03394159  0.49409597]\n",
      " [-2.44572244 -1.18717814]\n",
      " [-2.24525786 -1.36017008]\n",
      " [-2.50127021 -0.83721802]\n",
      " [-2.49120628 -0.32842889]\n",
      " [-2.00877021 -0.87461349]\n",
      " [-2.42615558 -0.53114929]\n",
      " [-2.09035355 -0.38585331]\n",
      " [-2.41729006 -0.45689951]\n",
      " [-3.06173656 -0.16319272]\n",
      " [-2.19853344 -0.11984248]\n",
      " [-2.14114985  0.03772667]\n",
      " [-2.30259929  0.14679827]\n",
      " [-2.33806137 -0.15020086]\n",
      " [-2.36054388 -0.37232029]\n",
      " [-2.44332562 -0.31809946]\n",
      " [-2.43737574  0.19005975]\n",
      " [-2.38949509  0.20038918]\n",
      " [-2.27364808 -0.4259112 ]\n",
      " [-2.413737   -0.81781899]\n",
      " [-2.39720437 -1.10385877]\n",
      " [-2.44212721  0.11643989]\n",
      " [-2.68691939 -0.08181709]\n",
      " [-2.42679299 -0.60413923]\n",
      " [-2.44212721  0.11643989]\n",
      " [-2.81163192  0.47023352]\n",
      " [-2.3906935  -0.23415016]\n",
      " [-2.62186869 -0.28453749]\n",
      " [-2.71055814  0.92606165]\n",
      " [-2.82936296  0.32173395]\n",
      " [-2.34692689 -0.22445065]\n",
      " [-2.05956651 -0.4510335 ]\n",
      " [-2.5639241   0.23458107]\n",
      " [-2.33450831 -0.51112035]\n",
      " [-2.65968542  0.2139222 ]\n",
      " [-2.33925978 -0.58474021]\n",
      " [-2.51249038 -0.11600898]\n",
      " [ 1.30103772 -0.65921088]\n",
      " [ 0.88365235 -0.31574669]\n",
      " [ 1.45418263 -0.48098286]\n",
      " [ 0.15406945  0.82763976]\n",
      " [ 1.04977684 -0.06263896]\n",
      " [ 0.64600846  0.42869488]\n",
      " [ 1.01906623 -0.28601823]\n",
      " [-0.73041777  0.99670943]\n",
      " [ 1.07992646 -0.20080909]\n",
      " [-0.09008531  0.70237272]\n",
      " [-0.47264602  1.26984611]\n",
      " [ 0.4313659   0.09226777]\n",
      " [ 0.35801066  0.5822878 ]\n",
      " [ 0.97649803  0.1388216 ]\n",
      " [-0.2266976   0.23810492]\n",
      " [ 0.91791602 -0.4532869 ]\n",
      " [ 0.58926228  0.34411566]\n",
      " [ 0.32730005  0.35890853]\n",
      " [ 0.89427727  0.55459184]\n",
      " [ 0.08370628  0.59519089]\n",
      " [ 0.96351846  0.06394189]\n",
      " [ 0.34383268  0.07286875]\n",
      " [ 1.27328492  0.34803793]\n",
      " [ 0.98536355  0.21307138]\n",
      " [ 0.72695438 -0.13305523]\n",
      " [ 0.8877664  -0.31511677]\n",
      " [ 1.35011679 -0.2143421 ]\n",
      " [ 1.47666514 -0.25886343]\n",
      " [ 0.75418836  0.16268405]\n",
      " [-0.25273317  0.37690497]\n",
      " [-0.0380906   0.71333208]\n",
      " [-0.12973787  0.69330313]\n",
      " [ 0.14400552  0.31885063]\n",
      " [ 1.321803    0.43135731]\n",
      " [ 0.511232    0.47195636]\n",
      " [ 0.70986076 -0.20856487]\n",
      " [ 1.19285782 -0.39320006]\n",
      " [ 0.83277963  0.39639276]\n",
      " [ 0.22267321  0.26399987]\n",
      " [ 0.13633841  0.67914019]\n",
      " [ 0.49406196  0.6850062 ]\n",
      " [ 0.87598524  0.04454287]\n",
      " [ 0.2445183   0.41312936]\n",
      " [-0.68253711  1.00703886]\n",
      " [ 0.34091704  0.50677817]\n",
      " [ 0.35333562  0.22010847]\n",
      " [ 0.36220114  0.29435825]\n",
      " [ 0.6489241  -0.00521454]\n",
      " [-0.93619481  0.73453211]\n",
      " [ 0.27941939  0.34857909]\n",
      " [ 2.21048069 -0.02564191]\n",
      " [ 1.24377272  0.559198  ]\n",
      " [ 2.4575511  -0.33428429]\n",
      " [ 1.87935371  0.19124143]\n",
      " [ 2.131813    0.02920885]\n",
      " [ 3.29415766 -0.5136834 ]\n",
      " [ 0.36048391  1.16280702]\n",
      " [ 2.91103596 -0.30775942]\n",
      " [ 2.25417088  0.27261707]\n",
      " [ 2.62666765 -0.80364545]\n",
      " [ 1.47255109 -0.25949335]\n",
      " [ 1.66115808  0.21573381]\n",
      " [ 1.97391661 -0.22263904]\n",
      " [ 1.13084135  0.75158897]\n",
      " [ 1.2349072   0.48494822]\n",
      " [ 1.61683048 -0.15551511]\n",
      " [ 1.8568712  -0.030878  ]\n",
      " [ 3.3538959  -1.15157307]\n",
      " [ 3.64357668 -0.22051777]\n",
      " [ 1.27448333  0.78257728]\n",
      " [ 2.17849525 -0.39500106]\n",
      " [ 0.97358239  0.57273102]\n",
      " [ 3.4425511  -0.40907523]\n",
      " [ 1.25555388  0.19953837]\n",
      " [ 2.09159945 -0.34141015]\n",
      " [ 2.57048246 -0.52667526]\n",
      " [ 1.11602595  0.16917998]\n",
      " [ 1.15092704  0.10462971]\n",
      " [ 1.92723436  0.20157087]\n",
      " [ 2.40491897 -0.41823359]\n",
      " [ 2.77562209 -0.33748787]\n",
      " [ 3.15698438 -1.33950061]\n",
      " [ 1.92723436  0.20157087]\n",
      " [ 1.42998289  0.16534648]\n",
      " [ 1.82791999  0.54183148]\n",
      " [ 2.87493646 -0.67774849]\n",
      " [ 1.83502611 -0.18000749]\n",
      " [ 1.80899054 -0.04120743]\n",
      " [ 1.02026464  0.14852111]\n",
      " [ 1.91241897 -0.38083812]\n",
      " [ 2.01768322 -0.21293953]\n",
      " [ 1.63747717 -0.44092496]\n",
      " [ 1.24377272  0.559198  ]\n",
      " [ 2.32277464 -0.29102282]\n",
      " [ 2.09159945 -0.34141015]\n",
      " [ 1.65995967 -0.21880553]\n",
      " [ 1.36493219  0.36806688]\n",
      " [ 1.5819294  -0.09096484]\n",
      " [ 1.61271643 -0.15614503]\n",
      " [ 1.2561913   0.2725283 ]]\n"
     ]
    }
   ],
   "source": [
    "pca = decomposition.PCA(n_components=2)\n",
    "pca.fit(X)\n",
    "X = pca.transform(X)\n",
    "print X"
   ]
  },
  {
   "cell_type": "code",
   "execution_count": 4,
   "metadata": {
    "collapsed": false
   },
   "outputs": [
    {
     "data": {
      "text/html": [
       "<div>\n",
       "<table border=\"1\" class=\"dataframe\">\n",
       "  <thead>\n",
       "    <tr style=\"text-align: right;\">\n",
       "      <th></th>\n",
       "      <th>sepal length</th>\n",
       "      <th>sepal width</th>\n",
       "      <th>petal length</th>\n",
       "      <th>petal width</th>\n",
       "      <th>class</th>\n",
       "      <th>V0</th>\n",
       "      <th>V1</th>\n",
       "    </tr>\n",
       "  </thead>\n",
       "  <tbody>\n",
       "    <tr>\n",
       "      <th>0</th>\n",
       "      <td>5.1</td>\n",
       "      <td>3.5</td>\n",
       "      <td>1.4</td>\n",
       "      <td>0.2</td>\n",
       "      <td>Iris-setosa</td>\n",
       "      <td>-2.491206</td>\n",
       "      <td>-0.328429</td>\n",
       "    </tr>\n",
       "    <tr>\n",
       "      <th>1</th>\n",
       "      <td>4.9</td>\n",
       "      <td>3.0</td>\n",
       "      <td>1.4</td>\n",
       "      <td>0.2</td>\n",
       "      <td>Iris-setosa</td>\n",
       "      <td>-2.524909</td>\n",
       "      <td>0.170661</td>\n",
       "    </tr>\n",
       "    <tr>\n",
       "      <th>2</th>\n",
       "      <td>4.7</td>\n",
       "      <td>3.2</td>\n",
       "      <td>1.3</td>\n",
       "      <td>0.2</td>\n",
       "      <td>Iris-setosa</td>\n",
       "      <td>-2.712318</td>\n",
       "      <td>0.129973</td>\n",
       "    </tr>\n",
       "    <tr>\n",
       "      <th>3</th>\n",
       "      <td>4.6</td>\n",
       "      <td>3.1</td>\n",
       "      <td>1.5</td>\n",
       "      <td>0.2</td>\n",
       "      <td>Iris-setosa</td>\n",
       "      <td>-2.559173</td>\n",
       "      <td>0.308201</td>\n",
       "    </tr>\n",
       "    <tr>\n",
       "      <th>4</th>\n",
       "      <td>5.0</td>\n",
       "      <td>3.6</td>\n",
       "      <td>1.4</td>\n",
       "      <td>0.2</td>\n",
       "      <td>Iris-setosa</td>\n",
       "      <td>-2.539087</td>\n",
       "      <td>-0.338758</td>\n",
       "    </tr>\n",
       "  </tbody>\n",
       "</table>\n",
       "</div>"
      ],
      "text/plain": [
       "   sepal length  sepal width  petal length  petal width        class  \\\n",
       "0           5.1          3.5           1.4          0.2  Iris-setosa   \n",
       "1           4.9          3.0           1.4          0.2  Iris-setosa   \n",
       "2           4.7          3.2           1.3          0.2  Iris-setosa   \n",
       "3           4.6          3.1           1.5          0.2  Iris-setosa   \n",
       "4           5.0          3.6           1.4          0.2  Iris-setosa   \n",
       "\n",
       "         V0        V1  \n",
       "0 -2.491206 -0.328429  \n",
       "1 -2.524909  0.170661  \n",
       "2 -2.712318  0.129973  \n",
       "3 -2.559173  0.308201  \n",
       "4 -2.539087 -0.338758  "
      ]
     },
     "execution_count": 4,
     "metadata": {},
     "output_type": "execute_result"
    }
   ],
   "source": [
    "data['V0']=X[:,0]\n",
    "data['V1']=X[:,1]\n",
    "data.head()"
   ]
  },
  {
   "cell_type": "code",
   "execution_count": null,
   "metadata": {
    "collapsed": false
   },
   "outputs": [],
   "source": [
    "plt.figure(figsize=(10,8))\n",
    "plt.xlabel('V0 - First PCA Vector', fontsize = 12)\n",
    "plt.ylabel('V1 - Second PCA Vector', fontsize = 12)\n",
    "plt.title('PCA Model in 2 Dimensions', fontsize = 14)\n",
    "plt.grid()\n",
    "\n",
    "classes = data['class'].unique()\n",
    "color=['r','b','g']\n",
    "\n",
    "for cl, co in zip(classes,color):\n",
    "    V0 = data[data['class']==cl]['V0'].values\n",
    "    V1 = data[data['class']==cl]['V1'].values\n",
    "    plt.scatter(V1,V0, c=co, s=70)\n"
   ]
  },
  {
   "cell_type": "code",
   "execution_count": null,
   "metadata": {
    "collapsed": false
   },
   "outputs": [],
   "source": [
    "for cl, co in zip(classes,color):\n",
    "    V0 = data[data['class']==cl]['V0'].values\n",
    "    V1 = data[data['class']==cl]['V1'].values\n",
    "V0"
   ]
  },
  {
   "cell_type": "code",
   "execution_count": null,
   "metadata": {
    "collapsed": false
   },
   "outputs": [],
   "source": [
    "V1"
   ]
  },
  {
   "cell_type": "markdown",
   "metadata": {
    "collapsed": false
   },
   "source": [
    "# 11b) Build a Classifier for Training and Test Data\n",
    "-Split the data set into training/test data as follows: use the first 35 points in each class for training, and use the remaining 15 points for testing. \n",
    "-What error rate do you get? "
   ]
  },
  {
   "cell_type": "code",
   "execution_count": null,
   "metadata": {
    "collapsed": false
   },
   "outputs": [],
   "source": [
    "data=data\n",
    "train=data[:35]\n",
    "class1=classes[1]"
   ]
  },
  {
   "cell_type": "code",
   "execution_count": null,
   "metadata": {
    "collapsed": false
   },
   "outputs": [],
   "source": [
    "for cl in classes:\n",
    "    data[data['class'].str.contains(cl)==True]\n",
    "    data[data['class'] == True].index.tolist()"
   ]
  },
  {
   "cell_type": "code",
   "execution_count": null,
   "metadata": {
    "collapsed": false
   },
   "outputs": [],
   "source": [
    "# print classes[0]\n",
    "# names=data.columns.values\n",
    "# for x in classes:\n",
    "#     train=pandas.DataFrame(columns=names)\n",
    "#     #train.concat[data[data['class']==x][:35]]\n",
    "#     print x\n",
    "# classes"
   ]
  },
  {
   "cell_type": "code",
   "execution_count": null,
   "metadata": {
    "collapsed": false
   },
   "outputs": [],
   "source": [
    "i=0\n",
    "classes = data['class'].unique()\n",
    "while i < 3:\n",
    "    if i == 0:\n",
    "        train_d=data[data['class']==classes[i]][:35]\n",
    "    else:\n",
    "        train_d=train_d.append(data[data['class']==classes[i]][:35])"
   ]
  },
  {
   "cell_type": "code",
   "execution_count": null,
   "metadata": {
    "collapsed": true
   },
   "outputs": [],
   "source": [
    "train_d.append(data[data['class']==classes[i]][:35])"
   ]
  },
  {
   "cell_type": "code",
   "execution_count": null,
   "metadata": {
    "collapsed": true
   },
   "outputs": [],
   "source": []
  }
 ],
 "metadata": {
  "kernelspec": {
   "display_name": "Python 2",
   "language": "python",
   "name": "python2"
  },
  "language_info": {
   "codemirror_mode": {
    "name": "ipython",
    "version": 2
   },
   "file_extension": ".py",
   "mimetype": "text/x-python",
   "name": "python",
   "nbconvert_exporter": "python",
   "pygments_lexer": "ipython2",
   "version": "2.7.11"
  }
 },
 "nbformat": 4,
 "nbformat_minor": 0
}
