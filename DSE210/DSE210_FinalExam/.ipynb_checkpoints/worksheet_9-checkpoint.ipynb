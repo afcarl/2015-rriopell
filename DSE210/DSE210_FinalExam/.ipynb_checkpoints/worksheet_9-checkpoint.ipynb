{
 "cells": [
  {
   "cell_type": "code",
   "execution_count": 3,
   "metadata": {
    "collapsed": false
   },
   "outputs": [
    {
     "name": "stdout",
     "output_type": "stream",
     "text": [
      "Automatically created module for IPython interactive environment\n"
     ]
    }
   ],
   "source": [
    "%matplotlib inline  \n",
    "\n",
    "print(__doc__)\n",
    "import numpy as np\n",
    "import matplotlib.pyplot as plt\n",
    "from mpl_toolkits.mplot3d import Axes3D\n",
    "from sklearn import decomposition\n",
    "from sklearn import datasets\n",
    "import pandas"
   ]
  },
  {
   "cell_type": "code",
   "execution_count": 4,
   "metadata": {
    "collapsed": false
   },
   "outputs": [],
   "source": [
    "data= pandas.read_csv('irisdata.data', sep=',', header=None, names=['sepal length','sepal width','petal length','petal width','class'])\n",
    "X= data.ix[:,0:3].values"
   ]
  },
  {
   "cell_type": "code",
   "execution_count": 5,
   "metadata": {
    "collapsed": false
   },
   "outputs": [
    {
     "name": "stdout",
     "output_type": "stream",
     "text": [
      "[[-2.49120628 -0.32842889]\n",
      " [-2.52490896  0.17066072]\n",
      " [-2.71231754  0.1299729 ]\n",
      " [-2.55917263  0.30820093]\n",
      " [-2.53908694 -0.33875833]\n",
      " [-2.13468115 -0.75710223]\n",
      " [-2.67741646  0.06542263]\n",
      " [-2.42970863 -0.17022981]\n",
      " [-2.71111913  0.56451225]\n",
      " [-2.44212721  0.11643989]\n",
      " [-2.30024464 -0.64866055]\n",
      " [-2.41609165 -0.02236017]\n",
      " [-2.5639241   0.23458107]\n",
      " [-3.03394159  0.49409597]\n",
      " [-2.44572244 -1.18717814]\n",
      " [-2.24525786 -1.36017008]\n",
      " [-2.50127021 -0.83721802]\n",
      " [-2.49120628 -0.32842889]\n",
      " [-2.00877021 -0.87461349]\n",
      " [-2.42615558 -0.53114929]\n",
      " [-2.09035355 -0.38585331]\n",
      " [-2.41729006 -0.45689951]\n",
      " [-3.06173656 -0.16319272]\n",
      " [-2.19853344 -0.11984248]\n",
      " [-2.14114985  0.03772667]\n",
      " [-2.30259929  0.14679827]\n",
      " [-2.33806137 -0.15020086]\n",
      " [-2.36054388 -0.37232029]\n",
      " [-2.44332562 -0.31809946]\n",
      " [-2.43737574  0.19005975]\n",
      " [-2.38949509  0.20038918]\n",
      " [-2.27364808 -0.4259112 ]\n",
      " [-2.413737   -0.81781899]\n",
      " [-2.39720437 -1.10385877]\n",
      " [-2.44212721  0.11643989]\n",
      " [-2.68691939 -0.08181709]\n",
      " [-2.42679299 -0.60413923]\n",
      " [-2.44212721  0.11643989]\n",
      " [-2.81163192  0.47023352]\n",
      " [-2.3906935  -0.23415016]\n",
      " [-2.62186869 -0.28453749]\n",
      " [-2.71055814  0.92606165]\n",
      " [-2.82936296  0.32173395]\n",
      " [-2.34692689 -0.22445065]\n",
      " [-2.05956651 -0.4510335 ]\n",
      " [-2.5639241   0.23458107]\n",
      " [-2.33450831 -0.51112035]\n",
      " [-2.65968542  0.2139222 ]\n",
      " [-2.33925978 -0.58474021]\n",
      " [-2.51249038 -0.11600898]\n",
      " [ 1.30103772 -0.65921088]\n",
      " [ 0.88365235 -0.31574669]\n",
      " [ 1.45418263 -0.48098286]\n",
      " [ 0.15406945  0.82763976]\n",
      " [ 1.04977684 -0.06263896]\n",
      " [ 0.64600846  0.42869488]\n",
      " [ 1.01906623 -0.28601823]\n",
      " [-0.73041777  0.99670943]\n",
      " [ 1.07992646 -0.20080909]\n",
      " [-0.09008531  0.70237272]\n",
      " [-0.47264602  1.26984611]\n",
      " [ 0.4313659   0.09226777]\n",
      " [ 0.35801066  0.5822878 ]\n",
      " [ 0.97649803  0.1388216 ]\n",
      " [-0.2266976   0.23810492]\n",
      " [ 0.91791602 -0.4532869 ]\n",
      " [ 0.58926228  0.34411566]\n",
      " [ 0.32730005  0.35890853]\n",
      " [ 0.89427727  0.55459184]\n",
      " [ 0.08370628  0.59519089]\n",
      " [ 0.96351846  0.06394189]\n",
      " [ 0.34383268  0.07286875]\n",
      " [ 1.27328492  0.34803793]\n",
      " [ 0.98536355  0.21307138]\n",
      " [ 0.72695438 -0.13305523]\n",
      " [ 0.8877664  -0.31511677]\n",
      " [ 1.35011679 -0.2143421 ]\n",
      " [ 1.47666514 -0.25886343]\n",
      " [ 0.75418836  0.16268405]\n",
      " [-0.25273317  0.37690497]\n",
      " [-0.0380906   0.71333208]\n",
      " [-0.12973787  0.69330313]\n",
      " [ 0.14400552  0.31885063]\n",
      " [ 1.321803    0.43135731]\n",
      " [ 0.511232    0.47195636]\n",
      " [ 0.70986076 -0.20856487]\n",
      " [ 1.19285782 -0.39320006]\n",
      " [ 0.83277963  0.39639276]\n",
      " [ 0.22267321  0.26399987]\n",
      " [ 0.13633841  0.67914019]\n",
      " [ 0.49406196  0.6850062 ]\n",
      " [ 0.87598524  0.04454287]\n",
      " [ 0.2445183   0.41312936]\n",
      " [-0.68253711  1.00703886]\n",
      " [ 0.34091704  0.50677817]\n",
      " [ 0.35333562  0.22010847]\n",
      " [ 0.36220114  0.29435825]\n",
      " [ 0.6489241  -0.00521454]\n",
      " [-0.93619481  0.73453211]\n",
      " [ 0.27941939  0.34857909]\n",
      " [ 2.21048069 -0.02564191]\n",
      " [ 1.24377272  0.559198  ]\n",
      " [ 2.4575511  -0.33428429]\n",
      " [ 1.87935371  0.19124143]\n",
      " [ 2.131813    0.02920885]\n",
      " [ 3.29415766 -0.5136834 ]\n",
      " [ 0.36048391  1.16280702]\n",
      " [ 2.91103596 -0.30775942]\n",
      " [ 2.25417088  0.27261707]\n",
      " [ 2.62666765 -0.80364545]\n",
      " [ 1.47255109 -0.25949335]\n",
      " [ 1.66115808  0.21573381]\n",
      " [ 1.97391661 -0.22263904]\n",
      " [ 1.13084135  0.75158897]\n",
      " [ 1.2349072   0.48494822]\n",
      " [ 1.61683048 -0.15551511]\n",
      " [ 1.8568712  -0.030878  ]\n",
      " [ 3.3538959  -1.15157307]\n",
      " [ 3.64357668 -0.22051777]\n",
      " [ 1.27448333  0.78257728]\n",
      " [ 2.17849525 -0.39500106]\n",
      " [ 0.97358239  0.57273102]\n",
      " [ 3.4425511  -0.40907523]\n",
      " [ 1.25555388  0.19953837]\n",
      " [ 2.09159945 -0.34141015]\n",
      " [ 2.57048246 -0.52667526]\n",
      " [ 1.11602595  0.16917998]\n",
      " [ 1.15092704  0.10462971]\n",
      " [ 1.92723436  0.20157087]\n",
      " [ 2.40491897 -0.41823359]\n",
      " [ 2.77562209 -0.33748787]\n",
      " [ 3.15698438 -1.33950061]\n",
      " [ 1.92723436  0.20157087]\n",
      " [ 1.42998289  0.16534648]\n",
      " [ 1.82791999  0.54183148]\n",
      " [ 2.87493646 -0.67774849]\n",
      " [ 1.83502611 -0.18000749]\n",
      " [ 1.80899054 -0.04120743]\n",
      " [ 1.02026464  0.14852111]\n",
      " [ 1.91241897 -0.38083812]\n",
      " [ 2.01768322 -0.21293953]\n",
      " [ 1.63747717 -0.44092496]\n",
      " [ 1.24377272  0.559198  ]\n",
      " [ 2.32277464 -0.29102282]\n",
      " [ 2.09159945 -0.34141015]\n",
      " [ 1.65995967 -0.21880553]\n",
      " [ 1.36493219  0.36806688]\n",
      " [ 1.5819294  -0.09096484]\n",
      " [ 1.61271643 -0.15614503]\n",
      " [ 1.2561913   0.2725283 ]]\n"
     ]
    }
   ],
   "source": [
    "pca = decomposition.PCA(n_components=2)\n",
    "pca.fit(X)\n",
    "X = pca.transform(X)\n",
    "print X"
   ]
  },
  {
   "cell_type": "code",
   "execution_count": 6,
   "metadata": {
    "collapsed": false
   },
   "outputs": [
    {
     "data": {
      "text/html": [
       "<div>\n",
       "<table border=\"1\" class=\"dataframe\">\n",
       "  <thead>\n",
       "    <tr style=\"text-align: right;\">\n",
       "      <th></th>\n",
       "      <th>sepal length</th>\n",
       "      <th>sepal width</th>\n",
       "      <th>petal length</th>\n",
       "      <th>petal width</th>\n",
       "      <th>class</th>\n",
       "      <th>V0</th>\n",
       "      <th>V1</th>\n",
       "    </tr>\n",
       "  </thead>\n",
       "  <tbody>\n",
       "    <tr>\n",
       "      <th>0</th>\n",
       "      <td>5.1</td>\n",
       "      <td>3.5</td>\n",
       "      <td>1.4</td>\n",
       "      <td>0.2</td>\n",
       "      <td>Iris-setosa</td>\n",
       "      <td>-2.491206</td>\n",
       "      <td>-0.328429</td>\n",
       "    </tr>\n",
       "    <tr>\n",
       "      <th>1</th>\n",
       "      <td>4.9</td>\n",
       "      <td>3.0</td>\n",
       "      <td>1.4</td>\n",
       "      <td>0.2</td>\n",
       "      <td>Iris-setosa</td>\n",
       "      <td>-2.524909</td>\n",
       "      <td>0.170661</td>\n",
       "    </tr>\n",
       "    <tr>\n",
       "      <th>2</th>\n",
       "      <td>4.7</td>\n",
       "      <td>3.2</td>\n",
       "      <td>1.3</td>\n",
       "      <td>0.2</td>\n",
       "      <td>Iris-setosa</td>\n",
       "      <td>-2.712318</td>\n",
       "      <td>0.129973</td>\n",
       "    </tr>\n",
       "    <tr>\n",
       "      <th>3</th>\n",
       "      <td>4.6</td>\n",
       "      <td>3.1</td>\n",
       "      <td>1.5</td>\n",
       "      <td>0.2</td>\n",
       "      <td>Iris-setosa</td>\n",
       "      <td>-2.559173</td>\n",
       "      <td>0.308201</td>\n",
       "    </tr>\n",
       "    <tr>\n",
       "      <th>4</th>\n",
       "      <td>5.0</td>\n",
       "      <td>3.6</td>\n",
       "      <td>1.4</td>\n",
       "      <td>0.2</td>\n",
       "      <td>Iris-setosa</td>\n",
       "      <td>-2.539087</td>\n",
       "      <td>-0.338758</td>\n",
       "    </tr>\n",
       "  </tbody>\n",
       "</table>\n",
       "</div>"
      ],
      "text/plain": [
       "   sepal length  sepal width  petal length  petal width        class  \\\n",
       "0           5.1          3.5           1.4          0.2  Iris-setosa   \n",
       "1           4.9          3.0           1.4          0.2  Iris-setosa   \n",
       "2           4.7          3.2           1.3          0.2  Iris-setosa   \n",
       "3           4.6          3.1           1.5          0.2  Iris-setosa   \n",
       "4           5.0          3.6           1.4          0.2  Iris-setosa   \n",
       "\n",
       "         V0        V1  \n",
       "0 -2.491206 -0.328429  \n",
       "1 -2.524909  0.170661  \n",
       "2 -2.712318  0.129973  \n",
       "3 -2.559173  0.308201  \n",
       "4 -2.539087 -0.338758  "
      ]
     },
     "execution_count": 6,
     "metadata": {},
     "output_type": "execute_result"
    }
   ],
   "source": [
    "data['V0']=X[:,0]\n",
    "data['V1']=X[:,1]\n",
    "data.head()"
   ]
  },
  {
   "cell_type": "code",
   "execution_count": 18,
   "metadata": {
    "collapsed": false
   },
   "outputs": [
    {
     "data": {
      "image/png": "[encoded data removed]",
      "text/plain": [
       "<matplotlib.figure.Figure at 0x112207350>"
      ]
     },
     "metadata": {},
     "output_type": "display_data"
    }
   ],
   "source": [
    "plt.figure(figsize=(10,8))\n",
    "plt.xlabel('V0 - First PCA Vector', fontsize = 12)\n",
    "plt.ylabel('V1 - Second PCA Vector', fontsize = 12)\n",
    "plt.title('PCA Model in 2 Dimensions', fontsize = 14)\n",
    "plt.legend(classes)\n",
    "plt.grid()\n",
    "\n",
    "classes = data['class'].unique()\n",
    "color=['r','b','g']\n",
    "\n",
    "for cl, co in zip(classes,color):\n",
    "    V0 = data[data['class']==cl]['V0'].values\n",
    "    V1 = data[data['class']==cl]['V1'].values\n",
    "    plt.scatter(V1,V0, c=co, s=70)\n"
   ]
  },
  {
   "cell_type": "code",
   "execution_count": 20,
   "metadata": {
    "collapsed": false
   },
   "outputs": [
    {
     "data": {
      "text/plain": [
       "array([ 2.21048069,  1.24377272,  2.4575511 ,  1.87935371,  2.131813  ,\n",
       "        3.29415766,  0.36048391,  2.91103596,  2.25417088,  2.62666765,\n",
       "        1.47255109,  1.66115808,  1.97391661,  1.13084135,  1.2349072 ,\n",
       "        1.61683048,  1.8568712 ,  3.3538959 ,  3.64357668,  1.27448333,\n",
       "        2.17849525,  0.97358239,  3.4425511 ,  1.25555388,  2.09159945,\n",
       "        2.57048246,  1.11602595,  1.15092704,  1.92723436,  2.40491897,\n",
       "        2.77562209,  3.15698438,  1.92723436,  1.42998289,  1.82791999,\n",
       "        2.87493646,  1.83502611,  1.80899054,  1.02026464,  1.91241897,\n",
       "        2.01768322,  1.63747717,  1.24377272,  2.32277464,  2.09159945,\n",
       "        1.65995967,  1.36493219,  1.5819294 ,  1.61271643,  1.2561913 ])"
      ]
     },
     "execution_count": 20,
     "metadata": {},
     "output_type": "execute_result"
    }
   ],
   "source": [
    "for cl, co in zip(classes,color):\n",
    "    V0 = data[data['class']==cl]['V0'].values\n",
    "    V1 = data[data['class']==cl]['V1'].values\n",
    "V0"
   ]
  },
  {
   "cell_type": "code",
   "execution_count": 31,
   "metadata": {
    "collapsed": false
   },
   "outputs": [
    {
     "data": {
      "text/plain": [
       "array([-0.02564191,  0.559198  , -0.33428429,  0.19124143,  0.02920885,\n",
       "       -0.5136834 ,  1.16280702, -0.30775942,  0.27261707, -0.80364545,\n",
       "       -0.25949335,  0.21573381, -0.22263904,  0.75158897,  0.48494822,\n",
       "       -0.15551511, -0.030878  , -1.15157307, -0.22051777,  0.78257728,\n",
       "       -0.39500106,  0.57273102, -0.40907523,  0.19953837, -0.34141015,\n",
       "       -0.52667526,  0.16917998,  0.10462971,  0.20157087, -0.41823359,\n",
       "       -0.33748787, -1.33950061,  0.20157087,  0.16534648,  0.54183148,\n",
       "       -0.67774849, -0.18000749, -0.04120743,  0.14852111, -0.38083812,\n",
       "       -0.21293953, -0.44092496,  0.559198  , -0.29102282, -0.34141015,\n",
       "       -0.21880553,  0.36806688, -0.09096484, -0.15614503,  0.2725283 ])"
      ]
     },
     "execution_count": 31,
     "metadata": {},
     "output_type": "execute_result"
    }
   ],
   "source": [
    "V1"
   ]
  },
  {
   "cell_type": "code",
   "execution_count": 36,
   "metadata": {
    "collapsed": false
   },
   "outputs": [
    {
     "ename": "SyntaxError",
     "evalue": "invalid syntax (<ipython-input-36-1d0665edae54>, line 1)",
     "output_type": "error",
     "traceback": [
      "\u001b[0;36m  File \u001b[0;32m\"<ipython-input-36-1d0665edae54>\"\u001b[0;36m, line \u001b[0;32m1\u001b[0m\n\u001b[0;31m    for x in data['class'].unique()\u001b[0m\n\u001b[0m                                   ^\u001b[0m\n\u001b[0;31mSyntaxError\u001b[0m\u001b[0;31m:\u001b[0m invalid syntax\n"
     ]
    }
   ],
   "source": [
    "for x in data['class'].unique()\n",
    "    print x\n",
    "#if data['class']"
   ]
  },
  {
   "cell_type": "code",
   "execution_count": 40,
   "metadata": {
    "collapsed": false
   },
   "outputs": [
    {
     "name": "stdout",
     "output_type": "stream",
     "text": [
      "Iris-setosa\n",
      "Iris-versicolor\n",
      "Iris-virginica\n"
     ]
    }
   ],
   "source": [
    "classes= data['class'].unique()\n",
    "for flower in classes:\n",
    "\n",
    "if data['class']=='Iris'\n",
    "        "
   ]
  },
  {
   "cell_type": "code",
   "execution_count": 41,
   "metadata": {
    "collapsed": false
   },
   "outputs": [
    {
     "data": {
      "text/plain": [
       "0       True\n",
       "1       True\n",
       "2       True\n",
       "3       True\n",
       "4       True\n",
       "5       True\n",
       "6       True\n",
       "7       True\n",
       "8       True\n",
       "9       True\n",
       "10      True\n",
       "11      True\n",
       "12      True\n",
       "13      True\n",
       "14      True\n",
       "15      True\n",
       "16      True\n",
       "17      True\n",
       "18      True\n",
       "19      True\n",
       "20      True\n",
       "21      True\n",
       "22      True\n",
       "23      True\n",
       "24      True\n",
       "25      True\n",
       "26      True\n",
       "27      True\n",
       "28      True\n",
       "29      True\n",
       "       ...  \n",
       "120    False\n",
       "121    False\n",
       "122    False\n",
       "123    False\n",
       "124    False\n",
       "125    False\n",
       "126    False\n",
       "127    False\n",
       "128    False\n",
       "129    False\n",
       "130    False\n",
       "131    False\n",
       "132    False\n",
       "133    False\n",
       "134    False\n",
       "135    False\n",
       "136    False\n",
       "137    False\n",
       "138    False\n",
       "139    False\n",
       "140    False\n",
       "141    False\n",
       "142    False\n",
       "143    False\n",
       "144    False\n",
       "145    False\n",
       "146    False\n",
       "147    False\n",
       "148    False\n",
       "149    False\n",
       "Name: class, dtype: bool"
      ]
     },
     "execution_count": 41,
     "metadata": {},
     "output_type": "execute_result"
    }
   ],
   "source": [
    "for data['class']=='Iris-setosa'"
   ]
  },
  {
   "cell_type": "code",
   "execution_count": null,
   "metadata": {
    "collapsed": true
   },
   "outputs": [],
   "source": []
  }
 ],
 "metadata": {
  "kernelspec": {
   "display_name": "Python 2",
   "language": "python",
   "name": "python2"
  },
  "language_info": {
   "codemirror_mode": {
    "name": "ipython",
    "version": 2
   },
   "file_extension": ".py",
   "mimetype": "text/x-python",
   "name": "python",
   "nbconvert_exporter": "python",
   "pygments_lexer": "ipython2",
   "version": "2.7.11"
  }
 },
 "nbformat": 4,
 "nbformat_minor": 0
}
