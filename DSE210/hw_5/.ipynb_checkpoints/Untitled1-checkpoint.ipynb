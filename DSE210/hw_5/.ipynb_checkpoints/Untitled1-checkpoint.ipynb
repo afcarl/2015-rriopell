{
 "cells": [
  {
   "cell_type": "markdown",
   "metadata": {},
   "source": [
    "# Worksheet 10 - Hypothesis Testing"
   ]
  },
  {
   "cell_type": "code",
   "execution_count": null,
   "metadata": {
    "collapsed": true
   },
   "outputs": [],
   "source": [
    "#1) This depends on sample size, but I would say yes since smaple size is not given\n",
    "#2a) Observational Study\n",
    "#2b) Because they most likely wanted to determine if sex plays a role in smoking healthiness\n",
    "#2c) THis could be an outside factor, such as older smokers had stopped smoking becasue they became unhealthy"
   ]
  },
  {
   "cell_type": "code",
   "execution_count": null,
   "metadata": {
    "collapsed": true
   },
   "outputs": [],
   "source": [
    "#6"
   ]
  },
  {
   "cell_type": "code",
   "execution_count": 21,
   "metadata": {
    "collapsed": false
   },
   "outputs": [
    {
     "name": "stdout",
     "output_type": "stream",
     "text": [
      "Null hypoythesis is heads 5000 times, and prob of .5\n",
      "null_variance= 15.8113883008\n",
      "z_stat 2.52982212813 Strong Evidence Against the Null\n"
     ]
    }
   ],
   "source": [
    "import math\n",
    "n=10000\n",
    "heads=5400\n",
    "\n",
    "#Null Hypothesis\n",
    "variance1=.5*(1-.5)*1000\n",
    "standard_dev=math.sqrt(variance1)\n",
    "z_stat=(540-500)/standard_dev\n",
    "\n",
    "\n",
    "print \"6A) Null hypoythesis is heads 5000 times, and prob of .5\"\n",
    "print 'null_variance=', null_variance\n",
    "print 'z_stat', z_stat, \"Strong Evidence Against the Null\"\n",
    "print \"p_value is \""
   ]
  },
  {
   "cell_type": "markdown",
   "metadata": {},
   "source": [
    "# 8) Higher p_value is better because z is closer to 0.  "
   ]
  }
 ],
 "metadata": {
  "kernelspec": {
   "display_name": "Python 2",
   "language": "python",
   "name": "python2"
  },
  "language_info": {
   "codemirror_mode": {
    "name": "ipython",
    "version": 2
   },
   "file_extension": ".py",
   "mimetype": "text/x-python",
   "name": "python",
   "nbconvert_exporter": "python",
   "pygments_lexer": "ipython2",
   "version": "2.7.11"
  }
 },
 "nbformat": 4,
 "nbformat_minor": 0
}
