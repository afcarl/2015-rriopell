{
 "cells": [
  {
   "cell_type": "markdown",
   "metadata": {
    "collapsed": true
   },
   "source": [
    "# 1) No, the becasue they are not unit vectors"
   ]
  },
  {
   "cell_type": "markdown",
   "metadata": {},
   "source": [
    "# 2)"
   ]
  },
  {
   "cell_type": "markdown",
   "metadata": {},
   "source": [
    "<img src=\"FullSizeRender.JPG\">"
   ]
  },
  {
   "cell_type": "markdown",
   "metadata": {},
   "source": [
    "# 3a)"
   ]
  },
  {
   "cell_type": "code",
   "execution_count": null,
   "metadata": {
    "collapsed": true
   },
   "outputs": [],
   "source": [
    "#3a\n",
    "#pX2\n",
    "#2Xp\n",
    "#pXp\n",
    "#pXP"
   ]
  },
  {
   "cell_type": "markdown",
   "metadata": {},
   "source": [
    "# 3b)"
   ]
  },
  {
   "cell_type": "code",
   "execution_count": null,
   "metadata": {
    "collapsed": true
   },
   "outputs": [],
   "source": [
    "#3B\n",
    "#first and the third reduce dimensionality\n",
    "#the 2nd and the fourth both reduce the dimensionality subspace, but project back in to the original space"
   ]
  },
  {
   "cell_type": "code",
   "execution_count": null,
   "metadata": {
    "collapsed": true
   },
   "outputs": [],
   "source": [
    "fig.texts.append(ax.texts.pop())\n"
   ]
  },
  {
   "cell_type": "raw",
   "metadata": {},
   "source": [
    "#rc params"
   ]
  },
  {
   "cell_type": "raw",
   "metadata": {},
   "source": [
    "#sort eigenvalues\n",
    "\n",
    "idx= w. arg()[::-1]\n",
    "w=w[idx]\n",
    "v=v[:,idx]\n",
    "\n",
    "\n",
    "idx=w.argsort()[::-1]\n",
    "v[:, idx[i:]]=0\n",
    "\n"
   ]
  }
 ],
 "metadata": {
  "kernelspec": {
   "display_name": "Python 2",
   "language": "python",
   "name": "python2"
  },
  "language_info": {
   "codemirror_mode": {
    "name": "ipython",
    "version": 2
   },
   "file_extension": ".py",
   "mimetype": "text/x-python",
   "name": "python",
   "nbconvert_exporter": "python",
   "pygments_lexer": "ipython2",
   "version": "2.7.11"
  }
 },
 "nbformat": 4,
 "nbformat_minor": 0
}
