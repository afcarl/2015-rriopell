{
 "cells": [
  {
   "cell_type": "code",
   "execution_count": 1,
   "metadata": {
    "collapsed": false
   },
   "outputs": [
    {
     "data": {
      "text/plain": [
       "'1.10.4'"
      ]
     },
     "execution_count": 1,
     "metadata": {},
     "output_type": "execute_result"
    }
   ],
   "source": [
    "from struct import unpack\n",
    "import numpy as np\n",
    "import matplotlib.pylab as plt \n",
    "%matplotlib inline\n",
    "import pandas as pd\n",
    "import random\n",
    "from scipy.stats import multivariate_normal\n",
    "#scipy.__version__\n",
    "np.__version__"
   ]
  },
  {
   "cell_type": "markdown",
   "metadata": {},
   "source": [
    "# Worksheet 6  - Problem 9"
   ]
  },
  {
   "cell_type": "code",
   "execution_count": 2,
   "metadata": {
    "collapsed": true
   },
   "outputs": [],
   "source": [
    "def loadmnist(imagefile, labelfile):\n",
    "\n",
    "    # Open the images with gzip in read binary mode\n",
    "    images = open(imagefile, 'rb')\n",
    "    labels = open(labelfile, 'rb')\n",
    "\n",
    "    # Get metadata for images\n",
    "    images.read(4)  # skip the magic_number\n",
    "    number_of_images = images.read(4)\n",
    "    number_of_images = unpack('>I', number_of_images)[0]\n",
    "    rows = images.read(4)\n",
    "    rows = unpack('>I', rows)[0]\n",
    "    cols = images.read(4)\n",
    "    cols = unpack('>I', cols)[0]\n",
    "\n",
    "    # Get metadata for labels\n",
    "    labels.read(4)\n",
    "    N = labels.read(4)\n",
    "    N = unpack('>I', N)[0]\n",
    "\n",
    "    # Get data\n",
    "    x = np.zeros((N, rows*cols), dtype=np.uint8)  # Initialize numpy array\n",
    "    y = np.zeros(N, dtype=np.uint8)  # Initialize numpy array\n",
    "    for i in range(N):\n",
    "        for j in range(rows*cols):\n",
    "            tmp_pixel = images.read(1)  # Just a single byte\n",
    "            tmp_pixel = unpack('>B', tmp_pixel)[0]\n",
    "            x[i][j] = tmp_pixel\n",
    "        tmp_label = labels.read(1)\n",
    "        y[i] = unpack('>B', tmp_label)[0]\n",
    "\n",
    "    images.close()\n",
    "    labels.close()\n",
    "    return (x, y)\n",
    "\n",
    "def displaychar(image):\n",
    "    plt.imshow(np.reshape(image, (28,28)), cmap=plt.cm.gray)\n",
    "    plt.axis('off')\n",
    "    #plt.show()"
   ]
  },
  {
   "cell_type": "code",
   "execution_count": 3,
   "metadata": {
    "collapsed": true
   },
   "outputs": [],
   "source": [
    "#loading training data\n",
    "train_img, train_lbl = loadmnist('train-images-idx3-ubyte', 'train-labels-idx1-ubyte')"
   ]
  },
  {
   "cell_type": "markdown",
   "metadata": {},
   "source": [
    "# A) Display The First Data Point"
   ]
  },
  {
   "cell_type": "code",
   "execution_count": 4,
   "metadata": {
    "collapsed": false
   },
   "outputs": [
    {
     "name": "stdout",
     "output_type": "stream",
     "text": [
      "Populating the interactive namespace from numpy and matplotlib\n"
     ]
    },
    {
     "name": "stderr",
     "output_type": "stream",
     "text": [
      "WARNING: pylab import has clobbered these variables: ['multivariate_normal', 'random', 'plt']\n",
      "`%matplotlib` prevents importing * from pylab and numpy\n"
     ]
    },
    {
     "data": {
      "image/png": "[encoded data removed]",
      "text/plain": [
       "<matplotlib.figure.Figure at 0x104260bd0>"
      ]
     },
     "metadata": {},
     "output_type": "display_data"
    }
   ],
   "source": [
    "#Display image\n",
    "%pylab inline\n",
    "displaychar(train_img[0])"
   ]
  },
  {
   "cell_type": "markdown",
   "metadata": {},
   "source": [
    "# B) Load the test data, split the training set into two pieces, Validation and Sampling"
   ]
  },
  {
   "cell_type": "code",
   "execution_count": 5,
   "metadata": {
    "collapsed": false
   },
   "outputs": [],
   "source": [
    "#load the test data\n",
    "test_img, test_lbl = loadmnist('t10k-images-idx3-ubyte', 't10k-labels-idx1-ubyte')"
   ]
  },
  {
   "cell_type": "code",
   "execution_count": 6,
   "metadata": {
    "collapsed": true
   },
   "outputs": [],
   "source": [
    "import random \n",
    "\n",
    "#Create random sample list of images and indexes\n",
    "\n",
    "sample_index=random.sample(range(len(train_img)),int(len(train_img)/6))\n",
    "sample_images=[train_img[i] for i in sample_index]\n",
    "sample_lbl=[train_lbl[i] for i in sample_index]"
   ]
  },
  {
   "cell_type": "code",
   "execution_count": 7,
   "metadata": {
    "collapsed": true
   },
   "outputs": [],
   "source": [
    "#Create lists for validation images and indexes\n",
    "\n",
    "valid_index=[i for i in range(len(train_img)) if i not in sample_index]\n",
    "val_images=[train_img[i] for i in valid_index]\n",
    "val_lbl=[train_lbl[i] for i in valid_index]"
   ]
  },
  {
   "cell_type": "code",
   "execution_count": 8,
   "metadata": {
    "collapsed": false
   },
   "outputs": [
    {
     "name": "stdout",
     "output_type": "stream",
     "text": [
      "10000\n"
     ]
    }
   ],
   "source": [
    "print len(sample_index)"
   ]
  },
  {
   "cell_type": "markdown",
   "metadata": {},
   "source": [
    "# C) Fit Gaussian generative model to the training data of 50,000 points"
   ]
  },
  {
   "cell_type": "code",
   "execution_count": 9,
   "metadata": {
    "collapsed": true
   },
   "outputs": [],
   "source": [
    "from __future__ import division\n",
    "def Gaussian_gen_classifier(sample_lbl, sample_images, val_lbl, val_images, c_value):\n",
    "    prob = []\n",
    "    for label in range(10):    \n",
    "        indices = [i for i,x in enumerate(sample_lbl) if x == label]\n",
    "        pi = len(indices)/len(sample_lbl)\n",
    "        images = [sample_images[i] for i in indices]\n",
    "        mean = np.mean(images, axis = 0)\n",
    "        cov = np.cov(np.transpose(images)) + (c_value*np.identity(784)) \n",
    "        func = scipy.stats.multivariate_normal(mean, cov)\n",
    "        prob.append(np.log(pi) + func.logpdf(val_images))\n",
    "    max_prob = np.argmax(prob, axis = 0)\n",
    "    error = np.sum([i!=j for i,j in zip(max_prob, val_lbl)])/len(val_lbl)\n",
    "    return error"
   ]
  },
  {
   "cell_type": "markdown",
   "metadata": {},
   "source": [
    "# Find best C value for C*I"
   ]
  },
  {
   "cell_type": "code",
   "execution_count": 11,
   "metadata": {
    "collapsed": false
   },
   "outputs": [
    {
     "name": "stdout",
     "output_type": "stream",
     "text": [
      "[3000, 4000, 5000, 6000]\n",
      "[0.050880000000000002, 0.050959999999999998, 0.051819999999999998, 0.053319999999999999]\n",
      "3000\n"
     ]
    }
   ],
   "source": [
    "#Find the best C value to use\n",
    "import scipy\n",
    "c_value = []\n",
    "err = []\n",
    "for i in range(3000, 7000, 1000):\n",
    "    err.append(Gaussian_gen_classifier(sample_lbl, sample_images, val_lbl, val_images,i))\n",
    "    c_value.append(i)\n",
    "best_c= c_value[np.argmin(err)]\n",
    "print c_value\n",
    "print err\n",
    "print best_c"
   ]
  },
  {
   "cell_type": "code",
   "execution_count": 12,
   "metadata": {
    "collapsed": false
   },
   "outputs": [
    {
     "name": "stdout",
     "output_type": "stream",
     "text": [
      "[3500, 3600, 3700, 3800, 3900, 4000, 4100, 4200, 4300, 4400]\n",
      "[0.050900000000000001, 0.050819999999999997, 0.050860000000000002, 0.050939999999999999, 0.050939999999999999, 0.050959999999999998, 0.051020000000000003, 0.051159999999999997, 0.051200000000000002, 0.051240000000000001]\n",
      "3600\n"
     ]
    }
   ],
   "source": [
    "c_value = []\n",
    "err = []\n",
    "for i in range(3500, 4500, 100):\n",
    "    err.append(Gaussian_gen_classifier(sample_lbl, sample_images, val_lbl, val_images,i))\n",
    "    c_value.append(i)\n",
    "best_c= c_value[np.argmin(err)]\n",
    "print c_value\n",
    "print err\n",
    "print best_c"
   ]
  },
  {
   "cell_type": "code",
   "execution_count": 13,
   "metadata": {
    "collapsed": false
   },
   "outputs": [
    {
     "name": "stdout",
     "output_type": "stream",
     "text": [
      "[3550, 3560, 3570, 3580, 3590, 3600]\n",
      "[0.050779999999999999, 0.050840000000000003, 0.050840000000000003, 0.050840000000000003, 0.050860000000000002, 0.050819999999999997]\n",
      "Best C Value 3550\n"
     ]
    }
   ],
   "source": [
    "# Third iteration for the best C value\n",
    "c_value = []\n",
    "err = []\n",
    "for i in range(3550, 3610, 10):\n",
    "    err.append(Gaussian_gen_classifier(sample_lbl, sample_images, val_lbl, val_images,i))\n",
    "    c_value.append(i)\n",
    "best_c= c_value[np.argmin(err)]\n",
    "print c_value\n",
    "print err\n",
    "print \"Best C Value\", best_c"
   ]
  },
  {
   "cell_type": "code",
   "execution_count": 14,
   "metadata": {
    "collapsed": false
   },
   "outputs": [
    {
     "name": "stdout",
     "output_type": "stream",
     "text": [
      "[3550, 3560, 3570, 3580, 3590, 3600]\n"
     ]
    }
   ],
   "source": [
    "check=[]\n",
    "for i in range(3550, 3610, 10):\n",
    "    check.append(i)\n",
    "print check"
   ]
  },
  {
   "cell_type": "markdown",
   "metadata": {},
   "source": [
    "# Using C Value of 3550 Classify Test Images and Check Error"
   ]
  },
  {
   "cell_type": "code",
   "execution_count": 15,
   "metadata": {
    "collapsed": false
   },
   "outputs": [
    {
     "name": "stdout",
     "output_type": "stream",
     "text": [
      "('Error Rate:\\t', 4.3799999999999999, '%')\n"
     ]
    }
   ],
   "source": [
    "error = Gaussian_gen_classifier(train_lbl, train_img, test_lbl, test_img, 3550)\n",
    "print('Error Rate:\\t',error*100,'%')"
   ]
  },
  {
   "cell_type": "code",
   "execution_count": 16,
   "metadata": {
    "collapsed": false
   },
   "outputs": [],
   "source": [
    "def error_list(sample_lbl, sample_images, val_lbl, val_images, c_value):\n",
    "\n",
    "    #copied function from above\n",
    "    prob = []\n",
    "    for label in range(10):    \n",
    "        indices = [i for i,x in enumerate(sample_lbl) if x == label]\n",
    "        pi = len(indices)/len(sample_lbl)\n",
    "        images = [sample_images[i] for i in indices]\n",
    "        mean = np.mean(images, axis = 0)\n",
    "        cov = np.cov(np.transpose(images)) + (c_value*np.identity(784)) \n",
    "        func = scipy.stats.multivariate_normal(mean, cov)\n",
    "        prob.append(np.log(pi) + func.logpdf(val_images))\n",
    "    max_prob = np.argmax(prob, axis = 0)\n",
    "    error = np.sum([i!=j for i,j in zip(max_prob, val_lbl)])/len(val_lbl)\n",
    "    label = []\n",
    "    image = []\n",
    "    probability = []\n",
    "    prob = np.matrix(prob)\n",
    "    for index in range(len(val_lbl)):\n",
    "        if val_lbl[index] != max_prob[index]:\n",
    "            image.append(val_images[index])\n",
    "            label.append(max_prob[index])\n",
    "            probability.append(prob[:, index])\n",
    "    return [image, label, probability]"
   ]
  },
  {
   "cell_type": "code",
   "execution_count": 17,
   "metadata": {
    "collapsed": false
   },
   "outputs": [],
   "source": [
    "[image, label, probability] = error_list(train_lbl, train_img, test_lbl, test_img, 3550)"
   ]
  },
  {
   "cell_type": "code",
   "execution_count": 18,
   "metadata": {
    "collapsed": false
   },
   "outputs": [
    {
     "data": {
      "text/plain": [
       "438"
      ]
     },
     "execution_count": 18,
     "metadata": {},
     "output_type": "execute_result"
    }
   ],
   "source": [
    "len(image)"
   ]
  },
  {
   "cell_type": "code",
   "execution_count": null,
   "metadata": {
    "collapsed": false
   },
   "outputs": [],
   "source": [
    "#error_list(train_lbl, train_img, test_lbl, test_img, 3550)"
   ]
  },
  {
   "cell_type": "markdown",
   "metadata": {},
   "source": [
    "# Display 5 Random Misclassified Digits "
   ]
  },
  {
   "cell_type": "code",
   "execution_count": 24,
   "metadata": {
    "collapsed": false
   },
   "outputs": [
    {
     "data": {
      "image/png": "[encoded data removed]",
      "text/plain": [
       "<matplotlib.figure.Figure at 0x11bf96390>"
      ]
     },
     "metadata": {},
     "output_type": "display_data"
    }
   ],
   "source": [
    "#Display misclassified images with predicted labels\n",
    "index = 0\n",
    "plt.figure(figsize=(10,5))\n",
    "for img, lbl in zip(image[200:205], label[200:205]):\n",
    "    index += 1\n",
    "    plt.subplot(1, 6, index)\n",
    "    displaychar(img)\n",
    "    plt.title('%i' % lbl, fontsize = 18)"
   ]
  },
  {
   "cell_type": "code",
   "execution_count": null,
   "metadata": {
    "collapsed": true
   },
   "outputs": [],
   "source": []
  }
 ],
 "metadata": {
  "kernelspec": {
   "display_name": "Python 2",
   "language": "python",
   "name": "python2"
  },
  "language_info": {
   "codemirror_mode": {
    "name": "ipython",
    "version": 2
   },
   "file_extension": ".py",
   "mimetype": "text/x-python",
   "name": "python",
   "nbconvert_exporter": "python",
   "pygments_lexer": "ipython2",
   "version": "2.7.11"
  }
 },
 "nbformat": 4,
 "nbformat_minor": 0
}
