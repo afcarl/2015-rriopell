{
 "cells": [
  {
   "cell_type": "code",
   "execution_count": 1,
   "metadata": {
    "collapsed": true
   },
   "outputs": [],
   "source": [
    "from pylab import rcParams\n",
    "import pandas as pd\n",
    "import pylab as pl\n",
    "import matplotlib.pyplot as plt\n",
    "%matplotlib inline\n",
    "import numpy as np\n",
    "from scipy.cluster.hierarchy import dendrogram, linkage\n",
    "from sklearn.decomposition import PCA\n",
    "from sklearn.cluster import KMeans"
   ]
  },
  {
   "cell_type": "code",
   "execution_count": 2,
   "metadata": {
    "collapsed": false
   },
   "outputs": [
    {
     "name": "stdout",
     "output_type": "stream",
     "text": [
      "\u001b[34mFeatures\u001b[m\u001b[m/                        predicate-matrix-continuous.txt\r\n",
      "README-attributes.txt            predicate-matrix.png\r\n",
      "Untitled.ipynb                   predicates.txt\r\n",
      "Untitled1.ipynb                  temp.py\r\n",
      "Untitled2.ipynb                  testclasses.txt\r\n",
      "classes.txt                      trainclasses.txt\r\n",
      "lampert-cvpr2009.pdf             worksheet7_clustering.py\r\n",
      "predicate-matrix-binary.txt\r\n"
     ]
    }
   ],
   "source": [
    "ls"
   ]
  },
  {
   "cell_type": "code",
   "execution_count": 3,
   "metadata": {
    "collapsed": true
   },
   "outputs": [],
   "source": [
    "features = [i for i in range(1,86)]\n",
    "predicates = pd.read_csv('predicates.txt', delimiter='\\t', names=['id','feature'])\n",
    "classes = pd.read_csv('classes.txt', delimiter='\\t', names=['id','animal'])\n",
    "continuous = pd.read_fwf('predicate-matrix-continuous.txt', names=features)"
   ]
  },
  {
   "cell_type": "code",
   "execution_count": 4,
   "metadata": {
    "collapsed": false
   },
   "outputs": [
    {
     "data": {
      "text/html": [
       "<div>\n",
       "<table border=\"1\" class=\"dataframe\">\n",
       "  <thead>\n",
       "    <tr style=\"text-align: right;\">\n",
       "      <th></th>\n",
       "      <th>1</th>\n",
       "      <th>2</th>\n",
       "      <th>3</th>\n",
       "      <th>4</th>\n",
       "      <th>5</th>\n",
       "      <th>6</th>\n",
       "      <th>7</th>\n",
       "      <th>8</th>\n",
       "      <th>9</th>\n",
       "      <th>10</th>\n",
       "      <th>...</th>\n",
       "      <th>76</th>\n",
       "      <th>77</th>\n",
       "      <th>78</th>\n",
       "      <th>79</th>\n",
       "      <th>80</th>\n",
       "      <th>81</th>\n",
       "      <th>82</th>\n",
       "      <th>83</th>\n",
       "      <th>84</th>\n",
       "      <th>85</th>\n",
       "    </tr>\n",
       "  </thead>\n",
       "  <tbody>\n",
       "    <tr>\n",
       "      <th>0</th>\n",
       "      <td>-1.00</td>\n",
       "      <td>-1.00</td>\n",
       "      <td>-1</td>\n",
       "      <td>-1.00</td>\n",
       "      <td>12.34</td>\n",
       "      <td>0</td>\n",
       "      <td>0</td>\n",
       "      <td>0</td>\n",
       "      <td>16.11</td>\n",
       "      <td>9.19</td>\n",
       "      <td>...</td>\n",
       "      <td>0.00</td>\n",
       "      <td>0.00</td>\n",
       "      <td>1.23</td>\n",
       "      <td>10.49</td>\n",
       "      <td>39.24</td>\n",
       "      <td>17.57</td>\n",
       "      <td>50.59</td>\n",
       "      <td>2.35</td>\n",
       "      <td>9.70</td>\n",
       "      <td>8.38</td>\n",
       "    </tr>\n",
       "    <tr>\n",
       "      <th>1</th>\n",
       "      <td>39.25</td>\n",
       "      <td>1.39</td>\n",
       "      <td>0</td>\n",
       "      <td>74.14</td>\n",
       "      <td>3.75</td>\n",
       "      <td>0</td>\n",
       "      <td>0</td>\n",
       "      <td>0</td>\n",
       "      <td>1.25</td>\n",
       "      <td>0.00</td>\n",
       "      <td>...</td>\n",
       "      <td>7.64</td>\n",
       "      <td>9.79</td>\n",
       "      <td>53.14</td>\n",
       "      <td>61.80</td>\n",
       "      <td>12.50</td>\n",
       "      <td>24.00</td>\n",
       "      <td>3.12</td>\n",
       "      <td>58.64</td>\n",
       "      <td>20.14</td>\n",
       "      <td>11.39</td>\n",
       "    </tr>\n",
       "    <tr>\n",
       "      <th>2</th>\n",
       "      <td>83.40</td>\n",
       "      <td>64.79</td>\n",
       "      <td>0</td>\n",
       "      <td>0.00</td>\n",
       "      <td>1.25</td>\n",
       "      <td>0</td>\n",
       "      <td>0</td>\n",
       "      <td>0</td>\n",
       "      <td>68.49</td>\n",
       "      <td>32.69</td>\n",
       "      <td>...</td>\n",
       "      <td>79.49</td>\n",
       "      <td>0.00</td>\n",
       "      <td>0.00</td>\n",
       "      <td>38.27</td>\n",
       "      <td>9.77</td>\n",
       "      <td>52.03</td>\n",
       "      <td>24.94</td>\n",
       "      <td>15.77</td>\n",
       "      <td>13.41</td>\n",
       "      <td>15.42</td>\n",
       "    </tr>\n",
       "    <tr>\n",
       "      <th>3</th>\n",
       "      <td>19.38</td>\n",
       "      <td>0.00</td>\n",
       "      <td>0</td>\n",
       "      <td>87.81</td>\n",
       "      <td>7.50</td>\n",
       "      <td>0</td>\n",
       "      <td>0</td>\n",
       "      <td>0</td>\n",
       "      <td>0.00</td>\n",
       "      <td>7.50</td>\n",
       "      <td>...</td>\n",
       "      <td>65.62</td>\n",
       "      <td>0.00</td>\n",
       "      <td>0.00</td>\n",
       "      <td>3.75</td>\n",
       "      <td>31.88</td>\n",
       "      <td>41.88</td>\n",
       "      <td>23.44</td>\n",
       "      <td>31.88</td>\n",
       "      <td>33.44</td>\n",
       "      <td>13.12</td>\n",
       "    </tr>\n",
       "    <tr>\n",
       "      <th>4</th>\n",
       "      <td>69.58</td>\n",
       "      <td>73.33</td>\n",
       "      <td>0</td>\n",
       "      <td>6.39</td>\n",
       "      <td>0.00</td>\n",
       "      <td>0</td>\n",
       "      <td>0</td>\n",
       "      <td>0</td>\n",
       "      <td>37.08</td>\n",
       "      <td>100.00</td>\n",
       "      <td>...</td>\n",
       "      <td>1.25</td>\n",
       "      <td>6.25</td>\n",
       "      <td>0.00</td>\n",
       "      <td>9.38</td>\n",
       "      <td>31.67</td>\n",
       "      <td>53.26</td>\n",
       "      <td>24.44</td>\n",
       "      <td>29.38</td>\n",
       "      <td>11.25</td>\n",
       "      <td>72.71</td>\n",
       "    </tr>\n",
       "  </tbody>\n",
       "</table>\n",
       "<p>5 rows × 85 columns</p>\n",
       "</div>"
      ],
      "text/plain": [
       "      1      2   3      4      5   6   7   8      9       10  ...       76  \\\n",
       "0  -1.00  -1.00  -1  -1.00  12.34   0   0   0  16.11    9.19  ...     0.00   \n",
       "1  39.25   1.39   0  74.14   3.75   0   0   0   1.25    0.00  ...     7.64   \n",
       "2  83.40  64.79   0   0.00   1.25   0   0   0  68.49   32.69  ...    79.49   \n",
       "3  19.38   0.00   0  87.81   7.50   0   0   0   0.00    7.50  ...    65.62   \n",
       "4  69.58  73.33   0   6.39   0.00   0   0   0  37.08  100.00  ...     1.25   \n",
       "\n",
       "     77     78     79     80     81     82     83     84     85  \n",
       "0  0.00   1.23  10.49  39.24  17.57  50.59   2.35   9.70   8.38  \n",
       "1  9.79  53.14  61.80  12.50  24.00   3.12  58.64  20.14  11.39  \n",
       "2  0.00   0.00  38.27   9.77  52.03  24.94  15.77  13.41  15.42  \n",
       "3  0.00   0.00   3.75  31.88  41.88  23.44  31.88  33.44  13.12  \n",
       "4  6.25   0.00   9.38  31.67  53.26  24.44  29.38  11.25  72.71  \n",
       "\n",
       "[5 rows x 85 columns]"
      ]
     },
     "execution_count": 4,
     "metadata": {},
     "output_type": "execute_result"
    }
   ],
   "source": [
    "continuous.head()"
   ]
  },
  {
   "cell_type": "code",
   "execution_count": 5,
   "metadata": {
    "collapsed": false
   },
   "outputs": [
    {
     "ename": "NameError",
     "evalue": "name 'decomposition' is not defined",
     "output_type": "error",
     "traceback": [
      "\u001b[0;31m---------------------------------------------------------------------------\u001b[0m",
      "\u001b[0;31mNameError\u001b[0m                                 Traceback (most recent call last)",
      "\u001b[0;32m<ipython-input-5-cf80f791dcb9>\u001b[0m in \u001b[0;36m<module>\u001b[0;34m()\u001b[0m\n\u001b[0;32m----> 1\u001b[0;31m \u001b[0mpca\u001b[0m \u001b[0;34m=\u001b[0m \u001b[0mdecomposition\u001b[0m\u001b[0;34m.\u001b[0m\u001b[0mPCA\u001b[0m\u001b[0;34m(\u001b[0m\u001b[0mn_components\u001b[0m\u001b[0;34m=\u001b[0m\u001b[0;36m2\u001b[0m\u001b[0;34m)\u001b[0m\u001b[0;34m\u001b[0m\u001b[0m\n\u001b[0m\u001b[1;32m      2\u001b[0m \u001b[0mpca\u001b[0m\u001b[0;34m.\u001b[0m\u001b[0mfit\u001b[0m\u001b[0;34m(\u001b[0m\u001b[0mcontinuous\u001b[0m\u001b[0;34m.\u001b[0m\u001b[0mvalues\u001b[0m\u001b[0;34m)\u001b[0m\u001b[0;34m\u001b[0m\u001b[0m\n\u001b[1;32m      3\u001b[0m \u001b[0mX\u001b[0m \u001b[0;34m=\u001b[0m \u001b[0mpca\u001b[0m\u001b[0;34m.\u001b[0m\u001b[0mtransform\u001b[0m\u001b[0;34m(\u001b[0m\u001b[0mcontinuous\u001b[0m\u001b[0;34m.\u001b[0m\u001b[0mvalues\u001b[0m\u001b[0;34m)\u001b[0m\u001b[0;34m\u001b[0m\u001b[0m\n",
      "\u001b[0;31mNameError\u001b[0m: name 'decomposition' is not defined"
     ]
    }
   ],
   "source": [
    "pca = decomposition.PCA(n_components=2)\n",
    "pca.fit(continuous.values)\n",
    "X = pca.transform(continuous.values)"
   ]
  },
  {
   "cell_type": "code",
   "execution_count": null,
   "metadata": {
    "collapsed": true
   },
   "outputs": [],
   "source": []
  }
 ],
 "metadata": {
  "kernelspec": {
   "display_name": "Python 2",
   "language": "python",
   "name": "python2"
  },
  "language_info": {
   "codemirror_mode": {
    "name": "ipython",
    "version": 2
   },
   "file_extension": ".py",
   "mimetype": "text/x-python",
   "name": "python",
   "nbconvert_exporter": "python",
   "pygments_lexer": "ipython2",
   "version": "2.7.11"
  }
 },
 "nbformat": 4,
 "nbformat_minor": 0
}
