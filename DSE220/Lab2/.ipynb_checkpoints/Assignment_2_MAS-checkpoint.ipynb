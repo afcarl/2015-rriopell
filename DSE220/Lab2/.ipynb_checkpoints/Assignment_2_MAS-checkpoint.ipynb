{
 "cells": [
  {
   "cell_type": "markdown",
   "metadata": {},
   "source": [
    "Assignnement 2: Prediction and Classification\n",
    "\n",
    "Due: Thursday, April 30, 2015 11:59 PM\n"
   ]
  },
  {
   "cell_type": "markdown",
   "metadata": {},
   "source": [
    "# Introduction\n",
    "Problem 1 is optional - for extra credit!\n",
    "Problems 2 and 3 will be graded for the Lab 2.  \n",
    "\n",
    "\n",
    "In this assignment you will be using regression and classification to explore different data sets.  \n",
    "\n",
    "**First**: You will use data from before 2002 in the [Sean Lahman's Baseball Database](http://seanlahman.com/baseball-archive/statistics) to create a metric for picking baseball players using linear regression.  This database contains the \"complete batting and pitching statistics from 1871 to 2013, plus fielding statistics, standings, team stats, managerial records, post-season data, and more\". [Documentation provided here](http://seanlahman.com/files/database/readme2012.txt).\n",
    "\n",
    "![\"Sabermetrics Science\"](http://saberseminar.com/wp-content/uploads/2012/01/saber-web.jpg)\n",
    "http://saberseminar.com/wp-content/uploads/2012/01/saber-web.jpg\n",
    "\n",
    "**Second**: You will use the famous [iris](http://en.wikipedia.org/wiki/Iris_flower_data_set) data set to perform a $k$-neareast neighbor classification using cross validation.  While it was introduced in 1936, it is still [one of the most popular](http://archive.ics.uci.edu/ml/) example data sets in the machine learning community. Wikipedia describes the data set as follows: \"The data set consists of 50 samples from each of three species of Iris (Iris setosa, Iris virginica and Iris versicolor). Four features were measured from each sample: the length and the width of the sepals and petals, in centimetres.\" Here is an illustration what the four features measure:\n",
    "\n",
    "![\"iris data features\"](http://sebastianraschka.com/Images/2014_python_lda/iris_petal_sepal.png)\n",
    "http://sebastianraschka.com/Images/2014_python_lda/iris_petal_sepal.png\n",
    "\n",
    "**Third**: You will investigate the influence of higher dimensional spaces on the classification using another standard data set in machine learning called the The [digits data set](http://scikit-learn.org/stable/modules/generated/sklearn.datasets.load_digits.html).   Each digit is represented by an 8x8 pixel image patch. In addition, the gray values are restricted to 16 different values (4 bit). \n",
    "\n"
   ]
  },
  {
   "cell_type": "markdown",
   "metadata": {},
   "source": [
    "## Load Python modules"
   ]
  },
  {
   "cell_type": "code",
   "execution_count": 1,
   "metadata": {
    "collapsed": false
   },
   "outputs": [],
   "source": [
    "# prepare the notebook for matplotlib\n",
    "%matplotlib inline \n",
    "\n",
    "import requests \n",
    "import StringIO\n",
    "import zipfile\n",
    "import numpy as np\n",
    "import pandas as pd # pandas\n",
    "import matplotlib.pyplot as plt # module for plotting \n",
    "\n",
    "# If this module is not already installed, you may need to install it. \n",
    "# You can do this by typing 'pip install seaborn' in the command line\n",
    "import seaborn as sns \n",
    "\n",
    "import sklearn\n",
    "import sklearn.datasets\n",
    "import sklearn.cross_validation\n",
    "import sklearn.decomposition\n",
    "import sklearn.grid_search\n",
    "import sklearn.neighbors\n",
    "import sklearn.metrics"
   ]
  },
  {
   "cell_type": "markdown",
   "metadata": {},
   "source": [
    "# Problem 1: Sabermetrics\n",
    "\n",
    "Using data preceding the 2002 season pick 10 offensive players keeping the payroll under $20 million (assign each player the median salary). Predict how many games this team would win in a 162 game season.  \n",
    "\n",
    "In this problem we will be returning to the [Sean Lahman's Baseball Database](http://seanlahman.com/baseball-archive/statistics).  From this database, we will be extract five data sets containing information such as yearly stats and standing, batting statistics, fielding statistics, player names, player salaries and biographical information. You will explore the data in this database from before 2002 and create a metric for picking players. "
   ]
  },
  {
   "cell_type": "markdown",
   "metadata": {},
   "source": [
    "#### Problem 1(a) \n",
    "\n",
    "Load in [these CSV files](http://seanlahman.com/files/database/lahman-csv_2014-02-14.zip) from the [Sean Lahman's Baseball Database](http://seanlahman.com/baseball-archive/statistics). For this assignment, we will use the 'Teams.csv', 'Batting.csv', 'Salaries.csv', 'Fielding.csv', 'Master.csv' tables. Read these tables into separate pandas DataFrames with the following names. \n",
    "\n",
    "CSV file name | Name of pandas DataFrame\n",
    ":---: | :---: \n",
    "Teams.csv | teams\n",
    "Batting.csv | players\n",
    "Salaries.csv | salaries\n",
    "Fielding.csv | fielding\n",
    "Master.csv | master"
   ]
  },
  {
   "cell_type": "markdown",
   "metadata": {},
   "source": [
    "#### Problem 1(b)\n",
    "\n",
    "Calculate the median salary for each player and create a pandas DataFrame called `medianSalaries` with four columns: (1) the player ID, (2) the first name of the player, (3) the last name of the player and (4) the median salary of the player. Show the head of the `medianSalaries` DataFrame.   "
   ]
  },
  {
   "cell_type": "code",
   "execution_count": 2,
   "metadata": {
    "collapsed": false
   },
   "outputs": [],
   "source": [
    "file_location='./lahman-csv_2014-02-14/'\n",
    "teams=pd.read_csv(file_location+'Teams.csv')\n",
    "players= pd.read_csv(file_location+'Batting.csv')\n",
    "salaries= pd.read_csv(file_location+'Salaries.csv')\n",
    "fielding= pd.read_csv(file_location+'Fielding.csv')\n",
    "master= pd.read_csv(file_location+'Master.csv')"
   ]
  },
  {
   "cell_type": "code",
   "execution_count": 3,
   "metadata": {
    "collapsed": false
   },
   "outputs": [
    {
     "data": {
      "text/html": [
       "<div>\n",
       "<table border=\"1\" class=\"dataframe\">\n",
       "  <thead>\n",
       "    <tr style=\"text-align: right;\">\n",
       "      <th></th>\n",
       "      <th>playerID</th>\n",
       "      <th>nameFirst</th>\n",
       "      <th>nameLast</th>\n",
       "      <th>salary</th>\n",
       "    </tr>\n",
       "  </thead>\n",
       "  <tbody>\n",
       "    <tr>\n",
       "      <th>0</th>\n",
       "      <td>aardsda01</td>\n",
       "      <td>David</td>\n",
       "      <td>Aardsma</td>\n",
       "      <td>419000.0</td>\n",
       "    </tr>\n",
       "    <tr>\n",
       "      <th>1</th>\n",
       "      <td>aaronha01</td>\n",
       "      <td>Hank</td>\n",
       "      <td>Aaron</td>\n",
       "      <td>NaN</td>\n",
       "    </tr>\n",
       "    <tr>\n",
       "      <th>2</th>\n",
       "      <td>aaronto01</td>\n",
       "      <td>Tommie</td>\n",
       "      <td>Aaron</td>\n",
       "      <td>NaN</td>\n",
       "    </tr>\n",
       "    <tr>\n",
       "      <th>3</th>\n",
       "      <td>aasedo01</td>\n",
       "      <td>Don</td>\n",
       "      <td>Aase</td>\n",
       "      <td>612500.0</td>\n",
       "    </tr>\n",
       "    <tr>\n",
       "      <th>4</th>\n",
       "      <td>abadan01</td>\n",
       "      <td>Andy</td>\n",
       "      <td>Abad</td>\n",
       "      <td>327000.0</td>\n",
       "    </tr>\n",
       "  </tbody>\n",
       "</table>\n",
       "</div>"
      ],
      "text/plain": [
       "    playerID nameFirst nameLast    salary\n",
       "0  aardsda01     David  Aardsma  419000.0\n",
       "1  aaronha01      Hank    Aaron       NaN\n",
       "2  aaronto01    Tommie    Aaron       NaN\n",
       "3   aasedo01       Don     Aase  612500.0\n",
       "4   abadan01      Andy     Abad  327000.0"
      ]
     },
     "execution_count": 3,
     "metadata": {},
     "output_type": "execute_result"
    }
   ],
   "source": [
    "# Get (1)the player ID,(2) the first name of the player, (3) the last name of the player(4)the median salary of the player\n",
    "#get the median salary\n",
    "pd=salaries.groupby(['playerID']).median().salary\n",
    "pd=pd.to_frame()\n",
    "#join to names on player ID\n",
    "median_salary=master.loc[:,['playerID','nameFirst', 'nameLast']].join(pd, on='playerID')\n",
    "median_salary.head()"
   ]
  },
  {
   "cell_type": "markdown",
   "metadata": {},
   "source": [
    "#### Problem 1(c)\n",
    "\n",
    "Now, consider only team/season combinations in which the teams played 162 Games. Exclude all data from before 1947. Compute the per plate appearance rates for singles, doubles, triples, HR, and BB. Create a new pandas DataFrame called `stats` that has the teamID, yearID, wins and these rates.\n",
    "\n",
    "**Hint**: Singles are hits that are not doubles, triples, nor HR. Plate appearances are base on balls plus at bats."
   ]
  },
  {
   "cell_type": "code",
   "execution_count": 4,
   "metadata": {
    "collapsed": false
   },
   "outputs": [
    {
     "data": {
      "text/plain": [
       "Index([u'yearID', u'lgID', u'teamID', u'franchID', u'divID', u'Rank', u'G',\n",
       "       u'Ghome', u'W', u'L', u'DivWin', u'WCWin', u'LgWin', u'WSWin', u'R',\n",
       "       u'AB', u'H', u'2B', u'3B', u'HR', u'BB', u'SO', u'SB', u'CS', u'HBP',\n",
       "       u'SF', u'RA', u'ER', u'ERA', u'CG', u'SHO', u'SV', u'IPouts', u'HA',\n",
       "       u'HRA', u'BBA', u'SOA', u'E', u'DP', u'FP', u'name', u'park',\n",
       "       u'attendance', u'BPF', u'PPF', u'teamIDBR', u'teamIDlahman45',\n",
       "       u'teamIDretro'],\n",
       "      dtype='object')"
      ]
     },
     "execution_count": 4,
     "metadata": {},
     "output_type": "execute_result"
    }
   ],
   "source": [
    "teams.columns"
   ]
  },
  {
   "cell_type": "code",
   "execution_count": 5,
   "metadata": {
    "collapsed": false
   },
   "outputs": [
    {
     "data": {
      "text/html": [
       "<div>\n",
       "<table border=\"1\" class=\"dataframe\">\n",
       "  <thead>\n",
       "    <tr style=\"text-align: right;\">\n",
       "      <th></th>\n",
       "      <th>teamID</th>\n",
       "      <th>yearID</th>\n",
       "      <th>W</th>\n",
       "      <th>1B</th>\n",
       "      <th>2B</th>\n",
       "      <th>3B</th>\n",
       "      <th>HR</th>\n",
       "      <th>BB</th>\n",
       "      <th>AB</th>\n",
       "    </tr>\n",
       "  </thead>\n",
       "  <tbody>\n",
       "    <tr>\n",
       "      <th>1</th>\n",
       "      <td>ANA</td>\n",
       "      <td>1997</td>\n",
       "      <td>84</td>\n",
       "      <td>0.200480</td>\n",
       "      <td>0.044676</td>\n",
       "      <td>0.004003</td>\n",
       "      <td>0.025781</td>\n",
       "      <td>0.098799</td>\n",
       "      <td>6245</td>\n",
       "    </tr>\n",
       "    <tr>\n",
       "      <th>2</th>\n",
       "      <td>ANA</td>\n",
       "      <td>1998</td>\n",
       "      <td>85</td>\n",
       "      <td>0.198046</td>\n",
       "      <td>0.051140</td>\n",
       "      <td>0.004397</td>\n",
       "      <td>0.023941</td>\n",
       "      <td>0.083062</td>\n",
       "      <td>6140</td>\n",
       "    </tr>\n",
       "    <tr>\n",
       "      <th>3</th>\n",
       "      <td>ANA</td>\n",
       "      <td>1999</td>\n",
       "      <td>70</td>\n",
       "      <td>0.192506</td>\n",
       "      <td>0.041299</td>\n",
       "      <td>0.003664</td>\n",
       "      <td>0.026311</td>\n",
       "      <td>0.085096</td>\n",
       "      <td>6005</td>\n",
       "    </tr>\n",
       "    <tr>\n",
       "      <th>4</th>\n",
       "      <td>ANA</td>\n",
       "      <td>2000</td>\n",
       "      <td>82</td>\n",
       "      <td>0.202854</td>\n",
       "      <td>0.049551</td>\n",
       "      <td>0.005452</td>\n",
       "      <td>0.037845</td>\n",
       "      <td>0.097498</td>\n",
       "      <td>6236</td>\n",
       "    </tr>\n",
       "    <tr>\n",
       "      <th>5</th>\n",
       "      <td>ANA</td>\n",
       "      <td>2001</td>\n",
       "      <td>75</td>\n",
       "      <td>0.193879</td>\n",
       "      <td>0.045492</td>\n",
       "      <td>0.004301</td>\n",
       "      <td>0.026137</td>\n",
       "      <td>0.081720</td>\n",
       "      <td>6045</td>\n",
       "    </tr>\n",
       "  </tbody>\n",
       "</table>\n",
       "</div>"
      ],
      "text/plain": [
       "  teamID  yearID   W        1B        2B        3B        HR        BB    AB\n",
       "1    ANA    1997  84  0.200480  0.044676  0.004003  0.025781  0.098799  6245\n",
       "2    ANA    1998  85  0.198046  0.051140  0.004397  0.023941  0.083062  6140\n",
       "3    ANA    1999  70  0.192506  0.041299  0.003664  0.026311  0.085096  6005\n",
       "4    ANA    2000  82  0.202854  0.049551  0.005452  0.037845  0.097498  6236\n",
       "5    ANA    2001  75  0.193879  0.045492  0.004301  0.026137  0.081720  6045"
      ]
     },
     "execution_count": 5,
     "metadata": {},
     "output_type": "execute_result"
    }
   ],
   "source": [
    "# Get cont for games per year per team\n",
    "df=teams.groupby(['teamID','yearID','G']).sum().reset_index()\n",
    "#select years after 1947\n",
    "df=df[df.yearID>1947]\n",
    "#select rows where games = 162\n",
    "df=df[df.G==162]\n",
    "#per plate appearence singles, doubles, triples, HR, and BB\n",
    "df['1B']=df.loc[:,['H']].subtract(df.loc[:,['2B']].values)\n",
    "\n",
    "#df.loc(:,['teamID','yearID','wins'])\n",
    "stats=df.loc[:,['teamID','yearID','W','1B','2B','3B','HR','BB','AB']]\n",
    "stats['AB']=stats['AB']+df['BB']\n",
    "stats['1B']=stats['1B']/stats['AB']\n",
    "stats['2B']=stats['2B']/stats['AB']\n",
    "stats['3B']=stats['3B']/stats['AB']\n",
    "stats['HR']=stats['HR']/stats['AB']\n",
    "stats['BB']=stats['BB']/stats['AB']\n",
    "#stats=stats.iloc[:,0:7] Dont remove the AB for next steps\n",
    "stats.head()"
   ]
  },
  {
   "cell_type": "markdown",
   "metadata": {},
   "source": [
    "#### Problem 1(d)\n",
    "\n",
    "Is there a noticeable time trend in the rates computed computed in Problem 1(c)? "
   ]
  },
  {
   "cell_type": "code",
   "execution_count": 6,
   "metadata": {
    "collapsed": false
   },
   "outputs": [
    {
     "data": {
      "text/html": [
       "<div>\n",
       "<table border=\"1\" class=\"dataframe\">\n",
       "  <thead>\n",
       "    <tr style=\"text-align: right;\">\n",
       "      <th></th>\n",
       "      <th>yearID</th>\n",
       "      <th>1B</th>\n",
       "      <th>2B</th>\n",
       "      <th>3B</th>\n",
       "      <th>HR</th>\n",
       "      <th>BB</th>\n",
       "    </tr>\n",
       "  </thead>\n",
       "  <tbody>\n",
       "    <tr>\n",
       "      <th>0</th>\n",
       "      <td>1961</td>\n",
       "      <td>0.184941</td>\n",
       "      <td>0.035845</td>\n",
       "      <td>0.005717</td>\n",
       "      <td>0.022975</td>\n",
       "      <td>0.104083</td>\n",
       "    </tr>\n",
       "    <tr>\n",
       "      <th>1</th>\n",
       "      <td>1962</td>\n",
       "      <td>0.196221</td>\n",
       "      <td>0.035853</td>\n",
       "      <td>0.006777</td>\n",
       "      <td>0.023811</td>\n",
       "      <td>0.088590</td>\n",
       "    </tr>\n",
       "    <tr>\n",
       "      <th>2</th>\n",
       "      <td>1963</td>\n",
       "      <td>0.190617</td>\n",
       "      <td>0.034020</td>\n",
       "      <td>0.006896</td>\n",
       "      <td>0.021254</td>\n",
       "      <td>0.080336</td>\n",
       "    </tr>\n",
       "    <tr>\n",
       "      <th>3</th>\n",
       "      <td>1964</td>\n",
       "      <td>0.195546</td>\n",
       "      <td>0.036336</td>\n",
       "      <td>0.006748</td>\n",
       "      <td>0.021548</td>\n",
       "      <td>0.079152</td>\n",
       "    </tr>\n",
       "    <tr>\n",
       "      <th>4</th>\n",
       "      <td>1965</td>\n",
       "      <td>0.189269</td>\n",
       "      <td>0.035539</td>\n",
       "      <td>0.006534</td>\n",
       "      <td>0.022693</td>\n",
       "      <td>0.085745</td>\n",
       "    </tr>\n",
       "  </tbody>\n",
       "</table>\n",
       "</div>"
      ],
      "text/plain": [
       "   yearID        1B        2B        3B        HR        BB\n",
       "0    1961  0.184941  0.035845  0.005717  0.022975  0.104083\n",
       "1    1962  0.196221  0.035853  0.006777  0.023811  0.088590\n",
       "2    1963  0.190617  0.034020  0.006896  0.021254  0.080336\n",
       "3    1964  0.195546  0.036336  0.006748  0.021548  0.079152\n",
       "4    1965  0.189269  0.035539  0.006534  0.022693  0.085745"
      ]
     },
     "execution_count": 6,
     "metadata": {},
     "output_type": "execute_result"
    },
    {
     "data": {
      "image/png": "[encoded data removed]",
      "text/plain": [
       "<matplotlib.figure.Figure at 0x102b045d0>"
      ]
     },
     "metadata": {},
     "output_type": "display_data"
    }
   ],
   "source": [
    "### Your code here ###\n",
    "time_trend=stats.groupby('yearID').mean().reset_index()\n",
    "time_trend=time_trend.iloc[:,[0,2,3,4,5,6]]\n",
    "time_trend.plot.line(x='yearID')\n",
    "plt.xlabel('On Base Rates')\n",
    "plt.ylabel('Rates')\n",
    "plt.title('Years')\n",
    "time_trend.head()"
   ]
  },
  {
   "cell_type": "markdown",
   "metadata": {},
   "source": [
    "#### Problem 1(e) \n",
    "\n",
    "Using the `stats` DataFrame from Problem 1(c), adjust the singles per PA rates so that the average across teams for each year is 0. Do the same for the doubles, triples, HR, and BB rates. "
   ]
  },
  {
   "cell_type": "code",
   "execution_count": 7,
   "metadata": {
    "collapsed": false
   },
   "outputs": [
    {
     "data": {
      "text/html": [
       "<div>\n",
       "<table border=\"1\" class=\"dataframe\">\n",
       "  <thead>\n",
       "    <tr style=\"text-align: right;\">\n",
       "      <th></th>\n",
       "      <th>yearID</th>\n",
       "      <th>1B_Mean</th>\n",
       "      <th>2B_Mean</th>\n",
       "      <th>3B_Mean</th>\n",
       "      <th>HR_Mean</th>\n",
       "      <th>BB_Mean</th>\n",
       "    </tr>\n",
       "  </thead>\n",
       "  <tbody>\n",
       "    <tr>\n",
       "      <th>0</th>\n",
       "      <td>1961</td>\n",
       "      <td>0.184941</td>\n",
       "      <td>0.035845</td>\n",
       "      <td>0.005717</td>\n",
       "      <td>0.022975</td>\n",
       "      <td>0.104083</td>\n",
       "    </tr>\n",
       "    <tr>\n",
       "      <th>1</th>\n",
       "      <td>1962</td>\n",
       "      <td>0.196221</td>\n",
       "      <td>0.035853</td>\n",
       "      <td>0.006777</td>\n",
       "      <td>0.023811</td>\n",
       "      <td>0.088590</td>\n",
       "    </tr>\n",
       "    <tr>\n",
       "      <th>2</th>\n",
       "      <td>1963</td>\n",
       "      <td>0.190617</td>\n",
       "      <td>0.034020</td>\n",
       "      <td>0.006896</td>\n",
       "      <td>0.021254</td>\n",
       "      <td>0.080336</td>\n",
       "    </tr>\n",
       "    <tr>\n",
       "      <th>3</th>\n",
       "      <td>1964</td>\n",
       "      <td>0.195546</td>\n",
       "      <td>0.036336</td>\n",
       "      <td>0.006748</td>\n",
       "      <td>0.021548</td>\n",
       "      <td>0.079152</td>\n",
       "    </tr>\n",
       "    <tr>\n",
       "      <th>4</th>\n",
       "      <td>1965</td>\n",
       "      <td>0.189269</td>\n",
       "      <td>0.035539</td>\n",
       "      <td>0.006534</td>\n",
       "      <td>0.022693</td>\n",
       "      <td>0.085745</td>\n",
       "    </tr>\n",
       "  </tbody>\n",
       "</table>\n",
       "</div>"
      ],
      "text/plain": [
       "   yearID   1B_Mean   2B_Mean   3B_Mean   HR_Mean   BB_Mean\n",
       "0    1961  0.184941  0.035845  0.005717  0.022975  0.104083\n",
       "1    1962  0.196221  0.035853  0.006777  0.023811  0.088590\n",
       "2    1963  0.190617  0.034020  0.006896  0.021254  0.080336\n",
       "3    1964  0.195546  0.036336  0.006748  0.021548  0.079152\n",
       "4    1965  0.189269  0.035539  0.006534  0.022693  0.085745"
      ]
     },
     "execution_count": 7,
     "metadata": {},
     "output_type": "execute_result"
    }
   ],
   "source": [
    "#Rename to and format for join\n",
    "time_trend.columns=['yearID','1B_Mean','2B_Mean','3B_Mean','HR_Mean', 'BB_Mean']\n",
    "time_trend.head()"
   ]
  },
  {
   "cell_type": "code",
   "execution_count": 8,
   "metadata": {
    "collapsed": false
   },
   "outputs": [],
   "source": [
    "# minus the mean and devide by the standard deviation\n",
    "df_normal=time_trend.merge(stats, how='inner')\n",
    "df_normal['1B']=(df_normal['1B']-df_normal['1B_Mean'])/df_normal['1B'].std()\n",
    "df_normal['2B']=(df_normal['2B']-df_normal['2B_Mean'])/df_normal['2B'].std()\n",
    "df_normal['3B']=(df_normal['3B']-df_normal['3B_Mean'])/df_normal['3B'].std()\n",
    "df_normal['HR']=(df_normal['HR']-df_normal['HR_Mean'])/df_normal['HR'].std()\n",
    "df_normal['BB']=(df_normal['BB']-df_normal['BB_Mean'])/df_normal['BB'].std()"
   ]
  },
  {
   "cell_type": "code",
   "execution_count": 9,
   "metadata": {
    "collapsed": false
   },
   "outputs": [
    {
     "data": {
      "text/html": [
       "<div>\n",
       "<table border=\"1\" class=\"dataframe\">\n",
       "  <thead>\n",
       "    <tr style=\"text-align: right;\">\n",
       "      <th></th>\n",
       "      <th>yearID</th>\n",
       "      <th>1B_Mean</th>\n",
       "      <th>2B_Mean</th>\n",
       "      <th>3B_Mean</th>\n",
       "      <th>HR_Mean</th>\n",
       "      <th>BB_Mean</th>\n",
       "      <th>teamID</th>\n",
       "      <th>W</th>\n",
       "      <th>1B</th>\n",
       "      <th>2B</th>\n",
       "      <th>3B</th>\n",
       "      <th>HR</th>\n",
       "      <th>BB</th>\n",
       "      <th>AB</th>\n",
       "    </tr>\n",
       "  </thead>\n",
       "  <tbody>\n",
       "    <tr>\n",
       "      <th>0</th>\n",
       "      <td>1961</td>\n",
       "      <td>0.184941</td>\n",
       "      <td>0.035845</td>\n",
       "      <td>0.005717</td>\n",
       "      <td>0.022975</td>\n",
       "      <td>0.104083</td>\n",
       "      <td>KC1</td>\n",
       "      <td>61</td>\n",
       "      <td>0.283055</td>\n",
       "      <td>0.021683</td>\n",
       "      <td>1.234034</td>\n",
       "      <td>-1.297701</td>\n",
       "      <td>-0.709949</td>\n",
       "      <td>6003</td>\n",
       "    </tr>\n",
       "    <tr>\n",
       "      <th>1</th>\n",
       "      <td>1961</td>\n",
       "      <td>0.184941</td>\n",
       "      <td>0.035845</td>\n",
       "      <td>0.005717</td>\n",
       "      <td>0.022975</td>\n",
       "      <td>0.104083</td>\n",
       "      <td>LAA</td>\n",
       "      <td>70</td>\n",
       "      <td>-0.283055</td>\n",
       "      <td>-0.021683</td>\n",
       "      <td>-1.234034</td>\n",
       "      <td>1.297701</td>\n",
       "      <td>0.709949</td>\n",
       "      <td>6105</td>\n",
       "    </tr>\n",
       "    <tr>\n",
       "      <th>2</th>\n",
       "      <td>1962</td>\n",
       "      <td>0.196221</td>\n",
       "      <td>0.035853</td>\n",
       "      <td>0.006777</td>\n",
       "      <td>0.023811</td>\n",
       "      <td>0.088590</td>\n",
       "      <td>BAL</td>\n",
       "      <td>77</td>\n",
       "      <td>-0.728733</td>\n",
       "      <td>0.254223</td>\n",
       "      <td>-0.652440</td>\n",
       "      <td>0.350851</td>\n",
       "      <td>-0.255884</td>\n",
       "      <td>6007</td>\n",
       "    </tr>\n",
       "    <tr>\n",
       "      <th>3</th>\n",
       "      <td>1962</td>\n",
       "      <td>0.196221</td>\n",
       "      <td>0.035853</td>\n",
       "      <td>0.006777</td>\n",
       "      <td>0.023811</td>\n",
       "      <td>0.088590</td>\n",
       "      <td>CHA</td>\n",
       "      <td>85</td>\n",
       "      <td>-0.677174</td>\n",
       "      <td>0.777349</td>\n",
       "      <td>1.373836</td>\n",
       "      <td>-1.432658</td>\n",
       "      <td>1.187470</td>\n",
       "      <td>6134</td>\n",
       "    </tr>\n",
       "    <tr>\n",
       "      <th>4</th>\n",
       "      <td>1962</td>\n",
       "      <td>0.196221</td>\n",
       "      <td>0.035853</td>\n",
       "      <td>0.006777</td>\n",
       "      <td>0.023811</td>\n",
       "      <td>0.088590</td>\n",
       "      <td>CHN</td>\n",
       "      <td>59</td>\n",
       "      <td>0.306717</td>\n",
       "      <td>-0.537602</td>\n",
       "      <td>1.458611</td>\n",
       "      <td>-0.478512</td>\n",
       "      <td>-0.486844</td>\n",
       "      <td>6038</td>\n",
       "    </tr>\n",
       "  </tbody>\n",
       "</table>\n",
       "</div>"
      ],
      "text/plain": [
       "   yearID   1B_Mean   2B_Mean   3B_Mean   HR_Mean   BB_Mean teamID   W  \\\n",
       "0    1961  0.184941  0.035845  0.005717  0.022975  0.104083    KC1  61   \n",
       "1    1961  0.184941  0.035845  0.005717  0.022975  0.104083    LAA  70   \n",
       "2    1962  0.196221  0.035853  0.006777  0.023811  0.088590    BAL  77   \n",
       "3    1962  0.196221  0.035853  0.006777  0.023811  0.088590    CHA  85   \n",
       "4    1962  0.196221  0.035853  0.006777  0.023811  0.088590    CHN  59   \n",
       "\n",
       "         1B        2B        3B        HR        BB    AB  \n",
       "0  0.283055  0.021683  1.234034 -1.297701 -0.709949  6003  \n",
       "1 -0.283055 -0.021683 -1.234034  1.297701  0.709949  6105  \n",
       "2 -0.728733  0.254223 -0.652440  0.350851 -0.255884  6007  \n",
       "3 -0.677174  0.777349  1.373836 -1.432658  1.187470  6134  \n",
       "4  0.306717 -0.537602  1.458611 -0.478512 -0.486844  6038  "
      ]
     },
     "execution_count": 9,
     "metadata": {},
     "output_type": "execute_result"
    }
   ],
   "source": [
    "# Return unbiased amount by subtracting standard deviation \n",
    "# New normalize values are labeled 1B, 2B, 3B ect. \n",
    "df_normal.head()"
   ]
  },
  {
   "cell_type": "markdown",
   "metadata": {},
   "source": [
    "#### Problem 1(f)\n",
    "\n",
    "Build a simple linear regression model to predict the number of wins from the average adjusted singles, double, triples, HR, and BB rates. To decide which of these terms to include fit the model to data from 2002 and compute the average squared residuals from predictions to years past 2002. Use the fitted model to define a new sabermetric summary: offensive predicted wins (OPW). Hint: the new summary should be a linear combination of one to five of the five rates.\n"
   ]
  },
  {
   "cell_type": "markdown",
   "metadata": {},
   "source": [
    "SelectFromModel is a meta-transformer that can be used along with any estimator that has a coef_ or feature_importances_ attribute after fitting. The features are considered unimportant and removed, if the corresponding coef_ or feature_importances_ values are below the provided threshold parameter. "
   ]
  },
  {
   "cell_type": "code",
   "execution_count": 10,
   "metadata": {
    "collapsed": false
   },
   "outputs": [
    {
     "name": "stdout",
     "output_type": "stream",
     "text": [
      "OPW Features:\t['2B']\n",
      "Eqn:\t + 4.47 * 2B\n",
      "Parameters:\t[ 4.467921]\n",
      "RSS - Residual sum of squares:\tW    122.885681\n",
      "dtype: float64\n",
      "Score:\t0.0491174384747\n",
      "\n",
      "\n",
      "None\n",
      "OPW Features:\t['1B', '2B']\n",
      "Eqn:\t + 4.37 * 1B + 3.31 * 2B\n",
      "Parameters:\t[ 4.37311019  3.31163523]\n",
      "RSS - Residual sum of squares:\tW    117.196989\n",
      "dtype: float64\n",
      "Score:\t0.0931362175567\n",
      "\n",
      "\n",
      "None\n",
      "OPW Features:\t['1B', '2B', '3B']\n",
      "Eqn:\t + 4.47 * 1B + 3.45 * 2B + -0.41 * 3B\n",
      "Parameters:\t[ 4.47479611  3.45099955 -0.41184629]\n",
      "RSS - Residual sum of squares:\tW    116.866897\n",
      "dtype: float64\n",
      "Score:\t0.0956904548611\n",
      "\n",
      "\n",
      "None\n",
      "OPW Features:\t['1B', '2B', '3B', 'HR']\n",
      "Eqn:\t + 3.59 * 1B + 2.71 * 2B + 0.68 * 3B + 3.75 * HR\n",
      "Parameters:\t[ 3.58718128  2.71062023  0.68150703  3.75419213]\n",
      "RSS - Residual sum of squares:\tW    101.244322\n",
      "dtype: float64\n",
      "Score:\t0.216577072413\n",
      "\n",
      "\n",
      "None\n",
      "OPW Features:\t['2B', '3B', 'HR']\n",
      "Eqn:\t + 3.04 * 2B + 1.79 * 3B + 4.93 * HR\n",
      "Parameters:\t[ 3.04394858  1.79216878  4.92753244]\n",
      "RSS - Residual sum of squares:\tW    106.397014\n",
      "dtype: float64\n",
      "Score:\t0.176705824768\n",
      "\n",
      "\n",
      "None\n",
      "OPW Features:\t['3B', 'HR']\n",
      "Eqn:\t + 2.40 * 3B + 5.38 * HR\n",
      "Parameters:\t[ 2.39769068  5.38426016]\n",
      "RSS - Residual sum of squares:\tW    110.671519\n",
      "dtype: float64\n",
      "Score:\t0.14362994202\n",
      "\n",
      "\n",
      "None\n",
      "OPW Features:\t['3B']\n",
      "Eqn:\t + 1.34 * 3B\n",
      "Parameters:\t[ 1.34217466]\n",
      "RSS - Residual sum of squares:\tW    131.649123\n",
      "dtype: float64\n",
      "Score:\t-0.0186935918106\n",
      "\n",
      "\n",
      "None\n",
      "OPW Features:\t['HR']\n",
      "Eqn:\t + 4.67 * HR\n",
      "Parameters:\t[ 4.66967586]\n",
      "RSS - Residual sum of squares:\tW    109.086477\n",
      "dtype: float64\n",
      "Score:\t0.15589490803\n",
      "\n",
      "\n",
      "None\n",
      "So the best estimation is the fourth combination which would be all possible variables\n"
     ]
    }
   ],
   "source": [
    "import matplotlib.pyplot as plt\n",
    "from sklearn.linear_model import LinearRegression\n",
    "from sklearn.cross_validation import train_test_split\n",
    "from sklearn import datasets, linear_model\n",
    "\n",
    "df_normal= df_normal[['1B','2B','3B','HR','BB', 'yearID', 'W',]]\n",
    "normal_after_2003= df_normal[df_normal['yearID'] >= 2003]\n",
    "normal_before_2003=df_normal[df_normal['yearID'] < 2003]\n",
    "\n",
    "indices = [0,1,2,3]\n",
    "features=['1B','2B','3B','HR','BB']\n",
    "\n",
    "def linear_ols_score(indices):\n",
    "    \n",
    "    #setup and fit\n",
    "    X_train = normal_before_2003.iloc[:,indices]\n",
    "    X_test = normal_after_2003.iloc[:, indices]\n",
    "    y_train = normal_before_2003[['W']]\n",
    "    y_test = normal_after_2003[['W']]\n",
    "    ols = linear_model.LinearRegression()\n",
    "    ols.fit(X_train, y_train)\n",
    "    param = ols.coef_[0]\n",
    "\n",
    "    #Get Predictions\n",
    "    predict = ols.predict(X_test)\n",
    "    \n",
    "    #Score\n",
    "    sigma = np.std(y_train)\n",
    "    rss = np.mean((ols.predict(X_test) - y_test) ** 2)\n",
    "    \n",
    "    select_features=[features[i] for i in indices]\n",
    "    eqn = ''\n",
    "    for i,j in zip(param, select_features):\n",
    "        eqn += ' + %.2f'%i+' * '+j+' + '\n",
    "        eqn = eqn[0:-3]\n",
    "    \n",
    "    \n",
    "    print 'Features:\\t', select_features\n",
    "    print 'Eqn:\\t', eqn\n",
    "    print 'Parameters:\\t', param\n",
    "    print 'RSS - Residual sum of squares:\\t', rss\n",
    "    print  'Score:\\t', ols.score(X_test, y_test)\n",
    "    print '\\n'\n",
    "    \n",
    "\n",
    "#to test we set up all combinations of variables\n",
    "combinations=[[1],[0,1],[0,1,2],[0,1,2,3], [1,2,3], [2,3],[2],[3]]\n",
    "\n",
    "#test the error for all combinations\n",
    "for i in combinations:\n",
    "    print \"OPW\", linear_ols_score(i)\n",
    "\n",
    "print \"So the best estimation is the fourth combination which would be all possible variables\""
   ]
  },
  {
   "cell_type": "markdown",
   "metadata": {},
   "source": [
    "** Your answer here: ** \n",
    "So the best estimation is the fourth combination which would be all possible variables\n",
    "The second best predictor/estimation would be just the HR values"
   ]
  },
  {
   "cell_type": "markdown",
   "metadata": {},
   "source": [
    "#### Problem 1(g)\n",
    "\n",
    "Now we will create a similar database for individual players. Consider only player/year combinations in which the player had at least 500 plate appearances. Consider only the years we considered for the calculations above (after 1947 and seasons with 162 games). For each player/year compute singles, doubles, triples, HR, BB per plate appearance rates. Create a new pandas DataFrame called `playerstats` that has the playerID, yearID and the rates of these stats.  Remove the average for each year as for these rates as done in Problem 1(e). "
   ]
  },
  {
   "cell_type": "code",
   "execution_count": 11,
   "metadata": {
    "collapsed": false
   },
   "outputs": [],
   "source": [
    "#player/year combinations in which the player had at least 500 plate appearances\n",
    "players['PA']=players['AB']+players['BB']\n",
    "players_500PA=players[players['PA']>500]\n",
    "player_stats=players_500PA[players_500PA['yearID']>1947]\n",
    "\n",
    "#get years selected from above with 162 games\n",
    "years=list(df['yearID'].unique())\n",
    "player_stats=player_stats[player_stats['yearID'].isin(years)]\n",
    "\n",
    "#Create column for single base\n",
    "player_stats['1B']=player_stats.loc[:,['H']].subtract(player_stats.loc[:,['2B']].values)\n",
    "player_stats=player_stats.loc[:,['playerID','yearID','W','1B','2B','3B','HR','BB','AB']]\n",
    "\n",
    "# #Devide stats by plate appearences for every player every year\n",
    "player_stats['PA']=player_stats['AB']+player_stats['BB']\n",
    "player_stats['1B']=player_stats['1B']/player_stats['PA']\n",
    "player_stats['2B']=player_stats['2B']/player_stats['PA']\n",
    "player_stats['3B']=player_stats['3B']/player_stats['PA']\n",
    "player_stats['HR']=player_stats['HR']/player_stats['PA']\n",
    "player_stats['BB']=player_stats['BB']/player_stats['PA']"
   ]
  },
  {
   "cell_type": "markdown",
   "metadata": {},
   "source": [
    "Show the head of the `playerstats` DataFrame. "
   ]
  },
  {
   "cell_type": "code",
   "execution_count": 12,
   "metadata": {
    "collapsed": false
   },
   "outputs": [
    {
     "data": {
      "text/html": [
       "<div>\n",
       "<table border=\"1\" class=\"dataframe\">\n",
       "  <thead>\n",
       "    <tr style=\"text-align: right;\">\n",
       "      <th></th>\n",
       "      <th>yearID</th>\n",
       "      <th>1B_Mean</th>\n",
       "      <th>2B_Mean</th>\n",
       "      <th>3B_Mean</th>\n",
       "      <th>HR_Mean</th>\n",
       "      <th>BB_Mean</th>\n",
       "      <th>playerID</th>\n",
       "      <th>W</th>\n",
       "      <th>1B</th>\n",
       "      <th>2B</th>\n",
       "      <th>3B</th>\n",
       "      <th>HR</th>\n",
       "      <th>BB</th>\n",
       "      <th>AB</th>\n",
       "      <th>PA</th>\n",
       "    </tr>\n",
       "  </thead>\n",
       "  <tbody>\n",
       "    <tr>\n",
       "      <th>0</th>\n",
       "      <td>1961</td>\n",
       "      <td>0.212833</td>\n",
       "      <td>0.040679</td>\n",
       "      <td>0.008389</td>\n",
       "      <td>0.031605</td>\n",
       "      <td>0.100236</td>\n",
       "      <td>aaronha01</td>\n",
       "      <td>NaN</td>\n",
       "      <td>1.151265</td>\n",
       "      <td>1.526854</td>\n",
       "      <td>1.396007</td>\n",
       "      <td>1.144899</td>\n",
       "      <td>-0.430797</td>\n",
       "      <td>603.0</td>\n",
       "      <td>659.0</td>\n",
       "    </tr>\n",
       "    <tr>\n",
       "      <th>1</th>\n",
       "      <td>1961</td>\n",
       "      <td>0.212833</td>\n",
       "      <td>0.040679</td>\n",
       "      <td>0.008389</td>\n",
       "      <td>0.031605</td>\n",
       "      <td>0.100236</td>\n",
       "      <td>adcocjo01</td>\n",
       "      <td>NaN</td>\n",
       "      <td>0.539193</td>\n",
       "      <td>-0.699183</td>\n",
       "      <td>-1.725906</td>\n",
       "      <td>1.417964</td>\n",
       "      <td>-0.147602</td>\n",
       "      <td>562.0</td>\n",
       "      <td>621.0</td>\n",
       "    </tr>\n",
       "    <tr>\n",
       "      <th>2</th>\n",
       "      <td>1961</td>\n",
       "      <td>0.212833</td>\n",
       "      <td>0.040679</td>\n",
       "      <td>0.008389</td>\n",
       "      <td>0.031605</td>\n",
       "      <td>0.100236</td>\n",
       "      <td>allisbo01</td>\n",
       "      <td>NaN</td>\n",
       "      <td>-1.638796</td>\n",
       "      <td>-0.727213</td>\n",
       "      <td>-0.789332</td>\n",
       "      <td>0.710319</td>\n",
       "      <td>1.582754</td>\n",
       "      <td>556.0</td>\n",
       "      <td>659.0</td>\n",
       "    </tr>\n",
       "    <tr>\n",
       "      <th>3</th>\n",
       "      <td>1961</td>\n",
       "      <td>0.212833</td>\n",
       "      <td>0.040679</td>\n",
       "      <td>0.008389</td>\n",
       "      <td>0.031605</td>\n",
       "      <td>0.100236</td>\n",
       "      <td>altmage01</td>\n",
       "      <td>NaN</td>\n",
       "      <td>0.784630</td>\n",
       "      <td>0.784026</td>\n",
       "      <td>2.698483</td>\n",
       "      <td>0.961254</td>\n",
       "      <td>-0.806083</td>\n",
       "      <td>518.0</td>\n",
       "      <td>558.0</td>\n",
       "    </tr>\n",
       "    <tr>\n",
       "      <th>4</th>\n",
       "      <td>1961</td>\n",
       "      <td>0.212833</td>\n",
       "      <td>0.040679</td>\n",
       "      <td>0.008389</td>\n",
       "      <td>0.031605</td>\n",
       "      <td>0.100236</td>\n",
       "      <td>aparilu01</td>\n",
       "      <td>NaN</td>\n",
       "      <td>0.315490</td>\n",
       "      <td>-0.369668</td>\n",
       "      <td>-0.484674</td>\n",
       "      <td>-1.291897</td>\n",
       "      <td>-1.211766</td>\n",
       "      <td>625.0</td>\n",
       "      <td>663.0</td>\n",
       "    </tr>\n",
       "  </tbody>\n",
       "</table>\n",
       "</div>"
      ],
      "text/plain": [
       "   yearID   1B_Mean   2B_Mean   3B_Mean   HR_Mean   BB_Mean   playerID   W  \\\n",
       "0    1961  0.212833  0.040679  0.008389  0.031605  0.100236  aaronha01 NaN   \n",
       "1    1961  0.212833  0.040679  0.008389  0.031605  0.100236  adcocjo01 NaN   \n",
       "2    1961  0.212833  0.040679  0.008389  0.031605  0.100236  allisbo01 NaN   \n",
       "3    1961  0.212833  0.040679  0.008389  0.031605  0.100236  altmage01 NaN   \n",
       "4    1961  0.212833  0.040679  0.008389  0.031605  0.100236  aparilu01 NaN   \n",
       "\n",
       "         1B        2B        3B        HR        BB     AB     PA  \n",
       "0  1.151265  1.526854  1.396007  1.144899 -0.430797  603.0  659.0  \n",
       "1  0.539193 -0.699183 -1.725906  1.417964 -0.147602  562.0  621.0  \n",
       "2 -1.638796 -0.727213 -0.789332  0.710319  1.582754  556.0  659.0  \n",
       "3  0.784630  0.784026  2.698483  0.961254 -0.806083  518.0  558.0  \n",
       "4  0.315490 -0.369668 -0.484674 -1.291897 -1.211766  625.0  663.0  "
      ]
     },
     "execution_count": 12,
     "metadata": {},
     "output_type": "execute_result"
    }
   ],
   "source": [
    "player_means=player_stats.groupby('yearID').mean().reset_index()\n",
    "player_means=player_means.iloc[:,[0,2,3,4,5,6]]\n",
    "player_means.columns=['yearID','1B_Mean','2B_Mean','3B_Mean','HR_Mean', 'BB_Mean']\n",
    "\n",
    "\n",
    "players_normal=player_means.merge(player_stats, how='inner')\n",
    "players_normal['1B']=(players_normal['1B']-players_normal['1B_Mean'])/players_normal['1B'].std()\n",
    "players_normal['2B']=(players_normal['2B']-players_normal['2B_Mean'])/players_normal['2B'].std()\n",
    "players_normal['3B']=(players_normal['3B']-players_normal['3B_Mean'])/players_normal['3B'].std()\n",
    "players_normal['HR']=(players_normal['HR']-players_normal['HR_Mean'])/players_normal['HR'].std()\n",
    "players_normal['BB']=(players_normal['BB']-players_normal['BB_Mean'])/players_normal['BB'].std()\n",
    "\n",
    "playerstats=players_normal\n",
    "playerstats.head()"
   ]
  },
  {
   "cell_type": "markdown",
   "metadata": {},
   "source": [
    "#### Problem 1(h)\n",
    "\n",
    "Using the `playerstats` DataFrame created in Problem 1(g), create a new DataFrame called `playerLS` containing the player's lifetime stats. This DataFrame should contain the playerID, the year the player's career started, the year the player's career ended and the player's lifetime average for each of the quantities (singles, doubles, triples, HR, BB). For simplicity we will simply compute the avaerage of the rates by year (a more correct way is to go back to the totals). "
   ]
  },
  {
   "cell_type": "code",
   "execution_count": 13,
   "metadata": {
    "collapsed": false
   },
   "outputs": [
    {
     "data": {
      "text/html": [
       "<div>\n",
       "<table border=\"1\" class=\"dataframe\">\n",
       "  <thead>\n",
       "    <tr style=\"text-align: right;\">\n",
       "      <th></th>\n",
       "      <th>1B</th>\n",
       "      <th>2B</th>\n",
       "      <th>3B</th>\n",
       "      <th>HR</th>\n",
       "      <th>BB</th>\n",
       "    </tr>\n",
       "  </thead>\n",
       "  <tbody>\n",
       "    <tr>\n",
       "      <th>aaronha01</th>\n",
       "      <td>0.657739</td>\n",
       "      <td>0.590889</td>\n",
       "      <td>-0.460399</td>\n",
       "      <td>1.692869</td>\n",
       "      <td>0.522560</td>\n",
       "    </tr>\n",
       "    <tr>\n",
       "      <th>abreubo01</th>\n",
       "      <td>-0.446934</td>\n",
       "      <td>0.529856</td>\n",
       "      <td>0.206131</td>\n",
       "      <td>-0.186271</td>\n",
       "      <td>1.425777</td>\n",
       "    </tr>\n",
       "    <tr>\n",
       "      <th>ackledu01</th>\n",
       "      <td>-1.133881</td>\n",
       "      <td>-1.370270</td>\n",
       "      <td>-0.406178</td>\n",
       "      <td>-0.874834</td>\n",
       "      <td>0.045100</td>\n",
       "    </tr>\n",
       "    <tr>\n",
       "      <th>adairje01</th>\n",
       "      <td>-0.134264</td>\n",
       "      <td>0.271141</td>\n",
       "      <td>-0.439991</td>\n",
       "      <td>-0.740826</td>\n",
       "      <td>-1.051073</td>\n",
       "    </tr>\n",
       "    <tr>\n",
       "      <th>adamsru01</th>\n",
       "      <td>-0.908215</td>\n",
       "      <td>-0.106398</td>\n",
       "      <td>0.855811</td>\n",
       "      <td>-1.004250</td>\n",
       "      <td>0.075432</td>\n",
       "    </tr>\n",
       "  </tbody>\n",
       "</table>\n",
       "</div>"
      ],
      "text/plain": [
       "                 1B        2B        3B        HR        BB\n",
       "aaronha01  0.657739  0.590889 -0.460399  1.692869  0.522560\n",
       "abreubo01 -0.446934  0.529856  0.206131 -0.186271  1.425777\n",
       "ackledu01 -1.133881 -1.370270 -0.406178 -0.874834  0.045100\n",
       "adairje01 -0.134264  0.271141 -0.439991 -0.740826 -1.051073\n",
       "adamsru01 -0.908215 -0.106398  0.855811 -1.004250  0.075432"
      ]
     },
     "execution_count": 13,
     "metadata": {},
     "output_type": "execute_result"
    }
   ],
   "source": [
    "careerAverage = playerstats.groupby('playerID')[['1B', '2B', '3B', 'HR', 'BB']].mean()\n",
    "careerAverage.index.name = None\n",
    "careerAverage.head()"
   ]
  },
  {
   "cell_type": "code",
   "execution_count": 14,
   "metadata": {
    "collapsed": false
   },
   "outputs": [],
   "source": [
    "yearStart = playerstats[['playerID', 'yearID']].groupby('playerID').min()\n",
    "yearEnd = playerstats[['playerID', 'yearID']].groupby('playerID').max()\n",
    "yearStart.index.name = None\n",
    "yearEnd.index.name = None\n",
    "yearEnd.rename(columns={'yearID': 'Career Ended'}, inplace=True)\n",
    "yearStart.rename(columns={'yearID': 'Career Start'}, inplace=True)"
   ]
  },
  {
   "cell_type": "markdown",
   "metadata": {},
   "source": [
    "Show the head of the `playerLS` DataFrame. "
   ]
  },
  {
   "cell_type": "code",
   "execution_count": 15,
   "metadata": {
    "collapsed": false
   },
   "outputs": [
    {
     "data": {
      "text/html": [
       "<div>\n",
       "<table border=\"1\" class=\"dataframe\">\n",
       "  <thead>\n",
       "    <tr style=\"text-align: right;\">\n",
       "      <th></th>\n",
       "      <th>Career Start</th>\n",
       "      <th>Career Ended</th>\n",
       "      <th>1B</th>\n",
       "      <th>2B</th>\n",
       "      <th>3B</th>\n",
       "      <th>HR</th>\n",
       "      <th>BB</th>\n",
       "    </tr>\n",
       "  </thead>\n",
       "  <tbody>\n",
       "    <tr>\n",
       "      <th>aaronha01</th>\n",
       "      <td>1961</td>\n",
       "      <td>1975</td>\n",
       "      <td>0.657739</td>\n",
       "      <td>0.590889</td>\n",
       "      <td>-0.460399</td>\n",
       "      <td>1.692869</td>\n",
       "      <td>0.522560</td>\n",
       "    </tr>\n",
       "    <tr>\n",
       "      <th>abreubo01</th>\n",
       "      <td>1998</td>\n",
       "      <td>2011</td>\n",
       "      <td>-0.446934</td>\n",
       "      <td>0.529856</td>\n",
       "      <td>0.206131</td>\n",
       "      <td>-0.186271</td>\n",
       "      <td>1.425777</td>\n",
       "    </tr>\n",
       "    <tr>\n",
       "      <th>ackledu01</th>\n",
       "      <td>2012</td>\n",
       "      <td>2012</td>\n",
       "      <td>-1.133881</td>\n",
       "      <td>-1.370270</td>\n",
       "      <td>-0.406178</td>\n",
       "      <td>-0.874834</td>\n",
       "      <td>0.045100</td>\n",
       "    </tr>\n",
       "    <tr>\n",
       "      <th>adairje01</th>\n",
       "      <td>1962</td>\n",
       "      <td>1965</td>\n",
       "      <td>-0.134264</td>\n",
       "      <td>0.271141</td>\n",
       "      <td>-0.439991</td>\n",
       "      <td>-0.740826</td>\n",
       "      <td>-1.051073</td>\n",
       "    </tr>\n",
       "    <tr>\n",
       "      <th>adamsru01</th>\n",
       "      <td>2005</td>\n",
       "      <td>2005</td>\n",
       "      <td>-0.908215</td>\n",
       "      <td>-0.106398</td>\n",
       "      <td>0.855811</td>\n",
       "      <td>-1.004250</td>\n",
       "      <td>0.075432</td>\n",
       "    </tr>\n",
       "  </tbody>\n",
       "</table>\n",
       "</div>"
      ],
      "text/plain": [
       "           Career Start  Career Ended        1B        2B        3B        HR  \\\n",
       "aaronha01          1961          1975  0.657739  0.590889 -0.460399  1.692869   \n",
       "abreubo01          1998          2011 -0.446934  0.529856  0.206131 -0.186271   \n",
       "ackledu01          2012          2012 -1.133881 -1.370270 -0.406178 -0.874834   \n",
       "adairje01          1962          1965 -0.134264  0.271141 -0.439991 -0.740826   \n",
       "adamsru01          2005          2005 -0.908215 -0.106398  0.855811 -1.004250   \n",
       "\n",
       "                 BB  \n",
       "aaronha01  0.522560  \n",
       "abreubo01  1.425777  \n",
       "ackledu01  0.045100  \n",
       "adairje01 -1.051073  \n",
       "adamsru01  0.075432  "
      ]
     },
     "execution_count": 15,
     "metadata": {},
     "output_type": "execute_result"
    }
   ],
   "source": [
    "playerLS=yearStart.join(yearEnd).join(careerAverage)\n",
    "playerLS.head()"
   ]
  },
  {
   "cell_type": "markdown",
   "metadata": {},
   "source": [
    "#### Problem 1(i)\n",
    "\n",
    "Compute the OPW for each player based on the average rates in the `playerLS` DataFrame. You can interpret this summary statistic as the predicted wins for a team with 9 batters exactly like the player in question. Add this column to the playerLS DataFrame. Call this colum OPW."
   ]
  },
  {
   "cell_type": "markdown",
   "metadata": {},
   "source": [
    "offensive predicted wins (OPW)"
   ]
  },
  {
   "cell_type": "code",
   "execution_count": 16,
   "metadata": {
    "collapsed": false
   },
   "outputs": [
    {
     "data": {
      "text/html": [
       "<div>\n",
       "<table border=\"1\" class=\"dataframe\">\n",
       "  <thead>\n",
       "    <tr style=\"text-align: right;\">\n",
       "      <th></th>\n",
       "      <th>Career Start</th>\n",
       "      <th>Career Ended</th>\n",
       "      <th>1B</th>\n",
       "      <th>2B</th>\n",
       "      <th>3B</th>\n",
       "      <th>HR</th>\n",
       "      <th>BB</th>\n",
       "      <th>OPW</th>\n",
       "      <th>playerID</th>\n",
       "    </tr>\n",
       "  </thead>\n",
       "  <tbody>\n",
       "    <tr>\n",
       "      <th>aaronha01</th>\n",
       "      <td>1961</td>\n",
       "      <td>1975</td>\n",
       "      <td>0.657739</td>\n",
       "      <td>0.590889</td>\n",
       "      <td>-0.460399</td>\n",
       "      <td>1.692869</td>\n",
       "      <td>0.522560</td>\n",
       "      <td>91.075795</td>\n",
       "      <td>aaronha01</td>\n",
       "    </tr>\n",
       "    <tr>\n",
       "      <th>abreubo01</th>\n",
       "      <td>1998</td>\n",
       "      <td>2011</td>\n",
       "      <td>-0.446934</td>\n",
       "      <td>0.529856</td>\n",
       "      <td>0.206131</td>\n",
       "      <td>-0.186271</td>\n",
       "      <td>1.425777</td>\n",
       "      <td>80.347287</td>\n",
       "      <td>abreubo01</td>\n",
       "    </tr>\n",
       "    <tr>\n",
       "      <th>ackledu01</th>\n",
       "      <td>2012</td>\n",
       "      <td>2012</td>\n",
       "      <td>-1.133881</td>\n",
       "      <td>-1.370270</td>\n",
       "      <td>-0.406178</td>\n",
       "      <td>-0.874834</td>\n",
       "      <td>0.045100</td>\n",
       "      <td>69.730275</td>\n",
       "      <td>ackledu01</td>\n",
       "    </tr>\n",
       "    <tr>\n",
       "      <th>adairje01</th>\n",
       "      <td>1962</td>\n",
       "      <td>1965</td>\n",
       "      <td>-0.134264</td>\n",
       "      <td>0.271141</td>\n",
       "      <td>-0.439991</td>\n",
       "      <td>-0.740826</td>\n",
       "      <td>-1.051073</td>\n",
       "      <td>78.245373</td>\n",
       "      <td>adairje01</td>\n",
       "    </tr>\n",
       "    <tr>\n",
       "      <th>adamsru01</th>\n",
       "      <td>2005</td>\n",
       "      <td>2005</td>\n",
       "      <td>-0.908215</td>\n",
       "      <td>-0.106398</td>\n",
       "      <td>0.855811</td>\n",
       "      <td>-1.004250</td>\n",
       "      <td>0.075432</td>\n",
       "      <td>74.339858</td>\n",
       "      <td>adamsru01</td>\n",
       "    </tr>\n",
       "  </tbody>\n",
       "</table>\n",
       "</div>"
      ],
      "text/plain": [
       "           Career Start  Career Ended        1B        2B        3B        HR  \\\n",
       "aaronha01          1961          1975  0.657739  0.590889 -0.460399  1.692869   \n",
       "abreubo01          1998          2011 -0.446934  0.529856  0.206131 -0.186271   \n",
       "ackledu01          2012          2012 -1.133881 -1.370270 -0.406178 -0.874834   \n",
       "adairje01          1962          1965 -0.134264  0.271141 -0.439991 -0.740826   \n",
       "adamsru01          2005          2005 -0.908215 -0.106398  0.855811 -1.004250   \n",
       "\n",
       "                 BB        OPW   playerID  \n",
       "aaronha01  0.522560  91.075795  aaronha01  \n",
       "abreubo01  1.425777  80.347287  abreubo01  \n",
       "ackledu01  0.045100  69.730275  ackledu01  \n",
       "adairje01 -1.051073  78.245373  adairje01  \n",
       "adamsru01  0.075432  74.339858  adamsru01  "
      ]
     },
     "execution_count": 16,
     "metadata": {},
     "output_type": "execute_result"
    }
   ],
   "source": [
    "X_train = normal_before_2003.iloc[:,[0,1,2,3]]\n",
    "X_test = normal_after_2003.iloc[:, [0,1,2,3]]\n",
    "y_train = normal_before_2003[['W']]\n",
    "y_test = normal_after_2003[['W']]\n",
    "ols = linear_model.LinearRegression()\n",
    "ols.fit(X_train, y_train)\n",
    "one_player_OPW=ols.predict(playerLS.iloc[:,[2,3,4,5]])\n",
    "playerLS['OPW']=one_player_OPW\n",
    "playerLS['playerID'] = playerLS.index\n",
    "playerLS.head()"
   ]
  },
  {
   "cell_type": "markdown",
   "metadata": {},
   "source": [
    "#### Problem 1(j)\n",
    "\n",
    "Add four columns to the `playerLS` DataFrame that contains the player's position (C, 1B, 2B, 3B, SS, LF, CF, RF, or OF), first name, last name and median salary. "
   ]
  },
  {
   "cell_type": "code",
   "execution_count": 17,
   "metadata": {
    "collapsed": false
   },
   "outputs": [],
   "source": [
    "playerLS = playerLS.merge(median_salary, how='inner', on='playerID')\n",
    "\n",
    "dummy1 = fielding[['playerID','POS']]\n",
    "\n",
    "playerLS = playerLS.merge(dummy1, how='inner', on='playerID')"
   ]
  },
  {
   "cell_type": "markdown",
   "metadata": {},
   "source": [
    "Show the head of the `playerLS` DataFrame. "
   ]
  },
  {
   "cell_type": "code",
   "execution_count": 18,
   "metadata": {
    "collapsed": false
   },
   "outputs": [
    {
     "data": {
      "text/html": [
       "<div>\n",
       "<table border=\"1\" class=\"dataframe\">\n",
       "  <thead>\n",
       "    <tr style=\"text-align: right;\">\n",
       "      <th></th>\n",
       "      <th>Career Start</th>\n",
       "      <th>Career Ended</th>\n",
       "      <th>1B</th>\n",
       "      <th>2B</th>\n",
       "      <th>3B</th>\n",
       "      <th>HR</th>\n",
       "      <th>BB</th>\n",
       "      <th>OPW</th>\n",
       "      <th>playerID</th>\n",
       "      <th>nameFirst</th>\n",
       "      <th>nameLast</th>\n",
       "      <th>salary</th>\n",
       "      <th>POS</th>\n",
       "    </tr>\n",
       "  </thead>\n",
       "  <tbody>\n",
       "    <tr>\n",
       "      <th>0</th>\n",
       "      <td>1961</td>\n",
       "      <td>1975</td>\n",
       "      <td>0.657739</td>\n",
       "      <td>0.590889</td>\n",
       "      <td>-0.460399</td>\n",
       "      <td>1.692869</td>\n",
       "      <td>0.52256</td>\n",
       "      <td>91.075795</td>\n",
       "      <td>aaronha01</td>\n",
       "      <td>Hank</td>\n",
       "      <td>Aaron</td>\n",
       "      <td>NaN</td>\n",
       "      <td>LF</td>\n",
       "    </tr>\n",
       "    <tr>\n",
       "      <th>1</th>\n",
       "      <td>1961</td>\n",
       "      <td>1975</td>\n",
       "      <td>0.657739</td>\n",
       "      <td>0.590889</td>\n",
       "      <td>-0.460399</td>\n",
       "      <td>1.692869</td>\n",
       "      <td>0.52256</td>\n",
       "      <td>91.075795</td>\n",
       "      <td>aaronha01</td>\n",
       "      <td>Hank</td>\n",
       "      <td>Aaron</td>\n",
       "      <td>NaN</td>\n",
       "      <td>OF</td>\n",
       "    </tr>\n",
       "    <tr>\n",
       "      <th>2</th>\n",
       "      <td>1961</td>\n",
       "      <td>1975</td>\n",
       "      <td>0.657739</td>\n",
       "      <td>0.590889</td>\n",
       "      <td>-0.460399</td>\n",
       "      <td>1.692869</td>\n",
       "      <td>0.52256</td>\n",
       "      <td>91.075795</td>\n",
       "      <td>aaronha01</td>\n",
       "      <td>Hank</td>\n",
       "      <td>Aaron</td>\n",
       "      <td>NaN</td>\n",
       "      <td>RF</td>\n",
       "    </tr>\n",
       "    <tr>\n",
       "      <th>3</th>\n",
       "      <td>1961</td>\n",
       "      <td>1975</td>\n",
       "      <td>0.657739</td>\n",
       "      <td>0.590889</td>\n",
       "      <td>-0.460399</td>\n",
       "      <td>1.692869</td>\n",
       "      <td>0.52256</td>\n",
       "      <td>91.075795</td>\n",
       "      <td>aaronha01</td>\n",
       "      <td>Hank</td>\n",
       "      <td>Aaron</td>\n",
       "      <td>NaN</td>\n",
       "      <td>2B</td>\n",
       "    </tr>\n",
       "    <tr>\n",
       "      <th>4</th>\n",
       "      <td>1961</td>\n",
       "      <td>1975</td>\n",
       "      <td>0.657739</td>\n",
       "      <td>0.590889</td>\n",
       "      <td>-0.460399</td>\n",
       "      <td>1.692869</td>\n",
       "      <td>0.52256</td>\n",
       "      <td>91.075795</td>\n",
       "      <td>aaronha01</td>\n",
       "      <td>Hank</td>\n",
       "      <td>Aaron</td>\n",
       "      <td>NaN</td>\n",
       "      <td>LF</td>\n",
       "    </tr>\n",
       "  </tbody>\n",
       "</table>\n",
       "</div>"
      ],
      "text/plain": [
       "   Career Start  Career Ended        1B        2B        3B        HR  \\\n",
       "0          1961          1975  0.657739  0.590889 -0.460399  1.692869   \n",
       "1          1961          1975  0.657739  0.590889 -0.460399  1.692869   \n",
       "2          1961          1975  0.657739  0.590889 -0.460399  1.692869   \n",
       "3          1961          1975  0.657739  0.590889 -0.460399  1.692869   \n",
       "4          1961          1975  0.657739  0.590889 -0.460399  1.692869   \n",
       "\n",
       "        BB        OPW   playerID nameFirst nameLast  salary POS  \n",
       "0  0.52256  91.075795  aaronha01      Hank    Aaron     NaN  LF  \n",
       "1  0.52256  91.075795  aaronha01      Hank    Aaron     NaN  OF  \n",
       "2  0.52256  91.075795  aaronha01      Hank    Aaron     NaN  RF  \n",
       "3  0.52256  91.075795  aaronha01      Hank    Aaron     NaN  2B  \n",
       "4  0.52256  91.075795  aaronha01      Hank    Aaron     NaN  LF  "
      ]
     },
     "execution_count": 18,
     "metadata": {},
     "output_type": "execute_result"
    }
   ],
   "source": [
    "playerLS.head()"
   ]
  },
  {
   "cell_type": "markdown",
   "metadata": {},
   "source": [
    "#### Problem 1(k)\n",
    "\n",
    "Subset the `playerLS` DataFrame for players active in 2002 and 2003 and played at least three years. Plot and describe the relationship bewteen the median salary (in millions) and the predicted number of wins. "
   ]
  },
  {
   "cell_type": "code",
   "execution_count": 19,
   "metadata": {
    "collapsed": false
   },
   "outputs": [
    {
     "data": {
      "text/html": [
       "<div>\n",
       "<table border=\"1\" class=\"dataframe\">\n",
       "  <thead>\n",
       "    <tr style=\"text-align: right;\">\n",
       "      <th></th>\n",
       "      <th>Career Start</th>\n",
       "      <th>Career Ended</th>\n",
       "      <th>1B</th>\n",
       "      <th>2B</th>\n",
       "      <th>3B</th>\n",
       "      <th>HR</th>\n",
       "      <th>BB</th>\n",
       "      <th>OPW</th>\n",
       "      <th>playerID</th>\n",
       "      <th>nameFirst</th>\n",
       "      <th>nameLast</th>\n",
       "      <th>salary</th>\n",
       "      <th>POS</th>\n",
       "    </tr>\n",
       "  </thead>\n",
       "  <tbody>\n",
       "    <tr>\n",
       "      <th>72</th>\n",
       "      <td>1998</td>\n",
       "      <td>2011</td>\n",
       "      <td>-0.446934</td>\n",
       "      <td>0.529856</td>\n",
       "      <td>0.206131</td>\n",
       "      <td>-0.186271</td>\n",
       "      <td>1.425777</td>\n",
       "      <td>80.347287</td>\n",
       "      <td>abreubo01</td>\n",
       "      <td>Bobby</td>\n",
       "      <td>Abreu</td>\n",
       "      <td>9000000.0</td>\n",
       "      <td>LF</td>\n",
       "    </tr>\n",
       "    <tr>\n",
       "      <th>73</th>\n",
       "      <td>1998</td>\n",
       "      <td>2011</td>\n",
       "      <td>-0.446934</td>\n",
       "      <td>0.529856</td>\n",
       "      <td>0.206131</td>\n",
       "      <td>-0.186271</td>\n",
       "      <td>1.425777</td>\n",
       "      <td>80.347287</td>\n",
       "      <td>abreubo01</td>\n",
       "      <td>Bobby</td>\n",
       "      <td>Abreu</td>\n",
       "      <td>9000000.0</td>\n",
       "      <td>OF</td>\n",
       "    </tr>\n",
       "    <tr>\n",
       "      <th>74</th>\n",
       "      <td>1998</td>\n",
       "      <td>2011</td>\n",
       "      <td>-0.446934</td>\n",
       "      <td>0.529856</td>\n",
       "      <td>0.206131</td>\n",
       "      <td>-0.186271</td>\n",
       "      <td>1.425777</td>\n",
       "      <td>80.347287</td>\n",
       "      <td>abreubo01</td>\n",
       "      <td>Bobby</td>\n",
       "      <td>Abreu</td>\n",
       "      <td>9000000.0</td>\n",
       "      <td>RF</td>\n",
       "    </tr>\n",
       "    <tr>\n",
       "      <th>75</th>\n",
       "      <td>1998</td>\n",
       "      <td>2011</td>\n",
       "      <td>-0.446934</td>\n",
       "      <td>0.529856</td>\n",
       "      <td>0.206131</td>\n",
       "      <td>-0.186271</td>\n",
       "      <td>1.425777</td>\n",
       "      <td>80.347287</td>\n",
       "      <td>abreubo01</td>\n",
       "      <td>Bobby</td>\n",
       "      <td>Abreu</td>\n",
       "      <td>9000000.0</td>\n",
       "      <td>CF</td>\n",
       "    </tr>\n",
       "    <tr>\n",
       "      <th>76</th>\n",
       "      <td>1998</td>\n",
       "      <td>2011</td>\n",
       "      <td>-0.446934</td>\n",
       "      <td>0.529856</td>\n",
       "      <td>0.206131</td>\n",
       "      <td>-0.186271</td>\n",
       "      <td>1.425777</td>\n",
       "      <td>80.347287</td>\n",
       "      <td>abreubo01</td>\n",
       "      <td>Bobby</td>\n",
       "      <td>Abreu</td>\n",
       "      <td>9000000.0</td>\n",
       "      <td>LF</td>\n",
       "    </tr>\n",
       "  </tbody>\n",
       "</table>\n",
       "</div>"
      ],
      "text/plain": [
       "    Career Start  Career Ended        1B        2B        3B        HR  \\\n",
       "72          1998          2011 -0.446934  0.529856  0.206131 -0.186271   \n",
       "73          1998          2011 -0.446934  0.529856  0.206131 -0.186271   \n",
       "74          1998          2011 -0.446934  0.529856  0.206131 -0.186271   \n",
       "75          1998          2011 -0.446934  0.529856  0.206131 -0.186271   \n",
       "76          1998          2011 -0.446934  0.529856  0.206131 -0.186271   \n",
       "\n",
       "          BB        OPW   playerID nameFirst nameLast     salary POS  \n",
       "72  1.425777  80.347287  abreubo01     Bobby    Abreu  9000000.0  LF  \n",
       "73  1.425777  80.347287  abreubo01     Bobby    Abreu  9000000.0  OF  \n",
       "74  1.425777  80.347287  abreubo01     Bobby    Abreu  9000000.0  RF  \n",
       "75  1.425777  80.347287  abreubo01     Bobby    Abreu  9000000.0  CF  \n",
       "76  1.425777  80.347287  abreubo01     Bobby    Abreu  9000000.0  LF  "
      ]
     },
     "execution_count": 19,
     "metadata": {},
     "output_type": "execute_result"
    }
   ],
   "source": [
    "cond1 = playerLS['Career Start'] <= 2002\n",
    "cond2 = playerLS['Career Ended'] >= 2003\n",
    "cond3 = playerLS['Career Ended'] - playerLS['Career Start'] > 3\n",
    "\n",
    "new_playerLS = playerLS[cond1&cond2&cond3]\n",
    "\n",
    "new_playerLS.head()"
   ]
  },
  {
   "cell_type": "code",
   "execution_count": 72,
   "metadata": {
    "collapsed": false
   },
   "outputs": [
    {
     "data": {
      "image/png": "[encoded data removed]",
      "text/plain": [
       "<matplotlib.figure.Figure at 0x118aed750>"
      ]
     },
     "metadata": {},
     "output_type": "display_data"
    }
   ],
   "source": [
    "x = new_playerLS['salary']/10e6 #in millions\n",
    "y = new_playerLS['OPW']\n",
    "plt.figure(figsize=(12,8))\n",
    "plt.scatter(x,y)\n",
    "plt.xscale('log')\n",
    "plt.title('OPW vs Salary', fontsize=14)\n",
    "plt.xlabel('Salary (millions)', fontsize=12)\n",
    "plt.ylabel('OPW', fontsize=12);\n"
   ]
  },
  {
   "cell_type": "markdown",
   "metadata": {},
   "source": [
    "#### Problem 1(l)\n",
    "Pick one players from one of each of these 10 position C, 1B, 2B, 3B, SS, LF, CF, RF, DH, or OF keeping the total median salary of all 10 players below 20 million. Report their averaged predicted wins and total salary."
   ]
  },
  {
   "cell_type": "code",
   "execution_count": 20,
   "metadata": {
    "collapsed": false
   },
   "outputs": [
    {
     "name": "stdout",
     "output_type": "stream",
     "text": [
      "The predicted total median salary is 4228498, and the total predicted wins are 80\n"
     ]
    },
    {
     "data": {
      "text/html": [
       "<div>\n",
       "<table border=\"1\" class=\"dataframe\">\n",
       "  <thead>\n",
       "    <tr style=\"text-align: right;\">\n",
       "      <th></th>\n",
       "      <th>Career Start</th>\n",
       "      <th>Career Ended</th>\n",
       "      <th>1B</th>\n",
       "      <th>2B</th>\n",
       "      <th>3B</th>\n",
       "      <th>HR</th>\n",
       "      <th>BB</th>\n",
       "      <th>OPW</th>\n",
       "      <th>nameFirst</th>\n",
       "      <th>nameLast</th>\n",
       "      <th>salary</th>\n",
       "      <th>POS</th>\n",
       "    </tr>\n",
       "    <tr>\n",
       "      <th>playerID</th>\n",
       "      <th></th>\n",
       "      <th></th>\n",
       "      <th></th>\n",
       "      <th></th>\n",
       "      <th></th>\n",
       "      <th></th>\n",
       "      <th></th>\n",
       "      <th></th>\n",
       "      <th></th>\n",
       "      <th></th>\n",
       "      <th></th>\n",
       "      <th></th>\n",
       "    </tr>\n",
       "  </thead>\n",
       "  <tbody>\n",
       "    <tr>\n",
       "      <th>abreubo01</th>\n",
       "      <td>1998</td>\n",
       "      <td>2011</td>\n",
       "      <td>-0.446934</td>\n",
       "      <td>0.529856</td>\n",
       "      <td>0.206131</td>\n",
       "      <td>-0.186271</td>\n",
       "      <td>1.425777</td>\n",
       "      <td>80.347287</td>\n",
       "      <td>Bobby</td>\n",
       "      <td>Abreu</td>\n",
       "      <td>9000000.0</td>\n",
       "      <td>LF</td>\n",
       "    </tr>\n",
       "    <tr>\n",
       "      <th>alfoned01</th>\n",
       "      <td>1997</td>\n",
       "      <td>2004</td>\n",
       "      <td>0.162877</td>\n",
       "      <td>-0.179646</td>\n",
       "      <td>-0.666449</td>\n",
       "      <td>-0.368651</td>\n",
       "      <td>0.303348</td>\n",
       "      <td>79.332240</td>\n",
       "      <td>Edgardo</td>\n",
       "      <td>Alfonzo</td>\n",
       "      <td>4112500.0</td>\n",
       "      <td>2B</td>\n",
       "    </tr>\n",
       "    <tr>\n",
       "      <th>aloumo01</th>\n",
       "      <td>1993</td>\n",
       "      <td>2004</td>\n",
       "      <td>0.583503</td>\n",
       "      <td>0.084322</td>\n",
       "      <td>-0.083471</td>\n",
       "      <td>0.572433</td>\n",
       "      <td>0.020802</td>\n",
       "      <td>85.486931</td>\n",
       "      <td>Moises</td>\n",
       "      <td>Alou</td>\n",
       "      <td>5135000.0</td>\n",
       "      <td>CF</td>\n",
       "    </tr>\n",
       "    <tr>\n",
       "      <th>aurilri01</th>\n",
       "      <td>1999</td>\n",
       "      <td>2003</td>\n",
       "      <td>0.337842</td>\n",
       "      <td>-0.201758</td>\n",
       "      <td>-0.368989</td>\n",
       "      <td>-0.001882</td>\n",
       "      <td>-0.750008</td>\n",
       "      <td>81.479577</td>\n",
       "      <td>Rich</td>\n",
       "      <td>Aurilia</td>\n",
       "      <td>1300000.0</td>\n",
       "      <td>SS</td>\n",
       "    </tr>\n",
       "    <tr>\n",
       "      <th>bagweje01</th>\n",
       "      <td>1991</td>\n",
       "      <td>2004</td>\n",
       "      <td>-0.361386</td>\n",
       "      <td>0.212309</td>\n",
       "      <td>-0.354824</td>\n",
       "      <td>0.842972</td>\n",
       "      <td>1.518925</td>\n",
       "      <td>83.275097</td>\n",
       "      <td>Jeff</td>\n",
       "      <td>Bagwell</td>\n",
       "      <td>6875000.0</td>\n",
       "      <td>1B</td>\n",
       "    </tr>\n",
       "    <tr>\n",
       "      <th>bellda01</th>\n",
       "      <td>1999</td>\n",
       "      <td>2005</td>\n",
       "      <td>-0.487642</td>\n",
       "      <td>-0.042117</td>\n",
       "      <td>-0.569775</td>\n",
       "      <td>-0.361587</td>\n",
       "      <td>-0.275381</td>\n",
       "      <td>77.463902</td>\n",
       "      <td>David</td>\n",
       "      <td>Bell</td>\n",
       "      <td>1587500.0</td>\n",
       "      <td>2B</td>\n",
       "    </tr>\n",
       "    <tr>\n",
       "      <th>biggicr01</th>\n",
       "      <td>1990</td>\n",
       "      <td>2007</td>\n",
       "      <td>-0.269991</td>\n",
       "      <td>0.505507</td>\n",
       "      <td>-0.297553</td>\n",
       "      <td>-0.442267</td>\n",
       "      <td>-0.191688</td>\n",
       "      <td>79.611689</td>\n",
       "      <td>Craig</td>\n",
       "      <td>Biggio</td>\n",
       "      <td>4000000.0</td>\n",
       "      <td>C</td>\n",
       "    </tr>\n",
       "    <tr>\n",
       "      <th>winnra01</th>\n",
       "      <td>2002</td>\n",
       "      <td>2009</td>\n",
       "      <td>0.174342</td>\n",
       "      <td>0.437377</td>\n",
       "      <td>0.380662</td>\n",
       "      <td>-0.951990</td>\n",
       "      <td>-0.532600</td>\n",
       "      <td>79.569529</td>\n",
       "      <td>Randy</td>\n",
       "      <td>Winn</td>\n",
       "      <td>3400000.0</td>\n",
       "      <td>CF</td>\n",
       "    </tr>\n",
       "    <tr>\n",
       "      <th>womacto01</th>\n",
       "      <td>1997</td>\n",
       "      <td>2004</td>\n",
       "      <td>0.855448</td>\n",
       "      <td>-1.175588</td>\n",
       "      <td>1.354623</td>\n",
       "      <td>-1.569595</td>\n",
       "      <td>-1.106620</td>\n",
       "      <td>75.985797</td>\n",
       "      <td>Tony</td>\n",
       "      <td>Womack</td>\n",
       "      <td>2000000.0</td>\n",
       "      <td>SS</td>\n",
       "    </tr>\n",
       "    <tr>\n",
       "      <th>youngmi02</th>\n",
       "      <td>2002</td>\n",
       "      <td>2013</td>\n",
       "      <td>1.142298</td>\n",
       "      <td>0.072070</td>\n",
       "      <td>0.342163</td>\n",
       "      <td>-0.644227</td>\n",
       "      <td>-0.700161</td>\n",
       "      <td>83.180716</td>\n",
       "      <td>Michael</td>\n",
       "      <td>Young</td>\n",
       "      <td>4874987.0</td>\n",
       "      <td>2B</td>\n",
       "    </tr>\n",
       "  </tbody>\n",
       "</table>\n",
       "</div>"
      ],
      "text/plain": [
       "           Career Start  Career Ended        1B        2B        3B        HR  \\\n",
       "playerID                                                                        \n",
       "abreubo01          1998          2011 -0.446934  0.529856  0.206131 -0.186271   \n",
       "alfoned01          1997          2004  0.162877 -0.179646 -0.666449 -0.368651   \n",
       "aloumo01           1993          2004  0.583503  0.084322 -0.083471  0.572433   \n",
       "aurilri01          1999          2003  0.337842 -0.201758 -0.368989 -0.001882   \n",
       "bagweje01          1991          2004 -0.361386  0.212309 -0.354824  0.842972   \n",
       "bellda01           1999          2005 -0.487642 -0.042117 -0.569775 -0.361587   \n",
       "biggicr01          1990          2007 -0.269991  0.505507 -0.297553 -0.442267   \n",
       "winnra01           2002          2009  0.174342  0.437377  0.380662 -0.951990   \n",
       "womacto01          1997          2004  0.855448 -1.175588  1.354623 -1.569595   \n",
       "youngmi02          2002          2013  1.142298  0.072070  0.342163 -0.644227   \n",
       "\n",
       "                 BB        OPW nameFirst nameLast     salary POS  \n",
       "playerID                                                          \n",
       "abreubo01  1.425777  80.347287     Bobby    Abreu  9000000.0  LF  \n",
       "alfoned01  0.303348  79.332240   Edgardo  Alfonzo  4112500.0  2B  \n",
       "aloumo01   0.020802  85.486931    Moises     Alou  5135000.0  CF  \n",
       "aurilri01 -0.750008  81.479577      Rich  Aurilia  1300000.0  SS  \n",
       "bagweje01  1.518925  83.275097      Jeff  Bagwell  6875000.0  1B  \n",
       "bellda01  -0.275381  77.463902     David     Bell  1587500.0  2B  \n",
       "biggicr01 -0.191688  79.611689     Craig   Biggio  4000000.0   C  \n",
       "winnra01  -0.532600  79.569529     Randy     Winn  3400000.0  CF  \n",
       "womacto01 -1.106620  75.985797      Tony   Womack  2000000.0  SS  \n",
       "youngmi02 -0.700161  83.180716   Michael    Young  4874987.0  2B  "
      ]
     },
     "execution_count": 20,
     "metadata": {},
     "output_type": "execute_result"
    }
   ],
   "source": [
    "#[C, 1B, 2B, 3B, SS, LF, CF, RF, DH, or OF] \n",
    "myTeam=['biggicr01','bagweje01','bellda01','alfoned01', 'aurilri01', 'abreubo01', 'aloumo01','winnra01','youngmi02','womacto01']\n",
    "team=new_playerLS[new_playerLS['playerID'].isin(myTeam)].groupby(['playerID']).first()\n",
    "Total_Salary=team['salary'].mean()\n",
    "Predicted_Wins=team['OPW'].mean()\n",
    "\n",
    "print \"The predicted total median salary is %d, and the total predicted wins are %d\" %(Total_Salary,Predicted_Wins)\n",
    "team"
   ]
  },
  {
   "cell_type": "markdown",
   "metadata": {},
   "source": [
    "#### Problem 1(m)\n",
    "What do these players outperform in? Singles, doubles, triples HR or BB?"
   ]
  },
  {
   "cell_type": "code",
   "execution_count": 21,
   "metadata": {
    "collapsed": false
   },
   "outputs": [
    {
     "name": "stdout",
     "output_type": "stream",
     "text": [
      "Career Start    1.997401e+03\n",
      "Career Ended    2.006978e+03\n",
      "1B              7.529640e-02\n",
      "2B              3.149552e-02\n",
      "3B             -3.644604e-02\n",
      "HR              2.722188e-02\n",
      "BB             -4.832207e-02\n",
      "OPW             8.150593e+01\n",
      "salary          5.037928e+06\n",
      "dtype: float64\n",
      "Career Start    1.996800e+03\n",
      "Career Ended    2.006400e+03\n",
      "1B              1.690356e-01\n",
      "2B              2.423331e-02\n",
      "3B             -5.748402e-03\n",
      "HR             -3.111065e-01\n",
      "BB             -2.876053e-02\n",
      "OPW             8.057328e+01\n",
      "salary          4.228499e+06\n",
      "dtype: float64\n"
     ]
    }
   ],
   "source": [
    "print new_playerLS.groupby(['playerID']).first().mean()\n",
    "print team.mean()"
   ]
  },
  {
   "cell_type": "markdown",
   "metadata": {},
   "source": [
    "** Your answer here: **"
   ]
  },
  {
   "cell_type": "markdown",
   "metadata": {},
   "source": [
    "#### I am assuming this question is to compare my team with the rest of the league. My team outperforms in every position for 1B, 2B, 3B, HR, but not BB.  Comparison of the stats shown above. "
   ]
  },
  {
   "cell_type": "markdown",
   "metadata": {},
   "source": [
    "### Use one of the classification methods to predict wheather a player will be an Allstar?"
   ]
  },
  {
   "cell_type": "code",
   "execution_count": 53,
   "metadata": {
    "collapsed": false
   },
   "outputs": [
    {
     "data": {
      "text/html": [
       "<div>\n",
       "<table border=\"1\" class=\"dataframe\">\n",
       "  <thead>\n",
       "    <tr style=\"text-align: right;\">\n",
       "      <th></th>\n",
       "      <th>playerID</th>\n",
       "      <th>1B</th>\n",
       "      <th>2B</th>\n",
       "      <th>3B</th>\n",
       "      <th>HR</th>\n",
       "      <th>BB</th>\n",
       "    </tr>\n",
       "  </thead>\n",
       "  <tbody>\n",
       "    <tr>\n",
       "      <th>0</th>\n",
       "      <td>aaronha01</td>\n",
       "      <td>0.657739</td>\n",
       "      <td>0.590889</td>\n",
       "      <td>-0.460399</td>\n",
       "      <td>1.692869</td>\n",
       "      <td>0.522560</td>\n",
       "    </tr>\n",
       "    <tr>\n",
       "      <th>1</th>\n",
       "      <td>abreubo01</td>\n",
       "      <td>-0.446934</td>\n",
       "      <td>0.529856</td>\n",
       "      <td>0.206131</td>\n",
       "      <td>-0.186271</td>\n",
       "      <td>1.425777</td>\n",
       "    </tr>\n",
       "    <tr>\n",
       "      <th>2</th>\n",
       "      <td>ackledu01</td>\n",
       "      <td>-1.133881</td>\n",
       "      <td>-1.370270</td>\n",
       "      <td>-0.406178</td>\n",
       "      <td>-0.874834</td>\n",
       "      <td>0.045100</td>\n",
       "    </tr>\n",
       "    <tr>\n",
       "      <th>3</th>\n",
       "      <td>adairje01</td>\n",
       "      <td>-0.134264</td>\n",
       "      <td>0.271141</td>\n",
       "      <td>-0.439991</td>\n",
       "      <td>-0.740826</td>\n",
       "      <td>-1.051073</td>\n",
       "    </tr>\n",
       "    <tr>\n",
       "      <th>4</th>\n",
       "      <td>adamsru01</td>\n",
       "      <td>-0.908215</td>\n",
       "      <td>-0.106398</td>\n",
       "      <td>0.855811</td>\n",
       "      <td>-1.004250</td>\n",
       "      <td>0.075432</td>\n",
       "    </tr>\n",
       "  </tbody>\n",
       "</table>\n",
       "</div>"
      ],
      "text/plain": [
       "    playerID        1B        2B        3B        HR        BB\n",
       "0  aaronha01  0.657739  0.590889 -0.460399  1.692869  0.522560\n",
       "1  abreubo01 -0.446934  0.529856  0.206131 -0.186271  1.425777\n",
       "2  ackledu01 -1.133881 -1.370270 -0.406178 -0.874834  0.045100\n",
       "3  adairje01 -0.134264  0.271141 -0.439991 -0.740826 -1.051073\n",
       "4  adamsru01 -0.908215 -0.106398  0.855811 -1.004250  0.075432"
      ]
     },
     "execution_count": 53,
     "metadata": {},
     "output_type": "execute_result"
    }
   ],
   "source": [
    "CareerAverage_reset=careerAverage.reset_index()\n",
    "CareerAverage_reset.rename(columns={'index':'playerID'}, inplace=True)\n",
    "CareerAverage_reset.head()"
   ]
  },
  {
   "cell_type": "code",
   "execution_count": 55,
   "metadata": {
    "collapsed": false
   },
   "outputs": [
    {
     "data": {
      "text/html": [
       "<div>\n",
       "<table border=\"1\" class=\"dataframe\">\n",
       "  <thead>\n",
       "    <tr style=\"text-align: right;\">\n",
       "      <th></th>\n",
       "      <th>playerID</th>\n",
       "      <th>yearID</th>\n",
       "      <th>gameNum</th>\n",
       "      <th>gameID</th>\n",
       "      <th>teamID</th>\n",
       "      <th>lgID</th>\n",
       "      <th>GP</th>\n",
       "      <th>startingPos</th>\n",
       "    </tr>\n",
       "  </thead>\n",
       "  <tbody>\n",
       "    <tr>\n",
       "      <th>0</th>\n",
       "      <td>gomezle01</td>\n",
       "      <td>1933</td>\n",
       "      <td>0</td>\n",
       "      <td>ALS193307060</td>\n",
       "      <td>NYA</td>\n",
       "      <td>AL</td>\n",
       "      <td>1.0</td>\n",
       "      <td>1.0</td>\n",
       "    </tr>\n",
       "    <tr>\n",
       "      <th>1</th>\n",
       "      <td>ferreri01</td>\n",
       "      <td>1933</td>\n",
       "      <td>0</td>\n",
       "      <td>ALS193307060</td>\n",
       "      <td>BOS</td>\n",
       "      <td>AL</td>\n",
       "      <td>1.0</td>\n",
       "      <td>2.0</td>\n",
       "    </tr>\n",
       "    <tr>\n",
       "      <th>2</th>\n",
       "      <td>gehrilo01</td>\n",
       "      <td>1933</td>\n",
       "      <td>0</td>\n",
       "      <td>ALS193307060</td>\n",
       "      <td>NYA</td>\n",
       "      <td>AL</td>\n",
       "      <td>1.0</td>\n",
       "      <td>3.0</td>\n",
       "    </tr>\n",
       "    <tr>\n",
       "      <th>3</th>\n",
       "      <td>gehrich01</td>\n",
       "      <td>1933</td>\n",
       "      <td>0</td>\n",
       "      <td>ALS193307060</td>\n",
       "      <td>DET</td>\n",
       "      <td>AL</td>\n",
       "      <td>1.0</td>\n",
       "      <td>4.0</td>\n",
       "    </tr>\n",
       "    <tr>\n",
       "      <th>4</th>\n",
       "      <td>dykesji01</td>\n",
       "      <td>1933</td>\n",
       "      <td>0</td>\n",
       "      <td>ALS193307060</td>\n",
       "      <td>CHA</td>\n",
       "      <td>AL</td>\n",
       "      <td>1.0</td>\n",
       "      <td>5.0</td>\n",
       "    </tr>\n",
       "  </tbody>\n",
       "</table>\n",
       "</div>"
      ],
      "text/plain": [
       "    playerID  yearID  gameNum        gameID teamID lgID   GP  startingPos\n",
       "0  gomezle01    1933        0  ALS193307060    NYA   AL  1.0          1.0\n",
       "1  ferreri01    1933        0  ALS193307060    BOS   AL  1.0          2.0\n",
       "2  gehrilo01    1933        0  ALS193307060    NYA   AL  1.0          3.0\n",
       "3  gehrich01    1933        0  ALS193307060    DET   AL  1.0          4.0\n",
       "4  dykesji01    1933        0  ALS193307060    CHA   AL  1.0          5.0"
      ]
     },
     "execution_count": 55,
     "metadata": {},
     "output_type": "execute_result"
    }
   ],
   "source": [
    "AllStar.head()"
   ]
  },
  {
   "cell_type": "code",
   "execution_count": 68,
   "metadata": {
    "collapsed": false
   },
   "outputs": [
    {
     "name": "stdout",
     "output_type": "stream",
     "text": [
      "Score: 83.19 %\n"
     ]
    }
   ],
   "source": [
    "import pandas as pd\n",
    "AllStar=pd.read_csv(file_location+'AllstarFull.csv')[['playerID','yearID','GP']].drop_duplicates()\n",
    "players_AllStars=CareerAverage_reset.merge(AllStar, on='playerID')\n",
    "\n",
    "from sklearn.cross_validation import train_test_split\n",
    "from sklearn.ensemble import RandomForestClassifier\n",
    "\n",
    "#Filter out allstars from players dataset\n",
    "\n",
    "players_AllStars['GP'] = players_AllStars['GP'].fillna(0)\n",
    "\n",
    "x = players_AllStars.drop('GP',axis=1)._get_numeric_data().fillna(0)\n",
    "y = players_AllStars['GP']\n",
    "x_train, x_test, y_train, y_test = train_test_split(x, y, test_size=0.20)\n",
    "rfc = RandomForestClassifier()\n",
    "rfc.fit(x_train, y_train) \n",
    "z = pd.DataFrame(zip(rfc.predict(x_test),y_test),columns = ['predicted','actual'])\n",
    "z['new'] = z['actual']-z['predicted']\n",
    "\n",
    "print 'Score:','%.2f'%(100 - z[z['new']!=0]['new'].count()*100.0/z['new'].count()),'%'"
   ]
  },
  {
   "cell_type": "markdown",
   "metadata": {},
   "source": [
    "## Discussion for Problem 1\n",
    "\n",
    "*Write a brief discussion of your conclusions to the questions and tasks above in 100 words or less.*\n",
    "\n",
    "---"
   ]
  },
  {
   "cell_type": "markdown",
   "metadata": {},
   "source": [
    "# Problem 2:  $k$-Nearest Neighbors and Cross Validation \n",
    "\n",
    "What is the optimal $k$ for predicting species using $k$-nearest neighbor classification \n",
    "on the four features provided by the iris dataset.\n",
    "\n",
    "In this problem you will get to know the famous iris data set, and use cross validation to select the optimal $k$ for a $k$-nearest neighbor classification. This problem set makes heavy use of the [sklearn](http://scikit-learn.org/stable/) library. In addition to Pandas, it is one of the most useful libraries for data scientists. \n",
    "For the Iris data set  sklearn provides an extra function to load it - since it is one of the very commonly used data sets."
   ]
  },
  {
   "cell_type": "code",
   "execution_count": null,
   "metadata": {
    "collapsed": false
   },
   "outputs": [],
   "source": [
    "import matplotlib.pyplot as plt\n",
    "from mpl_toolkits.mplot3d import Axes3D\n",
    "from sklearn.decomposition import PCA\n",
    "import numpy as np\n",
    "from sklearn import cross_validation\n",
    "from sklearn import datasets\n",
    "from sklearn import svm\n",
    "\n",
    "iris = datasets.load_iris()\n",
    "iris.data.shape, iris.target.shape\n",
    "X, y=iris.data, iris.target"
   ]
  },
  {
   "cell_type": "markdown",
   "metadata": {},
   "source": [
    "#### Problem 2(a) \n",
    "Split the data into a train and a test set. Use a random selection of 33% of the samples as test data. Sklearn provides the [`train_test_split`](http://scikit-learn.org/stable/modules/generated/sklearn.cross_validation.train_test_split.html) function for this purpose. Print the dimensions of all the train and test data sets you have created. "
   ]
  },
  {
   "cell_type": "code",
   "execution_count": null,
   "metadata": {
    "collapsed": false
   },
   "outputs": [],
   "source": [
    "X_train, X_test, y_train, y_test = cross_validation.train_test_split(\n",
    "    iris.data, iris.target, test_size=0.33, random_state=0)\n",
    "\n",
    "X_train.shape, y_train.shape\n",
    "\n",
    "X_test.shape, y_test.shape"
   ]
  },
  {
   "cell_type": "markdown",
   "metadata": {},
   "source": [
    "#### Problem 2(b) \n",
    "\n",
    " Use ***ten fold cross validation*** to estimate the optimal value for $k$ for the iris data set. \n",
    "\n",
    "**Note**: For your convenience sklearn does not only include the [KNN classifier](http://scikit-learn.org/stable/modules/generated/sklearn.neighbors.KNeighborsClassifier.html), but also a [grid search function](http://scikit-learn.org/stable/modules/generated/sklearn.grid_search.GridSearchCV.html#sklearn.grid_search.GridSearchCV). The function is called grid search, because if you have to optimize more than one parameter, it is common practice to define a range of possible values for each parameter. An exhaustive search then runs over the complete grid defined by all the possible parameter combinations. This can get very computation heavy, but luckily our KNN classifier only requires tuning of a single parameter for this problem set. "
   ]
  },
  {
   "cell_type": "code",
   "execution_count": 122,
   "metadata": {
    "collapsed": false
   },
   "outputs": [
    {
     "data": {
      "text/plain": [
       "0.93333333333333335"
      ]
     },
     "execution_count": 122,
     "metadata": {},
     "output_type": "execute_result"
    }
   ],
   "source": [
    "from sklearn.neighbors import KNeighborsClassifier\n",
    "from sklearn import grid_search\n",
    "\n",
    "\n",
    "iris = datasets.load_iris()\n",
    "X, y=iris.data, iris.target\n",
    "\n",
    "X_train, X_test, y_train, y_test = train_test_split(X, y, test_size=0.2)\n",
    "\n",
    "neigh = KNeighborsClassifier(n_neighbors=25)\n",
    "\n",
    "neigh.fit(X_train, y_train) \n",
    "neigh.score(X_test, y_test)"
   ]
  },
  {
   "cell_type": "code",
   "execution_count": 123,
   "metadata": {
    "collapsed": false
   },
   "outputs": [
    {
     "name": "stdout",
     "output_type": "stream",
     "text": [
      "k = 4\n"
     ]
    }
   ],
   "source": [
    "neigh = sklearn.neighbors.KNeighborsClassifier()\n",
    "grid_search = sklearn.grid_search.GridSearchCV(neigh, {'n_neighbors':list(range(1,15))}, cv=10)\n",
    "grid_search.fit(X_train, y_train)\n",
    "k = grid_search.best_params_['n_neighbors']\n",
    "print 'k =',grid_search.best_params_['n_neighbors']"
   ]
  },
  {
   "cell_type": "markdown",
   "metadata": {},
   "source": [
    "#### Problem 2(c)\n",
    "\n",
    "Visualize the result by plotting the score results versus values for $k$. "
   ]
  },
  {
   "cell_type": "code",
   "execution_count": 124,
   "metadata": {
    "collapsed": false
   },
   "outputs": [
    {
     "data": {
      "image/png": "[encoded data removed]",
      "text/plain": [
       "<matplotlib.figure.Figure at 0x1189592d0>"
      ]
     },
     "metadata": {},
     "output_type": "display_data"
    }
   ],
   "source": [
    "scores = []\n",
    "for i in range(1,25):\n",
    "    clf = sklearn.neighbors.KNeighborsClassifier(n_neighbors=i)\n",
    "    score = np.mean(sklearn.cross_validation.cross_val_score(clf, X_train, y_train, cv=10))\n",
    "    scores.append(score)\n",
    "plt.plot(list(range(1,25)), scores)\n",
    "\n",
    "plt.xlabel('K_ Nieghbors to Choose')\n",
    "plt.ylabel('KNN Accuracy')\n",
    "plt.title('Coefficient of determination R^2 of the prediction');"
   ]
  },
  {
   "cell_type": "markdown",
   "metadata": {},
   "source": [
    "Verify that the grid search has indeed chosen the right parameter value for $k$."
   ]
  },
  {
   "cell_type": "markdown",
   "metadata": {
    "collapsed": false
   },
   "source": [
    "## The graph above shows coefficient of determination R^2, this graph agrees with the grid search functions output. "
   ]
  },
  {
   "cell_type": "markdown",
   "metadata": {},
   "source": [
    "#### Problem 2(d)\n",
    "\n",
    "Test the performance of our tuned KNN classifier on the test set."
   ]
  },
  {
   "cell_type": "code",
   "execution_count": 125,
   "metadata": {
    "collapsed": false
   },
   "outputs": [
    {
     "name": "stdout",
     "output_type": "stream",
     "text": [
      "Score:\t93.3333333333 %\n"
     ]
    }
   ],
   "source": [
    "scores = []\n",
    "for i in range(10):\n",
    "    clf = sklearn.neighbors.KNeighborsClassifier(n_neighbors=k)\n",
    "    clf.fit(X_train, y_train)\n",
    "    pred = clf.predict(X_test)\n",
    "    score = float(np.sum([i==j for i,j in zip(pred, y_test)]))/len(pred)\n",
    "    scores.append(score)\n",
    "    \n",
    "print 'Score:\\t',np.mean(scores)*100,'%'"
   ]
  },
  {
   "cell_type": "markdown",
   "metadata": {},
   "source": [
    "## Discussion for Problem 2\n",
    "\n",
    "*Write a brief discussion of your conclusions to the questions and tasks above in 100 words or less.*\n",
    "\n",
    "Answer: ---10 Fold Cross validation is a method used to estimate how accurately a predictive model will perform in practice.  K nearest neighbors classifier was used in conjuction with 10 fold cross validation to predict how well our classifier will do in the future. We recieved an accuracy score of 93.3%."
   ]
  },
  {
   "cell_type": "markdown",
   "metadata": {},
   "source": [
    "## Problem 3: Supervised Learning - Estimating Boston house pricing using Linear Regression and Regression Trees"
   ]
  },
  {
   "cell_type": "markdown",
   "metadata": {},
   "source": [
    "##### Import the Boston House Pricing Dataset; it comes with the scikit or you can dowload it FROM UCI ML housing dataset. (http://archive.ics.uci.edu/ml/datasets/Housing)"
   ]
  },
  {
   "cell_type": "code",
   "execution_count": null,
   "metadata": {
    "collapsed": false
   },
   "outputs": [],
   "source": [
    "### Your code here ###"
   ]
  },
  {
   "cell_type": "markdown",
   "metadata": {},
   "source": [
    "#### Find the mostimportant features"
   ]
  },
  {
   "cell_type": "code",
   "execution_count": null,
   "metadata": {
    "collapsed": false
   },
   "outputs": [],
   "source": [
    "### Your code here ###"
   ]
  },
  {
   "cell_type": "markdown",
   "metadata": {},
   "source": [
    "#### Using 10-fold cross validation separate the test and training data sets"
   ]
  },
  {
   "cell_type": "code",
   "execution_count": null,
   "metadata": {
    "collapsed": false
   },
   "outputs": [],
   "source": [
    "### Your code here ###"
   ]
  },
  {
   "cell_type": "code",
   "execution_count": null,
   "metadata": {
    "collapsed": false
   },
   "outputs": [],
   "source": [
    "Normalize the data"
   ]
  },
  {
   "cell_type": "code",
   "execution_count": null,
   "metadata": {
    "collapsed": false
   },
   "outputs": [],
   "source": [
    "### Your code here ###"
   ]
  },
  {
   "cell_type": "markdown",
   "metadata": {},
   "source": [
    "### Start with a lineal model and evaluate how well it can predict the price variable"
   ]
  },
  {
   "cell_type": "code",
   "execution_count": null,
   "metadata": {
    "collapsed": false
   },
   "outputs": [],
   "source": [
    "### Your code here ###"
   ]
  },
  {
   "cell_type": "markdown",
   "metadata": {},
   "source": [
    "### Try using Ridge regression and evaluate the result of the 10-fold cross-validation"
   ]
  },
  {
   "cell_type": "code",
   "execution_count": null,
   "metadata": {
    "collapsed": false
   },
   "outputs": [],
   "source": [
    "### Your code here ###"
   ]
  },
  {
   "cell_type": "markdown",
   "metadata": {},
   "source": [
    "### Train the Regression Tree and evaluate using 10-fold cross validation; Specify the parapmeters used and how you changed them to increase the accuracy;  "
   ]
  },
  {
   "cell_type": "code",
   "execution_count": null,
   "metadata": {
    "collapsed": false
   },
   "outputs": [],
   "source": [
    "### Your code here ###"
   ]
  },
  {
   "cell_type": "markdown",
   "metadata": {},
   "source": [
    "### Discussion for Problem 3  Write a brief discussion of your conclusions to the questions and tasks above in 100 words or less.Compare all three aproaches and discuss your findings in 100 words or less"
   ]
  }
 ],
 "metadata": {
  "kernelspec": {
   "display_name": "Python 2",
   "language": "python",
   "name": "python2"
  },
  "language_info": {
   "codemirror_mode": {
    "name": "ipython",
    "version": 2
   },
   "file_extension": ".py",
   "mimetype": "text/x-python",
   "name": "python",
   "nbconvert_exporter": "python",
   "pygments_lexer": "ipython2",
   "version": "2.7.11"
  }
 },
 "nbformat": 4,
 "nbformat_minor": 0
}
