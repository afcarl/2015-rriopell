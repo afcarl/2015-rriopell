{
 "cells": [
  {
   "cell_type": "markdown",
   "metadata": {},
   "source": [
    "Assignnement 2: Prediction and Classification\n",
    "\n",
    "Due: Thursday, April 30, 2015 11:59 PM\n"
   ]
  },
  {
   "cell_type": "markdown",
   "metadata": {},
   "source": [
    "# Introduction\n",
    "Problem 1 is optional - for extra credit!\n",
    "Problems 2 and 3 will be graded for the Lab 2.  \n",
    "\n",
    "\n",
    "In this assignment you will be using regression and classification to explore different data sets.  \n",
    "\n",
    "**First**: You will use data from before 2002 in the [Sean Lahman's Baseball Database](http://seanlahman.com/baseball-archive/statistics) to create a metric for picking baseball players using linear regression.  This database contains the \"complete batting and pitching statistics from 1871 to 2013, plus fielding statistics, standings, team stats, managerial records, post-season data, and more\". [Documentation provided here](http://seanlahman.com/files/database/readme2012.txt).\n",
    "\n",
    "![\"Sabermetrics Science\"](http://saberseminar.com/wp-content/uploads/2012/01/saber-web.jpg)\n",
    "http://saberseminar.com/wp-content/uploads/2012/01/saber-web.jpg\n",
    "\n",
    "**Second**: You will use the famous [iris](http://en.wikipedia.org/wiki/Iris_flower_data_set) data set to perform a $k$-neareast neighbor classification using cross validation.  While it was introduced in 1936, it is still [one of the most popular](http://archive.ics.uci.edu/ml/) example data sets in the machine learning community. Wikipedia describes the data set as follows: \"The data set consists of 50 samples from each of three species of Iris (Iris setosa, Iris virginica and Iris versicolor). Four features were measured from each sample: the length and the width of the sepals and petals, in centimetres.\" Here is an illustration what the four features measure:\n",
    "\n",
    "![\"iris data features\"](http://sebastianraschka.com/Images/2014_python_lda/iris_petal_sepal.png)\n",
    "http://sebastianraschka.com/Images/2014_python_lda/iris_petal_sepal.png\n",
    "\n",
    "**Third**: You will investigate the influence of higher dimensional spaces on the classification using another standard data set in machine learning called the The [digits data set](http://scikit-learn.org/stable/modules/generated/sklearn.datasets.load_digits.html).   Each digit is represented by an 8x8 pixel image patch. In addition, the gray values are restricted to 16 different values (4 bit). \n",
    "\n"
   ]
  },
  {
   "cell_type": "markdown",
   "metadata": {},
   "source": [
    "## Load Python modules"
   ]
  },
  {
   "cell_type": "code",
   "execution_count": 1,
   "metadata": {
    "collapsed": false
   },
   "outputs": [],
   "source": [
    "# prepare the notebook for matplotlib\n",
    "%matplotlib inline \n",
    "\n",
    "import requests \n",
    "import StringIO\n",
    "import zipfile\n",
    "import numpy as np\n",
    "import pandas as pd # pandas\n",
    "import matplotlib.pyplot as plt # module for plotting \n",
    "\n",
    "# If this module is not already installed, you may need to install it. \n",
    "# You can do this by typing 'pip install seaborn' in the command line\n",
    "import seaborn as sns \n",
    "\n",
    "import sklearn\n",
    "import sklearn.datasets\n",
    "import sklearn.cross_validation\n",
    "import sklearn.decomposition\n",
    "import sklearn.grid_search\n",
    "import sklearn.neighbors\n",
    "import sklearn.metrics"
   ]
  },
  {
   "cell_type": "markdown",
   "metadata": {},
   "source": [
    "# Problem 1: Sabermetrics\n",
    "\n",
    "Using data preceding the 2002 season pick 10 offensive players keeping the payroll under $20 million (assign each player the median salary). Predict how many games this team would win in a 162 game season.  \n",
    "\n",
    "In this problem we will be returning to the [Sean Lahman's Baseball Database](http://seanlahman.com/baseball-archive/statistics).  From this database, we will be extract five data sets containing information such as yearly stats and standing, batting statistics, fielding statistics, player names, player salaries and biographical information. You will explore the data in this database from before 2002 and create a metric for picking players. "
   ]
  },
  {
   "cell_type": "markdown",
   "metadata": {},
   "source": [
    "#### Problem 1(a) \n",
    "\n",
    "Load in [these CSV files](http://seanlahman.com/files/database/lahman-csv_2014-02-14.zip) from the [Sean Lahman's Baseball Database](http://seanlahman.com/baseball-archive/statistics). For this assignment, we will use the 'Teams.csv', 'Batting.csv', 'Salaries.csv', 'Fielding.csv', 'Master.csv' tables. Read these tables into separate pandas DataFrames with the following names. \n",
    "\n",
    "CSV file name | Name of pandas DataFrame\n",
    ":---: | :---: \n",
    "Teams.csv | teams\n",
    "Batting.csv | players\n",
    "Salaries.csv | salaries\n",
    "Fielding.csv | fielding\n",
    "Master.csv | master"
   ]
  },
  {
   "cell_type": "markdown",
   "metadata": {},
   "source": [
    "#### Problem 1(b)\n",
    "\n",
    "Calculate the median salary for each player and create a pandas DataFrame called `medianSalaries` with four columns: (1) the player ID, (2) the first name of the player, (3) the last name of the player and (4) the median salary of the player. Show the head of the `medianSalaries` DataFrame.   "
   ]
  },
  {
   "cell_type": "code",
   "execution_count": 2,
   "metadata": {
    "collapsed": false
   },
   "outputs": [],
   "source": [
    "file_location='./lahman-csv_2014-02-14/'\n",
    "teams=pd.read_csv(file_location+'Teams.csv')\n",
    "players= pd.read_csv(file_location+'Batting.csv')\n",
    "salaries= pd.read_csv(file_location+'Salaries.csv')\n",
    "fielding= pd.read_csv(file_location+'Fielding.csv')\n",
    "master= pd.read_csv(file_location+'Master.csv')"
   ]
  },
  {
   "cell_type": "code",
   "execution_count": 3,
   "metadata": {
    "collapsed": false
   },
   "outputs": [
    {
     "data": {
      "text/html": [
       "<div>\n",
       "<table border=\"1\" class=\"dataframe\">\n",
       "  <thead>\n",
       "    <tr style=\"text-align: right;\">\n",
       "      <th></th>\n",
       "      <th>playerID</th>\n",
       "      <th>nameFirst</th>\n",
       "      <th>nameLast</th>\n",
       "      <th>salary</th>\n",
       "    </tr>\n",
       "  </thead>\n",
       "  <tbody>\n",
       "    <tr>\n",
       "      <th>0</th>\n",
       "      <td>aardsda01</td>\n",
       "      <td>David</td>\n",
       "      <td>Aardsma</td>\n",
       "      <td>419000.0</td>\n",
       "    </tr>\n",
       "    <tr>\n",
       "      <th>1</th>\n",
       "      <td>aaronha01</td>\n",
       "      <td>Hank</td>\n",
       "      <td>Aaron</td>\n",
       "      <td>NaN</td>\n",
       "    </tr>\n",
       "    <tr>\n",
       "      <th>2</th>\n",
       "      <td>aaronto01</td>\n",
       "      <td>Tommie</td>\n",
       "      <td>Aaron</td>\n",
       "      <td>NaN</td>\n",
       "    </tr>\n",
       "    <tr>\n",
       "      <th>3</th>\n",
       "      <td>aasedo01</td>\n",
       "      <td>Don</td>\n",
       "      <td>Aase</td>\n",
       "      <td>612500.0</td>\n",
       "    </tr>\n",
       "    <tr>\n",
       "      <th>4</th>\n",
       "      <td>abadan01</td>\n",
       "      <td>Andy</td>\n",
       "      <td>Abad</td>\n",
       "      <td>327000.0</td>\n",
       "    </tr>\n",
       "  </tbody>\n",
       "</table>\n",
       "</div>"
      ],
      "text/plain": [
       "    playerID nameFirst nameLast    salary\n",
       "0  aardsda01     David  Aardsma  419000.0\n",
       "1  aaronha01      Hank    Aaron       NaN\n",
       "2  aaronto01    Tommie    Aaron       NaN\n",
       "3   aasedo01       Don     Aase  612500.0\n",
       "4   abadan01      Andy     Abad  327000.0"
      ]
     },
     "execution_count": 3,
     "metadata": {},
     "output_type": "execute_result"
    }
   ],
   "source": [
    "# Get (1)the player ID,(2) the first name of the player, (3) the last name of the player(4)the median salary of the player\n",
    "#get the median salary\n",
    "pd=salaries.groupby(['playerID']).median().salary\n",
    "pd=pd.to_frame()\n",
    "#join to names on player ID\n",
    "median_salary=master.loc[:,['playerID','nameFirst', 'nameLast']].join(pd, on='playerID')\n",
    "median_salary.head()"
   ]
  },
  {
   "cell_type": "markdown",
   "metadata": {},
   "source": [
    "#### Problem 1(c)\n",
    "\n",
    "Now, consider only team/season combinations in which the teams played 162 Games. Exclude all data from before 1947. Compute the per plate appearance rates for singles, doubles, triples, HR, and BB. Create a new pandas DataFrame called `stats` that has the teamID, yearID, wins and these rates.\n",
    "\n",
    "**Hint**: Singles are hits that are not doubles, triples, nor HR. Plate appearances are base on balls plus at bats."
   ]
  },
  {
   "cell_type": "code",
   "execution_count": 5,
   "metadata": {
    "collapsed": false
   },
   "outputs": [
    {
     "data": {
      "text/plain": [
       "Index([u'yearID', u'lgID', u'teamID', u'franchID', u'divID', u'Rank', u'G',\n",
       "       u'Ghome', u'W', u'L', u'DivWin', u'WCWin', u'LgWin', u'WSWin', u'R',\n",
       "       u'AB', u'H', u'2B', u'3B', u'HR', u'BB', u'SO', u'SB', u'CS', u'HBP',\n",
       "       u'SF', u'RA', u'ER', u'ERA', u'CG', u'SHO', u'SV', u'IPouts', u'HA',\n",
       "       u'HRA', u'BBA', u'SOA', u'E', u'DP', u'FP', u'name', u'park',\n",
       "       u'attendance', u'BPF', u'PPF', u'teamIDBR', u'teamIDlahman45',\n",
       "       u'teamIDretro'],\n",
       "      dtype='object')"
      ]
     },
     "execution_count": 5,
     "metadata": {},
     "output_type": "execute_result"
    }
   ],
   "source": [
    "teams.columns"
   ]
  },
  {
   "cell_type": "code",
   "execution_count": 6,
   "metadata": {
    "collapsed": false
   },
   "outputs": [
    {
     "data": {
      "text/html": [
       "<div>\n",
       "<table border=\"1\" class=\"dataframe\">\n",
       "  <thead>\n",
       "    <tr style=\"text-align: right;\">\n",
       "      <th></th>\n",
       "      <th>teamID</th>\n",
       "      <th>yearID</th>\n",
       "      <th>W</th>\n",
       "      <th>1B</th>\n",
       "      <th>2B</th>\n",
       "      <th>3B</th>\n",
       "      <th>HR</th>\n",
       "      <th>BB</th>\n",
       "      <th>AB</th>\n",
       "    </tr>\n",
       "  </thead>\n",
       "  <tbody>\n",
       "    <tr>\n",
       "      <th>1</th>\n",
       "      <td>ANA</td>\n",
       "      <td>1997</td>\n",
       "      <td>84</td>\n",
       "      <td>0.200480</td>\n",
       "      <td>0.044676</td>\n",
       "      <td>0.004003</td>\n",
       "      <td>0.025781</td>\n",
       "      <td>0.098799</td>\n",
       "      <td>6245</td>\n",
       "    </tr>\n",
       "    <tr>\n",
       "      <th>2</th>\n",
       "      <td>ANA</td>\n",
       "      <td>1998</td>\n",
       "      <td>85</td>\n",
       "      <td>0.198046</td>\n",
       "      <td>0.051140</td>\n",
       "      <td>0.004397</td>\n",
       "      <td>0.023941</td>\n",
       "      <td>0.083062</td>\n",
       "      <td>6140</td>\n",
       "    </tr>\n",
       "    <tr>\n",
       "      <th>3</th>\n",
       "      <td>ANA</td>\n",
       "      <td>1999</td>\n",
       "      <td>70</td>\n",
       "      <td>0.192506</td>\n",
       "      <td>0.041299</td>\n",
       "      <td>0.003664</td>\n",
       "      <td>0.026311</td>\n",
       "      <td>0.085096</td>\n",
       "      <td>6005</td>\n",
       "    </tr>\n",
       "    <tr>\n",
       "      <th>4</th>\n",
       "      <td>ANA</td>\n",
       "      <td>2000</td>\n",
       "      <td>82</td>\n",
       "      <td>0.202854</td>\n",
       "      <td>0.049551</td>\n",
       "      <td>0.005452</td>\n",
       "      <td>0.037845</td>\n",
       "      <td>0.097498</td>\n",
       "      <td>6236</td>\n",
       "    </tr>\n",
       "    <tr>\n",
       "      <th>5</th>\n",
       "      <td>ANA</td>\n",
       "      <td>2001</td>\n",
       "      <td>75</td>\n",
       "      <td>0.193879</td>\n",
       "      <td>0.045492</td>\n",
       "      <td>0.004301</td>\n",
       "      <td>0.026137</td>\n",
       "      <td>0.081720</td>\n",
       "      <td>6045</td>\n",
       "    </tr>\n",
       "  </tbody>\n",
       "</table>\n",
       "</div>"
      ],
      "text/plain": [
       "  teamID  yearID   W        1B        2B        3B        HR        BB    AB\n",
       "1    ANA    1997  84  0.200480  0.044676  0.004003  0.025781  0.098799  6245\n",
       "2    ANA    1998  85  0.198046  0.051140  0.004397  0.023941  0.083062  6140\n",
       "3    ANA    1999  70  0.192506  0.041299  0.003664  0.026311  0.085096  6005\n",
       "4    ANA    2000  82  0.202854  0.049551  0.005452  0.037845  0.097498  6236\n",
       "5    ANA    2001  75  0.193879  0.045492  0.004301  0.026137  0.081720  6045"
      ]
     },
     "execution_count": 6,
     "metadata": {},
     "output_type": "execute_result"
    }
   ],
   "source": [
    "# Get cont for games per year per team\n",
    "df=teams.groupby(['teamID','yearID','G']).sum().reset_index()\n",
    "#select years after 1947\n",
    "df=df[df.yearID>1947]\n",
    "#select rows where games = 162\n",
    "df=df[df.G==162]\n",
    "#per plate appearence singles, doubles, triples, HR, and BB\n",
    "df['1B']=df.loc[:,['H']].subtract(df.loc[:,['2B']].values)\n",
    "\n",
    "#df.loc(:,['teamID','yearID','wins'])\n",
    "stats=df.loc[:,['teamID','yearID','W','1B','2B','3B','HR','BB','AB']]\n",
    "stats['AB']=stats['AB']+df['BB']\n",
    "stats['1B']=stats['1B']/stats['AB']\n",
    "stats['2B']=stats['2B']/stats['AB']\n",
    "stats['3B']=stats['3B']/stats['AB']\n",
    "stats['HR']=stats['HR']/stats['AB']\n",
    "stats['BB']=stats['BB']/stats['AB']\n",
    "#stats=stats.iloc[:,0:7] Dont remove the AB for next steps\n",
    "stats.head()"
   ]
  },
  {
   "cell_type": "markdown",
   "metadata": {},
   "source": [
    "#### Problem 1(d)\n",
    "\n",
    "Is there a noticeable time trend in the rates computed computed in Problem 1(c)? "
   ]
  },
  {
   "cell_type": "code",
   "execution_count": 7,
   "metadata": {
    "collapsed": false
   },
   "outputs": [
    {
     "data": {
      "text/html": [
       "<div>\n",
       "<table border=\"1\" class=\"dataframe\">\n",
       "  <thead>\n",
       "    <tr style=\"text-align: right;\">\n",
       "      <th></th>\n",
       "      <th>yearID</th>\n",
       "      <th>1B</th>\n",
       "      <th>2B</th>\n",
       "      <th>3B</th>\n",
       "      <th>HR</th>\n",
       "      <th>BB</th>\n",
       "    </tr>\n",
       "  </thead>\n",
       "  <tbody>\n",
       "    <tr>\n",
       "      <th>0</th>\n",
       "      <td>1961</td>\n",
       "      <td>0.184941</td>\n",
       "      <td>0.035845</td>\n",
       "      <td>0.005717</td>\n",
       "      <td>0.022975</td>\n",
       "      <td>0.104083</td>\n",
       "    </tr>\n",
       "    <tr>\n",
       "      <th>1</th>\n",
       "      <td>1962</td>\n",
       "      <td>0.196221</td>\n",
       "      <td>0.035853</td>\n",
       "      <td>0.006777</td>\n",
       "      <td>0.023811</td>\n",
       "      <td>0.088590</td>\n",
       "    </tr>\n",
       "    <tr>\n",
       "      <th>2</th>\n",
       "      <td>1963</td>\n",
       "      <td>0.190617</td>\n",
       "      <td>0.034020</td>\n",
       "      <td>0.006896</td>\n",
       "      <td>0.021254</td>\n",
       "      <td>0.080336</td>\n",
       "    </tr>\n",
       "    <tr>\n",
       "      <th>3</th>\n",
       "      <td>1964</td>\n",
       "      <td>0.195546</td>\n",
       "      <td>0.036336</td>\n",
       "      <td>0.006748</td>\n",
       "      <td>0.021548</td>\n",
       "      <td>0.079152</td>\n",
       "    </tr>\n",
       "    <tr>\n",
       "      <th>4</th>\n",
       "      <td>1965</td>\n",
       "      <td>0.189269</td>\n",
       "      <td>0.035539</td>\n",
       "      <td>0.006534</td>\n",
       "      <td>0.022693</td>\n",
       "      <td>0.085745</td>\n",
       "    </tr>\n",
       "  </tbody>\n",
       "</table>\n",
       "</div>"
      ],
      "text/plain": [
       "   yearID        1B        2B        3B        HR        BB\n",
       "0    1961  0.184941  0.035845  0.005717  0.022975  0.104083\n",
       "1    1962  0.196221  0.035853  0.006777  0.023811  0.088590\n",
       "2    1963  0.190617  0.034020  0.006896  0.021254  0.080336\n",
       "3    1964  0.195546  0.036336  0.006748  0.021548  0.079152\n",
       "4    1965  0.189269  0.035539  0.006534  0.022693  0.085745"
      ]
     },
     "execution_count": 7,
     "metadata": {},
     "output_type": "execute_result"
    },
    {
     "data": {
      "image/png": "[encoded data removed]",
      "text/plain": [
       "<matplotlib.figure.Figure at 0x118498110>"
      ]
     },
     "metadata": {},
     "output_type": "display_data"
    }
   ],
   "source": [
    "### Your code here ###\n",
    "time_trend=stats.groupby('yearID').mean().reset_index()\n",
    "time_trend=time_trend.iloc[:,[0,2,3,4,5,6]]\n",
    "time_trend.plot.line(x='yearID')\n",
    "plt.xlabel('On Base Rates')\n",
    "plt.ylabel('Rates')\n",
    "plt.title('Years')\n",
    "time_trend.head()"
   ]
  },
  {
   "cell_type": "markdown",
   "metadata": {},
   "source": [
    "#### Problem 1(e) \n",
    "\n",
    "Using the `stats` DataFrame from Problem 1(c), adjust the singles per PA rates so that the average across teams for each year is 0. Do the same for the doubles, triples, HR, and BB rates. "
   ]
  },
  {
   "cell_type": "code",
   "execution_count": 8,
   "metadata": {
    "collapsed": false
   },
   "outputs": [
    {
     "data": {
      "text/html": [
       "<div>\n",
       "<table border=\"1\" class=\"dataframe\">\n",
       "  <thead>\n",
       "    <tr style=\"text-align: right;\">\n",
       "      <th></th>\n",
       "      <th>yearID</th>\n",
       "      <th>1B_Mean</th>\n",
       "      <th>2B_Mean</th>\n",
       "      <th>3B_Mean</th>\n",
       "      <th>HR_Mean</th>\n",
       "      <th>BB_Mean</th>\n",
       "    </tr>\n",
       "  </thead>\n",
       "  <tbody>\n",
       "    <tr>\n",
       "      <th>0</th>\n",
       "      <td>1961</td>\n",
       "      <td>0.184941</td>\n",
       "      <td>0.035845</td>\n",
       "      <td>0.005717</td>\n",
       "      <td>0.022975</td>\n",
       "      <td>0.104083</td>\n",
       "    </tr>\n",
       "    <tr>\n",
       "      <th>1</th>\n",
       "      <td>1962</td>\n",
       "      <td>0.196221</td>\n",
       "      <td>0.035853</td>\n",
       "      <td>0.006777</td>\n",
       "      <td>0.023811</td>\n",
       "      <td>0.088590</td>\n",
       "    </tr>\n",
       "    <tr>\n",
       "      <th>2</th>\n",
       "      <td>1963</td>\n",
       "      <td>0.190617</td>\n",
       "      <td>0.034020</td>\n",
       "      <td>0.006896</td>\n",
       "      <td>0.021254</td>\n",
       "      <td>0.080336</td>\n",
       "    </tr>\n",
       "    <tr>\n",
       "      <th>3</th>\n",
       "      <td>1964</td>\n",
       "      <td>0.195546</td>\n",
       "      <td>0.036336</td>\n",
       "      <td>0.006748</td>\n",
       "      <td>0.021548</td>\n",
       "      <td>0.079152</td>\n",
       "    </tr>\n",
       "    <tr>\n",
       "      <th>4</th>\n",
       "      <td>1965</td>\n",
       "      <td>0.189269</td>\n",
       "      <td>0.035539</td>\n",
       "      <td>0.006534</td>\n",
       "      <td>0.022693</td>\n",
       "      <td>0.085745</td>\n",
       "    </tr>\n",
       "  </tbody>\n",
       "</table>\n",
       "</div>"
      ],
      "text/plain": [
       "   yearID   1B_Mean   2B_Mean   3B_Mean   HR_Mean   BB_Mean\n",
       "0    1961  0.184941  0.035845  0.005717  0.022975  0.104083\n",
       "1    1962  0.196221  0.035853  0.006777  0.023811  0.088590\n",
       "2    1963  0.190617  0.034020  0.006896  0.021254  0.080336\n",
       "3    1964  0.195546  0.036336  0.006748  0.021548  0.079152\n",
       "4    1965  0.189269  0.035539  0.006534  0.022693  0.085745"
      ]
     },
     "execution_count": 8,
     "metadata": {},
     "output_type": "execute_result"
    }
   ],
   "source": [
    "#Rename to and format for join\n",
    "time_trend.columns=['yearID','1B_Mean','2B_Mean','3B_Mean','HR_Mean', 'BB_Mean']\n",
    "time_trend.head()"
   ]
  },
  {
   "cell_type": "code",
   "execution_count": 10,
   "metadata": {
    "collapsed": false
   },
   "outputs": [],
   "source": [
    "# minus the mean and devide by the standard deviation\n",
    "df_normal=time_trend.merge(stats, how='inner')\n",
    "df_normal['1B']=(df_normal['1B']-df_normal['1B_Mean'])/df_normal['1B'].std()\n",
    "df_normal['2B']=(df_normal['2B']-df_normal['2B_Mean'])/df_normal['2B'].std()\n",
    "df_normal['3B']=(df_normal['3B']-df_normal['3B_Mean'])/df_normal['3B'].std()\n",
    "df_normal['HR']=(df_normal['HR']-df_normal['HR_Mean'])/df_normal['HR'].std()\n",
    "df_normal['BB']=(df_normal['BB']-df_normal['BB_Mean'])/df_normal['BB'].std()"
   ]
  },
  {
   "cell_type": "code",
   "execution_count": 11,
   "metadata": {
    "collapsed": false
   },
   "outputs": [
    {
     "data": {
      "text/html": [
       "<div>\n",
       "<table border=\"1\" class=\"dataframe\">\n",
       "  <thead>\n",
       "    <tr style=\"text-align: right;\">\n",
       "      <th></th>\n",
       "      <th>yearID</th>\n",
       "      <th>1B_Mean</th>\n",
       "      <th>2B_Mean</th>\n",
       "      <th>3B_Mean</th>\n",
       "      <th>HR_Mean</th>\n",
       "      <th>BB_Mean</th>\n",
       "      <th>teamID</th>\n",
       "      <th>W</th>\n",
       "      <th>1B</th>\n",
       "      <th>2B</th>\n",
       "      <th>3B</th>\n",
       "      <th>HR</th>\n",
       "      <th>BB</th>\n",
       "      <th>AB</th>\n",
       "    </tr>\n",
       "  </thead>\n",
       "  <tbody>\n",
       "    <tr>\n",
       "      <th>0</th>\n",
       "      <td>1961</td>\n",
       "      <td>0.184941</td>\n",
       "      <td>0.035845</td>\n",
       "      <td>0.005717</td>\n",
       "      <td>0.022975</td>\n",
       "      <td>0.104083</td>\n",
       "      <td>KC1</td>\n",
       "      <td>61</td>\n",
       "      <td>0.283055</td>\n",
       "      <td>0.021683</td>\n",
       "      <td>1.234034</td>\n",
       "      <td>-1.297701</td>\n",
       "      <td>-0.709949</td>\n",
       "      <td>6003</td>\n",
       "    </tr>\n",
       "    <tr>\n",
       "      <th>1</th>\n",
       "      <td>1961</td>\n",
       "      <td>0.184941</td>\n",
       "      <td>0.035845</td>\n",
       "      <td>0.005717</td>\n",
       "      <td>0.022975</td>\n",
       "      <td>0.104083</td>\n",
       "      <td>LAA</td>\n",
       "      <td>70</td>\n",
       "      <td>-0.283055</td>\n",
       "      <td>-0.021683</td>\n",
       "      <td>-1.234034</td>\n",
       "      <td>1.297701</td>\n",
       "      <td>0.709949</td>\n",
       "      <td>6105</td>\n",
       "    </tr>\n",
       "    <tr>\n",
       "      <th>2</th>\n",
       "      <td>1962</td>\n",
       "      <td>0.196221</td>\n",
       "      <td>0.035853</td>\n",
       "      <td>0.006777</td>\n",
       "      <td>0.023811</td>\n",
       "      <td>0.088590</td>\n",
       "      <td>BAL</td>\n",
       "      <td>77</td>\n",
       "      <td>-0.728733</td>\n",
       "      <td>0.254223</td>\n",
       "      <td>-0.652440</td>\n",
       "      <td>0.350851</td>\n",
       "      <td>-0.255884</td>\n",
       "      <td>6007</td>\n",
       "    </tr>\n",
       "    <tr>\n",
       "      <th>3</th>\n",
       "      <td>1962</td>\n",
       "      <td>0.196221</td>\n",
       "      <td>0.035853</td>\n",
       "      <td>0.006777</td>\n",
       "      <td>0.023811</td>\n",
       "      <td>0.088590</td>\n",
       "      <td>CHA</td>\n",
       "      <td>85</td>\n",
       "      <td>-0.677174</td>\n",
       "      <td>0.777349</td>\n",
       "      <td>1.373836</td>\n",
       "      <td>-1.432658</td>\n",
       "      <td>1.187470</td>\n",
       "      <td>6134</td>\n",
       "    </tr>\n",
       "    <tr>\n",
       "      <th>4</th>\n",
       "      <td>1962</td>\n",
       "      <td>0.196221</td>\n",
       "      <td>0.035853</td>\n",
       "      <td>0.006777</td>\n",
       "      <td>0.023811</td>\n",
       "      <td>0.088590</td>\n",
       "      <td>CHN</td>\n",
       "      <td>59</td>\n",
       "      <td>0.306717</td>\n",
       "      <td>-0.537602</td>\n",
       "      <td>1.458611</td>\n",
       "      <td>-0.478512</td>\n",
       "      <td>-0.486844</td>\n",
       "      <td>6038</td>\n",
       "    </tr>\n",
       "  </tbody>\n",
       "</table>\n",
       "</div>"
      ],
      "text/plain": [
       "   yearID   1B_Mean   2B_Mean   3B_Mean   HR_Mean   BB_Mean teamID   W  \\\n",
       "0    1961  0.184941  0.035845  0.005717  0.022975  0.104083    KC1  61   \n",
       "1    1961  0.184941  0.035845  0.005717  0.022975  0.104083    LAA  70   \n",
       "2    1962  0.196221  0.035853  0.006777  0.023811  0.088590    BAL  77   \n",
       "3    1962  0.196221  0.035853  0.006777  0.023811  0.088590    CHA  85   \n",
       "4    1962  0.196221  0.035853  0.006777  0.023811  0.088590    CHN  59   \n",
       "\n",
       "         1B        2B        3B        HR        BB    AB  \n",
       "0  0.283055  0.021683  1.234034 -1.297701 -0.709949  6003  \n",
       "1 -0.283055 -0.021683 -1.234034  1.297701  0.709949  6105  \n",
       "2 -0.728733  0.254223 -0.652440  0.350851 -0.255884  6007  \n",
       "3 -0.677174  0.777349  1.373836 -1.432658  1.187470  6134  \n",
       "4  0.306717 -0.537602  1.458611 -0.478512 -0.486844  6038  "
      ]
     },
     "execution_count": 11,
     "metadata": {},
     "output_type": "execute_result"
    }
   ],
   "source": [
    "# Return unbiased amount by subtracting standard deviation \n",
    "# New normalize values are labeled 1B, 2B, 3B ect. \n",
    "df_normal.head()"
   ]
  },
  {
   "cell_type": "markdown",
   "metadata": {},
   "source": [
    "#### Problem 1(f)\n",
    "\n",
    "Build a simple linear regression model to predict the number of wins from the average adjusted singles, double, triples, HR, and BB rates. To decide which of these terms to include fit the model to data from 2002 and compute the average squared residuals from predictions to years past 2002. Use the fitted model to define a new sabermetric summary: offensive predicted wins (OPW). Hint: the new summary should be a linear combination of one to five of the five rates.\n"
   ]
  },
  {
   "cell_type": "markdown",
   "metadata": {},
   "source": [
    "SelectFromModel is a meta-transformer that can be used along with any estimator that has a coef_ or feature_importances_ attribute after fitting. The features are considered unimportant and removed, if the corresponding coef_ or feature_importances_ values are below the provided threshold parameter. "
   ]
  },
  {
   "cell_type": "code",
   "execution_count": 12,
   "metadata": {
    "collapsed": false
   },
   "outputs": [
    {
     "name": "stdout",
     "output_type": "stream",
     "text": [
      "OPW (0.049117438474689967, 'Residual sum of squares: 122.89')\n",
      "OPW (0.093136217556659684, 'Residual sum of squares: 117.20')\n",
      "OPW (0.095690454861107055, 'Residual sum of squares: 116.87')\n",
      "OPW (0.21657707241285773, 'Residual sum of squares: 101.24')\n",
      "OPW (0.17670582476777363, 'Residual sum of squares: 106.40')\n",
      "OPW (0.14362994202010981, 'Residual sum of squares: 110.67')\n",
      "OPW (-0.018693591810643895, 'Residual sum of squares: 131.65')\n",
      "OPW (0.15589490803033679, 'Residual sum of squares: 109.09')\n",
      "So the best estimation is the fourth combination which would be all possible variables\n"
     ]
    }
   ],
   "source": [
    "import matplotlib.pyplot as plt\n",
    "from sklearn.linear_model import LinearRegression\n",
    "from sklearn.cross_validation import train_test_split\n",
    "from sklearn import datasets, linear_model\n",
    "\n",
    "df_normal= df_normal[['1B','2B','3B','HR','BB', 'yearID', 'W',]]\n",
    "normal_after_2003= df_normal[df_normal['yearID'] >= 2003]\n",
    "normal_before_2003=df_normal[df_normal['yearID'] < 2003]\n",
    "\n",
    "indices = [0,1,2,3]\n",
    "\n",
    "def linear_ols_score(indices):\n",
    "    X_train = normal_before_2003.iloc[:,indices]\n",
    "    X_test = normal_after_2003.iloc[:, indices]\n",
    "    y_train = normal_before_2003[['W']]\n",
    "    y_test = normal_after_2003[['W']]\n",
    "    #setup classifier\n",
    "    ols = linear_model.LinearRegression()\n",
    "    ols.fit(X_train, y_train)\n",
    "    #setup score (least squared error) of classifier on future data\n",
    "    return ols.score(X_test, y_test), (\"Residual sum of squares: %.2f\"% np.mean((ols.predict(X_test) - y_test) ** 2))\n",
    "\n",
    "#to test we set up all combinations of variables\n",
    "combinations=[[1],[0,1],[0,1,2],[0,1,2,3], [1,2,3], [2,3],[2],[3]]\n",
    "\n",
    "#test the error for all combinations\n",
    "for i in combinations:\n",
    "    print \"OPW\", linear_ols_score(i)\n",
    "\n",
    "print \"So the best estimation is the fourth combination which would be all possible variables\"\n"
   ]
  },
  {
   "cell_type": "markdown",
   "metadata": {},
   "source": [
    "** Your answer here: ** \n",
    "So the best estimation is the fourth combination which would be all possible variables\n",
    "The second best predictor/estimation would be just the HR values"
   ]
  },
  {
   "cell_type": "markdown",
   "metadata": {},
   "source": [
    "#### Problem 1(g)\n",
    "\n",
    "Now we will create a similar database for individual players. Consider only player/year combinations in which the player had at least 500 plate appearances. Consider only the years we considered for the calculations above (after 1947 and seasons with 162 games). For each player/year compute singles, doubles, triples, HR, BB per plate appearance rates. Create a new pandas DataFrame called `playerstats` that has the playerID, yearID and the rates of these stats.  Remove the average for each year as for these rates as done in Problem 1(e). "
   ]
  },
  {
   "cell_type": "code",
   "execution_count": 34,
   "metadata": {
    "collapsed": false
   },
   "outputs": [],
   "source": [
    "#player/year combinations in which the player had at least 500 plate appearances\n",
    "players['PA']=players['AB']+players['BB']\n",
    "players_500PA=players[players['PA']>500]\n",
    "player_stats=players_500PA[players_500PA['yearID']>1947]\n",
    "\n",
    "#get years selected from above with 162 games\n",
    "years=list(df['yearID'].unique())\n",
    "player_stats=player_stats[player_stats['yearID'].isin(years)]\n",
    "\n",
    "#Create column for single base\n",
    "player_stats['1B']=player_stats.loc[:,['H']].subtract(player_stats.loc[:,['2B']].values)\n",
    "player_stats=player_stats.loc[:,['playerID','yearID','W','1B','2B','3B','HR','BB','AB']]\n",
    "\n",
    "# #Devide stats by plate appearences for every player every year\n",
    "player_stats['PA']=player_stats['AB']+player_stats['BB']\n",
    "player_stats['1B']=player_stats['1B']/player_stats['PA']\n",
    "player_stats['2B']=player_stats['2B']/player_stats['PA']\n",
    "player_stats['3B']=player_stats['3B']/player_stats['PA']\n",
    "player_stats['HR']=player_stats['HR']/player_stats['PA']\n",
    "player_stats['BB']=player_stats['BB']/player_stats['PA']\n"
   ]
  },
  {
   "cell_type": "code",
   "execution_count": 37,
   "metadata": {
    "collapsed": false
   },
   "outputs": [
    {
     "data": {
      "text/html": [
       "<div>\n",
       "<table border=\"1\" class=\"dataframe\">\n",
       "  <thead>\n",
       "    <tr style=\"text-align: right;\">\n",
       "      <th></th>\n",
       "      <th>playerID</th>\n",
       "      <th>yearID</th>\n",
       "      <th>W</th>\n",
       "      <th>1B</th>\n",
       "      <th>2B</th>\n",
       "      <th>3B</th>\n",
       "      <th>HR</th>\n",
       "      <th>BB</th>\n",
       "      <th>AB</th>\n",
       "      <th>PA</th>\n",
       "    </tr>\n",
       "  </thead>\n",
       "  <tbody>\n",
       "    <tr>\n",
       "      <th>14</th>\n",
       "      <td>aaronha01</td>\n",
       "      <td>1961</td>\n",
       "      <td>NaN</td>\n",
       "      <td>0.239757</td>\n",
       "      <td>0.059181</td>\n",
       "      <td>0.015175</td>\n",
       "      <td>0.051593</td>\n",
       "      <td>0.084977</td>\n",
       "      <td>603.0</td>\n",
       "      <td>659.0</td>\n",
       "    </tr>\n",
       "    <tr>\n",
       "      <th>15</th>\n",
       "      <td>aaronha01</td>\n",
       "      <td>1962</td>\n",
       "      <td>NaN</td>\n",
       "      <td>0.247720</td>\n",
       "      <td>0.042553</td>\n",
       "      <td>0.009119</td>\n",
       "      <td>0.068389</td>\n",
       "      <td>0.100304</td>\n",
       "      <td>592.0</td>\n",
       "      <td>658.0</td>\n",
       "    </tr>\n",
       "    <tr>\n",
       "      <th>16</th>\n",
       "      <td>aaronha01</td>\n",
       "      <td>1963</td>\n",
       "      <td>NaN</td>\n",
       "      <td>0.242595</td>\n",
       "      <td>0.040903</td>\n",
       "      <td>0.005642</td>\n",
       "      <td>0.062059</td>\n",
       "      <td>0.110014</td>\n",
       "      <td>631.0</td>\n",
       "      <td>709.0</td>\n",
       "    </tr>\n",
       "    <tr>\n",
       "      <th>17</th>\n",
       "      <td>aaronha01</td>\n",
       "      <td>1964</td>\n",
       "      <td>NaN</td>\n",
       "      <td>0.248418</td>\n",
       "      <td>0.047468</td>\n",
       "      <td>0.003165</td>\n",
       "      <td>0.037975</td>\n",
       "      <td>0.098101</td>\n",
       "      <td>570.0</td>\n",
       "      <td>632.0</td>\n",
       "    </tr>\n",
       "    <tr>\n",
       "      <th>18</th>\n",
       "      <td>aaronha01</td>\n",
       "      <td>1965</td>\n",
       "      <td>NaN</td>\n",
       "      <td>0.223810</td>\n",
       "      <td>0.063492</td>\n",
       "      <td>0.001587</td>\n",
       "      <td>0.050794</td>\n",
       "      <td>0.095238</td>\n",
       "      <td>570.0</td>\n",
       "      <td>630.0</td>\n",
       "    </tr>\n",
       "  </tbody>\n",
       "</table>\n",
       "</div>"
      ],
      "text/plain": [
       "     playerID  yearID   W        1B        2B        3B        HR        BB  \\\n",
       "14  aaronha01    1961 NaN  0.239757  0.059181  0.015175  0.051593  0.084977   \n",
       "15  aaronha01    1962 NaN  0.247720  0.042553  0.009119  0.068389  0.100304   \n",
       "16  aaronha01    1963 NaN  0.242595  0.040903  0.005642  0.062059  0.110014   \n",
       "17  aaronha01    1964 NaN  0.248418  0.047468  0.003165  0.037975  0.098101   \n",
       "18  aaronha01    1965 NaN  0.223810  0.063492  0.001587  0.050794  0.095238   \n",
       "\n",
       "       AB     PA  \n",
       "14  603.0  659.0  \n",
       "15  592.0  658.0  \n",
       "16  631.0  709.0  \n",
       "17  570.0  632.0  \n",
       "18  570.0  630.0  "
      ]
     },
     "execution_count": 37,
     "metadata": {},
     "output_type": "execute_result"
    }
   ],
   "source": [
    "player_stats.head()"
   ]
  },
  {
   "cell_type": "markdown",
   "metadata": {},
   "source": [
    "Show the head of the `playerstats` DataFrame. "
   ]
  },
  {
   "cell_type": "code",
   "execution_count": 38,
   "metadata": {
    "collapsed": false
   },
   "outputs": [
    {
     "data": {
      "text/html": [
       "<div>\n",
       "<table border=\"1\" class=\"dataframe\">\n",
       "  <thead>\n",
       "    <tr style=\"text-align: right;\">\n",
       "      <th></th>\n",
       "      <th>yearID</th>\n",
       "      <th>1B_Mean</th>\n",
       "      <th>2B_Mean</th>\n",
       "      <th>3B_Mean</th>\n",
       "      <th>HR_Mean</th>\n",
       "      <th>BB_Mean</th>\n",
       "      <th>teamID</th>\n",
       "      <th>W</th>\n",
       "      <th>1B</th>\n",
       "      <th>2B</th>\n",
       "      <th>3B</th>\n",
       "      <th>HR</th>\n",
       "      <th>BB</th>\n",
       "      <th>AB</th>\n",
       "    </tr>\n",
       "  </thead>\n",
       "  <tbody>\n",
       "    <tr>\n",
       "      <th>0</th>\n",
       "      <td>1961</td>\n",
       "      <td>0.212833</td>\n",
       "      <td>0.040679</td>\n",
       "      <td>0.008389</td>\n",
       "      <td>0.031605</td>\n",
       "      <td>0.100236</td>\n",
       "      <td>KC1</td>\n",
       "      <td>61</td>\n",
       "      <td>-2.716916</td>\n",
       "      <td>-0.744489</td>\n",
       "      <td>-0.326828</td>\n",
       "      <td>-2.700500</td>\n",
       "      <td>-0.344072</td>\n",
       "      <td>6003</td>\n",
       "    </tr>\n",
       "    <tr>\n",
       "      <th>1</th>\n",
       "      <td>1961</td>\n",
       "      <td>0.212833</td>\n",
       "      <td>0.040679</td>\n",
       "      <td>0.008389</td>\n",
       "      <td>0.031605</td>\n",
       "      <td>0.100236</td>\n",
       "      <td>LAA</td>\n",
       "      <td>70</td>\n",
       "      <td>-3.283026</td>\n",
       "      <td>-0.787855</td>\n",
       "      <td>-2.794897</td>\n",
       "      <td>-0.105098</td>\n",
       "      <td>1.075825</td>\n",
       "      <td>6105</td>\n",
       "    </tr>\n",
       "    <tr>\n",
       "      <th>2</th>\n",
       "      <td>1962</td>\n",
       "      <td>0.214731</td>\n",
       "      <td>0.039610</td>\n",
       "      <td>0.008097</td>\n",
       "      <td>0.028754</td>\n",
       "      <td>0.089215</td>\n",
       "      <td>BAL</td>\n",
       "      <td>77</td>\n",
       "      <td>-2.719685</td>\n",
       "      <td>-0.341372</td>\n",
       "      <td>-1.423570</td>\n",
       "      <td>-0.452555</td>\n",
       "      <td>-0.315332</td>\n",
       "      <td>6007</td>\n",
       "    </tr>\n",
       "    <tr>\n",
       "      <th>3</th>\n",
       "      <td>1962</td>\n",
       "      <td>0.214731</td>\n",
       "      <td>0.039610</td>\n",
       "      <td>0.008097</td>\n",
       "      <td>0.028754</td>\n",
       "      <td>0.089215</td>\n",
       "      <td>CHA</td>\n",
       "      <td>85</td>\n",
       "      <td>-2.668126</td>\n",
       "      <td>0.181754</td>\n",
       "      <td>0.602706</td>\n",
       "      <td>-2.236064</td>\n",
       "      <td>1.128022</td>\n",
       "      <td>6134</td>\n",
       "    </tr>\n",
       "    <tr>\n",
       "      <th>4</th>\n",
       "      <td>1962</td>\n",
       "      <td>0.214731</td>\n",
       "      <td>0.039610</td>\n",
       "      <td>0.008097</td>\n",
       "      <td>0.028754</td>\n",
       "      <td>0.089215</td>\n",
       "      <td>CHN</td>\n",
       "      <td>59</td>\n",
       "      <td>-1.684235</td>\n",
       "      <td>-1.133196</td>\n",
       "      <td>0.687481</td>\n",
       "      <td>-1.281919</td>\n",
       "      <td>-0.546292</td>\n",
       "      <td>6038</td>\n",
       "    </tr>\n",
       "  </tbody>\n",
       "</table>\n",
       "</div>"
      ],
      "text/plain": [
       "   yearID   1B_Mean   2B_Mean   3B_Mean   HR_Mean   BB_Mean teamID   W  \\\n",
       "0    1961  0.212833  0.040679  0.008389  0.031605  0.100236    KC1  61   \n",
       "1    1961  0.212833  0.040679  0.008389  0.031605  0.100236    LAA  70   \n",
       "2    1962  0.214731  0.039610  0.008097  0.028754  0.089215    BAL  77   \n",
       "3    1962  0.214731  0.039610  0.008097  0.028754  0.089215    CHA  85   \n",
       "4    1962  0.214731  0.039610  0.008097  0.028754  0.089215    CHN  59   \n",
       "\n",
       "         1B        2B        3B        HR        BB    AB  \n",
       "0 -2.716916 -0.744489 -0.326828 -2.700500 -0.344072  6003  \n",
       "1 -3.283026 -0.787855 -2.794897 -0.105098  1.075825  6105  \n",
       "2 -2.719685 -0.341372 -1.423570 -0.452555 -0.315332  6007  \n",
       "3 -2.668126  0.181754  0.602706 -2.236064  1.128022  6134  \n",
       "4 -1.684235 -1.133196  0.687481 -1.281919 -0.546292  6038  "
      ]
     },
     "execution_count": 38,
     "metadata": {},
     "output_type": "execute_result"
    }
   ],
   "source": [
    "player_means=player_stats.groupby('yearID').mean().reset_index()\n",
    "player_means=player_means.iloc[:,[0,2,3,4,5,6]]\n",
    "player_means.columns=['yearID','1B_Mean','2B_Mean','3B_Mean','HR_Mean', 'BB_Mean']\n",
    "\n",
    "\n",
    "players_normal=player_means.merge(stats, how='inner')\n",
    "players_normal['1B']=(players_normal['1B']-players_normal['1B_Mean'])/players_normal['1B'].std()\n",
    "players_normal['2B']=(players_normal['2B']-players_normal['2B_Mean'])/players_normal['2B'].std()\n",
    "players_normal['3B']=(players_normal['3B']-players_normal['3B_Mean'])/players_normal['3B'].std()\n",
    "players_normal['HR']=(players_normal['HR']-players_normal['HR_Mean'])/players_normal['HR'].std()\n",
    "players_normal['BB']=(players_normal['BB']-players_normal['BB_Mean'])/players_normal['BB'].std()\n",
    "\n",
    "playerstats=players_normal\n",
    "playerstats.head()"
   ]
  },
  {
   "cell_type": "markdown",
   "metadata": {},
   "source": [
    "#### Problem 1(h)\n",
    "\n",
    "Using the `playerstats` DataFrame created in Problem 1(g), create a new DataFrame called `playerLS` containing the player's lifetime stats. This DataFrame should contain the playerID, the year the player's career started, the year the player's career ended and the player's lifetime average for each of the quantities (singles, doubles, triples, HR, BB). For simplicity we will simply compute the avaerage of the rates by year (a more correct way is to go back to the totals). "
   ]
  },
  {
   "cell_type": "code",
   "execution_count": null,
   "metadata": {
    "collapsed": false
   },
   "outputs": [],
   "source": [
    "### Your code here ###"
   ]
  },
  {
   "cell_type": "markdown",
   "metadata": {},
   "source": [
    "Show the head of the `playerLS` DataFrame. "
   ]
  },
  {
   "cell_type": "code",
   "execution_count": null,
   "metadata": {
    "collapsed": false
   },
   "outputs": [],
   "source": [
    "### Your code here ###"
   ]
  },
  {
   "cell_type": "markdown",
   "metadata": {},
   "source": [
    "#### Problem 1(i)\n",
    "\n",
    "Compute the OPW for each player based on the average rates in the `playerLS` DataFrame. You can interpret this summary statistic as the predicted wins for a team with 9 batters exactly like the player in question. Add this column to the playerLS DataFrame. Call this colum OPW."
   ]
  },
  {
   "cell_type": "code",
   "execution_count": null,
   "metadata": {
    "collapsed": false
   },
   "outputs": [],
   "source": [
    "### Your code here ###"
   ]
  },
  {
   "cell_type": "markdown",
   "metadata": {},
   "source": [
    "#### Problem 1(j)\n",
    "\n",
    "Add four columns to the `playerLS` DataFrame that contains the player's position (C, 1B, 2B, 3B, SS, LF, CF, RF, or OF), first name, last name and median salary. "
   ]
  },
  {
   "cell_type": "code",
   "execution_count": null,
   "metadata": {
    "collapsed": false
   },
   "outputs": [],
   "source": [
    "### Your code here ###"
   ]
  },
  {
   "cell_type": "markdown",
   "metadata": {},
   "source": [
    "Show the head of the `playerLS` DataFrame. "
   ]
  },
  {
   "cell_type": "code",
   "execution_count": null,
   "metadata": {
    "collapsed": false
   },
   "outputs": [],
   "source": [
    "### Your code here ###"
   ]
  },
  {
   "cell_type": "markdown",
   "metadata": {},
   "source": [
    "#### Problem 1(k)\n",
    "\n",
    "Subset the `playerLS` DataFrame for players active in 2002 and 2003 and played at least three years. Plot and describe the relationship bewteen the median salary (in millions) and the predicted number of wins. "
   ]
  },
  {
   "cell_type": "code",
   "execution_count": null,
   "metadata": {
    "collapsed": false
   },
   "outputs": [],
   "source": [
    "### Your code here ###"
   ]
  },
  {
   "cell_type": "markdown",
   "metadata": {},
   "source": [
    "#### Problem 1(l)\n",
    "Pick one players from one of each of these 10 position C, 1B, 2B, 3B, SS, LF, CF, RF, DH, or OF keeping the total median salary of all 10 players below 20 million. Report their averaged predicted wins and total salary."
   ]
  },
  {
   "cell_type": "code",
   "execution_count": null,
   "metadata": {
    "collapsed": false
   },
   "outputs": [],
   "source": [
    "### Your code here ###"
   ]
  },
  {
   "cell_type": "markdown",
   "metadata": {},
   "source": [
    "#### Problem 1(m)\n",
    "What do these players outperform in? Singles, doubles, triples HR or BB?"
   ]
  },
  {
   "cell_type": "code",
   "execution_count": null,
   "metadata": {
    "collapsed": false
   },
   "outputs": [],
   "source": [
    "### Your code here ###"
   ]
  },
  {
   "cell_type": "markdown",
   "metadata": {},
   "source": [
    "** Your answer here: **"
   ]
  },
  {
   "cell_type": "markdown",
   "metadata": {},
   "source": [
    "### "
   ]
  },
  {
   "cell_type": "markdown",
   "metadata": {},
   "source": [
    "### Use one of the classification methods to predict wheather a player will be an Allstar?"
   ]
  },
  {
   "cell_type": "code",
   "execution_count": null,
   "metadata": {
    "collapsed": false
   },
   "outputs": [],
   "source": [
    "### Your code here ###"
   ]
  },
  {
   "cell_type": "markdown",
   "metadata": {},
   "source": [
    "## Discussion for Problem 1\n",
    "\n",
    "*Write a brief discussion of your conclusions to the questions and tasks above in 100 words or less.*\n",
    "\n",
    "---"
   ]
  },
  {
   "cell_type": "markdown",
   "metadata": {},
   "source": [
    "# Problem 2:  $k$-Nearest Neighbors and Cross Validation \n",
    "\n",
    "What is the optimal $k$ for predicting species using $k$-nearest neighbor classification \n",
    "on the four features provided by the iris dataset.\n",
    "\n",
    "In this problem you will get to know the famous iris data set, and use cross validation to select the optimal $k$ for a $k$-nearest neighbor classification. This problem set makes heavy use of the [sklearn](http://scikit-learn.org/stable/) library. In addition to Pandas, it is one of the most useful libraries for data scientists. \n",
    "For the Iris data set  sklearn provides an extra function to load it - since it is one of the very commonly used data sets."
   ]
  },
  {
   "cell_type": "code",
   "execution_count": null,
   "metadata": {
    "collapsed": false
   },
   "outputs": [],
   "source": [
    "import matplotlib.pyplot as plt\n",
    "from mpl_toolkits.mplot3d import Axes3D\n",
    "from sklearn.decomposition import PCA\n",
    "import numpy as np\n",
    "from sklearn import cross_validation\n",
    "from sklearn import datasets\n",
    "from sklearn import svm\n",
    "\n",
    "iris = datasets.load_iris()\n",
    "iris.data.shape, iris.target.shape\n",
    "X, y=iris.data, iris.target"
   ]
  },
  {
   "cell_type": "markdown",
   "metadata": {},
   "source": [
    "#### Problem 2(a) \n",
    "Split the data into a train and a test set. Use a random selection of 33% of the samples as test data. Sklearn provides the [`train_test_split`](http://scikit-learn.org/stable/modules/generated/sklearn.cross_validation.train_test_split.html) function for this purpose. Print the dimensions of all the train and test data sets you have created. "
   ]
  },
  {
   "cell_type": "code",
   "execution_count": null,
   "metadata": {
    "collapsed": false
   },
   "outputs": [],
   "source": [
    "X_train, X_test, y_train, y_test = cross_validation.train_test_split(\n",
    "    iris.data, iris.target, test_size=0.33, random_state=0)\n",
    "\n",
    "X_train.shape, y_train.shape\n",
    "\n",
    "X_test.shape, y_test.shape"
   ]
  },
  {
   "cell_type": "markdown",
   "metadata": {},
   "source": [
    "#### Problem 2(b) \n",
    "\n",
    " Use ***ten fold cross validation*** to estimate the optimal value for $k$ for the iris data set. \n",
    "\n",
    "**Note**: For your convenience sklearn does not only include the [KNN classifier](http://scikit-learn.org/stable/modules/generated/sklearn.neighbors.KNeighborsClassifier.html), but also a [grid search function](http://scikit-learn.org/stable/modules/generated/sklearn.grid_search.GridSearchCV.html#sklearn.grid_search.GridSearchCV). The function is called grid search, because if you have to optimize more than one parameter, it is common practice to define a range of possible values for each parameter. An exhaustive search then runs over the complete grid defined by all the possible parameter combinations. This can get very computation heavy, but luckily our KNN classifier only requires tuning of a single parameter for this problem set. "
   ]
  },
  {
   "cell_type": "code",
   "execution_count": null,
   "metadata": {
    "collapsed": false
   },
   "outputs": [],
   "source": [
    "from sklearn.neighbors import KNeighborsClassifier\n",
    "neigh = KNeighborsClassifier(n_neighbors=25)\n",
    "neigh.fit(X_train, y_train) \n",
    "neigh.score(X_test, y_test)"
   ]
  },
  {
   "cell_type": "code",
   "execution_count": null,
   "metadata": {
    "collapsed": false
   },
   "outputs": [],
   "source": [
    "from sklearn import grid_search\n",
    "\n",
    "iris = datasets.load_iris()\n",
    "X, y=iris.data, iris.target\n",
    "\n",
    "#Build Classifier\n",
    "neigh = KNeighborsClassifier()\n",
    "\n",
    "def report(grid_scores, n_top=6):\n",
    "    top_scores = sorted(grid_scores, reverse=True)[:n_top]\n",
    "    for i, score in enumerate(top_scores):\n",
    "        print(\"Model with rank: {0}\".format(i + 1))\n",
    "        print(\"Mean validation score: {0:.3f} (std: {1:.3f})\".format(\n",
    "              score.mean_validation_score,\n",
    "              np.std(score.cv_validation_scores)))\n",
    "        print(\"Parameters: {0}\".format(score.parameters))\n",
    "        print(\"\")\n",
    "\n",
    "parameters = {'n_neighbors':[5,6,7,8,9,10,11,12,13,14,15,16]}\n",
    "\n",
    "\n",
    "grid_search = grid_search.GridSearchCV(neigh,parameters)\n",
    "grid_search.fit(iris.data, iris.target)\n",
    "\n",
    "report(grid_search.grid_scores_)"
   ]
  },
  {
   "cell_type": "code",
   "execution_count": null,
   "metadata": {
    "collapsed": false
   },
   "outputs": [],
   "source": [
    "from sklearn.cross_validation import KFold\n",
    "kf = KFold(150, n_folds=10)\n",
    "\n",
    "def iris_data(i):\n",
    "    total=[]\n",
    "    for train_index, test_index in kf:\n",
    "        X_train, X_test = X[train_index], X[test_index]\n",
    "        y_train, y_test = y[train_index], y[test_index]\n",
    "        neigh = KNeighborsClassifier(n_neighbors=i)\n",
    "        neigh.fit(X_train, y_train) \n",
    "        total.append(neigh.score(X_test, y_test))\n",
    "    prediction=np.mean(total)\n",
    "    return prediction\n",
    "    \n",
    "n_neighbors_list=range(2,20)\n",
    "\n",
    "comparing_n=[]\n",
    "for i in n_neighbors_list:\n",
    "    print  \"for i=\",i, \"Accuracy=\",iris_data(i)\n",
    "    comparing_n.append((i,iris_data(i)))\n",
    "print \"Best accuracy is n=3\""
   ]
  },
  {
   "cell_type": "markdown",
   "metadata": {},
   "source": [
    "#### Problem 2(c)\n",
    "\n",
    "Visualize the result by plotting the score results versus values for $k$. "
   ]
  },
  {
   "cell_type": "code",
   "execution_count": null,
   "metadata": {
    "collapsed": false
   },
   "outputs": [],
   "source": [
    "### Your code here ###"
   ]
  },
  {
   "cell_type": "markdown",
   "metadata": {},
   "source": [
    "Verify that the grid search has indeed chosen the right parameter value for $k$."
   ]
  },
  {
   "cell_type": "code",
   "execution_count": null,
   "metadata": {
    "collapsed": false
   },
   "outputs": [],
   "source": [
    "### Your code here ###"
   ]
  },
  {
   "cell_type": "markdown",
   "metadata": {},
   "source": [
    "#### Problem 2(d)\n",
    "\n",
    "Test the performance of our tuned KNN classifier on the test set."
   ]
  },
  {
   "cell_type": "code",
   "execution_count": null,
   "metadata": {
    "collapsed": false
   },
   "outputs": [],
   "source": [
    "### Your code here ###"
   ]
  },
  {
   "cell_type": "markdown",
   "metadata": {},
   "source": [
    "## Discussion for Problem 2\n",
    "\n",
    "*Write a brief discussion of your conclusions to the questions and tasks above in 100 words or less.*\n",
    "\n",
    "---"
   ]
  },
  {
   "cell_type": "markdown",
   "metadata": {},
   "source": [
    "## Problem 3: Supervised Learning - Estimating Boston house pricing using Linear Regression and Regression Trees"
   ]
  },
  {
   "cell_type": "markdown",
   "metadata": {},
   "source": [
    "##### Import the Boston House Pricing Dataset; it comes with the scikit or you can dowload it FROM UCI ML housing dataset. (http://archive.ics.uci.edu/ml/datasets/Housing)"
   ]
  },
  {
   "cell_type": "code",
   "execution_count": null,
   "metadata": {
    "collapsed": false
   },
   "outputs": [],
   "source": [
    "### Your code here ###"
   ]
  },
  {
   "cell_type": "markdown",
   "metadata": {},
   "source": [
    "#### Find the mostimportant features"
   ]
  },
  {
   "cell_type": "code",
   "execution_count": null,
   "metadata": {
    "collapsed": false
   },
   "outputs": [],
   "source": [
    "### Your code here ###"
   ]
  },
  {
   "cell_type": "markdown",
   "metadata": {},
   "source": [
    "#### Using 10-fold cross validation separate the test and training data sets"
   ]
  },
  {
   "cell_type": "code",
   "execution_count": null,
   "metadata": {
    "collapsed": false
   },
   "outputs": [],
   "source": [
    "### Your code here ###"
   ]
  },
  {
   "cell_type": "code",
   "execution_count": null,
   "metadata": {
    "collapsed": false
   },
   "outputs": [],
   "source": [
    "Normalize the data"
   ]
  },
  {
   "cell_type": "code",
   "execution_count": null,
   "metadata": {
    "collapsed": false
   },
   "outputs": [],
   "source": [
    "### Your code here ###"
   ]
  },
  {
   "cell_type": "markdown",
   "metadata": {},
   "source": [
    "### Start with a lineal model and evaluate how well it can predict the price variable"
   ]
  },
  {
   "cell_type": "code",
   "execution_count": null,
   "metadata": {
    "collapsed": false
   },
   "outputs": [],
   "source": [
    "### Your code here ###"
   ]
  },
  {
   "cell_type": "markdown",
   "metadata": {},
   "source": [
    "### Try using Ridge regression and evaluate the result of the 10-fold cross-validation"
   ]
  },
  {
   "cell_type": "code",
   "execution_count": null,
   "metadata": {
    "collapsed": false
   },
   "outputs": [],
   "source": [
    "### Your code here ###"
   ]
  },
  {
   "cell_type": "markdown",
   "metadata": {},
   "source": [
    "### Train the Regression Tree and evaluate using 10-fold cross validation; Specify the parapmeters used and how you changed them to increase the accuracy;  "
   ]
  },
  {
   "cell_type": "code",
   "execution_count": null,
   "metadata": {
    "collapsed": false
   },
   "outputs": [],
   "source": [
    "### Your code here ###"
   ]
  },
  {
   "cell_type": "markdown",
   "metadata": {},
   "source": [
    "### Discussion for Problem 3  Write a brief discussion of your conclusions to the questions and tasks above in 100 words or less.Compare all three aproaches and discuss your findings in 100 words or less"
   ]
  }
 ],
 "metadata": {
  "kernelspec": {
   "display_name": "Python 2",
   "language": "python",
   "name": "python2"
  },
  "language_info": {
   "codemirror_mode": {
    "name": "ipython",
    "version": 2
   },
   "file_extension": ".py",
   "mimetype": "text/x-python",
   "name": "python",
   "nbconvert_exporter": "python",
   "pygments_lexer": "ipython2",
   "version": "2.7.11"
  }
 },
 "nbformat": 4,
 "nbformat_minor": 0
}
