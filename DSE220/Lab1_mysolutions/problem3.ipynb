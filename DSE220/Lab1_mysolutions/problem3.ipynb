{
 "cells": [
  {
   "cell_type": "markdown",
   "metadata": {},
   "source": [
    "1.\tProblem #3\n",
    "The IRI data is set available on the AWS instance.  Several additional documents describing the data set and pointing to additional Bibliography are made available (including the white paper: Bronnenberg, Bart J., Kruger, Michael W, and Mela, Carl F. The IRI Marketing Dataset.).  Getting to know this data set is time well spent as it will be very applicable towards the Final project.  The data set is of medium size and complexity – however understanding the data and how file/folders/datasets related to each other will be of crucial importance for creating an appropriate training data set.  \n",
    "The data set has been purchase by UCSD, it is only for internal use and comes with restrictions.  Please read and follow the NDA specified at the very end of the “IRI_database_technical_appendix” document provided with the data set.  \n",
    "I order to answer the questions below – document and describe what kind of data preparation and cleaning techniques did you have to apply?  What kinds of anomalies and missing data did you encounter?  Document how what assumption you made and how you approach the issues.\n",
    "`\t1. What are the most popular item(s) for a chosen product/category?\n",
    "2. How does the popularity of an item change with the cost associated with it for a chosen year?\n",
    "4. How is the popularity affected over the years? \n",
    "\n",
    "        Extra credit: \n",
    "Apply K-nearest neighbor algorithms to a chose subset of data for a specific set of products/categories. \n",
    "\n"
   ]
  }
 ],
 "metadata": {
  "kernelspec": {
   "display_name": "Python 2",
   "language": "python",
   "name": "python2"
  },
  "language_info": {
   "codemirror_mode": {
    "name": "ipython",
    "version": 2
   },
   "file_extension": ".py",
   "mimetype": "text/x-python",
   "name": "python",
   "nbconvert_exporter": "python",
   "pygments_lexer": "ipython2",
   "version": "2.7.11"
  }
 },
 "nbformat": 4,
 "nbformat_minor": 0
}
