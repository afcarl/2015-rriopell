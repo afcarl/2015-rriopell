{
 "cells": [
  {
   "cell_type": "markdown",
   "metadata": {},
   "source": [
    "#DSE 200 Final Exam\n",
    "There are **seven** problems listed below in approximatly increacing difficulty and length.\n",
    "Most problems involve just a couple lines of code denoted by comments within the code.\n",
    "If a problem seems to require a ton of code you are likely over thinking it and should try to find a simpler solution.\n",
    "\n",
    "Here are the topics of each problem:\n",
    "1. Exception Handling\n",
    "2. Unix Piping\n",
    "3. Directory Walking\n",
    "4. Linear Regression\n",
    "5. Object Oriented Model Selection\n",
    "6. Scraping\n",
    "7. Matplotlib\n",
    "\n",
    "This test is open internet; however, communication with your peers/others is strictly prohibited.  \n",
    "\n",
    "Good Luck!"
   ]
  },
  {
   "cell_type": "markdown",
   "metadata": {},
   "source": [
    "##Exception Handling\n",
    "\n",
    "Write a function to add two numbers, if either of the arguements is not an int or float, throw a new ArguementsMustBeNumbers exception."
   ]
  },
  {
   "cell_type": "code",
   "execution_count": null,
   "metadata": {
    "collapsed": false
   },
   "outputs": [],
   "source": [
    "def ArguementsMustBeNumbers(Exception):\n",
    "    try:\n",
    "        float(Exception) # assuming floats include ints within them: i.e. floats include ints\n",
    "        return True\n",
    "    except ValueError:\n",
    "        return \"Error: Must be numbers\"\n"
   ]
  },
  {
   "cell_type": "code",
   "execution_count": null,
   "metadata": {
    "collapsed": false
   },
   "outputs": [],
   "source": [
    "x=1\n",
    "type(x) in [float,int]"
   ]
  },
  {
   "cell_type": "code",
   "execution_count": null,
   "metadata": {
    "collapsed": false
   },
   "outputs": [],
   "source": [
    "def add_two(x,y):\n",
    "    if False:#Check types of x and y\n",
    "        raise ArguementsMustBeNumbers()\n",
    "    return x+y\n"
   ]
  },
  {
   "cell_type": "markdown",
   "metadata": {},
   "source": [
    "After this code is correctly implemented, the following code should print True 4 times (no exceptions should be uncaught)."
   ]
  },
  {
   "cell_type": "code",
   "execution_count": null,
   "metadata": {
    "collapsed": false
   },
   "outputs": [],
   "source": [
    "print add_two(1,1)==2\n",
    "try:\n",
    "    add_two(\"t\",1)\n",
    "    print False\n",
    "except ArguementsMustBeNumbers:\n",
    "    print True\n",
    "try:\n",
    "    add_two(2,\"f\")\n",
    "    print False\n",
    "except ArguementsMustBeNumbers:\n",
    "    print True\n",
    "try:\n",
    "    add_two(\"t\",\"f\")\n",
    "    print False\n",
    "except ArguementsMustBeNumbers:\n",
    "    print True"
   ]
  },
  {
   "cell_type": "markdown",
   "metadata": {},
   "source": [
    "##Unix Piping \n",
    "\n",
    "Below we generate a file called ps_out which contains a details about all processes on our machine.  In particular it is a csv file containing the PID, Username which owns the process, and the percent of the CPU time occupied by it.\n",
    "\n",
    "We'll ask you to process this file using unix tools."
   ]
  },
  {
   "cell_type": "code",
   "execution_count": null,
   "metadata": {
    "collapsed": false
   },
   "outputs": [],
   "source": [
    "#Do not modify this section\n",
    "!ps -Ao \"pid,user,%cpu\" | sed \"s/^ *//\" | sed \"s/  */,/g\" > ps_out\n",
    "!head ps_out"
   ]
  },
  {
   "cell_type": "markdown",
   "metadata": {},
   "source": [
    "First, using **only unix tools**, count the number of processes each user is running"
   ]
  },
  {
   "cell_type": "code",
   "execution_count": null,
   "metadata": {
    "collapsed": false
   },
   "outputs": [],
   "source": [
    "!cat ps_out | wc -l"
   ]
  },
  {
   "cell_type": "markdown",
   "metadata": {},
   "source": [
    "Second, using **only unix tools**, find the pid which is using the largest cpu %.\n",
    "\n",
    "Your output should only be a single number (the process id consuming the largest cpu amount), i.e. `30048`"
   ]
  },
  {
   "cell_type": "code",
   "execution_count": null,
   "metadata": {
    "collapsed": false
   },
   "outputs": [],
   "source": [
    "!grep -Eo '[0-9]+' ps_out | sort -rn | head -n 1"
   ]
  },
  {
   "cell_type": "markdown",
   "metadata": {},
   "source": [
    "##Directory Walking\n",
    "\n",
    "Below we have written a program which uses os.walk, unix tools, and python to find the 3 longest files by line count within each directory under the /etc/ directory.\n",
    "\n",
    "However, it is currently has several problems which you are tasked with fixing.\n",
    "\n",
    "Here are the current problems which must be fixed:\n",
    "\n",
    "1. the output is not sorted by line count\n",
    "2. the \"total\" line listing the total lines across the directory is not a file and should be removed\n",
    "3. more than three files are being printed\n",
    "4. directories that contain no files are being printed\n",
    "\n",
    "These issues should be resolved by using a combintation of python and or unix commands.  Please ensure the output format is not changed."
   ]
  },
  {
   "cell_type": "code",
   "execution_count": null,
   "metadata": {
    "collapsed": false,
    "scrolled": false
   },
   "outputs": [],
   "source": [
    "#my computer cant run this command for some reason, its taking too long and I am moving on, waited over 2 minutes\n",
    "#I am planning on getting a new computer over break FYI, current is Mac 2015, 4GB Ram\n",
    "\n",
    "# I can guess what the answer should be based on the limited output I got for running the code for 2 minutes, I show at bottom. \n",
    "\n",
    "import os\n",
    "from itertools import chain,groupby\n",
    "for d,ds,fs in os.walk(\"/tmp/\", level=3):#3) To limit to 3 files per directory, added level 3\n",
    "    lc= !wc -l d.txt  #1) To make output sorted by line count\n",
    "    d = [d for d in dirs if d not in exclude] #4) To ignored directories containing no files\n",
    "    lines = !wc -l $d/* 2> /dev/null | sed \"s/^ *//\"\n",
    "    for line in lines:\n",
    "        try:\n",
    "            fields = line.split(\" \")\n",
    "            files.append((int(fields[0]),fields[1]))\n",
    "        except ValueError:\n",
    "            print \"Bad line: \" + line\n",
    "                        \n",
    "    print \"Longest files in \" + d + \":\"\n",
    "    for f in files:\n",
    "        print \"\\t%s\" %(f) # 2) Remove the lc to Remove the Total line\n",
    "    print\n",
    "    \n",
    "    #THIS OUTPUT TOOK TWO MINUTES TO PRODUCE, I AM NOT ABLE TO TEST THIS CELL \n",
    "    \n",
    "# Longest files in /tmp/1AC27DAE-9046-45ED-8F98-59F098A5789E:\n",
    "# \t/tmp/KSOutOfProcessFetcher.501.HVXI9pQwBk_bgiVJaTNhiQNhqxc=/ksfetch\t175\n",
    "# \t/tmp/1AC27DAE-9046-45ED-8F98-59F098A5789E/96557A9B-5F1B-47AB-BC16-7F67C72DC5B1\t0\n",
    "\n",
    "# Longest files in /tmp/2FF927B4-A734-4BB8-9E46-094063CCF835:\n",
    "# \t/tmp/KSOutOfProcessFetcher.501.HVXI9pQwBk_bgiVJaTNhiQNhqxc=/ksfetch\t175\n",
    "# \t/tmp/1AC27DAE-9046-45ED-8F98-59F098A5789E/96557A9B-5F1B-47AB-BC16-7F67C72DC5B1\t0"
   ]
  },
  {
   "cell_type": "markdown",
   "metadata": {},
   "source": [
    "##Linear Regression\n",
    "\n",
    "In the file linear.csv there is a set of 100 x,y pairs of numbers in csv format.\n",
    "\n",
    "About 10% of the lines have a missing y value.\n",
    "\n",
    "Your goal is to do the following:\n",
    "\n",
    "1. Preprocess the data to remove any points with a missing y value\n",
    "2. Fit a linear regression model using sklearn's LinearRegression package\n",
    "3. Plot a scatter plot of the populated x,y pairs as blue points and the best fit linear regression line in red"
   ]
  },
  {
   "cell_type": "code",
   "execution_count": null,
   "metadata": {
    "collapsed": false
   },
   "outputs": [],
   "source": [
    "#Do not modify\n",
    "import numpy as np\n",
    "import pandas as pd\n",
    "from sklearn.linear_model import LinearRegression\n",
    "%pylab inline\n",
    "import matplotlib.pyplot as plt\n",
    "data = pd.read_csv(\"./linear.csv\")\n",
    "print data.head()"
   ]
  },
  {
   "cell_type": "markdown",
   "metadata": {},
   "source": [
    "1. Preprocess the data to remove any points with a missing y value"
   ]
  },
  {
   "cell_type": "code",
   "execution_count": null,
   "metadata": {
    "collapsed": false
   },
   "outputs": [],
   "source": [
    "data=data.dropna().copy()\n",
    "print data.head()"
   ]
  },
  {
   "cell_type": "markdown",
   "metadata": {},
   "source": [
    "Fit a linear regression model using sklearn's LinearRegression package"
   ]
  },
  {
   "cell_type": "code",
   "execution_count": null,
   "metadata": {
    "collapsed": false
   },
   "outputs": [],
   "source": [
    "#mdl = \n",
    "data=data.dropna().copy()\n",
    "data_X = data.ix[:,'x'].copy()\n",
    "data_Y = data.ix[:,'y'].copy()\n",
    "\n",
    "# Split the data into training/testing sets\n",
    "data_X_train = data_X[:-20]\n",
    "data_X_test = data_X[-20:]\n",
    "\n",
    "\n",
    "data_y_train = data_Y[:-20]\n",
    "data_y_test = data_Y[-20:]\n",
    "\n",
    "\n",
    "\n",
    "# Create linear regression object\n",
    "regr = LinearRegression()\n",
    "\n",
    "###THIS WAS NOT WORKING AND SAYING I WAS \n",
    "##GIVING DIFFEENT LENGTH ARRAYS EVEN THOUGH BOTH WERE 72\n",
    "\n",
    "regr.fit(data_X_train, data_y_train)\n",
    "\n",
    "print data_X_train.shape()\n",
    "print type(data_X_test)\n",
    "\n",
    "\n",
    "print('Coefficients: \\n', regr.coef_)\n",
    "# The mean square error\n",
    "print(\"Residual sum of squares: %.2f\"\n",
    "      % np.mean((regr.predict(diabetes_X_test) - diabetes_y_test) ** 2))\n",
    "# Explained variance score: 1 is perfect prediction\n",
    "print('Variance score: %.2f' % regr.score(diabetes_X_test, diabetes_y_test))\n",
    "\n",
    "# Plot outputs\n",
    "plt.scatter(diabetes_X_test, diabetes_y_test,  color='black')\n",
    "plt.plot(diabetes_X_test, regr.predict(diabetes_X_test), color='blue',\n",
    "         linewidth=3)\n",
    "\n",
    "plt.xticks(())\n",
    "plt.yticks(())\n",
    "\n",
    "plt.show()\n",
    "    \n",
    "#Print formula so we can see the best fit line\n",
    "# m = mdl.coef_[0]\n",
    "# b = mdl.intercept_\n",
    "# print \"formula: y = %f x + %f\" % (m,b)\n",
    "\n",
    "print len(data_X_train)"
   ]
  },
  {
   "cell_type": "markdown",
   "metadata": {},
   "source": [
    "Plot a scatter plot of the populated x,y pairs as blue points and the best fit linear regression line in red"
   ]
  },
  {
   "cell_type": "code",
   "execution_count": null,
   "metadata": {
    "collapsed": false
   },
   "outputs": [],
   "source": [
    "plt.scatter(data_X_train,data_y_train)"
   ]
  },
  {
   "cell_type": "markdown",
   "metadata": {},
   "source": [
    "##Object Oriented Model Selection\n",
    "\n",
    "Throughout the quarter, several problems have involved choosing the best model from a set of candidate models to get the best accuracy.\n",
    "\n",
    "Besides using it for selecting model hyperparmeters (as in grid search) or features, you can also use it to select the modeling method (regression, nearest neighbor, etc.).  \n",
    "\n",
    "We define three steps on the way to finding the best model.\n",
    "\n",
    "1. Define a base model class.\n",
    "1. Define four models by inheriting from a base model class.\n",
    "2. Use train/test errors to choose the best of the four model\n",
    "\n",
    "#### The base class\n",
    "We defined the base class, from which all of the other classes are derived."
   ]
  },
  {
   "cell_type": "code",
   "execution_count": null,
   "metadata": {
    "collapsed": false
   },
   "outputs": [],
   "source": [
    "# Do not modify this code\n",
    "class BaseModel:\n",
    "    def __init__(self, train_x, train_y):\n",
    "        \"\"\"Abstract constructor, subclasses should train a model of their type here and store\n",
    "           it in a way that predict can be used to compute predictions\"\"\"\n",
    "        raise Exception(\"This is an abstract class\")\n",
    "        \n",
    "    def predict(self, x):\n",
    "        \"\"\"Abstract method to compute a single prediction given a single example x\"\"\"\n",
    "        raise Exception(\"This is an abstract class\")\n",
    "        \n",
    "    def score(self, xs, ys):\n",
    "        \"\"\"Returns the accuracy of this model using xs as a list of inputs and ys as a list of correct values.\"\"\"\n",
    "        return sum([(self.model.predict(x)-y)**2 for x,y in zip(xs,ys)])/len(xs)\n",
    "    "
   ]
  },
  {
   "cell_type": "markdown",
   "metadata": {},
   "source": [
    "Now that you have implemented the BaseModel, implement a class for LinearModel, QuadraticModel, CubicModel, and QuarticModel. Use numpy's [polyfit](http://docs.scipy.org/doc/numpy/reference/generated/numpy.polyfit.html) function to find the coefficients ($a_i$) using the training data given as parameters `train_x, train_y` to the constructor.\n",
    "\n",
    "The input to each model is the variable $x$ and the output is the variable $y$.  $a_i$ refers to the coefficients found by polyfit.\n",
    "\n",
    "* **LinearModel** $y=a_1x+a_0$\n",
    "* **QuadraticModel** $y=a_2x^2+a_1x+a_0$\n",
    "* **CubicModel** $y=a_3x^3+a_2x^2+a_1x+a_0$\n",
    "* **QuarticModel** $y=a_4x^4+a_3x^3+a_2x^2+a_1x+a_0$\n"
   ]
  },
  {
   "cell_type": "code",
   "execution_count": null,
   "metadata": {
    "collapsed": false
   },
   "outputs": [],
   "source": [
    "from numpy import polyfit\n",
    "\n",
    "#This model has been solved as below, and can be used as reference to write classes for models ahead.\n",
    "\n",
    "class LinearModel(BaseModel):\n",
    "    def __init__(self, train_x, train_y):\n",
    "        #calculate coefficients\n",
    "        self.coef = polyfit(train_x, train_y,1)\n",
    "    def predict(self, x):\n",
    "        #use coeficients/formula to compute solution\n",
    "        y = self.coef[0] * x + self.coef[1]\n",
    "        return y"
   ]
  },
  {
   "cell_type": "code",
   "execution_count": null,
   "metadata": {
    "collapsed": false
   },
   "outputs": [],
   "source": [
    "class QuadraticModel(BaseModel):\n",
    "    def __init__(self, train_x, train_y):\n",
    "        #calculate coefficients\n",
    "        self.coef = polyfit(train_x, train_y,2)\n",
    "    def predict(self, x):\n",
    "        y = self.coef[0]*x**2 + self.coef[1] * x + self.coef[2]\n",
    "        return y"
   ]
  },
  {
   "cell_type": "code",
   "execution_count": null,
   "metadata": {
    "collapsed": false
   },
   "outputs": [],
   "source": [
    "class CubicModel(BaseModel):\n",
    "    def __init__(self, train_x, train_y):\n",
    "        self.coef = polyfit(train_x, train_y,3)\n",
    "    def predict(self, x):\n",
    "        y = self.coef[0]*x**3 + self.coef[1]*x**2 + self.coef[2]*x+self.coef[3]\n",
    "        return y"
   ]
  },
  {
   "cell_type": "code",
   "execution_count": null,
   "metadata": {
    "collapsed": false
   },
   "outputs": [],
   "source": [
    "class QuarticModel(BaseModel):\n",
    "    def __init__(self, train_x, train_y):\n",
    "        self.coef = polyfit(train_x, train_y,4)\n",
    "    def predict(self, x):\n",
    "        y = self.coef[0]*x**4 + self.coef[1]*x**3 + \\\n",
    "        self.coef[2]*x**2+self.coef[3]*x+self.coef[4]\n",
    "        return y"
   ]
  },
  {
   "cell_type": "markdown",
   "metadata": {},
   "source": [
    "Next, we evaluate each of these models on our data.  Fill in the parts of the function marked \"TODO\" below."
   ]
  },
  {
   "cell_type": "code",
   "execution_count": null,
   "metadata": {
    "collapsed": false
   },
   "outputs": [],
   "source": [
    "#Load Data, do not modify\n",
    "train = pd.read_csv(\"train_data.csv\")\n",
    "valid = pd.read_csv(\"validation_data.csv\")\n",
    "train_x = train[\"x\"].tolist()\n",
    "train_y = train[\"y\"].tolist()\n",
    "valid_x = valid[\"x\"].tolist()\n",
    "valid_y = valid[\"y\"].tolist()"
   ]
  },
  {
   "cell_type": "code",
   "execution_count": null,
   "metadata": {
    "collapsed": false
   },
   "outputs": [],
   "source": [
    "Models = [LinearModel, QuadraticModel, CubicModel, QuarticModel]\n",
    "\n",
    "train_error = []\n",
    "valid_error = []\n",
    "for Model in Models:\n",
    "    mdl = BaseModel(train_x, train_y)\n",
    "    print mdl.Model.predict(x)\n",
    "    train_error.append(mdl.score(train_x,train_y))\n",
    "    valid_error.append(mdl.score(valid_x,valid_y))\n",
    "    \n",
    "#Todo: Find technique with minimum validation error"
   ]
  },
  {
   "cell_type": "markdown",
   "metadata": {},
   "source": [
    "Finally plot the training and validation error on the same plot.  Have a legend denoting which line is validation/training error."
   ]
  },
  {
   "cell_type": "code",
   "execution_count": null,
   "metadata": {
    "collapsed": false
   },
   "outputs": [],
   "source": [
    "\n",
    "\n",
    "#Todo: Plot data\n"
   ]
  },
  {
   "cell_type": "markdown",
   "metadata": {},
   "source": [
    "##Scraping\n",
    "\n",
    "Started as a travel journal, Lonely Planet has gone on to become the world’s most successful travel publisher, and they maintain an award winning website giving all the necessary details a traveller could ask for. \n",
    "In this question we will try to use their website lonelyplanet.com to find the top sightseeing places in San diego and how far they are from our current location\n",
    "\n",
    "In order to do this, we will scrape the website to find the top sightseeing places and develop a table containing the name of the place and its corresponding latitude, longitude values. We will then define a function to calculate distance between two points given their latitude and longitude.\n",
    "\n",
    "You can take your current location as UCSD Rady School of Management, with Latitude 32.88661 and longitude -117.24128"
   ]
  },
  {
   "cell_type": "code",
   "execution_count": 1,
   "metadata": {
    "collapsed": false
   },
   "outputs": [],
   "source": [
    "#Do not modify\n",
    "import lxml.html as lh\n",
    "import requests\n",
    "import urllib\n",
    "import pandas as pd\n",
    "import re"
   ]
  },
  {
   "cell_type": "markdown",
   "metadata": {},
   "source": [
    "Here we download the index of san diego sights for us to process."
   ]
  },
  {
   "cell_type": "code",
   "execution_count": 2,
   "metadata": {
    "collapsed": false
   },
   "outputs": [
    {
     "name": "stdout",
     "output_type": "stream",
     "text": [
      "<Element html at 0x1063be100>\n"
     ]
    }
   ],
   "source": [
    "#Do not modify\n",
    "website = \"http://www.lonelyplanet.com\"\n",
    "country = \"usa\"\n",
    "city = \"san-diego\"\n",
    "scrape_topic = \"sights\"\n",
    "base_url = website+\"/\"+country+\"/\"+city+\"/\"+scrape_topic+\"/\"\n",
    "r  = requests.get(base_url)\n",
    "doc = lh.fromstring(r.content)\n",
    "print doc"
   ]
  },
  {
   "cell_type": "markdown",
   "metadata": {},
   "source": [
    "Once you have retrieved the entire data from the website, The urls can be printed as follows. "
   ]
  },
  {
   "cell_type": "code",
   "execution_count": 3,
   "metadata": {
    "collapsed": false
   },
   "outputs": [
    {
     "name": "stdout",
     "output_type": "stream",
     "text": [
      "[]\n",
      "[]\n",
      "['http://www.lonelyplanet.com/legal/cookies']\n",
      "['http://www.lonelyplanet.com/legal/cookies/']\n",
      "['#container']\n",
      "['#search-box']\n",
      "['#global-nav']\n",
      "['http://www.lonelyplanet.com']\n",
      "['http://shop.lonelyplanet.com/cart/view']\n",
      "['https://www.lonelyplanet.com/thorntree/my_account']\n",
      "['http://www.lonelyplanet.com/search']\n",
      "['http://www.lonelyplanet.com/places']\n",
      "['http://www.lonelyplanet.com/best-in-travel']\n",
      "['http://www.lonelyplanet.com/africa']\n",
      "['http://www.lonelyplanet.com/antarctica-1007062']\n",
      "['http://www.lonelyplanet.com/asia']\n",
      "['http://www.lonelyplanet.com/caribbean']\n",
      "['http://www.lonelyplanet.com/central-america']\n",
      "['http://www.lonelyplanet.com/europe']\n",
      "['http://www.lonelyplanet.com/middle-east']\n",
      "['http://www.lonelyplanet.com/north-america']\n",
      "['http://www.lonelyplanet.com/pacific']\n",
      "['http://www.lonelyplanet.com/south-america']\n",
      "['/places']\n",
      "['http://www.lonelyplanet.com/inspiration']\n",
      "['http://www.lonelyplanet.com/adventure-travel']\n",
      "['http://www.lonelyplanet.com/beaches']\n",
      "['http://www.lonelyplanet.com/budget-travel']\n",
      "['http://www.lonelyplanet.com/coasts-and-islands']\n",
      "['http://www.lonelyplanet.com/family-travel']\n",
      "['http://www.lonelyplanet.com/festivals-and-events']\n",
      "['http://www.lonelyplanet.com/food-and-drink']\n",
      "['http://www.lonelyplanet.com/honeymoons-and-romance']\n",
      "['http://www.lonelyplanet.com/luxury-travel']\n",
      "['http://www.lonelyplanet.com/round-the-world-travel']\n",
      "['http://www.lonelyplanet.com/wildlife-and-nature']\n",
      "['http://shop.lonelyplanet.com']\n",
      "['http://www.lonelyplanet.com/thorntree']\n",
      "['http://www.lonelyplanet.com/bookings/']\n",
      "['http://www.lonelyplanet.com/hotels']\n",
      "['http://www.lonelyplanet.com/flights/']\n",
      "['http://www.lonelyplanet.com/car-rental/']\n",
      "['http://www.lonelyplanet.com/adventure-tours/']\n",
      "['http://www.lonelyplanet.com/sightseeing-tours/']\n",
      "['http://www.lonelyplanet.com/airport-transfers/']\n",
      "['http://www.lonelyplanet.com/travel-insurance']\n",
      "['/usa/san-diego/places']\n",
      "['/usa/san-diego']\n",
      "['/usa/places']\n",
      "['/usa']\n",
      "[]\n",
      "['/usa/san-diego']\n",
      "['/usa/san-diego/things-to-do']\n",
      "['/usa/san-diego/activities']\n",
      "['/usa/san-diego/restaurants']\n",
      "['/usa/san-diego/sights']\n",
      "['/usa/san-diego/entertainment-nightlife']\n",
      "['/usa/san-diego/shopping']\n",
      "['/usa/san-diego/transport']\n",
      "['/usa/san-diego/events']\n",
      "['/usa/san-diego/tours']\n",
      "['/usa/san-diego/hotels']\n",
      "['/usa/san-diego/essential-information']\n",
      "['/usa/san-diego/travel-tips-and-articles']\n",
      "['/usa/san-diego/images']\n",
      "['/usa/san-diego/activities']\n",
      "['/usa/san-diego/restaurants']\n",
      "['/usa/san-diego/sights']\n",
      "['/usa/san-diego/entertainment-nightlife']\n",
      "['/usa/san-diego/shopping']\n",
      "['/usa/san-diego/transport']\n",
      "['/usa/san-diego/events']\n",
      "['/usa/san-diego/tours']\n",
      "['/usa/san-diego/sights/nature-wildlife/san-diego-zoo']\n",
      "['/usa/san-diego/sights/architecture/hotel-del-coronado']\n",
      "['/usa/san-diego/sights/historic/old-town-state-historic-park']\n",
      "['/usa/san-diego/sights/museums-galleries/uss-midway-museum']\n",
      "['/usa/san-diego/sights/museums-galleries/maritime-museum']\n",
      "['/usa/san-diego/sights/museums-galleries/new-childrens-museum']\n",
      "['/usa/san-diego/sights/arts-culture-literary/san-diego-main-library']\n",
      "['/usa/san-diego/sights/arts-culture-literary/spreckels-organ-pavilion']\n",
      "['/usa/san-diego/sights/museums-galleries/museum-contemporary-art-san-diego-la-jolla']\n",
      "['/usa/san-diego/sights/museums-galleries/mingei-international-museum']\n",
      "['/usa/san-diego/sights/museums-galleries/california-surf-museum/item-a-1424314-id']\n",
      "['/usa/san-diego/sights/natural-landmarks/cave-store/item-a-1400178-id']\n",
      "['/usa/san-diego/sights/attractions-performances/legoland/item-a-1251746-id']\n",
      "['/usa/san-diego/sights/attractions-performances/seaworld-san-diego']\n",
      "['/usa/san-diego/sights/beaches-islands-waterfronts/mission-pacific-beaches']\n",
      "['/usa/san-diego/sights/landmarks-monuments/cabrillo-national-monument']\n",
      "['/usa/san-diego/sights?page=2']\n",
      "['/usa/san-diego/sights?page=3']\n",
      "['/usa/san-diego/sights?page=4']\n",
      "['/usa/san-diego/sights?page=5']\n",
      "['/usa/san-diego/sights?page=6']\n",
      "['/usa/san-diego/sights?page=7']\n",
      "['/usa/san-diego/sights?page=2']\n",
      "['/usa/san-diego/hotels/best-places-to-stay-in-san-diego']\n",
      "['/usa/san-diego/things-to-do/top-things-to-do-in-san-diego']\n",
      "['/']\n",
      "['http://www.lonelyplanet.com/americas']\n",
      "['http://www.lonelyplanet.com/north-america']\n",
      "['http://www.lonelyplanet.com/usa']\n",
      "['http://www.lonelyplanet.com/usa/california']\n",
      "['http://www.lonelyplanet.com/usa/california/los-angeles-san-diego-southern-california']\n",
      "['http://www.lonelyplanet.com/americas']\n",
      "['http://www.lonelyplanet.com/north-america']\n",
      "['http://www.lonelyplanet.com/usa']\n",
      "['http://www.lonelyplanet.com/usa/california']\n",
      "['http://www.lonelyplanet.com/usa/california/los-angeles-san-diego-southern-california']\n",
      "['http://www.lonelyplanet.com/destinations']\n",
      "['http://www.lonelyplanet.com/africa']\n",
      "['http://www.lonelyplanet.com/antarctica']\n",
      "['http://www.lonelyplanet.com/asia']\n",
      "['http://www.lonelyplanet.com/caribbean']\n",
      "['http://www.lonelyplanet.com/central-america']\n",
      "['http://www.lonelyplanet.com/europe']\n",
      "['http://www.lonelyplanet.com/middle-east']\n",
      "['http://www.lonelyplanet.com/north-america']\n",
      "['http://www.lonelyplanet.com/pacific']\n",
      "['http://www.lonelyplanet.com/south-america']\n",
      "['http://www.lonelyplanet.com/shop']\n",
      "['http://www.lonelyplanet.com/shop/destination-guides']\n",
      "['http://www.lonelyplanet.com/shop/ebooks']\n",
      "['http://www.lonelyplanet.com/shop/pictorials-and-gifts']\n",
      "['http://www.lonelyplanet.com/shop/phrasebooks']\n",
      "['http://www.lonelyplanet.com/shop/childrens-books']\n",
      "['http://www.lonelyplanet.com/shop/special-offers']\n",
      "['http://www.lonelyplanet.com/thorntree']\n",
      "['http://www.lonelyplanet.com/thorntree/categories/country-forums']\n",
      "['http://www.lonelyplanet.com/thorntree/categories/talk-to-lonely-planet']\n",
      "['http://www.lonelyplanet.com/thorntree/categories/interest-forums']\n",
      "['http://www.lonelyplanet.com/thorntree/categories/sell-swap-meet-up']\n",
      "['http://www.lonelyplanet.com/interests']\n",
      "['http://www.lonelyplanet.com/adventure-travel']\n",
      "['http://www.lonelyplanet.com/beaches']\n",
      "['http://www.lonelyplanet.com/budget-travel']\n",
      "['http://www.lonelyplanet.com/family-travel']\n",
      "['http://www.lonelyplanet.com/festivals-and-events']\n",
      "['http://www.lonelyplanet.com/food-and-drink']\n",
      "['http://www.lonelyplanet.com/honeymoons-and-romance']\n",
      "['http://www.lonelyplanet.com/luxury-travel']\n",
      "['http://www.lonelyplanet.com/round-the-world-travel']\n",
      "['http://www.lonelyplanet.com/wildlife-and-nature']\n",
      "['http://www.lonelyplanet.com/bookings']\n",
      "['http://www.lonelyplanet.com/hotels']\n",
      "['http://www.lonelyplanet.com/flights']\n",
      "['http://www.lonelyplanet.com/travel-insurance']\n",
      "['http://www.lonelyplanet.com']\n",
      "['http://www.lonelyplanet.com/about/']\n",
      "['http://www.lonelyplanet.com/jobs/']\n",
      "['http://www.lonelyplanet.com/contact/']\n",
      "['http://www.lonelyplanet.com/press-trade-advertising/']\n",
      "['http://www.lonelyplanet.com/legal/website-terms/']\n",
      "['http://www.lonelyplanet.com/legal/privacy-policy/']\n",
      "['http://www.lonelyplanet.com']\n",
      "['https://twitter.com/lonelyplanet']\n",
      "['https://www.facebook.com/lonelyplanet']\n",
      "['https://plus.google.com/+LonelyPlanet/']\n",
      "['http://www.flickr.com/groups/lonelyplanetpublications/']\n",
      "['http://www.youtube.com/user/LonelyPlanet']\n",
      "['http://pinterest.com/lonelyplanet/']\n",
      "['http://instagram.com/lonelyplanet']\n",
      "['https://vine.co/lonelyplanet']\n",
      "['/blog']\n"
     ]
    }
   ],
   "source": [
    "a_elements=doc.xpath('//a')\n",
    "for a in a_elements:\n",
    "    print a.xpath('@href')\n",
    "    "
   ]
  },
  {
   "cell_type": "markdown",
   "metadata": {},
   "source": [
    "the next step is to extract the URLs corresponding to specific sights. \n",
    "\n",
    "In order to do so, we need to define a regular expression for the links in which we are interested. \n",
    "\n",
    "Browsing the HTML of the site we find URLs of the following type\n",
    "\n",
    "    1. /usa/san-diego/sights/\n",
    "    2. /usa/san-diego/sights/nature-wildlife/san-diego-zoo\n",
    "    3. /usa/san-diego/sights/architecture/hotel-del-coronado\n",
    "    4. /usa/san-diego/sights/?page2=id\n",
    "    5. /usa/san-diego/sights/?page1=id+data=x \n",
    "\n",
    "URLs like 2,3 correspond to pages of sights that we are interested in. On the other hand, URLs like 1,4,5 correspond to other information which is not of interest.\n",
    " \n",
    "Write a regex pattern which parses all links starting with /usa/san-diego/sights/ followed by more characters. Make sure that the pattern does not allow links with question marks such as 4,5."
   ]
  },
  {
   "cell_type": "code",
   "execution_count": 4,
   "metadata": {
    "collapsed": false
   },
   "outputs": [
    {
     "data": {
      "text/plain": [
       "'http://www.lonelyplanet.com/usa/san-diego/sights/architecture/hotel-del-coronado'"
      ]
     },
     "execution_count": 4,
     "metadata": {},
     "output_type": "execute_result"
    }
   ],
   "source": [
    "# I couldnt figure out how to extract info from xpath? Strings is not the type\n",
    "#matcht = re.match(r'/pattern',x)\n",
    "#.xpath('//a').re('data/.+\\.html?')\n",
    "#use the above pattern to create a list of matching urls\n",
    "\n",
    "url_list = ['/usa/san-diego/sights/nature-wildlife/san-diego-zoo',\n",
    "'/usa/san-diego/sights/architecture/hotel-del-coronado',\n",
    "'/usa/san-diego/sights/historic/old-town-state-historic-park',\n",
    "'/usa/san-diego/sights/museums-galleries/uss-midway-museum',\n",
    "'/usa/san-diego/sights/museums-galleries/maritime-museum',\n",
    "'/usa/san-diego/sights/museums-galleries/new-childrens-museum',\n",
    "'/usa/san-diego/sights/arts-culture-literary/san-diego-main-library',\n",
    "'/usa/san-diego/sights/arts-culture-literary/spreckels-organ-pavilion',\n",
    "'/usa/san-diego/sights/museums-galleries/museum-contemporary-art-san-diego-la-jolla',\n",
    "'/usa/san-diego/sights/museums-galleries/mingei-international-museum',\n",
    "'/usa/san-diego/sights/museums-galleries/california-surf-museum/item-a-1424314-id',\n",
    "'/usa/san-diego/sights/natural-landmarks/cave-store/item-a-1400178-id',\n",
    "'/usa/san-diego/sights/attractions-performances/legoland/item-a-1251746-id',\n",
    "'/usa/san-diego/sights/attractions-performances/seaworld-san-diego',\n",
    "'/usa/san-diego/sights/beaches-islands-waterfronts/mission-pacific-beaches',\n",
    "'/usa/san-diego/sights/landmarks-monuments/cabrillo-national-monument']\n",
    "\n",
    "\"http://www.lonelyplanet.com\"+url_list[1]"
   ]
  },
  {
   "cell_type": "markdown",
   "metadata": {},
   "source": [
    "Now we extract the information about each sight, we provide the `makeRecord` function that takes a beutiful soup object and returns a Dictionary containing the location name, latitude, and longitude."
   ]
  },
  {
   "cell_type": "code",
   "execution_count": 5,
   "metadata": {
    "collapsed": false
   },
   "outputs": [],
   "source": [
    "#The following is a bottomline working code to proceed ahead if you are stuck. Points will be awarded form\n",
    "def makeRecord(doc):\n",
    "    record = {}\n",
    "    div_elements=doc.xpath('//div')\n",
    "    for div in div_elements:\n",
    "        if len(div.xpath('@data-latitude'))>0:\n",
    "            record[\"latitude\"] =div.xpath('@data-latitude')[0]\n",
    "        if len(div.xpath('@data-longitude'))>0:\n",
    "            record[\"longitude\"] =div.xpath('@data-longitude')[0]\n",
    "        record[\"title\"] = \"Lonely Planet Site\"\n",
    "    return record\n"
   ]
  },
  {
   "cell_type": "markdown",
   "metadata": {},
   "source": [
    "Now loop through the sights pages you found and make records for each.  Fill in the template with the requested actions."
   ]
  },
  {
   "cell_type": "code",
   "execution_count": 6,
   "metadata": {
    "collapsed": false
   },
   "outputs": [
    {
     "data": {
      "text/plain": [
       "[{'latitude': '32.735288',\n",
       "  'longitude': '-117.151517',\n",
       "  'title': 'Lonely Planet Site'},\n",
       " {'latitude': '32.67987211',\n",
       "  'longitude': '-117.18040515',\n",
       "  'title': 'Lonely Planet Site'},\n",
       " {'latitude': '32.755146',\n",
       "  'longitude': '-117.19815',\n",
       "  'title': 'Lonely Planet Site'},\n",
       " {'latitude': '32.714365',\n",
       "  'longitude': '-117.173666',\n",
       "  'title': 'Lonely Planet Site'},\n",
       " {'latitude': '32.720795',\n",
       "  'longitude': '-117.173303',\n",
       "  'title': 'Lonely Planet Site'},\n",
       " {'latitude': '32.710639',\n",
       "  'longitude': '-117.164257',\n",
       "  'title': 'Lonely Planet Site'},\n",
       " {'latitude': '32.708824',\n",
       "  'longitude': '-117.154083',\n",
       "  'title': 'Lonely Planet Site'},\n",
       " {'latitude': '32.729363',\n",
       "  'longitude': '-117.150389',\n",
       "  'title': 'Lonely Planet Site'},\n",
       " {'latitude': '32.844404',\n",
       "  'longitude': '-117.278012',\n",
       "  'title': 'Lonely Planet Site'},\n",
       " {'latitude': '32.73098',\n",
       "  'longitude': '-117.151002',\n",
       "  'title': 'Lonely Planet Site'},\n",
       " {'latitude': '33.199281',\n",
       "  'longitude': '-117.383871',\n",
       "  'title': 'Lonely Planet Site'},\n",
       " {'latitude': '32.849393',\n",
       "  'longitude': '-117.270432',\n",
       "  'title': 'Lonely Planet Site'},\n",
       " {'latitude': '33.129214',\n",
       "  'longitude': '-117.312355',\n",
       "  'title': 'Lonely Planet Site'},\n",
       " {'latitude': '32.7641813751008',\n",
       "  'longitude': '-117.225151062012',\n",
       "  'title': 'Lonely Planet Site'},\n",
       " {'title': 'Lonely Planet Site'},\n",
       " {'latitude': '32.673483',\n",
       "  'longitude': '-117.239914',\n",
       "  'title': 'Lonely Planet Site'}]"
      ]
     },
     "execution_count": 6,
     "metadata": {},
     "output_type": "execute_result"
    }
   ],
   "source": [
    "website = \"http://www.lonelyplanet.com\"\n",
    "sights_list = []\n",
    "\n",
    "for url in url_list:\n",
    "    new_url = website+url\n",
    "    r    = requests.get(new_url)\n",
    "    doc = lh.fromstring(r.content)\n",
    "    rec  = makeRecord(doc)\n",
    "    sights_list.append(rec)\n",
    "    \n",
    "sights_list"
   ]
  },
  {
   "cell_type": "markdown",
   "metadata": {},
   "source": [
    "Now that we have a table of sightseeiing places imediately around us along with their latitudes and longitudes, use the below function to find distance of each of the sightseeing place from your current location"
   ]
  },
  {
   "cell_type": "code",
   "execution_count": 7,
   "metadata": {
    "collapsed": false
   },
   "outputs": [],
   "source": [
    "#Do not modify\n",
    "import math\n",
    "def getDistanceFromLatLonInKm(lat1,lon1,lat2,lon2) :\n",
    "    R = 6371 # Radius of the earth in km\n",
    "    dLat = deg2rad(lat2-lat1) # deg2rad below\n",
    "    dLon = deg2rad(lon2-lon1) \n",
    "    a = math.sin(dLat/2)*math.sin(dLat/2)+math.cos(deg2rad(lat1))*math.cos(deg2rad(lat2))*math.sin(dLon/2)*math.sin(dLon/2)\n",
    "\n",
    "    c = 2 * math.atan2(math.sqrt(a), math.sqrt(1-a))\n",
    "    d = R * c #Distance in km\n",
    "    return d\n",
    "\n",
    "\n",
    "def deg2rad(deg) :\n",
    "    return deg * (3.1416/180)\n"
   ]
  },
  {
   "cell_type": "markdown",
   "metadata": {},
   "source": [
    "Now add a field to each record in `sights_list` called `distance` which reports the distance from the Rady School to it.  Then print the sights from closest to furthest"
   ]
  },
  {
   "cell_type": "code",
   "execution_count": 28,
   "metadata": {
    "collapsed": false
   },
   "outputs": [
    {
     "ename": "TypeError",
     "evalue": "string indices must be integers, not str",
     "output_type": "error",
     "traceback": [
      "\u001b[0;31m---------------------------------------------------------------------------\u001b[0m",
      "\u001b[0;31mTypeError\u001b[0m                                 Traceback (most recent call last)",
      "\u001b[0;32m<ipython-input-28-c497e2436f5b>\u001b[0m in \u001b[0;36m<module>\u001b[0;34m()\u001b[0m\n\u001b[1;32m     15\u001b[0m \u001b[0;34m\u001b[0m\u001b[0m\n\u001b[1;32m     16\u001b[0m \u001b[0mt\u001b[0m\u001b[0;34m=\u001b[0m\u001b[0msights_list\u001b[0m\u001b[0;34m[\u001b[0m\u001b[0;36m1\u001b[0m\u001b[0;34m]\u001b[0m\u001b[0;34m[\u001b[0m\u001b[0;34m'latitude'\u001b[0m\u001b[0;34m]\u001b[0m\u001b[0;34m\u001b[0m\u001b[0m\n\u001b[0;32m---> 17\u001b[0;31m \u001b[0;34m{\u001b[0m\u001b[0mi\u001b[0m\u001b[0;34m:\u001b[0m\u001b[0municode\u001b[0m\u001b[0;34m(\u001b[0m\u001b[0mt\u001b[0m\u001b[0;34m[\u001b[0m\u001b[0mi\u001b[0m\u001b[0;34m]\u001b[0m\u001b[0;34m)\u001b[0m \u001b[0;32mfor\u001b[0m \u001b[0mi\u001b[0m \u001b[0;32min\u001b[0m \u001b[0mt\u001b[0m\u001b[0;34m}\u001b[0m\u001b[0;34m\u001b[0m\u001b[0m\n\u001b[0m\u001b[1;32m     18\u001b[0m \u001b[0;34m\u001b[0m\u001b[0m\n\u001b[1;32m     19\u001b[0m \u001b[0;31m# for record in sights_list:\u001b[0m\u001b[0;34m\u001b[0m\u001b[0;34m\u001b[0m\u001b[0m\n",
      "\u001b[0;32m<ipython-input-28-c497e2436f5b>\u001b[0m in \u001b[0;36m<dictcomp>\u001b[0;34m((i,))\u001b[0m\n\u001b[1;32m     15\u001b[0m \u001b[0;34m\u001b[0m\u001b[0m\n\u001b[1;32m     16\u001b[0m \u001b[0mt\u001b[0m\u001b[0;34m=\u001b[0m\u001b[0msights_list\u001b[0m\u001b[0;34m[\u001b[0m\u001b[0;36m1\u001b[0m\u001b[0;34m]\u001b[0m\u001b[0;34m[\u001b[0m\u001b[0;34m'latitude'\u001b[0m\u001b[0;34m]\u001b[0m\u001b[0;34m\u001b[0m\u001b[0m\n\u001b[0;32m---> 17\u001b[0;31m \u001b[0;34m{\u001b[0m\u001b[0mi\u001b[0m\u001b[0;34m:\u001b[0m\u001b[0municode\u001b[0m\u001b[0;34m(\u001b[0m\u001b[0mt\u001b[0m\u001b[0;34m[\u001b[0m\u001b[0mi\u001b[0m\u001b[0;34m]\u001b[0m\u001b[0;34m)\u001b[0m \u001b[0;32mfor\u001b[0m \u001b[0mi\u001b[0m \u001b[0;32min\u001b[0m \u001b[0mt\u001b[0m\u001b[0;34m}\u001b[0m\u001b[0;34m\u001b[0m\u001b[0m\n\u001b[0m\u001b[1;32m     18\u001b[0m \u001b[0;34m\u001b[0m\u001b[0m\n\u001b[1;32m     19\u001b[0m \u001b[0;31m# for record in sights_list:\u001b[0m\u001b[0;34m\u001b[0m\u001b[0;34m\u001b[0m\u001b[0m\n",
      "\u001b[0;31mTypeError\u001b[0m: string indices must be integers, not str"
     ]
    }
   ],
   "source": [
    "myLat = 32.88661\n",
    "myLng = -117.24128\n",
    "lat2=myLat\n",
    "lon2=myLng\n",
    "\n",
    "for i in range(len(sights_list)):\n",
    "    i[\"distancetome\"]=\n",
    "    print i\n",
    "    \n",
    "    #Todo: add distance to record i in sights list\n",
    "    \n",
    "#Todo: sort sights_list\n",
    "x=0\n",
    "y=0\n",
    "getDistanceFromLatLonInKm(lat1,lon1,lat2,lon2)\n",
    "c=0\n",
    "\n",
    "t=sights_list[1]['latitude']\n",
    "{i:unicode(t[i]) for i in t}\n",
    "\n",
    "for record in sights_list:\n",
    "    print record['latitude'] ,record['longitude'],myLat,myLng\n",
    "    distance =getDistanceFromLatLonInKm(record['latitude'] ,record['longitude'],myLat,myLng)\n",
    "    DistanceList.append('distance')\n",
    "    \n",
    "    \n",
    "    #would have put this in to function \"getDistanceFromLatLonInKm(lat1,lon1,lat2,lon2)\"\n",
    "    #but it is returning xml type string that I can't convert\n",
    "    \n"
   ]
  },
  {
   "cell_type": "markdown",
   "metadata": {},
   "source": [
    "## MatplotLib\n"
   ]
  },
  {
   "cell_type": "code",
   "execution_count": null,
   "metadata": {
    "collapsed": false
   },
   "outputs": [],
   "source": [
    "%pylab inline\n",
    "import numpy as np\n",
    "import matplotlib.pyplot as plt"
   ]
  },
  {
   "cell_type": "markdown",
   "metadata": {},
   "source": [
    "In this exercise we will plot a list of datasets in the form of histograms in the same plot. For this we will use the function plotHistograms given below, which takes a dataset, and bin count and outputs a histogram plot containing multiple horizonta bars."
   ]
  },
  {
   "cell_type": "code",
   "execution_count": null,
   "metadata": {
    "collapsed": false,
    "scrolled": true
   },
   "outputs": [],
   "source": [
    "ax = plt.subplot(111)\n",
    "def plotHistograms(data,binCount):\n",
    "    minVal=np.min(data)\n",
    "    maxVal=np.max(data)\n",
    "    hist=np.histogram(data, range=(minVal,maxVal), bins=binCount)\n",
    "    bin_edges = np.linspace(minVal, maxVal, binCount+1)\n",
    "    centers = .5 * (bin_edges + np.roll(bin_edges, 1))[:-1]\n",
    "    heights = np.diff(bin_edges)\n",
    "    ax=plt.subplot(111)\n",
    "    lefts = 0 - .5 * hist[0]\n",
    "    ax.barh(centers, hist[0], height=heights, left=lefts)\n",
    "\n",
    "data=np.random.normal(0, 1, 100)\n",
    "binCount=10\n",
    "plotHistograms(data,binCount)"
   ]
  },
  {
   "cell_type": "markdown",
   "metadata": {},
   "source": [
    "Use the above function to plot multiple histograms on the same plot corresponding to the datasets given below. An example graph below shows how multiple histograms can be accommodated in the same plot. Use bin count of 100 for each of the histograms. You are free to modify the function, or write your own"
   ]
  },
  {
   "cell_type": "code",
   "execution_count": null,
   "metadata": {
    "collapsed": false
   },
   "outputs": [],
   "source": [
    "number_of_data_points = 100\n",
    "data_sets = [np.random.normal(0, 1, number_of_data_points),\n",
    "             np.random.normal(6, 1, number_of_data_points),\n",
    "             np.random.normal(-3, 1, number_of_data_points),\n",
    "             np.random.normal(3, 1, number_of_data_points),\n",
    "             np.random.normal(-6, 1, number_of_data_points),\n",
    "             np.random.normal(12, 1, number_of_data_points)\n",
    "            ]\n",
    "ax = plt.subplot(111)\n",
    "#Write code here\n",
    "for i in data_sets:\n",
    "    plotHistograms(i,binCount)"
   ]
  },
  {
   "cell_type": "markdown",
   "metadata": {
    "collapsed": true
   },
   "source": [
    "<img src=\"histograms.png\">"
   ]
  },
  {
   "cell_type": "code",
   "execution_count": null,
   "metadata": {
    "collapsed": true
   },
   "outputs": [],
   "source": []
  }
 ],
 "metadata": {
  "kernelspec": {
   "display_name": "Python 2",
   "language": "python",
   "name": "python2"
  },
  "language_info": {
   "codemirror_mode": {
    "name": "ipython",
    "version": 2
   },
   "file_extension": ".py",
   "mimetype": "text/x-python",
   "name": "python",
   "nbconvert_exporter": "python",
   "pygments_lexer": "ipython2",
   "version": "2.7.11"
  }
 },
 "nbformat": 4,
 "nbformat_minor": 0
}
