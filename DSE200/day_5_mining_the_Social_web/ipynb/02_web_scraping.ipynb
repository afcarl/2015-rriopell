{
 "cells": [
  {
   "cell_type": "markdown",
   "metadata": {},
   "source": [
    "Web Scraping\n",
    "======\n",
    "Adapted from a page created by [John Beieler](https://gist.github.com/johnb30/4743272)\n",
    "\n",
    "> Even with the best of websites, I don’t think I’ve ever encountered a scraping job that couldn’t be described as *“A small and simple general model with heaps upon  piles of annoying little exceptions”* \n",
    "\n",
    ">> \\- Swizec Teller [http://swizec.com/blog/scraping-with-mechanize-and-beautifulsoup/swizec/5039](http://swizec.com/blog/scraping-with-mechanize-and-beautifulsoup/swizec/5039)\n",
    "\n",
    "##What is it?\n",
    "\n",
    "A large portion of the data that we as social scientists are interested in resides on the web in manner. Web scraping is a method for pulling data from the structured (or not so structured!) HTML that makes up a web page. Python has numerous libraries for approaching this type of problem, many of which are incredibly powerful. If there is something you want to do, there's usually a way to accomplish it. Perhaps not easily, but it can be done. \n",
    "\n",
    "\n",
    "##How is it accomplished?\n",
    "\n",
    "In general, there are three problems that you might face when undertaking a scraping task:\n",
    "\n",
    "1. You have a single page, or a set of pages, that you know of and you want to scrape.\n",
    "2. You have a source that generates links, e.g., [RSS feeds](http://rss.nytimes.com/services/xml/rss/nyt/World.xml), to various pages with the same structure.\n",
    "3. You have a page that contains many pages of interest that are scattered across the file system and you only have general rules for reaching these pages. \n",
    "\n",
    "The key is that you must identify which type of problem you have. After this, you must look at the HTML structure of a webpage and construct a script that will select the parts of the page that are of interest to you.\n",
    "\n",
    "##There's a library for that! \n",
    "\n",
    "As mentioned previously, Python has various libraries for scraping tasks. The ones I have found the most useful are:\n",
    "\n",
    "- [pattern](http://www.clips.ua.ac.be/pages/pattern)\n",
    "- [lxml](http://lxml.de/)\n",
    "- [requests](http://docs.python-requests.org/en/latest/)\n",
    "- [Scrapy](http://doc.scrapy.org/en/0.16/)\n",
    "- [Beautiful Soup](http://www.crummy.com/software/BeautifulSoup/)\n"
   ]
  },
  {
   "cell_type": "markdown",
   "metadata": {},
   "source": [
    "### Inspecting a web page\n",
    "let's inspect a [mongabay web page](http://names.mongabay.com/data/1000.html). Open the page in a separate tab, it should look something like the image below. Mongapay is a site that has a nice collection of statistics about first and last names.\n",
    "\n",
    "<img src=\"images/page.png\" alt=\"web page\" height=\"420\" width=\"600\">\n",
    "\n",
    "The source code language for web pages is HTML (Hyper-Text Markup-Language]. HTML is a hierarchical description of the visual content of a page. You can view the source, in Chrome, by choosing `View/Developer/View Source`. However, commercial web pages are very complex and inspecting them requires a more powerful method.\n",
    "\n",
    "The Chrome browsr comes with such a tool built in. You can open this tool by choosing `View/Developer/Developer Tools`\n",
    "\n",
    "If you are using Firefox you can install the [Firebug](https://getfirebug.com/) plugin which gives similar functionality.\n",
    "\n",
    "The bottom half of the browser page will now have a sophisticated development environment for all things web (HTML, CSS, Javascript).\n",
    "In particular it allows you to click on a visual element in the page and find out where it is in the source and what tags it is associated with\n",
    "<img src=\"images/InspectingHTML.png\" alt=\"web page\" height=\"420\" width=\"600\">\n",
    "\n",
    "Note that the element SMITH is surrounded by `<td>` and `</td>` and that this element and all of the elements in that row :`SMITH  1  2376206 ...` are surrounded by `<tr> ..... </tr>`. In HTML-speak we say that each element in the table is of type 'td' and that the whole row is an element if type 'tr' (stands for \"table row\").\n",
    "\n",
    "We will now see how to inspect these elements from the command line using `scrapy shell`"
   ]
  },
  {
   "cell_type": "markdown",
   "metadata": {},
   "source": [
    "### Scrapy\n",
    "\n",
    "* [Official Scrapy Tutorial](http://doc.scrapy.org/en/0.24/intro/tutorial.html)\n",
    "* Other important sections in the Scrapy documentation are **selector** and **Scrapy shell**\n"
   ]
  },
  {
   "cell_type": "markdown",
   "metadata": {},
   "source": [
    "### Using scrapy shell\n",
    "*Everything here is done from the terminal window, not inside a notebook*\n",
    "\n",
    "Install scrapy. Use one of those or something similar:\n",
    "> `pip install scrapy`\n",
    "\n",
    "> `sudo pip install scrapy`\n",
    "\n",
    "> `conda install scrapy`\n",
    "\n",
    "Start Scrapy Shell from a terminal window:\n",
    "> `scrapy shell`\n",
    "\n",
    "Fetch a page: \n",
    "> `fetch('http://names.mongabay.com/data/1000.html')`\n",
    "\n",
    "View the page in a Browser:\n",
    "> `view(response)`\n",
    "\n",
    "Get the HTML text of the response:\n",
    "> `response.body`\n",
    "\n",
    "Get just the header\n",
    "> `response.header`\n",
    "\n",
    "Get all href links to other web pages `<a href=\"http://web.site/file\"> link text </a>`:\n",
    "> `response.xpath('//a')`\n",
    "\n",
    "Filter out of the href links the ones that match a particular regular expression:\n",
    "> `response.xpath('//a').re('data/.+\\.html?')`\n",
    "\n",
    "scrapy contains much more than the shell. You can use scrapy as a library to perform web operations. You can also write a **Spider** or **Crawler** i.e. a program that will follow links to extract and process all of the pages of a particular type from a web site. Later in this notebook there is an example of using Scrapy for crawling. \n",
    "\n",
    "For now, we switch from scrapy to the libraries `requests` and `lxml.html` which are somewhat easier to use for web page parsing."
   ]
  },
  {
   "cell_type": "markdown",
   "metadata": {},
   "source": [
    "###Scraping a page that you know\n",
    "\n",
    "The easiest approach to webscraping is getting the content from a page that you know in advance. I'll go ahead and keep using the page we looked at earlier. There are three basic steps to scraping a single page:\n",
    "\n",
    "1. Get (request) the page\n",
    "2. Parse the page content\n",
    "3. Select the content of interest using an XPath selector\n",
    "\n",
    "The following code executes these three steps and prints the result. "
   ]
  },
  {
   "cell_type": "code",
   "execution_count": 1,
   "metadata": {
    "collapsed": false
   },
   "outputs": [
    {
     "data": {
      "text/plain": [
       "'<!DOCTYPE HTML PUBLIC \"-//W3C//DTD HTML 3.2//EN\">\\n<HTML>\\n<HEAD>\\n<title>Most common last names in the United States, top 1000</title>\\n<link href=\"https://plus.google.com/116584964404644143364\" rel=\"publisher\"/>\\n<meta name=\\'twitter:card\\' content=\\'summary\\'>\\n<meta name=\\'twitter:site\\' content=\\'@mongabay\\'>\\n<meta name=\\'twitter:title\\' content=\\'Most common last names in the United States, top 1000\\'>\\n<meta name=\\'twitter:creator\\' content=\\'mongabay\\'>\\n<meta name=\\'twitter:domain\\' content=\\'mongabay.com\\'>\\n<meta'"
      ]
     },
     "execution_count": 1,
     "metadata": {},
     "output_type": "execute_result"
    }
   ],
   "source": [
    "import requests\n",
    "import lxml.html as lh\n",
    "\n",
    "url = 'http://names.mongabay.com/data/1000.html'\n",
    "page = requests.get(url)\n",
    "doc = lh.fromstring(page.content)\n",
    "page.content[:500]"
   ]
  },
  {
   "cell_type": "code",
   "execution_count": 2,
   "metadata": {
    "collapsed": false
   },
   "outputs": [
    {
     "data": {
      "text/plain": [
       "[5, 3, 1, 2, 3, 3, 11, 11, 11, 11, 11, 11, 11, 11, 11, 11, 11, 11, 11, 11]"
      ]
     },
     "execution_count": 2,
     "metadata": {},
     "output_type": "execute_result"
    }
   ],
   "source": [
    "# the tag tr (table row) is used in many places, \n",
    "# among them the table of interest to us.\n",
    "# we can identify those rows by the fact that \n",
    "# the table contains 11 columns.\n",
    "tr_elements = doc.xpath('//tr')\n",
    "[len(T) for T in tr_elements[:20]]"
   ]
  },
  {
   "cell_type": "code",
   "execution_count": 4,
   "metadata": {
    "collapsed": false
   },
   "outputs": [
    {
     "name": "stdout",
     "output_type": "stream",
     "text": [
      " 6 NameRankNumber of occurrences\n",
      "Occurrences per 100,000 people\n",
      "Cumulative proportion per 100,000 people\n",
      "Percent Non-Hispanic White Only\n",
      "Percent Non-Hispanic Black Only\n",
      "Percent Non-Hispanic Asian and Pacific Islander Only\n",
      "Percent Non-Hispanic American Indian and Alaskan Native Only\n",
      "Percent Non-Hispanic of Two or More Races\n",
      "Percent Hispanic Origin\n"
     ]
    }
   ],
   "source": [
    "for i in range(len(tr_elements)):\n",
    "    if len(tr_elements[i])==11:\n",
    "        print i, tr_elements[i].text_content()\n",
    "        break"
   ]
  },
  {
   "cell_type": "code",
   "execution_count": 11,
   "metadata": {
    "collapsed": false
   },
   "outputs": [
    {
     "name": "stdout",
     "output_type": "stream",
     "text": [
      "<class 'lxml.html.HtmlElement'>\n",
      "11\n",
      "1:\"Name\"\n",
      "2:\"Rank\"\n",
      "3:\"Number of occurrences\"\n",
      "4:\"Occurrences per 100,000 people\"\n",
      "5:\"Cumulative proportion per 100,000 people\"\n",
      "6:\"Percent Non-Hispanic White Only\"\n",
      "7:\"Percent Non-Hispanic Black Only\"\n",
      "8:\"Percent Non-Hispanic Asian and Pacific Islander Only\"\n",
      "9:\"Percent Non-Hispanic American Indian and Alaskan Native Only\"\n",
      "10:\"Percent Non-Hispanic of Two or More Races\"\n",
      "11:\"Percent Hispanic Origin\"\n"
     ]
    }
   ],
   "source": [
    "col=[]  # collect column names into col\n",
    "T=tr_elements[6]\n",
    "print type(T)\n",
    "i=0\n",
    "print len(T)\n",
    "for t in T.iterchildren():\n",
    "    i+=1\n",
    "    name=t.text_content()\n",
    "    print '%d:\"%s\"'%(i,name)\n",
    "    col.append((name,[]))"
   ]
  },
  {
   "cell_type": "code",
   "execution_count": 14,
   "metadata": {
    "collapsed": false
   },
   "outputs": [
    {
     "name": "stdout",
     "output_type": "stream",
     "text": [
      "(S) cannot be converted to float, row,col= 880 6\n",
      "(S) cannot be converted to float, row,col= 880 8\n"
     ]
    }
   ],
   "source": [
    "for j in range(7,len(tr_elements)):\n",
    "    T=tr_elements[j]\n",
    "    if len(T)!=11:\n",
    "        break\n",
    "    i=0\n",
    "    for t in T.iterchildren():\n",
    "        data=t.text_content()\n",
    "        if i>0:\n",
    "            try:\n",
    "                data=float(data)\n",
    "            except:\n",
    "                print data,'cannot be converted to float, row,col=',j,i\n",
    "                data=None\n",
    "        col[i][1].append(data)\n",
    "        i+=1\n"
   ]
  },
  {
   "cell_type": "code",
   "execution_count": 15,
   "metadata": {
    "collapsed": false
   },
   "outputs": [
    {
     "data": {
      "text/plain": [
       "[2000, 2000, 2000, 2000, 2000, 2000, 2000, 2000, 2000, 2000, 2000]"
      ]
     },
     "execution_count": 15,
     "metadata": {},
     "output_type": "execute_result"
    }
   ],
   "source": [
    "[len(C) for (title,C) in col]"
   ]
  },
  {
   "cell_type": "code",
   "execution_count": 16,
   "metadata": {
    "collapsed": false
   },
   "outputs": [
    {
     "data": {
      "text/plain": [
       "2000"
      ]
     },
     "execution_count": 16,
     "metadata": {},
     "output_type": "execute_result"
    }
   ],
   "source": [
    "min_len=min([len(C) for (title,C) in col])\n",
    "min_len"
   ]
  },
  {
   "cell_type": "code",
   "execution_count": 17,
   "metadata": {
    "collapsed": false
   },
   "outputs": [
    {
     "data": {
      "text/html": [
       "<div>\n",
       "<table border=\"1\" class=\"dataframe\">\n",
       "  <thead>\n",
       "    <tr style=\"text-align: right;\">\n",
       "      <th></th>\n",
       "      <th>Cumulative proportion per 100,000 people</th>\n",
       "      <th>Name</th>\n",
       "      <th>Number of occurrences</th>\n",
       "      <th>Occurrences per 100,000 people</th>\n",
       "      <th>Percent Hispanic Origin</th>\n",
       "      <th>Percent Non-Hispanic American Indian and Alaskan Native Only</th>\n",
       "      <th>Percent Non-Hispanic Asian and Pacific Islander Only</th>\n",
       "      <th>Percent Non-Hispanic Black Only</th>\n",
       "      <th>Percent Non-Hispanic White Only</th>\n",
       "      <th>Percent Non-Hispanic of Two or More Races</th>\n",
       "      <th>Rank</th>\n",
       "    </tr>\n",
       "  </thead>\n",
       "  <tbody>\n",
       "    <tr>\n",
       "      <th>0</th>\n",
       "      <td>880.85</td>\n",
       "      <td>SMITH</td>\n",
       "      <td>2376206</td>\n",
       "      <td>880.85</td>\n",
       "      <td>1.56</td>\n",
       "      <td>0.85</td>\n",
       "      <td>0.40</td>\n",
       "      <td>22.22</td>\n",
       "      <td>73.35</td>\n",
       "      <td>1.63</td>\n",
       "      <td>1</td>\n",
       "    </tr>\n",
       "    <tr>\n",
       "      <th>1</th>\n",
       "      <td>1569.30</td>\n",
       "      <td>JOHNSON</td>\n",
       "      <td>1857160</td>\n",
       "      <td>688.44</td>\n",
       "      <td>1.50</td>\n",
       "      <td>0.91</td>\n",
       "      <td>0.42</td>\n",
       "      <td>33.80</td>\n",
       "      <td>61.55</td>\n",
       "      <td>1.82</td>\n",
       "      <td>2</td>\n",
       "    </tr>\n",
       "    <tr>\n",
       "      <th>2</th>\n",
       "      <td>2137.96</td>\n",
       "      <td>WILLIAMS</td>\n",
       "      <td>1534042</td>\n",
       "      <td>568.66</td>\n",
       "      <td>1.60</td>\n",
       "      <td>0.78</td>\n",
       "      <td>0.37</td>\n",
       "      <td>46.72</td>\n",
       "      <td>48.52</td>\n",
       "      <td>2.01</td>\n",
       "      <td>3</td>\n",
       "    </tr>\n",
       "    <tr>\n",
       "      <th>3</th>\n",
       "      <td>2649.58</td>\n",
       "      <td>BROWN</td>\n",
       "      <td>1380145</td>\n",
       "      <td>511.62</td>\n",
       "      <td>1.64</td>\n",
       "      <td>0.83</td>\n",
       "      <td>0.41</td>\n",
       "      <td>34.54</td>\n",
       "      <td>60.71</td>\n",
       "      <td>1.86</td>\n",
       "      <td>4</td>\n",
       "    </tr>\n",
       "    <tr>\n",
       "      <th>4</th>\n",
       "      <td>3154.75</td>\n",
       "      <td>JONES</td>\n",
       "      <td>1362755</td>\n",
       "      <td>505.17</td>\n",
       "      <td>1.44</td>\n",
       "      <td>0.94</td>\n",
       "      <td>0.35</td>\n",
       "      <td>37.73</td>\n",
       "      <td>57.69</td>\n",
       "      <td>1.85</td>\n",
       "      <td>5</td>\n",
       "    </tr>\n",
       "  </tbody>\n",
       "</table>\n",
       "</div>"
      ],
      "text/plain": [
       "   Cumulative proportion per 100,000 people      Name  Number of occurrences  \\\n",
       "0                                    880.85     SMITH                2376206   \n",
       "1                                   1569.30   JOHNSON                1857160   \n",
       "2                                   2137.96  WILLIAMS                1534042   \n",
       "3                                   2649.58     BROWN                1380145   \n",
       "4                                   3154.75     JONES                1362755   \n",
       "\n",
       "   Occurrences per 100,000 people  Percent Hispanic Origin  \\\n",
       "0                          880.85                     1.56   \n",
       "1                          688.44                     1.50   \n",
       "2                          568.66                     1.60   \n",
       "3                          511.62                     1.64   \n",
       "4                          505.17                     1.44   \n",
       "\n",
       "   Percent Non-Hispanic American Indian and Alaskan Native Only  \\\n",
       "0                                               0.85              \n",
       "1                                               0.91              \n",
       "2                                               0.78              \n",
       "3                                               0.83              \n",
       "4                                               0.94              \n",
       "\n",
       "   Percent Non-Hispanic Asian and Pacific Islander Only  \\\n",
       "0                                               0.40      \n",
       "1                                               0.42      \n",
       "2                                               0.37      \n",
       "3                                               0.41      \n",
       "4                                               0.35      \n",
       "\n",
       "   Percent Non-Hispanic Black Only  Percent Non-Hispanic White Only  \\\n",
       "0                            22.22                            73.35   \n",
       "1                            33.80                            61.55   \n",
       "2                            46.72                            48.52   \n",
       "3                            34.54                            60.71   \n",
       "4                            37.73                            57.69   \n",
       "\n",
       "   Percent Non-Hispanic of Two or More Races  Rank  \n",
       "0                                       1.63     1  \n",
       "1                                       1.82     2  \n",
       "2                                       2.01     3  \n",
       "3                                       1.86     4  \n",
       "4                                       1.85     5  "
      ]
     },
     "execution_count": 17,
     "metadata": {},
     "output_type": "execute_result"
    }
   ],
   "source": [
    "Dict={title:column for (title,column) in col}\n",
    "import pandas as pd\n",
    "df=pd.DataFrame(Dict)\n",
    "df.head()"
   ]
  },
  {
   "cell_type": "markdown",
   "metadata": {},
   "source": [
    "So we now have our lovely output. This output can be manipulated in various ways, or written to an output file.\n",
    "\n",
    "###Scraping generated links\n",
    "\n",
    "Let's say you want to get a stream of news stories in an easy manner. You could visit the homepage of the NYT and work from there, or you can use an [RSS feed](http://rss.nytimes.com/services/xml/rss/nyt/World.xml). RSS stands for Real Simple Syndication and is, at its heart, an XML document. This allows it to be easily parsed. The fantastic library `pattern` allows for easy parsing of RSS feeds. Using `pattern`'s `Newsfeed()` method, it is possible to parse a feed and obtain attributes of the XML document. The `search()` method returns an iterable composed of the individual stories. Each result has a variety of attributes such as `.url`, `.title`, `.description`, and more. The following code demonstrates these methods."
   ]
  },
  {
   "cell_type": "code",
   "execution_count": 7,
   "metadata": {
    "collapsed": false
   },
   "outputs": [
    {
     "name": "stdout",
     "output_type": "stream",
     "text": [
      "The current top headers from the NY times are:\n",
      "0\tMali Hotel Attack Leaves Dozens Dead; Hostages Are Taken\n",
      "1\tJonathan Pollard, American Who Spied for Israel, Released After 30 Years\n",
      "2\tEbola Cases in 3 Family Members Confirmed in Liberia\n",
      "3\tWhen You’re Named Isis for the Goddess, Not the Terror Group\n",
      "4\tJonathan Pollard, American Who Spied for Israel, Released After 30 Years\n",
      "\n",
      "\n",
      "URL: http://rss.nytimes.com/c/34625/f/642565/s/4ba858d7/sc/7/l/0L0Snytimes0N0C20A150C110C210Cworld0Cafrica0Cmali0Ehotel0Eattack0Eradisson0Bhtml0Dpartner0Frss0Gemc0Frss/story01.htm \n",
      "\n",
      " Header\n",
      "Mali Hotel Attack Leaves Dozens Dead; Hostages Are Taken \n",
      "\n",
      "Full Article\n",
      " Gunmen stormed a Radisson Blu hotel on Friday morning in Bamako,seizing scores of hostages and leaving bodies strewn across parts of the building.<br clear=\"all\" /><br /><br /><a href=\"http://rc.feedsportal.com/r/244158992254/u/0/f/642565/c/34625/s/4ba858d7/sc/7/rc/1/rc.htm\" rel=\"nofollow\"><img border=\"0\" src=\"http://rc.feedsportal.com/r/244158992254/u/0/f/642565/c/34625/s/4ba858d7/sc/7/rc/1/rc.img\" /></a><br /><br /><a href=\"http://rc.feedsportal.com/r/244158992254/u/0/f/642565/c/34625/s/4ba858d7/sc/7/rc/2/rc.htm\" rel=\"nofollow\"><img border=\"0\" src=\"http://rc.feedsportal.com/r/244158992254/u/0/f/642565/c/34625/s/4ba858d7/sc/7/rc/2/rc.img\" /></a><br /><br /><a href=\"http://rc.feedsportal.com/r/244158992254/u/0/f/642565/c/34625/s/4ba858d7/sc/7/rc/3/rc.htm\" rel=\"nofollow\"><img border=\"0\" src=\"http://rc.feedsportal.com/r/244158992254/u/0/f/642565/c/34625/s/4ba858d7/sc/7/rc/3/rc.img\" /></a><br /><br /><a href=\"http://da.feedsportal.com/r/244158992254/u/0/f/642565/c/34625/s/4ba858d7/sc/7/a2.htm\"><img border=\"0\" src=\"http://da.feedsportal.com/r/244158992254/u/0/f/642565/c/34625/s/4ba858d7/sc/7/a2.img\" /></a><br /><a href=\"http://adchoice.feedsportal.com/r/244158992254/u/0/f/642565/c/34625/s/4ba858d7/sc/7/ach.htm\"><img border=\"0\" src=\"http://adchoice.feedsportal.com/r/244158992254/u/0/f/642565/c/34625/s/4ba858d7/sc/7/ach.img\" /></a><img border=\"0\" height=\"1\" src=\"http://pi.feedsportal.com/r/244158992254/u/0/f/642565/c/34625/s/4ba858d7/sc/7/a2t.img\" width=\"1\" /><img border=\"0\" height=\"1\" src=\"http://pi2.feedsportal.com/r/244158992254/u/0/f/642565/c/34625/s/4ba858d7/sc/7/a2t2.img\" width=\"1\" /><img border=\"0\" height=\"1\" src=\"http://rss.nytimes.com/c/34625/f/642565/s/4ba858d7/sc/7/mf.gif\" width=\"1\" /> \n",
      "\n",
      "\n"
     ]
    }
   ],
   "source": [
    "import pattern.web\n",
    "num=5;\n",
    "url = 'http://rss.nytimes.com/services/xml/rss/nyt/World.xml'\n",
    "results = pattern.web.Newsfeed().search(url, count=num)\n",
    "\n",
    "print 'The current top headers from the NY times are:'\n",
    "for i in range(num):\n",
    "    print \"%d\\t%s\"%(i,results[i].title)\n",
    "\n",
    "print '\\n\\nURL: %s \\n\\n Header\\n%s \\n\\nFull Article\\n %s \\n\\n' % (results[0].url, results[0].title, results[0].description)"
   ]
  },
  {
   "cell_type": "markdown",
   "metadata": {},
   "source": [
    "That looks pretty good, but the description looks nastier than we would generally prefer. Luckily, `pattern` provides functions to get rid of the HTML in a string.  "
   ]
  },
  {
   "cell_type": "code",
   "execution_count": null,
   "metadata": {
    "collapsed": false
   },
   "outputs": [],
   "source": [
    "print '%s \\n\\n %s \\n\\n %s \\n\\n' % (results[0].url, results[0].title, pattern.web.plaintext(results[0].description))"
   ]
  },
  {
   "cell_type": "markdown",
   "metadata": {},
   "source": [
    "While it's all well and good to have the title and description of a story this is often insufficient (some descriptions are just the title, which isn't particularly helpful). To get further information on the story, it is possible to combine the single-page scraping discussed previously and the results from the RSS scrape. The following code implements a function to scrape the NYT article pages, which can be done easily since the NYT is wonderfully consistent in their HTML, and then iterates over the results applying the `scrape` function to each result."
   ]
  },
  {
   "cell_type": "code",
   "execution_count": 6,
   "metadata": {
    "collapsed": false
   },
   "outputs": [
    {
     "ename": "NameError",
     "evalue": "name 'results' is not defined",
     "output_type": "error",
     "traceback": [
      "\u001b[0;31m---------------------------------------------------------------------------\u001b[0m",
      "\u001b[0;31mNameError\u001b[0m                                 Traceback (most recent call last)",
      "\u001b[0;32m<ipython-input-6-6f035bd4341f>\u001b[0m in \u001b[0;36m<module>\u001b[0;34m()\u001b[0m\n\u001b[1;32m     12\u001b[0m     \u001b[0;32mreturn\u001b[0m \u001b[0mfinalText\u001b[0m\u001b[0;34m+\u001b[0m\u001b[0;34m'\\n\\n\\n'\u001b[0m\u001b[0;34m\u001b[0m\u001b[0m\n\u001b[1;32m     13\u001b[0m \u001b[0;34m\u001b[0m\u001b[0m\n\u001b[0;32m---> 14\u001b[0;31m \u001b[0;32mfor\u001b[0m \u001b[0mresult\u001b[0m \u001b[0;32min\u001b[0m \u001b[0mresults\u001b[0m\u001b[0;34m:\u001b[0m\u001b[0;34m\u001b[0m\u001b[0m\n\u001b[0m\u001b[1;32m     15\u001b[0m     \u001b[0moutputText\u001b[0m \u001b[0;34m=\u001b[0m \u001b[0mscrape\u001b[0m\u001b[0;34m(\u001b[0m\u001b[0mresult\u001b[0m\u001b[0;34m.\u001b[0m\u001b[0murl\u001b[0m\u001b[0;34m)\u001b[0m\u001b[0;34m\u001b[0m\u001b[0m\n\u001b[1;32m     16\u001b[0m     \u001b[0moutputFile\u001b[0m\u001b[0;34m.\u001b[0m\u001b[0mwrite\u001b[0m\u001b[0;34m(\u001b[0m\u001b[0moutputText\u001b[0m\u001b[0;34m)\u001b[0m\u001b[0;34m\u001b[0m\u001b[0m\n",
      "\u001b[0;31mNameError\u001b[0m: name 'results' is not defined"
     ]
    }
   ],
   "source": [
    "import codecs\n",
    "\n",
    "outputFile = codecs.open('tutorialOutput.txt', encoding='utf-8', mode='w')\n",
    "\n",
    "def scrape(url):\n",
    "    page = requests.get(url)\n",
    "    doc = lh.fromstring(page.content)\n",
    "    text = doc.xpath('//p[@itemprop=\"articleBody\"]')\n",
    "    finalText = str()\n",
    "    for par in text:\n",
    "        finalText += par.text_content()\n",
    "    return finalText+'\\n\\n\\n'\n",
    "\n",
    "for result in results:\n",
    "    outputText = scrape(result.url)\n",
    "    outputFile.write(outputText)\n",
    "\n",
    "outputFile.close()"
   ]
  },
  {
   "cell_type": "code",
   "execution_count": null,
   "metadata": {
    "collapsed": false
   },
   "outputs": [],
   "source": [
    "!head -4 tutorialOutput.txt"
   ]
  },
  {
   "cell_type": "markdown",
   "metadata": {},
   "source": [
    "###Scraping arbitrary websites\n",
    "\n",
    "The final approach is for a webpage that contains information you want and the pages are spread around in a fairly consistent manner, but there is no simple, straightfoward manner in which the pages are named.\n",
    "\n",
    "I'll offer a brief aside here to mention that it is often possible to make slight modifications to the URL of a website and obtain many different pages. For example, a website that contains Indian parliament speeches has the URL `http://164.100.47.132/LssNew/psearch/Result13.aspx?dbsl=` with differing values appended after the `=`. Thus, using a `for-loop` allows for the programatic creation of different URLs. Some sample code is below."
   ]
  },
  {
   "cell_type": "code",
   "execution_count": null,
   "metadata": {
    "collapsed": false
   },
   "outputs": [],
   "source": [
    "url = 'http://164.100.47.132/LssNew/psearch/Result13.aspx?dbsl='\n",
    "\n",
    "for i in xrange(5175,5973):\n",
    "    newUrl = url + str(i)\n",
    "    print 'Scraping: %s' % newUrl"
   ]
  },
  {
   "cell_type": "markdown",
   "metadata": {},
   "source": [
    "Getting back on topic, it is often more difficult than the above to iterate over numerous webpages within a site. This is where the `Scrapy` library comes in. `Scrapy` allows for the creation of web spiders that crawl over a webpage, following any links that it finds. This is often far more difficult to implement than a simple scraper since it requires the identification of rules for link following. The [State Department](http://www.state.gov/r/pa/prs/dpb/2012/index.htm) offers a good example. I don't really have time to go into the depths of writing a `Scrapy` spider, but I thought I would put up some code to illustrate what it looks like."
   ]
  },
  {
   "cell_type": "code",
   "execution_count": null,
   "metadata": {
    "collapsed": false
   },
   "outputs": [],
   "source": [
    "from scrapy.contrib.spiders import CrawlSpider, Rule\n",
    "from scrapy.contrib.linkextractors.sgml import SgmlLinkExtractor\n",
    "from scrapy.selector import HtmlXPathSelector\n",
    "from scrapy.item import Item\n",
    "from BeautifulSoup import BeautifulSoup\n",
    "import re\n",
    "import codecs\n",
    "\n",
    "class MySpider(CrawlSpider):\n",
    "    name = 'statespider' #name is a name\n",
    "    start_urls = ['http://www.state.gov/r/pa/prs/dpb/2010/index.htm',\n",
    "    ] #defines the URL that the spider should start on. adjust the year.\n",
    "\n",
    "        #defines the rules for the spider\n",
    "    rules = (Rule(SgmlLinkExtractor(allow=('/2010/'), restrict_xpaths=('//*[@id=\"local-nav\"]'),)), #allows only links within the navigation panel that have /year/ in them.\n",
    "\n",
    "    Rule(SgmlLinkExtractor(restrict_xpaths=('//*[@id=\"dpb-calendar\"]',), deny=('/video/')), callback='parse_item'), #follows links within the caldendar on the index page for the individuals years, while denying any links with /video/ in them\n",
    "\n",
    "    )\n",
    "\n",
    "    def parse_item(self, response):\n",
    "        self.log('Hi, this is an item page! %s' % response.url) #prints the response.url out in the terminal to help with debugging\n",
    "        \n",
    "        #Insert code to scrape page content\n",
    "\n",
    "        #opens the file defined above and writes 'texts' using utf-8\n",
    "        with codecs.open(filename, 'w', encoding='utf-8') as output:\n",
    "            output.write(texts)\n"
   ]
  },
  {
   "cell_type": "markdown",
   "metadata": {},
   "source": [
    "### Excercise\n",
    "Google news provides RSS feeds that can be filtered, at the source, according to the country, the language and a query term. See [this description](http://thinktostart.com/creating-custom-rss-feeds-with-google/).\n",
    "\n",
    "Create a feed for all spanish news about san diego that prints the latest 5 headers and descriptions.\n"
   ]
  },
  {
   "cell_type": "markdown",
   "metadata": {},
   "source": [
    "##The Pitfalls of Webscraping\n",
    "\n",
    "Web scraping is much, much, *much*, more of an art than a science. It is often non-trivial to identify the XPath selector that will get you what you want. Also, some web programmers can't seem to decide how they want to structure the pages they write, so they just change the HTML every few pages. Notice that for the NYT example if `articleBody` gets changed to `articleBody1`, everything breaks. There are ways around this that are often convoluted, messy, and hackish. Usually, however, where there is a will there is a way.\n",
    "\n",
    "...brief pause to demonstrate the lengths this can go to.\n",
    "\n",
    "##PITF Human Atrocities\n",
    "\n",
    "As a wrap up, I show the workflow I have been using to perform real-time scraping from various news sites of stories pertaining to human atrocities. This is illustrative both of web scraping and of the issues that can accompany programming. \n",
    "\n",
    "The general flow of the scraper is:\n",
    "\n",
    "RSS feed -> identify relevant stories -> scrape story -> place results in mongoDB -> repeat every hour\n"
   ]
  },
  {
   "cell_type": "code",
   "execution_count": null,
   "metadata": {
    "collapsed": true
   },
   "outputs": [],
   "source": []
  }
 ],
 "metadata": {
  "kernelspec": {
   "display_name": "Python 2",
   "language": "python",
   "name": "python2"
  },
  "language_info": {
   "codemirror_mode": {
    "name": "ipython",
    "version": 2
   },
   "file_extension": ".py",
   "mimetype": "text/x-python",
   "name": "python",
   "nbconvert_exporter": "python",
   "pygments_lexer": "ipython2",
   "version": "2.7.10"
  }
 },
 "nbformat": 4,
 "nbformat_minor": 0
}
