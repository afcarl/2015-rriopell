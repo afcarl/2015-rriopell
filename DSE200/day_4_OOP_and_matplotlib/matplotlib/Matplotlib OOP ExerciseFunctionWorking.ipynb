{
 "cells": [
  {
   "cell_type": "markdown",
   "metadata": {},
   "source": [
    "### Matplotlib Exercises###"
   ]
  },
  {
   "cell_type": "markdown",
   "metadata": {},
   "source": [
    "In this exercise we will write a class which will take a pandas dataframe and output a set of plots describing the dataframe. For this we will use data from http://earthquake.usgs.gov/ which maintains csv files corresponding to data of earthquake occurrences sorted according to earthquakes magnitude, ranging from significant only down to all earthquakes, major or minor. The csv files are available here "
   ]
  },
  {
   "cell_type": "code",
   "execution_count": null,
   "metadata": {
    "collapsed": true
   },
   "outputs": [],
   "source": [
    "feed=\"http://earthquake.usgs.gov/earthquakes/feed/v1.0/summary/\""
   ]
  },
  {
   "cell_type": "code",
   "execution_count": null,
   "metadata": {
    "collapsed": false
   },
   "outputs": [],
   "source": [
    "import numpy as np\n",
    "import pandas as pd\n",
    "import urllib2\n",
    "import matplotlib as mpl\n",
    "import matplotlib.pyplot as plt\n",
    "from math import exp\n",
    "#%pylab inline"
   ]
  },
  {
   "cell_type": "markdown",
   "metadata": {},
   "source": [
    "Check if you have the updated version of Matplotlib i.e 1.5.0. If not you can udate it using linux command sudo pip install --upgrade matplotlib for unix boxes and corresponding brew command for mac"
   ]
  },
  {
   "cell_type": "code",
   "execution_count": null,
   "metadata": {
    "collapsed": false,
    "scrolled": true
   },
   "outputs": [],
   "source": [
    "print mpl.__version__"
   ]
  },
  {
   "cell_type": "markdown",
   "metadata": {},
   "source": [
    "### Acquiring Data ###\n",
    "\n",
    "For this assignment we will be working with the following csv files\n",
    "\n",
    "1. Significant earthquakes in the last 30 days : feed + \"significant_month.csv\"\n",
    "2. Magnitude > 4.5 : feed + \"4.5_month.csv\"\n",
    "3. Magnitude > 2.5 : feed + \"2.5_month.csv\"\n",
    "4. Magnitude > 1.0 : feed + \"1.0_month.csv\""
   ]
  },
  {
   "cell_type": "markdown",
   "metadata": {},
   "source": [
    "Q1) Write a function which takes an integer input from 1 to 4 and outputs a pandas dataframe corresponding to the csv file above. Note that the function should necessarily download the data from the website via internet."
   ]
  },
  {
   "cell_type": "code",
   "execution_count": null,
   "metadata": {
    "collapsed": true
   },
   "outputs": [],
   "source": [
    "filenames=[\"significant_month.csv\",\n",
    "           \"4.5_month.csv\",\n",
    "           \"2.5_month.csv\",\n",
    "           \"1.0_month.csv\"]\n",
    "def download_data(i):\n",
    "    feed=\"http://earthquake.usgs.gov/earthquakes/feed/v1.0/summary/\"\n",
    "    url=feed+filenames[i-1];\n",
    "    print 'downloading',url\n",
    "    return pd.read_csv(url);"
   ]
  },
  {
   "cell_type": "code",
   "execution_count": null,
   "metadata": {
    "collapsed": false,
    "scrolled": false
   },
   "outputs": [],
   "source": [
    "last_30 = download_data(1)\n",
    "data_45 = download_data(2)\n",
    "data_25 = download_data(3)\n",
    "data_10 = download_data(4)\n",
    "data_25.head()"
   ]
  },
  {
   "cell_type": "markdown",
   "metadata": {},
   "source": [
    "###Q2) Analyzing the data ###\n",
    "\n",
    "In order to understand the data we will plot different attributes of the data using tools provided by matplotlib.\n",
    "In order to do that, we will first create a class object for the given dataframe.\n",
    "\n",
    "2.1) The class will have a set of functions to generate different plots. The first function will output a histogram taking column type as input. The column type is restricted to latitude or longitude. Take default interval size as 10 degrees\n",
    "\n",
    "2.2) Write another function which when called will output a scatter plot of longitude vs. latitude. For extra credit represent each earthquake by a circle whose area is proporportional to the strength of the earthquake."
   ]
  },
  {
   "cell_type": "code",
   "execution_count": null,
   "metadata": {
    "collapsed": false
   },
   "outputs": [],
   "source": [
    "last_30.columns\n",
    "type(last_30['mag'][1])"
   ]
  },
  {
   "cell_type": "code",
   "execution_count": null,
   "metadata": {
    "collapsed": false
   },
   "outputs": [],
   "source": [
    "# %pylab inline\n",
    "# class dataPlot(object):\n",
    "#     \"\"\"dataPlot takes a pandas dataframe as input and outputs different plots correspondng to the input dataframe\"\"\"\n",
    "    \n",
    "#     def __init__(self, dataframe):\n",
    "#         self.df=dataframe\n",
    "#         \"\"\"Initialize variables\"\"\"\n",
    "    \n",
    "#     def histogram(self,colType):\n",
    "#         plt.hist(self.df[colType], 10, normed=1, facecolor='b', alpha=.7)\n",
    "#         plt.xlabel('Smarts')\n",
    "#         plt.ylabel('Probability')\n",
    "#         plt.title(\"Histogram Plot of Latitude or Longitude\")\n",
    "    \n",
    "#     def scatter(self):\n",
    "#         x= self.df['latitude']\n",
    "#         y= self.df['longitude']\n",
    "#         z= self.df['mag']\n",
    "#         sizes = (z*1.2)**3\n",
    "#         colors = self.df['mag']\n",
    "#         plt.scatter(x, y, s=sizes, c=colors, alpha=0.5)\n",
    "#         plt.xlabel('Latitude')\n",
    "#         plt.ylabel('Longitude')\n",
    "#         plt.title(\"Scatter Plot of Latitude or Longitude\")\n",
    "#         plt.show()\n"
   ]
  },
  {
   "cell_type": "code",
   "execution_count": null,
   "metadata": {
    "collapsed": false
   },
   "outputs": [],
   "source": [
    "# dp45=dataPlot(data_45).histogram('latitude')"
   ]
  },
  {
   "cell_type": "code",
   "execution_count": null,
   "metadata": {
    "collapsed": false
   },
   "outputs": [],
   "source": [
    "# dp45=dataPlot(data_45).histogram('longitude')"
   ]
  },
  {
   "cell_type": "code",
   "execution_count": null,
   "metadata": {
    "collapsed": false
   },
   "outputs": [],
   "source": [
    "# dataPlot(data_45).scatter()\n"
   ]
  },
  {
   "cell_type": "markdown",
   "metadata": {},
   "source": [
    "### Q3) Plotting data on the map ###"
   ]
  },
  {
   "cell_type": "markdown",
   "metadata": {
    "collapsed": false,
    "scrolled": true
   },
   "source": [
    "In the last class we had used basemap to plot the weather data. Now we will use basemap to plot the earthquake data, and further enhance it with a rain animation to indicate the severity of the incident. We will start initially with the dataset corresponding to earthquakes magnitude > 4.5"
   ]
  },
  {
   "cell_type": "code",
   "execution_count": null,
   "metadata": {
    "collapsed": false
   },
   "outputs": [],
   "source": [
    "# data_45 = download_data(2)"
   ]
  },
  {
   "cell_type": "markdown",
   "metadata": {},
   "source": [
    "First we will import necessary libraries"
   ]
  },
  {
   "cell_type": "code",
   "execution_count": null,
   "metadata": {
    "collapsed": true
   },
   "outputs": [],
   "source": [
    "from mpl_toolkits.basemap import Basemap\n",
    "import matplotlib.animation as animation"
   ]
  },
  {
   "cell_type": "markdown",
   "metadata": {},
   "source": [
    "Next we will generate a figure canvas with a basemap projection. We will use the 'mill' projection of Basemap for this assignment. "
   ]
  },
  {
   "cell_type": "code",
   "execution_count": null,
   "metadata": {
    "collapsed": false
   },
   "outputs": [],
   "source": [
    "# from mpl_toolkits.basemap import Basemap\n",
    "# import matplotlib.animation as animation\n",
    "\n",
    "# #General plot  initializations\n",
    "# fig = plt.figure(figsize=(14,10))\n",
    "# ax = plt.subplot(1,1,1)\n",
    "# earth = Basemap(projection='mill')\n",
    "# plt.title(\"Miller Cylindrical Projection\")\n",
    "# plt.show()"
   ]
  },
  {
   "cell_type": "markdown",
   "metadata": {},
   "source": [
    "We will then draw coastlines and continents"
   ]
  },
  {
   "cell_type": "code",
   "execution_count": null,
   "metadata": {
    "collapsed": false
   },
   "outputs": [],
   "source": [
    "# earth.drawcoastlines(color='0.50', linewidth=0.25)\n",
    "# earth.fillcontinents(color='0.95')\n",
    "# plt.show()"
   ]
  },
  {
   "cell_type": "markdown",
   "metadata": {},
   "source": [
    "Now we will plot the magnitude of different earthquakes on the above plot according to the latitude and longitude of the origin and enhance it using Rain animation\n",
    "\n",
    "#### Rain animation ####\n",
    "A very simple rain effect can be obtained by having small growing rings randomly positioned over a figure. Of course, they won't grow forever since the wave is supposed to damp with time. To simulate that, we can use a more and more transparent color as the ring is growing, up to the point where it is no more visible. At this point, we remove the ring and create a new one.\n",
    "\n",
    "An example from rain animation can be loaded by running the next cell (source: http://matplotlib.org/examples/animation/rain.html)"
   ]
  },
  {
   "cell_type": "code",
   "execution_count": null,
   "metadata": {
    "collapsed": true
   },
   "outputs": [],
   "source": []
  },
  {
   "cell_type": "code",
   "execution_count": null,
   "metadata": {
    "collapsed": false
   },
   "outputs": [],
   "source": [
    "# from mpl_toolkits.basemap import Basemap\n",
    "# import matplotlib.animation as animation\n",
    "# import numpy as np\n",
    "# import matplotlib.pyplot as plt\n",
    "# lats= data_45['latitude'].values\n",
    "# lons= data_45['longitude'].values\n",
    "# mag= data_45['mag'].values\n",
    "# #temp=stations.ix[:,'Color'].values\n",
    "# lonmin=-180;lonmax=180;latsmin=-80;latsmax=80;\n",
    "# select=(lons>lonmin) * (lons<lonmax)*(lats>latsmin)*(lats<latsmax)\n",
    "# lons=lons[select]\n",
    "# lats=lats[select]\n",
    "# fig = plt.figure(figsize=(14,10))\n",
    "# earth = Basemap(projection='mill',llcrnrlat=latsmin,urcrnrlat=latsmax,\\\n",
    "#                 llcrnrlon=lonmin,urcrnrlon=lonmax,lat_ts=20,resolution='i')\n",
    "# earth.drawcoastlines(color='0.50', linewidth=0.25)\n",
    "# earth.fillcontinents(color='0.95')\n",
    "# x, y = earth(lons,lats)\n",
    "# earth.scatter(x,y,s=mag, edgecolor='')\n",
    "# plt.title(\"Miller Cylindrical Projection\")\n",
    "# plt.show()"
   ]
  },
  {
   "cell_type": "code",
   "execution_count": null,
   "metadata": {
    "collapsed": true
   },
   "outputs": [],
   "source": [
    "# self.earth(self) pass in x and y"
   ]
  },
  {
   "cell_type": "code",
   "execution_count": null,
   "metadata": {
    "collapsed": false
   },
   "outputs": [],
   "source": [
    "# type(np.random.uniform(0, 1, (5, 2)))"
   ]
  },
  {
   "cell_type": "code",
   "execution_count": null,
   "metadata": {
    "collapsed": false
   },
   "outputs": [],
   "source": [
    "# # %load rain.py\n",
    "# \"\"\"Rain Simulation\n",
    "\n",
    "# Simulates rain drops on a surface by animating the scale and opacity\n",
    "# of 50 scatter points.\n",
    "\n",
    "# Author: Nicolas P. Rougier\n",
    "# \"\"\"\n",
    "# import numpy as np\n",
    "# import matplotlib.pyplot as plt\n",
    "# from matplotlib.animation import FuncAnimation\n",
    "\n",
    "# # Create new Figure and an Axes which fills it.\n",
    "# fig = plt.figure(figsize=(7, 7))\n",
    "# ax = fig.add_axes([0, 0, 1, 1], frameon=False)\n",
    "# ax.set_xlim(0, 1), ax.set_xticks([])\n",
    "# ax.set_ylim(0, 1), ax.set_yticks([])\n",
    "\n",
    "# # Create rain data\n",
    "# n_drops = 50\n",
    "# rain_drops = np.zeros(n_drops, dtype=[('position', float, 2),\n",
    "#                                       ('size',     float, 1),\n",
    "#                                       ('growth',   float, 1),\n",
    "#                                       ('color',    float, 4)])\n",
    "\n",
    "# # Initialize the raindrops in random positions and with\n",
    "# # random growth rates.\n",
    "# rain_drops['position'] = np.random.uniform(0, 1, (n_drops, 2))\n",
    "# rain_drops['growth'] = np.random.uniform(50, 200, n_drops)\n",
    "\n",
    "# # Construct the scatter which we will update during animation\n",
    "# # as the raindrops develop.\n",
    "# scat = ax.scatter(rain_drops['position'][:, 0], rain_drops['position'][:, 1],\n",
    "#                   s=rain_drops['size'], lw=0.5, edgecolors=rain_drops['color'],\n",
    "#                   facecolors='none')\n",
    "\n",
    "# def update(frame_number):\n",
    "#     # Get an index which we can use to re-spawn the oldest raindrop.\n",
    "#     current_index = frame_number % n_drops\n",
    "\n",
    "#     # Make all colors more transparent as time progresses.\n",
    "#     rain_drops['color'][:, 3] -= 1.0/len(rain_drops)\n",
    "#     rain_drops['color'][:, 3] = np.clip(rain_drops['color'][:, 3], 0, 1)\n",
    "    \n",
    "#     # Make all circles bigger.\n",
    "#     rain_drops['size'] += rain_drops['growth']\n",
    "\n",
    "#     # Pick a new position for oldest rain drop, resetting its size,\n",
    "#     # color and growth factor.\n",
    "#     rain_drops['position'][current_index] = np.random.uniform(0, 1, 2)\n",
    "#     rain_drops['size'][current_index] = 5\n",
    "#     rain_drops['color'][current_index] = (0, 0, 0, 1)\n",
    "#     rain_drops['growth'][current_index] = \n",
    "\n",
    "#     # Update the scatter collection, with the new colors, sizes and positions.\n",
    "#     scat.set_edgecolors(rain_drops['color'])\n",
    "#     scat.set_sizes(rain_drops['size'])\n",
    "#     scat.set_offsets(rain_drops['position'])\n",
    "    \n",
    "# # Construct the animation, using the update function as the animation\n",
    "# # director.\n",
    "# animation = FuncAnimation(fig, update, interval=10)\n",
    "# plt.show()\n",
    "\n"
   ]
  },
  {
   "cell_type": "code",
   "execution_count": null,
   "metadata": {
    "collapsed": false
   },
   "outputs": [],
   "source": [
    "print np.random.uniform(0, 1, 2)\n",
    "print np.random.uniform(0, 1, 2)\n",
    "print np.random.uniform(50, 200)"
   ]
  },
  {
   "cell_type": "markdown",
   "metadata": {},
   "source": [
    "As you can see from the above code, the animation can be called from matplotlib's animation function using FuncAnimation or in our case animation.FuncAnimation. This will require an update function, a canvas fig, and an interval)"
   ]
  },
  {
   "cell_type": "markdown",
   "metadata": {},
   "source": [
    "Q4) Now, based on the above rain animation, write an update function to plot the earthquake on earlier created fig. Set the interval as 10. i.e \n",
    "animation = animation.FuncAnimation(fig, update, interval=10)\n",
    "\n",
    "To do this, create two objects rain_drops and scat as shown in the code above. The rain_drops and scat should be of the type as follows."
   ]
  },
  {
   "cell_type": "markdown",
   "metadata": {},
   "source": [
    "Some of the key attributes for the plot should be set as follows\n",
    "1. number of drops is 50\n",
    "2. drop size is 5\n",
    "3. growth is exponential with respect to magnitude i.e np.exp(magnitude) * 0.1\n",
    "4. If magnitude less than 6 set color as 0,0,1,1 else set color as 1,0,0,1\n",
    "\n",
    "The scat object functions \n",
    "1. set_edgecolors\n",
    "2. set_sizes\n",
    "3. set_offsets\n",
    "4. set_faceColors\n",
    "\n",
    "sets these values and returns the scat object. "
   ]
  },
  {
   "cell_type": "markdown",
   "metadata": {},
   "source": [
    "Q4) Now, add this function to the above class dataPlot and call it for the dataframes data_25, data_1"
   ]
  },
  {
   "cell_type": "markdown",
   "metadata": {},
   "source": [
    "# NOTE TO SACHIN: The code below works on my computer but a bunch of people have told me that my computer is too slow to be running the animcation function.  Therefore it was extremely hard to debug because each time I run the code, it takes over 2 minutes to even show up on the screen.  I am planning on getting a new computer over break, but please take mercy on me for this problem if it doesnt look exactly right. "
   ]
  },
  {
   "cell_type": "code",
   "execution_count": null,
   "metadata": {
    "collapsed": false
   },
   "outputs": [],
   "source": [
    "import numpy as np\n",
    "import matplotlib.pyplot as plt\n",
    "from matplotlib.animation import FuncAnimation\n",
    "from mpl_toolkits.basemap import Basemap\n",
    "%matplotlib nbagg\n",
    "\n",
    "fig = plt.figure(figsize=(14,10))\n",
    "lonmin=-180;lonmax=180;latsmin=-80;latsmax=80;\n",
    "earth = Basemap(projection='mill',llcrnrlat=latsmin,urcrnrlat=latsmax,\\\n",
    "                llcrnrlon=lonmin,urcrnrlon=lonmax,lat_ts=20,resolution='i')\n",
    "earth.drawcoastlines(color='0.50', linewidth=0.25)\n",
    "earth.fillcontinents(color='0.95', zorder=0)\n",
    "\n",
    "plt.title(\"Miller Cylindrical Projection\")\n",
    "lats= data_45['latitude'].values\n",
    "lons= data_45['longitude'].values\n",
    "mags= data_45['mag'].values\n",
    "x, y = earth(lons,lats)\n",
    "pos= zip(x,y)\n",
    "#earth.scatter(x,y,s=mag, edgecolor='')\n",
    "\n",
    "\n",
    "n_drops = len(lats)\n",
    "rain_drops = np.zeros(n_drops, dtype=[('position', float, 2),\n",
    "                          ('size',     float, 1),\n",
    "                          ('growth',   float, 1),\n",
    "                          ('color',    float, 4),\n",
    "                          ('edgecolor', float,4)])\n",
    "\n",
    "rain_drops['size']=5\n",
    "rain_drops['position'] = pos\n",
    "rain_drops['edgecolor']=[1,1,1,1]\n",
    "\n",
    "#rain_drops['growth'] = np.array(data_25['mag'].apply(lambda x: exp(x)*0.8).iloc[0:50])\n",
    "\n",
    "scat = earth.scatter(rain_drops['position'][:,0], rain_drops['position'][:,1], rain_drops['size'], lw=0.5,\n",
    "                   edgecolors = rain_drops['color'], facecolors='None', zorder=1)\n",
    "\n",
    "def update(frame_number):\n",
    "    print frame_number\n",
    "    # Get an index which we can use to re-spawn the oldest raindrop.\n",
    "    current_index = frame_number % n_drops\n",
    "\n",
    "    # Make all colors more transparent as time progresses.\n",
    "    if mags[current_index] < 6:\n",
    "        rain_drops['color'][current_index] = [0,0,1,1]\n",
    "    else:\n",
    "        rain_drops['color'][current_index] = [1,0,0,1]\n",
    "    \n",
    "    # Make all circles bigger.\n",
    "    rain_drops['size'] += np.exp(mags[current_index])*0.1\n",
    "\n",
    "    rain_drops['size'][current_index] = 5\n",
    "    rain_drops['position'][current_index] = pos[current_index]\n",
    "\n",
    "\n",
    "    # Update the scatter collection, with the new colors, sizes and positions.\n",
    "    scat.set_edgecolors(rain_drops['edgecolor'])\n",
    "    scat.set_sizes(rain_drops['size'])\n",
    "    scat.set_offsets(rain_drops['position'])\n",
    "    scat.set_facecolor(rain_drops['color'])\n",
    "    \n",
    "# Construct the animation, using the update function as the animation\n",
    "# director.\n",
    "animation = FuncAnimation(fig, update, interval=10)\n",
    "plt.show()\n"
   ]
  },
  {
   "cell_type": "markdown",
   "metadata": {},
   "source": [
    "Finally, plot the frames as an animation "
   ]
  },
  {
   "cell_type": "code",
   "execution_count": null,
   "metadata": {
    "collapsed": false
   },
   "outputs": [],
   "source": [
    "animation = animation.FuncAnimation(fig, update, interval=10)\n",
    "plt.show()"
   ]
  }
 ],
 "metadata": {
  "kernelspec": {
   "display_name": "Python 2",
   "language": "python",
   "name": "python2"
  },
  "language_info": {
   "codemirror_mode": {
    "name": "ipython",
    "version": 2
   },
   "file_extension": ".py",
   "mimetype": "text/x-python",
   "name": "python",
   "nbconvert_exporter": "python",
   "pygments_lexer": "ipython2",
   "version": "2.7.10"
  }
 },
 "nbformat": 4,
 "nbformat_minor": 0
}
