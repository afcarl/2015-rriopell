{
 "cells": [
  {
   "cell_type": "markdown",
   "metadata": {},
   "source": [
    "## Unix\n",
    "\n",
    "Find the total file size in bytes by extension for all files under the `./tree` directory (include files in sub directories, sub sub directories, etc).  Store your results in a dictionary from extension -> total size and print your directory as a 2 column tab delimited table like so:\n",
    "\n",
    "> EXTENSION (tab) SIZE\n",
    "> .ps (tab) 3000\n",
    "> .pdf (tab) 5400\n",
    "\n",
    "\n",
    "**Hint:** Use the [os.walk](https://docs.python.org/2/library/os.html) function to find all files below a directory."
   ]
  },
  {
   "cell_type": "code",
   "execution_count": null,
   "metadata": {
    "collapsed": false
   },
   "outputs": [],
   "source": [
    "import os"
   ]
  },
  {
   "cell_type": "code",
   "execution_count": null,
   "metadata": {
    "collapsed": false
   },
   "outputs": [],
   "source": [
    "from itertools import chain,groupby\n",
    "files = chain.from_iterable([ [x[0] + \"/\" + y for y in x[2]] for x in os.walk(\"./tree\")])\n",
    "fs = {}\n",
    "for f in files:\n",
    "    key = f.split(\".\")[-1]\n",
    "    size = fs.get(key,0)\n",
    "    size = size + os.path.getsize(f)\n",
    "    fs[key] = size\n",
    "\n",
    "for ext,size in fs.iteritems():\n",
    "    print ext + \"\\t\" + str(size)"
   ]
  },
  {
   "cell_type": "markdown",
   "metadata": {},
   "source": [
    "### Unix Shell Commands\n",
    "\n",
    "Your solution to each of the two following problems should be a single command line which defines a sequence of unix commands connected by pipes."
   ]
  },
  {
   "cell_type": "markdown",
   "metadata": {},
   "source": [
    "#### Unix question 1\n",
    "Print the number of times each character appears as the first character of a line in the file `word_list/canadian-words.95`.  \n",
    "\n",
    "Your output should appear like this:\n",
    "\n",
    "`\n",
    " 224 a\n",
    "  54 b\n",
    " 251 c\n",
    " 156 d\n",
    "  99 e\n",
    "  85 f\n",
    "  62 g\n",
    " 168 h\n",
    "  83 i\n",
    "   8 j\n",
    "   7 k\n",
    "  81 l\n",
    "...`"
   ]
  },
  {
   "cell_type": "code",
   "execution_count": 1,
   "metadata": {
    "collapsed": false
   },
   "outputs": [
    {
     "name": "stdout",
     "output_type": "stream",
     "text": [
      " 224 a\r\n",
      "  54 b\r\n",
      " 251 c\r\n",
      " 156 d\r\n",
      "  99 e\r\n",
      "  85 f\r\n",
      "  62 g\r\n",
      " 168 h\r\n",
      "  83 i\r\n",
      "   8 j\r\n",
      "   7 k\r\n",
      "  81 l\r\n",
      " 164 m\r\n",
      "  98 n\r\n",
      " 101 o\r\n",
      " 442 p\r\n",
      "   7 q\r\n",
      " 145 r\r\n",
      " 217 s\r\n",
      " 105 t\r\n",
      " 345 u\r\n",
      "  59 v\r\n",
      "  17 w\r\n",
      "   3 z\r\n"
     ]
    }
   ],
   "source": [
    "!cat word_list/canadian-words.95 | cut -b1 | uniq -c"
   ]
  },
  {
   "cell_type": "markdown",
   "metadata": {},
   "source": [
    "#### Unix question 2\n",
    "\n",
    "Find all lines of the file `word_list/canadian-words.95` which contain a repeated letter.  IE 'Sneeze' contains a repeated e while 'Sneze' does not.  Count the number of words this occurs in.\n",
    "\n",
    "The correct output is 351\n",
    "\n",
    "**Hint:** Grep backreferences may be useful."
   ]
  },
  {
   "cell_type": "code",
   "execution_count": 2,
   "metadata": {
    "collapsed": false
   },
   "outputs": [
    {
     "name": "stdout",
     "output_type": "stream",
     "text": [
      "     351\r\n"
     ]
    }
   ],
   "source": [
    "!cat word_list/canadian-words.95 | grep \"\\(.\\)\\1\" | wc -l"
   ]
  },
  {
   "cell_type": "markdown",
   "metadata": {},
   "source": [
    "##Python Programming\n",
    "\n",
    "Write a list comprehension that creates a list containing all of the numbers that are both exact squares and odd in the range 1 to 100."
   ]
  },
  {
   "cell_type": "code",
   "execution_count": null,
   "metadata": {
    "collapsed": true
   },
   "outputs": [],
   "source": [
    "import math\n",
    "[ x for x in range(1,101) if x %2 ==1 and math.pow(int(math.sqrt(x)),2)==x ]"
   ]
  },
  {
   "cell_type": "markdown",
   "metadata": {},
   "source": [
    "Write a function expand which takes a word and repeats each character one more time than the previous character.\n",
    "\n",
    "For example \"BANG!\" becomes \"BAANNNGGGG!!!!!\""
   ]
  },
  {
   "cell_type": "code",
   "execution_count": null,
   "metadata": {
    "collapsed": false
   },
   "outputs": [],
   "source": [
    "def expand(word):\n",
    "    out = \"\"\n",
    "    for i in range(len(word)):\n",
    "        out = out + word[i]*(i+1)\n",
    "    return out\n",
    "expand(\"BANG!\")"
   ]
  },
  {
   "cell_type": "markdown",
   "metadata": {},
   "source": [
    "Write a function \"string_value\" which takes a string, converts each letter to its ascii code (*hint: the ord function returns a characters ascii value*) and returns the sum of the strings ascii values.  For example cat -> [99, 97, 116] -> 312.  \n",
    "\n",
    "Then load the file `word_list/canadian-words.95` into a list and sort the list by the value returned by string_value"
   ]
  },
  {
   "cell_type": "code",
   "execution_count": null,
   "metadata": {
    "collapsed": false
   },
   "outputs": [],
   "source": [
    "def string_value(word):\n",
    "    return sum([ord(x) for x in word])\n",
    "\n",
    "words = open(\"word_list/canadian-words.95\",\"r\").readlines()\n",
    "words = [word.strip() for word in words]\n",
    "sorted(words,key=string_value)\n"
   ]
  },
  {
   "cell_type": "code",
   "execution_count": null,
   "metadata": {
    "collapsed": false
   },
   "outputs": [],
   "source": [
    "!cat .gitignore"
   ]
  },
  {
   "cell_type": "code",
   "execution_count": null,
   "metadata": {
    "collapsed": true
   },
   "outputs": [],
   "source": [
    "f = open('.gitignore', 'w')"
   ]
  },
  {
   "cell_type": "markdown",
   "metadata": {},
   "source": [
    "##Git/iPython Magics\n",
    "Load your repositories .gitignore file using ipython magics.  Modify the file so that it ignores files with the extension .ignoreme.  Write the file using ipython magics"
   ]
  },
  {
   "cell_type": "code",
   "execution_count": null,
   "metadata": {
    "collapsed": false
   },
   "outputs": [],
   "source": [
    "%load ../.gitignore"
   ]
  },
  {
   "cell_type": "code",
   "execution_count": null,
   "metadata": {
    "collapsed": false
   },
   "outputs": [],
   "source": [
    ".ipynb_checkpoints\n",
    "*/.ipynb_checkpoints\n"
   ]
  },
  {
   "cell_type": "code",
   "execution_count": null,
   "metadata": {
    "collapsed": false
   },
   "outputs": [],
   "source": [
    "%%writefile ../.gitignore\n",
    ".ipynb_checkpoints\n",
    "*/.ipynb_checkpoints\n",
    "*.ignoreme"
   ]
  },
  {
   "cell_type": "markdown",
   "metadata": {},
   "source": [
    "## Pandas and Matplot Lib\n",
    "The CSV file called `temps.csv` contains the daily temperature recorded for a particular year at a particular meteorological station in the USA. Also given is the state where each \n",
    "station is located.\n",
    "\n",
    "Some of the entries are empty, which indicates \"undefined\"\n",
    "\n",
    "Create a data frame that summarizes the data by by state\n",
    "\n",
    "The summary data frame should have the following 7 columns:\n",
    "  * State\n",
    "  * Number of years recorded for this state\n",
    "  * The maximum temperature recorded in this state\n",
    "  * The minimum temperature recorded in this state\n",
    "  * The mean temperature for this region\n",
    "  * The number of undefined measurements \n",
    "  \n",
    "Sort the table by decreasing value of the mean temperature and print the first 10 rows.  "
   ]
  },
  {
   "cell_type": "code",
   "execution_count": 3,
   "metadata": {
    "collapsed": false
   },
   "outputs": [
    {
     "name": "stdout",
     "output_type": "stream",
     "text": [
      "Populating the interactive namespace from numpy and matplotlib\n"
     ]
    }
   ],
   "source": [
    "import pandas as pd\n",
    "import matplotlib.pyplot  as plt\n",
    "import numpy as np\n",
    "raw_data = pd.read_csv(\"temps.csv\")\n",
    "%pylab inline"
   ]
  },
  {
   "cell_type": "code",
   "execution_count": 5,
   "metadata": {
    "collapsed": false
   },
   "outputs": [],
   "source": [
    "states = {}\n",
    "#raw_data.iterrows().next()[1][\"state\"]\n",
    "for ind,row in raw_data.iterrows():\n",
    "    \n",
    "    state = row[\"state\"]\n",
    "    temps = [x for x in row[\"1\":\"365\"] if not np.isnan(x)]\n",
    "\n",
    "    if state not in states:\n",
    "        states[state] = {\"state\":state, \"years\":0, \"max\":-300, \"min\":300, \"sum\":0, \"n\":0, \"n_nan\":0}\n",
    "        \n",
    "    states[state][\"years\"] += 1\n",
    "    if len(temps) > 0:\n",
    "        states[state][\"max\"]   = max(states[state][\"max\"],max(temps))\n",
    "        states[state][\"min\"]   = min(states[state][\"min\"],min(temps))\n",
    "        states[state][\"sum\"]   += sum(temps)\n",
    "        states[state][\"n\"]     += len(temps)\n",
    "    states[state][\"n_nan\"] += len([x for x in row[\"1\":\"365\"] if np.isnan(x)])\n"
   ]
  },
  {
   "cell_type": "code",
   "execution_count": 6,
   "metadata": {
    "collapsed": false
   },
   "outputs": [
    {
     "data": {
      "text/html": [
       "<div>\n",
       "<table border=\"1\" class=\"dataframe\">\n",
       "  <thead>\n",
       "    <tr style=\"text-align: right;\">\n",
       "      <th></th>\n",
       "      <th>max</th>\n",
       "      <th>min</th>\n",
       "      <th>n</th>\n",
       "      <th>n_nan</th>\n",
       "      <th>state</th>\n",
       "      <th>sum</th>\n",
       "      <th>years</th>\n",
       "      <th>mean</th>\n",
       "    </tr>\n",
       "  </thead>\n",
       "  <tbody>\n",
       "    <tr>\n",
       "      <th>6</th>\n",
       "      <td>42.8</td>\n",
       "      <td>-17.8</td>\n",
       "      <td>76870</td>\n",
       "      <td>6715</td>\n",
       "      <td>FL</td>\n",
       "      <td>2105751.4</td>\n",
       "      <td>229</td>\n",
       "      <td>27.393670</td>\n",
       "    </tr>\n",
       "    <tr>\n",
       "      <th>19</th>\n",
       "      <td>31.7</td>\n",
       "      <td>20.6</td>\n",
       "      <td>344</td>\n",
       "      <td>21</td>\n",
       "      <td>PI</td>\n",
       "      <td>9266.9</td>\n",
       "      <td>1</td>\n",
       "      <td>26.938663</td>\n",
       "    </tr>\n",
       "    <tr>\n",
       "      <th>5</th>\n",
       "      <td>49.4</td>\n",
       "      <td>1.1</td>\n",
       "      <td>36822</td>\n",
       "      <td>5883</td>\n",
       "      <td>HI</td>\n",
       "      <td>960766.0</td>\n",
       "      <td>117</td>\n",
       "      <td>26.092173</td>\n",
       "    </tr>\n",
       "    <tr>\n",
       "      <th>11</th>\n",
       "      <td>47.8</td>\n",
       "      <td>-30.6</td>\n",
       "      <td>224827</td>\n",
       "      <td>19723</td>\n",
       "      <td>TX</td>\n",
       "      <td>5759150.8</td>\n",
       "      <td>670</td>\n",
       "      <td>25.615922</td>\n",
       "    </tr>\n",
       "    <tr>\n",
       "      <th>12</th>\n",
       "      <td>43.3</td>\n",
       "      <td>-10.6</td>\n",
       "      <td>59297</td>\n",
       "      <td>3483</td>\n",
       "      <td>LA</td>\n",
       "      <td>1514609.0</td>\n",
       "      <td>172</td>\n",
       "      <td>25.542759</td>\n",
       "    </tr>\n",
       "    <tr>\n",
       "      <th>33</th>\n",
       "      <td>50.0</td>\n",
       "      <td>-15.6</td>\n",
       "      <td>113209</td>\n",
       "      <td>14176</td>\n",
       "      <td>AZ</td>\n",
       "      <td>2760266.2</td>\n",
       "      <td>349</td>\n",
       "      <td>24.382039</td>\n",
       "    </tr>\n",
       "    <tr>\n",
       "      <th>47</th>\n",
       "      <td>46.7</td>\n",
       "      <td>-15.6</td>\n",
       "      <td>60297</td>\n",
       "      <td>3943</td>\n",
       "      <td>MS</td>\n",
       "      <td>1468499.5</td>\n",
       "      <td>176</td>\n",
       "      <td>24.354437</td>\n",
       "    </tr>\n",
       "    <tr>\n",
       "      <th>25</th>\n",
       "      <td>41.7</td>\n",
       "      <td>-12.8</td>\n",
       "      <td>60843</td>\n",
       "      <td>5952</td>\n",
       "      <td>AL</td>\n",
       "      <td>1458478.7</td>\n",
       "      <td>183</td>\n",
       "      <td>23.971183</td>\n",
       "    </tr>\n",
       "    <tr>\n",
       "      <th>29</th>\n",
       "      <td>43.3</td>\n",
       "      <td>-14.4</td>\n",
       "      <td>69152</td>\n",
       "      <td>9688</td>\n",
       "      <td>GA</td>\n",
       "      <td>1650254.5</td>\n",
       "      <td>216</td>\n",
       "      <td>23.864162</td>\n",
       "    </tr>\n",
       "    <tr>\n",
       "      <th>48</th>\n",
       "      <td>44.4</td>\n",
       "      <td>-9.4</td>\n",
       "      <td>48265</td>\n",
       "      <td>4660</td>\n",
       "      <td>SC</td>\n",
       "      <td>1135772.7</td>\n",
       "      <td>145</td>\n",
       "      <td>23.532015</td>\n",
       "    </tr>\n",
       "  </tbody>\n",
       "</table>\n",
       "</div>"
      ],
      "text/plain": [
       "     max   min       n  n_nan state        sum  years       mean\n",
       "6   42.8 -17.8   76870   6715    FL  2105751.4    229  27.393670\n",
       "19  31.7  20.6     344     21    PI     9266.9      1  26.938663\n",
       "5   49.4   1.1   36822   5883    HI   960766.0    117  26.092173\n",
       "11  47.8 -30.6  224827  19723    TX  5759150.8    670  25.615922\n",
       "12  43.3 -10.6   59297   3483    LA  1514609.0    172  25.542759\n",
       "33  50.0 -15.6  113209  14176    AZ  2760266.2    349  24.382039\n",
       "47  46.7 -15.6   60297   3943    MS  1468499.5    176  24.354437\n",
       "25  41.7 -12.8   60843   5952    AL  1458478.7    183  23.971183\n",
       "29  43.3 -14.4   69152   9688    GA  1650254.5    216  23.864162\n",
       "48  44.4  -9.4   48265   4660    SC  1135772.7    145  23.532015"
      ]
     },
     "execution_count": 6,
     "metadata": {},
     "output_type": "execute_result"
    }
   ],
   "source": [
    "summary = pd.DataFrame([row for s,row in states.iteritems()])\n",
    "summary[\"mean\"] = summary[\"sum\"]/summary[\"n\"]\n",
    "summary.sort(\"mean\",ascending=False,inplace=True)\n",
    "summary.head(10)"
   ]
  },
  {
   "cell_type": "code",
   "execution_count": 7,
   "metadata": {
    "collapsed": false
   },
   "outputs": [],
   "source": [
    "us_mean = summary[\"sum\"].sum() / summary[\"n\"].sum()"
   ]
  },
  {
   "cell_type": "markdown",
   "metadata": {},
   "source": [
    "Using the summary data frame produced before, make a bar plot showing the mean temperature of each state in the USA.  Label each bar with the state name.  Then put a line across all bars showing the mean temperature of the US.\n",
    "\n",
    "An example of the kind of plot we want is [here](http://static1.businessinsider.com/image/52e7cfeaecad04b858356443/here-are-the-states-with-the-highest-and-lowest-unemployment-rates.jpg).  You can make the plot either vertical or horizontal, whichever you think displays the data better."
   ]
  },
  {
   "cell_type": "code",
   "execution_count": 9,
   "metadata": {
    "collapsed": false
   },
   "outputs": [
    {
     "data": {
      "image/png": "[encoded data removed]",
      "text/plain": [
       "<matplotlib.figure.Figure at 0x10986f590>"
      ]
     },
     "metadata": {},
     "output_type": "display_data"
    },
    {
     "name": "stdout",
     "output_type": "stream",
     "text": [
      "52\n"
     ]
    }
   ],
   "source": [
    "fig = plt.figure(figsize=(24, 4))\n",
    "ax = fig.gca()\n",
    "ax.bar([x + .25 for x in range(summary.shape[0])], summary[\"mean\"],width = .5, color = \"k\")\n",
    "ax.set_xticks([x + .5 for x in range(summary.shape[0])])\n",
    "ax.set_xticklabels( summary[\"state\"]) \n",
    "ax.width = 1000\n",
    "ax.plot([0,summary.shape[0]],[us_mean,us_mean],'r--')\n",
    "ax.legend([\"US Mean Temperature\",\"State Mean Temperature\"])\n",
    "plt.show()\n",
    "\n",
    "print summary.shape[0]"
   ]
  },
  {
   "cell_type": "markdown",
   "metadata": {},
   "source": [
    "Using the raw data frame, pick the state with the highest mean and the lowest mean.  Plot the temperature on the first day of the year vs year for these two states as a line plot.  Make line for the highest mean state be red and the lowest mean state be blue.  Add a legend mapping from line color -> state name."
   ]
  },
  {
   "cell_type": "code",
   "execution_count": null,
   "metadata": {
    "collapsed": false
   },
   "outputs": [],
   "source": [
    "raw_data.sort(\"year\",inplace=True)\n",
    "min_state = raw_data[raw_data['state'] == \"SD\"]\n",
    "max_state = raw_data[raw_data['state'] == \"WA\"]\n",
    "fig = plt.figure(figsize=(24, 4))\n",
    "ax = fig.gca()\n",
    "ax.plot(min_state[\"year\"],min_state[\"1\"],'b')\n",
    "ax.plot(max_state[\"year\"],max_state[\"1\"],'r')\n",
    "ax.legend([\"SD\",\"WA\"])"
   ]
  },
  {
   "cell_type": "code",
   "execution_count": null,
   "metadata": {
    "collapsed": false
   },
   "outputs": [],
   "source": []
  },
  {
   "cell_type": "markdown",
   "metadata": {},
   "source": [
    "## MatplotLib\n",
    "The shape of a Limaçon (https://en.wikipedia.org/wiki/Lima%C3%A7on) can be defined parametrically as\n",
    "\n",
    "1. r = r0 + cos θ\n",
    "2. x = r cos θ\n",
    "3. y = r sin θ\n",
    "\n",
    "When r0 = 1, this curve is called a cardioid. Write a function using this definition which will take r0 values and plot the shape of a Limaçon. Cal the function for r0 = 0.8, r0 = 1.0, and r0 = 1.2. \n",
    "\n",
    "Be sure to use enough points that the curve is closed and appears smooth (except for\n",
    "the cusp in the cardioid). Use a legend to identify which curve is which."
   ]
  },
  {
   "cell_type": "code",
   "execution_count": null,
   "metadata": {
    "collapsed": false
   },
   "outputs": [],
   "source": [
    "import numpy as np\n",
    "import matplotlib.pyplot as plt\n",
    "%pylab inline\n",
    "import math"
   ]
  },
  {
   "cell_type": "code",
   "execution_count": null,
   "metadata": {
    "collapsed": false
   },
   "outputs": [],
   "source": [
    "def limacon(r0):\n",
    "    theta = np.linspace(0, 2 * pi, 1000)\n",
    "    r=r0+cos(theta)\n",
    "    x=r*cos(theta)\n",
    "    y=r*sin(theta)\n",
    "    plt.plot(x,y)\n",
    "    \n",
    "limacon(0.8)"
   ]
  },
  {
   "cell_type": "code",
   "execution_count": null,
   "metadata": {
    "collapsed": false
   },
   "outputs": [],
   "source": [
    "limacon(1)"
   ]
  },
  {
   "cell_type": "code",
   "execution_count": null,
   "metadata": {
    "collapsed": false
   },
   "outputs": [],
   "source": [
    "limacon(1.2)"
   ]
  },
  {
   "cell_type": "markdown",
   "metadata": {},
   "source": [
    "##Object Oriented Programming\n",
    "Assume you are working for a bank and have been tasked with implimenting objects to manage their accounts.  The architecht has given you this class to inherit from and wants you to impliment a number of unique account types."
   ]
  },
  {
   "cell_type": "code",
   "execution_count": null,
   "metadata": {
    "collapsed": false
   },
   "outputs": [],
   "source": [
    "class Account:\n",
    "    def __init__(self, amount, rate):\n",
    "        \"\"\"Initializes the account, all account types have a starting amount and a rate\"\"\"\n",
    "        self.amount = amount\n",
    "        self.rate = rate\n",
    "        self.day = 0\n",
    "        \n",
    "    def balance(self):\n",
    "        \"\"\"Returns the balance of the account\"\"\"\n",
    "        return self.amount\n",
    "    \n",
    "    def deposit(self, amount):\n",
    "        \"\"\"Deposits money into the account depending on specific rules.\n",
    "           Returns true if the deposit is accepted and false if it is not\"\"\"\n",
    "        raise \"This is an abstract class\" \n",
    "    \n",
    "    def withdraw(self, amount):\n",
    "        \"\"\"Withdraws money from the account.\n",
    "           Returns true if the deposit is accepted and false if it is not\"\"\"\n",
    "        raise \"This is an abstract class\"\n",
    "        \n",
    "    def tick(self):\n",
    "        \"\"\"Called once a day, used to compute interest or any other logic that must occur every day\"\"\"\n",
    "        self.day = self.day + 1\n",
    "        self._tick_action()\n",
    "        \n",
    "    def _tick_action(self):\n",
    "        \"\"\"Logic that should happen on tick goes here\"\"\"\n",
    "        raise \"This is an abstract class\""
   ]
  },
  {
   "cell_type": "markdown",
   "metadata": {},
   "source": [
    "As an example the architecht gives you the basic account class.  A basic account always accepts deposits but only accepts withdraws if customer withdraws less money than the current balance.  Additionally the interest is accumulated every day."
   ]
  },
  {
   "cell_type": "code",
   "execution_count": null,
   "metadata": {
    "collapsed": false
   },
   "outputs": [],
   "source": [
    "class BasicAccount(Account):\n",
    "    def deposit(self, amount):\n",
    "        self.amount = self.amount + amount\n",
    "        return True\n",
    "    \n",
    "    def withdraw(self, amount):\n",
    "        \"\"\"Withdraws money from the account.\n",
    "           Returns true if the deposit is accepted and false if it is not\"\"\"\n",
    "        if( amount <= self.amount ):\n",
    "            self.amount = self.amount - amount\n",
    "            return True\n",
    "        else:\n",
    "            return False\n",
    "        \n",
    "    def _tick_action(self):\n",
    "        self.amount = self.amount + self.rate*self.amount"
   ]
  },
  {
   "cell_type": "markdown",
   "metadata": {},
   "source": [
    "Your first task is to impliment the SuperSaverAccount class which is the same as the basic account except that it only accrues interest once every 30 days."
   ]
  },
  {
   "cell_type": "code",
   "execution_count": null,
   "metadata": {
    "collapsed": false
   },
   "outputs": [],
   "source": [
    "class SuperSaverAccount(Account):\n",
    "    def deposit(self, amount):\n",
    "        self.amount = self.amount + amount\n",
    "        return True\n",
    "    \n",
    "    def withdraw(self, amount):\n",
    "        if( amount <= self.amount ):\n",
    "            self.amount = self.amount - amount\n",
    "            return True\n",
    "        else:\n",
    "            return False        \n",
    "    def _tick_action(self):\n",
    "        if self.day % 30 == 0:\n",
    "            self.amount = self.amount + self.rate*self.amount"
   ]
  },
  {
   "cell_type": "markdown",
   "metadata": {},
   "source": [
    "Now impliment the PlatinumAccount class.  The platinum account allows any withdraw or deposit; however, they don't go through until the end of the day.  At the end of the day all withdraws are processed and then all deposits are processed.  If the balance ever goes below 0, the balance is reduced by \\$100 as a penalty.  If the amount is above 0 at the end of the day, interest is added the same as a standard account.\n",
    "\n",
    "When inquiring about the balance, it should return the current amount of the account + pending deposits - pending withdraws but no any penalty"
   ]
  },
  {
   "cell_type": "code",
   "execution_count": null,
   "metadata": {
    "collapsed": false
   },
   "outputs": [],
   "source": [
    "class PlatinumAccount(Account):\n",
    "    def __init__(self, amount, rate):\n",
    "        Account.__init__(self,amount, rate) \n",
    "        self.d = 0\n",
    "        self.w = 0\n",
    "        \n",
    "    def deposit(self, amount):\n",
    "        self.d += amount\n",
    "        return True\n",
    "    \n",
    "    def withdraw(self, amount):\n",
    "        self.w -= amount\n",
    "        return True\n",
    "    \n",
    "    def balance(self):\n",
    "        return self.amount + self.d + self.w\n",
    "        \n",
    "    def _tick_action(self):\n",
    "        self.amount += self.w\n",
    "        if self.amount < 0:\n",
    "            self.amount -= 100\n",
    "        self.amount += self.d\n",
    "        self.amount = self.amount + self.rate*self.amount\n",
    "        self.d = 0\n",
    "        self.w = 0"
   ]
  },
  {
   "cell_type": "markdown",
   "metadata": {},
   "source": [
    "After you implemented the account classes, you are now tasked with implementing the bank class.  This class is responsible for managing a group of accounts.\n",
    "\n",
    "When an account is created, it is assigned a seiral number (the first account is 0, second 1, etc) and stored at the bank, this number is returned by create_account.  The customer then gives the account number whenever they want to perform an acction on the account."
   ]
  },
  {
   "cell_type": "code",
   "execution_count": null,
   "metadata": {
    "collapsed": false
   },
   "outputs": [],
   "source": [
    "class Bank:\n",
    "    def __init__(self):\n",
    "        self.accounts = []\n",
    "    \n",
    "    def create_account(self,account):\n",
    "        \"\"\"Registers the `account` object with the bank.  Returns the account number assigned to this account\"\"\"\n",
    "        self.accounts.append(account)\n",
    "        return len(self.accounts)-1\n",
    "        \n",
    "    def deposit(self, account_number, amount):\n",
    "        \"\"\"Looks up the account corrsponding to `account_number` and deposits `amount` into it\"\"\"\n",
    "        return self.accounts[account_number].deposit(amount)\n",
    "\n",
    "    def withdraw(self, account_number, amount):\n",
    "        \"\"\"Looks up the account corrsponding to `account_number` and withdraws `amount` into it\"\"\"\n",
    "        return self.accounts[account_number].withdraw(amount)\n",
    "\n",
    "    def balance(self, account_number):\n",
    "        \"\"\"Looks up the account corrsponding to `account_number` and returns the balance\"\"\"\n",
    "        return self.accounts[account_number].balance()\n",
    "        \n",
    "    def tick(self):\n",
    "        for a in self.accounts:\n",
    "            a.tick()"
   ]
  },
  {
   "cell_type": "code",
   "execution_count": null,
   "metadata": {
    "collapsed": false
   },
   "outputs": [],
   "source": [
    "#After everythign is done this should only print True a bunch of times:\n",
    "\n",
    "bank = Bank()\n",
    "a = bank.create_account(BasicAccount(0,0.1))\n",
    "print bank.balance(a) == 0\n",
    "print bank.deposit(a,100) == True\n",
    "print bank.balance(a) == 100\n",
    "print bank.withdraw(a,1000) == False\n",
    "print bank.balance(a) == 100\n",
    "\n",
    "bank.tick()\n",
    "b = bank.create_account(PlatinumAccount(0,0.1))\n",
    "print bank.balance(b) == 0\n",
    "print bank.deposit(b,1000) == True\n",
    "print bank.withdraw(b,100) == True\n",
    "print bank.balance(b) == 900\n",
    "bank.tick()\n",
    "print bank.balance(b) == 880\n",
    "\n",
    "c = bank.create_account(SuperSaverAccount(0,0.1))\n",
    "print bank.deposit(c,100)\n",
    "for i in range(29):\n",
    "    bank.tick()\n",
    "    print bank.balance(c) == 100\n",
    "bank.tick()\n",
    "print bank.balance(c) == 110"
   ]
  }
 ],
 "metadata": {
  "kernelspec": {
   "display_name": "Python 2",
   "language": "python",
   "name": "python2"
  },
  "language_info": {
   "codemirror_mode": {
    "name": "ipython",
    "version": 2
   },
   "file_extension": ".py",
   "mimetype": "text/x-python",
   "name": "python",
   "nbconvert_exporter": "python",
   "pygments_lexer": "ipython2",
   "version": "2.7.11"
  }
 },
 "nbformat": 4,
 "nbformat_minor": 0
}
