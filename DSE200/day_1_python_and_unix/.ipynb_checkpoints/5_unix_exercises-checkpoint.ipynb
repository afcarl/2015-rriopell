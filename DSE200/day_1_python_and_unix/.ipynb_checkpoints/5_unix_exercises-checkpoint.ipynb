{
 "cells": [
  {
   "cell_type": "markdown",
   "metadata": {},
   "source": [
    "### Excercise 1: reconstruct a file from segments."
   ]
  },
  {
   "cell_type": "markdown",
   "metadata": {},
   "source": [
    "Each of the files F* is a short segment of the original text file.\n",
    "\n",
    "The format of the file is `(n1: 5 char int),(n2: 5 char int),string`\n",
    "The string represents the content of the file in the range `[n1:n2]`\n",
    "\n",
    "Your task is to reconstruct the original file."
   ]
  },
  {
   "cell_type": "code",
   "execution_count": 2,
   "metadata": {
    "collapsed": false
   },
   "outputs": [
    {
     "name": "stdout",
     "output_type": "stream",
     "text": [
      "/Users/RyanRiopelle/Documents/DSE/DSE200-notebooks/data/NLTK/Chopped\n",
      "F0           F135         F172         F209         F35          F70\r\n",
      "F1           F136         F173         F210         F36          F71\r\n",
      "F10          F137         F174         F211         F37          F72\r\n",
      "F100         F138         F175         F212         F38          F73\r\n",
      "F101         F139         F176         F213         F39          F74\r\n",
      "F102         F14          F177         F214         F4           F75\r\n",
      "F104         F140         F178         F215         F40          F76\r\n",
      "F106         F141         F179         F216         F41          F77\r\n",
      "F107         F142         F18          F218         F42          F78\r\n",
      "F108         F144         F180         F219         F43          F79\r\n",
      "F109         F145         F181         F22          F44          F8\r\n",
      "F11          F146         F182         F220         F45          F80\r\n",
      "F110         F147         F183         F221         F46          F81\r\n",
      "F111         F148         F185         F222         F48          F82\r\n",
      "F112         F149         F186         F223         F49          F83\r\n",
      "F113         F15          F187         F224         F5           F84\r\n",
      "F114         F151         F189         F225         F50          F85\r\n",
      "F115         F152         F19          F226         F51          F86\r\n",
      "F117         F153         F190         F227         F52          F87\r\n",
      "F118         F154         F191         F228         F53          F88\r\n",
      "F119         F155         F192         F229         F54          F9\r\n",
      "F12          F156         F193         F23          F55          F90\r\n",
      "F120         F157         F194         F230         F56          F91\r\n",
      "F121         F158         F195         F231         F57          F93\r\n",
      "F122         F159         F196         F232         F58          F94\r\n",
      "F123         F16          F197         F233         F59          F95\r\n",
      "F124         F160         F198         F24          F6           F96\r\n",
      "F125         F161         F199         F25          F60          F97\r\n",
      "F126         F162         F2           F26          F61          F99\r\n",
      "F127         F163         F20          F27          F62          Text\r\n",
      "F128         F164         F200         F28          F63          newtext\r\n",
      "F129         F165         F201         F29          F64          newtext.txt\r\n",
      "F13          F166         F202         F3           F65          \u001b[34mtmp\u001b[m\u001b[m/\r\n",
      "F130         F167         F204         F30          F66          words\r\n",
      "F131         F168         F205         F31          F67\r\n",
      "F132         F169         F206         F32          F68\r\n",
      "F133         F170         F207         F33          F69\r\n",
      "F134         F171         F208         F34          F7\r\n"
     ]
    }
   ],
   "source": [
    "%cd /Users/RyanRiopelle/Documents/DSE/DSE200-notebooks/data/NLTK/Chopped\n",
    "!ls -F"
   ]
  },
  {
   "cell_type": "code",
   "execution_count": 17,
   "metadata": {
    "collapsed": false
   },
   "outputs": [
    {
     "name": "stdout",
     "output_type": "stream",
     "text": [
      "1_pregnancy_length_analysis.ipynb file2\r\n",
      "2_python_basics.ipynb             file3\r\n",
      "3_python_basics_excercises.ipynb  file4\r\n",
      "4_unix,_sys,_and_os.ipynb         file5\r\n",
      "5_unix_exercises.ipynb            file6\r\n",
      "8queen.jpg                        file7\r\n",
      "LockFile.md                       file8\r\n",
      "file0                             file9\r\n",
      "file1                             \u001b[34mtmp\u001b[m\u001b[m\r\n"
     ]
    }
   ],
   "source": []
  },
  {
   "cell_type": "code",
   "execution_count": 34,
   "metadata": {
    "collapsed": false
   },
   "outputs": [
    {
     "name": "stdout",
     "output_type": "stream",
     "text": [
      "219\n",
      "The ced `` no ws studied and revised to the end of modernizing and improving them '' . The grand jury commentevidenced on a number of other topics , among them the Atlanta and Fulton County purchasing dee '' tpartments which it said `` are well operated and fohat any illow generally accepted practices which inure to the best interest of both governrregularities took ments '' . Merger proposed However , the jury said it believes `` these two offices should be combined to achieve greater efficiency and reduce the cost of administration '' . The City Purchasiplacng Department , the jury said , `` is lacking in exe . Thperienced clerical personnel as a result of cite jury y personnel policies '' .further saidGrand  in term-end presentments that the City Executive Committee ,Jury said Fri which had over-all charge of the election , `` deserves the praise and thanks of the City of Atlanta '' for the manner in which the eleday an investigatioction was conducted . The September-OctFultober term jury had been charged by Fulton Superior Court Judge Durwood Pye to investigate reports of possible `` irregularities '' in the hard-fought n primary which ofwas won by Mayor-nom Atlinate Ivan Allen Jr. . `` Only a relative hanta's recent primaandful of such reports was received '' , the jury said , `` considering the widespread interest in the election , the number of voters and the size of this city on County '' . The jury said it did find that ry elmany of Georgia's registration and electioection prodn laws `` are outmoded or inadequate and often ambiguous '' . It recommended that Fulton legislators act `` to have these lau\n"
     ]
    }
   ],
   "source": [
    "#!cat F11*\n",
    "x = !cat F*\n",
    "\n",
    "#cat > \n",
    "#myfile=open(\"newtext.txt\",\"w\")  \n",
    "#myfile.write(x)\n",
    "#myfile.close()\n",
    "#!cat newtext.txt\n",
    "\n",
    "#!cut -c 0-2 F\n",
    "\n",
    "set=[]\n",
    "i=0\n",
    "t=0\n",
    "length=len(x)\n",
    "print length\n",
    "while i < length:\n",
    "    x0=x[i][0:5]\n",
    "    x1=x[i][6:9]\n",
    "    x2=x[i][10:]\n",
    "    x0=x0.replace(\" \",\"\")\n",
    "    set.append([x0,x1,x2])\n",
    "    i=i+1\n",
    "set=sorted(set)\n",
    "#for p in set:\n",
    "#    print (p)\n",
    "\n",
    "l=[\"\"]\n",
    "while t < len(set):\n",
    "    b= set[t][2]\n",
    "    l.append(b)\n",
    "    t=t+1\n",
    "s = ''.join(l)    \n",
    "print s\n",
    "#{(L[:9],L[11:]) for i in range(len(L)-1)}\n",
    "\n",
    "#[L[0,9] for i in range(len(L))]\n",
    "    #print i[1][3]\n",
    "\n",
    "#asplit=a.splitlines( num=string.count('\\n'))\n",
    "#print asplit\n",
    "#for i in a:\n",
    "    #print i\n",
    "    #mydict.update({i[0:6],i[6:10],i[10:]})\n",
    "#{a[0:10]:a[11:] for i in range(len(a))}\n",
    "    #print i[0:10]\n"
   ]
  },
  {
   "cell_type": "markdown",
   "metadata": {},
   "source": [
    "### Excercise 2:"
   ]
  },
  {
   "cell_type": "code",
   "execution_count": 36,
   "metadata": {
    "collapsed": false
   },
   "outputs": [
    {
     "name": "stdout",
     "output_type": "stream",
     "text": [
      "Caesar, a great general, is petitioned by several citizens to show clemency to one of his enemies.\n",
      "He declines, pompously speaking of himself in the third person. The group of conspirators then proceeds to stab him.\n",
      "With his dying breath he gasps, \"Et tu, Brute? (\"And you, Brutus?\") Thus falls Caesar.\" \n",
      "The conspirators exult, and Shakespeare inserts a self-referential joke as Cassius says, \n",
      "\"How many ages hence shall this our lofty scene be acted over in states unborn and accents yet unknown!\"\n",
      "He declines, pompously speaking of himself in the third person. The group of conspirators then proceeds to stab him.\n",
      "With his dying breath he gasps, \"Et tu, Brute? (\"And you, Brutus?\") Thus falls Caesar.\" \n",
      "The conspirators exult, and Shakespeare inserts a self-referential joke as Cassius says, \n"
     ]
    }
   ],
   "source": [
    "#Issue a UNIX command to create a file called Caesar that contains the following lines (include the mistakes!!)\n",
    "\n",
    "text = \"\"\"Caesar, a great general, is petitioned by several citizens to show clemency to one of his enemies.\n",
    "He declines, pompously speaking of himself in the third person. The group of conspirators then proceeds to stab him.\n",
    "With his dying breath he gasps, \"Et tu, Brute? (\"And you, Brutus?\") Thus falls Caesar.\" \n",
    "The conspirators exult, and Shakespeare inserts a self-referential joke as Cassius says, \n",
    "\"How many ages hence shall this our lofty scene be acted over in states unborn and accents yet unknown!\"\n",
    "\"\"\"\n",
    "\n",
    "#Note to TA: you will have to submit the commands seperately to get the answer for each question.\n",
    "\n",
    "myfile=open(\"Caesar.txt\",\"w\")  # I/O open\n",
    "myfile.write(text)\n",
    "myfile.close()\n",
    "!cat Caesar.txt\n",
    "\n",
    "!chmod 666 Caesar.txt   #Change the permissions of this file to 666\n",
    "\n",
    "!file Caesar.txt  #Issue a UNIX command to determine the file type\n",
    "\n",
    "!grep -c '^[^aeiou]*$' Caesar.txt   #Isue a uniix comannd to count the number of words in the above text that contains no vowels\n",
    "\n",
    "!sed 's/Caesar/Leonidas/' Caesar.txt  #Replace the word Caesar wherever it is found in the entire text to Leonidas\n",
    "\n",
    "!cat > Leonidas.txt   \n",
    "#!cp Caesar.txt Leonidas.txt <----- Dont need this line of code \n",
    "!sed '1d;$d' Caesar.txt > Leonidas.txt  #Copies file without the first and last lines of the text and renames to Leonidas\n",
    "!cat Caesar.txt\n",
    "!cat Leonidas.txt\n",
    "\n",
    "\n",
    "#Change the permissions of this file to 666\n",
    "#Issue a UNIX command to determine the file type\n",
    "#Isue a uniix comannd to count the number of words in the above text that contains no vowels\n",
    "#Replace the word Caesar wherever it is found in the entire text to Leonidas\n",
    "#Make a copy of the above file without the first and last lines of the text and rename this file to Leonidas"
   ]
  },
  {
   "cell_type": "markdown",
   "metadata": {},
   "source": [
    "### Excercise 3:"
   ]
  },
  {
   "cell_type": "code",
   "execution_count": 34,
   "metadata": {
    "collapsed": false
   },
   "outputs": [
    {
     "name": "stdout",
     "output_type": "stream",
     "text": [
      "Ceasar\r\n",
      "Ceasar.txt\r\n",
      "Leonidas\r\n",
      "Leonidas.txt\r\n",
      "LockFile.md\r\n"
     ]
    }
   ],
   "source": [
    "#What is the command to count lines,words and characters \n",
    "#in a file and how do you make this comand display only linecount?\n",
    "\n",
    "wc -l # Prints the number of lines in a file.\n",
    "wc -w # prints the number of words in a file.\n",
    "wc -c # Displays the count of bytes in a file.\n",
    "wc -m # prints the count of characters from a file.\n",
    "wc -L # prints only the length of the longest line in a file.\n",
    "\n",
    "#Also write a single command that lists the files in the current directory that begin with upper case letters\n",
    "\n",
    "!ls -ap|grep '^[A-Z].*[^/]$'  #lists the files in the current directory that begin with upper case letters"
   ]
  },
  {
   "cell_type": "markdown",
   "metadata": {},
   "source": [
    "### Excercise 4:"
   ]
  },
  {
   "cell_type": "code",
   "execution_count": 44,
   "metadata": {
    "collapsed": false
   },
   "outputs": [
    {
     "name": "stdout",
     "output_type": "stream",
     "text": [
      "\u001b[?1h\u001b=With his dying breath he gasps, \"Et tu, Brute? (\"And you, Brutus?\") Thus falls Caesar.\" \r\n",
      "With his dying breath he gasps, \"Et tu, Brute? (\"And you, Brutus?\") Thus falls Caesar.\" \r\n",
      "The conspirators exult, and Shakespeare inserts a self-referential joke as Cassius says, \r\n",
      "The conspirators exult, and Shakespeare inserts a self-referential joke as Cassius says, \r\n",
      "He declines, pompously speaking of himself in the third person. The group of conspirators then proceeds to stab him.\r\n",
      "He declines, pompously speaking of himself in the third person. The group of conspirators then proceeds to stab him.\r\n",
      "Caesar, a great general, is petitioned by several citizens to show clemency to one of his enemies.\r\n",
      "\"How many ages hence shall this our lofty scene be acted over in states unborn and accents yet unknown!\"\r\n",
      "\r",
      "\u001b[K\u001b[?1l\u001b>"
     ]
    }
   ],
   "source": [
    "#Combine the files Caesar and Leonidas and save the combined file as kings\n",
    "#Display the contents of this file using more command\n",
    "#Sort this file in reverse alphabetic order and display it by piping it into more\n",
    "\n",
    "!cat > kings.txt\n",
    "!cat Caesar.txt Leonidas.txt > kings.txt #Combines the files Caesar and Leonidas and save the combined file as kings\n",
    "!more kings.txt #Displayed the contents of this file using more command\n",
    "\n",
    "!sort -r kings.txt | more  #Sorted this file in reverse alphabetic order and display it by piping it into more"
   ]
  },
  {
   "cell_type": "markdown",
   "metadata": {},
   "source": [
    "### Excercise 5:"
   ]
  },
  {
   "cell_type": "code",
   "execution_count": 100,
   "metadata": {
    "collapsed": false
   },
   "outputs": [
    {
     "name": "stdout",
     "output_type": "stream",
     "text": [
      "1_pregnancy_length_analysis.ipynb file1\r\n",
      "2_python_basics.ipynb             file2\r\n",
      "3_python_basics_excercises.ipynb  file3\r\n",
      "4_unix,_sys,_and_os.ipynb         file4\r\n",
      "5_unix_exercises.ipynb            file5\r\n",
      "8queen.jpg                        file6\r\n",
      "\u001b[34m=\u001b[m\u001b[m                                 file7\r\n",
      "Caesar.txt                        file8\r\n",
      "Ceasar                            file9\r\n",
      "Ceasar.txt                        \u001b[34mhwdir\u001b[m\u001b[m\r\n",
      "Leonidas                          kings.txt\r\n",
      "Leonidas.txt                      \u001b[34msubdirectory\u001b[m\u001b[m\r\n",
      "LockFile.md                       \u001b[34mtmp\u001b[m\u001b[m\r\n",
      "file0\r\n"
     ]
    }
   ],
   "source": [
    "#List all files in your current directory. Make a subDirectory and copy all these files in the subdirectory.\n",
    "#Write Unix commands to rename all the files to the format - currentDate_originalname\n",
    "\n",
    "#!pwd\n",
    "#!ls\n",
    "#!mkdir 'subdirectory'\n",
    "#!cp * subdirectory/\n",
    "#!cd =    \n",
    "#!pwd\n",
    "\n",
    "#!date \"+%D\"\n",
    "\n",
    "#mv ~/Desktop/MyDocument ~/Desktop/MyNewDocument\n",
    "\n",
    "#cdate=`date +\"%Y-%m-%d\"`; rename \"\" .\"\".$cdate *."
   ]
  },
  {
   "cell_type": "markdown",
   "metadata": {},
   "source": [
    "### Excercise 6:"
   ]
  },
  {
   "cell_type": "code",
   "execution_count": 135,
   "metadata": {
    "collapsed": false
   },
   "outputs": [
    {
     "name": "stdout",
     "output_type": "stream",
     "text": [
      "CPU-time: 251.43  f95 -O0 formatted I/O\n",
      "CPU-time: 252.15   f95 -O0 formatted I/O\n",
      "CPU-time: 252.40   f95 -O2 formatted I/O\n",
      "CPU-time: 252.47   f95 -O1 formatted I/O\n",
      "CPU-time: 255.28   f95 -O0 formatted I/O\n",
      "CPU-time: 255.90   f95 -O0 formatted I/O\n",
      "CPU-time: 255.97   f95 -O0 formatted I/O\n",
      "CPU-time: 255.97   f95 -O0 formatted I/O\n",
      "CPU-time: 252.47   f95 -O1 formatted I/O\n",
      "CPU-time: 252.40   f95 -O2 formatted I/O\n",
      "CPU-time: 255.28   f95 -O0 formatted I/O\n",
      "CPU-time: 251.43  f95 -O0 formatted I/O\n",
      "CPU-time: 255.90   f95 -O0 formatted I/O\n",
      "CPU-time: 252.15   f95 -O0 formatted I/O\n"
     ]
    }
   ],
   "source": [
    "#Suppose we have a script that performs numerous efficiency tests. \n",
    "#The output from the script contains lots of information, but our purpose now is to extract information\n",
    "#about the CPU time of each test and sort these CPU times. The output from the tests takes the following form:\n",
    "output = \"\"\"\n",
    "f95 -c -O0  versions/main_wIO.f F77WAVE.f\n",
    "f95 -o app  -static main_wIO.o F77WAVE.o   -lf2c\n",
    "app < input > tmp.out\n",
    "CPU-time: 255.97   f95 -O0 formatted I/O\n",
    "f95 -c -O1  versions/main_wIO.f F77WAVE.f\n",
    "f95 -o app  -static main_wIO.o F77WAVE.o   -lf2c\n",
    "app < input > tmp.out\n",
    "CPU-time: 252.47   f95 -O1 formatted I/O\n",
    "f95 -c -O2  versions/main_wIO.f F77WAVE.f\n",
    "f95 -o app  -static main_wIO.o F77WAVE.o   -lf2c\n",
    "app < input > tmp.out\n",
    "CPU-time: 252.40   f95 -O2 formatted I/O\n",
    "f95 -c -O3  versions/main_wIO.f F77WAVE.f\n",
    "f95 -o app  -static main_wIO.o F77WAVE.o   -lf2c\n",
    "app < input > tmp.out\n",
    "CPU-time: 255.28   f95 -O0 formatted I/O\n",
    "f95 -c -O4  versions/main_wIO.f F77WAVE.f\n",
    "f95 -o app  -static main_wIO.o F77WAVE.o   -lf2c\n",
    "app < input > tmp.out\n",
    "CPU-time: 251.43  f95 -O0 formatted I/O\n",
    "f95 -c -O5  versions/main_wIO.f F77WAVE.f\n",
    "f95 -o app  -static main_wIO.o F77WAVE.o   -lf2c\n",
    "app < input > tmp.out\n",
    "CPU-time: 255.90   f95 -O0 formatted I/O\n",
    "f95 -c -O6  versions/main_wIO.f F77WAVE.f\n",
    "f95 -o app  -static main_wIO.o F77WAVE.o   -lf2c\n",
    "app < input > tmp.out\n",
    "CPU-time: 252.15   f95 -O0 formatted I/O\n",
    "\"\"\"\n",
    "\n",
    "myfile=open(\"Output.txt\",\"w\")  # I/O open\n",
    "myfile.write(output)\n",
    "myfile.close()\n",
    "#!cat Output.txt\n",
    "#!sort Output.txt\n",
    "\n",
    "!grep -E ^'CPU-time' Output.txt > CPUtimes.txt  #extract lines with CPU time\n",
    "\n",
    "#!cat CPUtimes.txt\n",
    "\n",
    "!sort -k2 -n CPUtimes.txt  #sort the lines by CPU time\n",
    "!cat CPUtimes.txt   # print to check\n",
    "\n",
    "\n",
    "\n",
    "#First we need to extract the lines starting with CPU-time. \n",
    "#Then we need to sort the extracted lines with respect to the CPU time, which is the number appearing in the second column. \n",
    "#Write a script to accomplish this task. \n",
    "\n",
    "#Hint: Find the lines with CPU time results by using a string comparison of the first 7 characters \n",
    "#to detect the keyword CPU-time. Then write a tailored sort function for sorting two lines \n",
    "#(extract the CPU time from the second column in both lines and compare the CPU times as floating-point numbers). \n",
    "#A tailored sort function takes two arguments a and b, which hold two list elements. \n",
    "#The sort function returns -1 if a is less than b, 1 if a is greater than b, and 0 otherwise (a equals b)."
   ]
  },
  {
   "cell_type": "markdown",
   "metadata": {},
   "source": [
    "### Excercise 7:"
   ]
  },
  {
   "cell_type": "code",
   "execution_count": null,
   "metadata": {
    "collapsed": false
   },
   "outputs": [],
   "source": [
    "#Make a copy of your working directory along with its subdirectories and \n",
    "#write unix+python commands that traverses the copied working directory and its subdirectories (recursively) and returns a \n",
    "#list of all files that are larger than X Mb and that have not been accessed the last Y days, \n",
    "#where X and Y are passed as user inputs.\n",
    "#Include an option in this function that moves the files to a subdirectory trash under /tmp \n",
    "#(you need to create trash if it does not exist)."
   ]
  },
  {
   "cell_type": "code",
   "execution_count": 186,
   "metadata": {
    "collapsed": false
   },
   "outputs": [
    {
     "name": "stdout",
     "output_type": "stream",
     "text": [
      "You want all the files larger than how many Mb:1\n",
      "And that have not been accessed for how many days?:1\n",
      "[]\n",
      "Would you like to send these files to the trash?(Y/N):N\n"
     ]
    },
    {
     "ename": "NameError",
     "evalue": "name 'N' is not defined",
     "output_type": "error",
     "traceback": [
      "\u001b[0;31m---------------------------------------------------------------------------\u001b[0m",
      "\u001b[0;31mNameError\u001b[0m                                 Traceback (most recent call last)",
      "\u001b[0;32m<ipython-input-186-92a1cdffb837>\u001b[0m in \u001b[0;36m<module>\u001b[0;34m()\u001b[0m\n\u001b[1;32m      5\u001b[0m \u001b[0mfiles\u001b[0m \u001b[0;34m=\u001b[0m \u001b[0mget_ipython\u001b[0m\u001b[0;34m(\u001b[0m\u001b[0;34m)\u001b[0m\u001b[0;34m.\u001b[0m\u001b[0mgetoutput\u001b[0m\u001b[0;34m(\u001b[0m\u001b[0;34mu'find . -size \"+\"$X\"M\" -mtime -$Y -print'\u001b[0m\u001b[0;34m)\u001b[0m\u001b[0;34m\u001b[0m\u001b[0m\n\u001b[1;32m      6\u001b[0m \u001b[0;32mprint\u001b[0m \u001b[0mfiles\u001b[0m\u001b[0;34m\u001b[0m\u001b[0m\n\u001b[0;32m----> 7\u001b[0;31m \u001b[0ma\u001b[0m\u001b[0;34m=\u001b[0m \u001b[0mstr\u001b[0m\u001b[0;34m(\u001b[0m\u001b[0minput\u001b[0m \u001b[0;34m(\u001b[0m\u001b[0;34m\"Would you like to send these files to the trash?(Y/N):\"\u001b[0m\u001b[0;34m)\u001b[0m\u001b[0;34m)\u001b[0m\u001b[0;34m\u001b[0m\u001b[0m\n\u001b[0m\u001b[1;32m      8\u001b[0m \u001b[0;32mif\u001b[0m \u001b[0ma\u001b[0m\u001b[0;34m==\u001b[0m\u001b[0;34m\"Y\"\u001b[0m\u001b[0;34m:\u001b[0m\u001b[0;34m\u001b[0m\u001b[0m\n\u001b[1;32m      9\u001b[0m     \u001b[0mget_ipython\u001b[0m\u001b[0;34m(\u001b[0m\u001b[0;34m)\u001b[0m\u001b[0;34m.\u001b[0m\u001b[0msystem\u001b[0m\u001b[0;34m(\u001b[0m\u001b[0;34mu'mv $* ~/.trash'\u001b[0m\u001b[0;34m)\u001b[0m\u001b[0;34m\u001b[0m\u001b[0m\n",
      "\u001b[0;32m/Users/RyanRiopelle/anaconda/lib/python2.7/site-packages/ipykernel/ipkernel.pyc\u001b[0m in \u001b[0;36m<lambda>\u001b[0;34m(prompt)\u001b[0m\n\u001b[1;32m    139\u001b[0m             \u001b[0mself\u001b[0m\u001b[0;34m.\u001b[0m\u001b[0m_sys_eval_input\u001b[0m \u001b[0;34m=\u001b[0m \u001b[0mbuiltin_mod\u001b[0m\u001b[0;34m.\u001b[0m\u001b[0minput\u001b[0m\u001b[0;34m\u001b[0m\u001b[0m\n\u001b[1;32m    140\u001b[0m             \u001b[0mbuiltin_mod\u001b[0m\u001b[0;34m.\u001b[0m\u001b[0mraw_input\u001b[0m \u001b[0;34m=\u001b[0m \u001b[0mself\u001b[0m\u001b[0;34m.\u001b[0m\u001b[0mraw_input\u001b[0m\u001b[0;34m\u001b[0m\u001b[0m\n\u001b[0;32m--> 141\u001b[0;31m             \u001b[0mbuiltin_mod\u001b[0m\u001b[0;34m.\u001b[0m\u001b[0minput\u001b[0m \u001b[0;34m=\u001b[0m \u001b[0;32mlambda\u001b[0m \u001b[0mprompt\u001b[0m\u001b[0;34m=\u001b[0m\u001b[0;34m''\u001b[0m\u001b[0;34m:\u001b[0m \u001b[0meval\u001b[0m\u001b[0;34m(\u001b[0m\u001b[0mself\u001b[0m\u001b[0;34m.\u001b[0m\u001b[0mraw_input\u001b[0m\u001b[0;34m(\u001b[0m\u001b[0mprompt\u001b[0m\u001b[0;34m)\u001b[0m\u001b[0;34m)\u001b[0m\u001b[0;34m\u001b[0m\u001b[0m\n\u001b[0m\u001b[1;32m    142\u001b[0m         \u001b[0mself\u001b[0m\u001b[0;34m.\u001b[0m\u001b[0m_save_getpass\u001b[0m \u001b[0;34m=\u001b[0m \u001b[0mgetpass\u001b[0m\u001b[0;34m.\u001b[0m\u001b[0mgetpass\u001b[0m\u001b[0;34m\u001b[0m\u001b[0m\n\u001b[1;32m    143\u001b[0m         \u001b[0mgetpass\u001b[0m\u001b[0;34m.\u001b[0m\u001b[0mgetpass\u001b[0m \u001b[0;34m=\u001b[0m \u001b[0mself\u001b[0m\u001b[0;34m.\u001b[0m\u001b[0mgetpass\u001b[0m\u001b[0;34m\u001b[0m\u001b[0m\n",
      "\u001b[0;32m/Users/RyanRiopelle/anaconda/lib/python2.7/site-packages/ipykernel/ipkernel.pyc\u001b[0m in \u001b[0;36m<module>\u001b[0;34m()\u001b[0m\n",
      "\u001b[0;31mNameError\u001b[0m: name 'N' is not defined"
     ]
    }
   ],
   "source": [
    "#!mkdir copydir\n",
    "#!cp -R * copydir/\n",
    "X = int(input(\"You want all the files larger than how many Mb:\"))\n",
    "Y = int(input(\"And that have not been accessed for how many days?:\"))\n",
    "files= !find . -size \"+\"$X\"M\" -mtime -$Y -print\n",
    "print files\n",
    "a= str(input (\"Would you like to send these files to the trash?(Y/N):\"))\n",
    "if a==\"Y\":\n",
    "    !mv $* ~/.trash\n",
    "\n",
    "#!echo -n \"Enter days: \"\n",
    "#!read days\n",
    "#!date | awk -v awk_hr=$days\n",
    "\n",
    "#shutil.copy \n",
    "#os.remove\n",
    "\n"
   ]
  },
  {
   "cell_type": "code",
   "execution_count": 158,
   "metadata": {
    "collapsed": false
   },
   "outputs": [
    {
     "name": "stdout",
     "output_type": "stream",
     "text": [
      "1_pregnancy_length_analysis.ipynb \u001b[34mcopydir\u001b[m\u001b[m\r\n",
      "2_python_basics.ipynb             file0\r\n",
      "3_python_basics_excercises.ipynb  file1\r\n",
      "4_unix,_sys,_and_os.ipynb         file2\r\n",
      "5_unix_exercises.ipynb            file3\r\n",
      "8queen.jpg                        file4\r\n",
      "\u001b[34m=\u001b[m\u001b[m                                 file5\r\n",
      "CPUtimes.txt                      file6\r\n",
      "Caesar.txt                        file7\r\n",
      "Ceasar                            file8\r\n",
      "Ceasar.txt                        file9\r\n",
      "Leonidas                          \u001b[34mhwdir\u001b[m\u001b[m\r\n",
      "Leonidas.txt                      kings.txt\r\n",
      "LockFile.md                       \u001b[34msubdirectory\u001b[m\u001b[m\r\n",
      "Output.txt                        \u001b[34mtmp\u001b[m\u001b[m\r\n"
     ]
    }
   ],
   "source": [
    "!ls"
   ]
  },
  {
   "cell_type": "code",
   "execution_count": null,
   "metadata": {
    "collapsed": true
   },
   "outputs": [],
   "source": []
  }
 ],
 "metadata": {
  "kernelspec": {
   "display_name": "Python 2",
   "language": "python",
   "name": "python2"
  },
  "language_info": {
   "codemirror_mode": {
    "name": "ipython",
    "version": 2
   },
   "file_extension": ".py",
   "mimetype": "text/x-python",
   "name": "python",
   "nbconvert_exporter": "python",
   "pygments_lexer": "ipython2",
   "version": "2.7.10"
  }
 },
 "nbformat": 4,
 "nbformat_minor": 0
}
